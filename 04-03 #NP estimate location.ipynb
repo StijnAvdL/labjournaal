{
 "metadata": {
  "name": "",
  "signature": "sha256:dc3bf5cf121972446e2f64c187180f3e323fd8c930d6f9fe5fda02d860626651"
 },
 "nbformat": 3,
 "nbformat_minor": 0,
 "worksheets": [
  {
   "cells": [
    {
     "cell_type": "heading",
     "level": 1,
     "metadata": {},
     "source": [
      "#NP estimate location"
     ]
    },
    {
     "cell_type": "markdown",
     "metadata": {},
     "source": [
      "Datum: 03-04-2015"
     ]
    },
    {
     "cell_type": "markdown",
     "metadata": {},
     "source": [
      "URL"
     ]
    },
    {
     "cell_type": "code",
     "collapsed": false,
     "input": [
      "from geopy.geocoders import Nominatim\n",
      "from pygeocoder import Geocoder\n",
      "from pygeolib import GeocoderError"
     ],
     "language": "python",
     "metadata": {},
     "outputs": [],
     "prompt_number": 5
    },
    {
     "cell_type": "code",
     "collapsed": false,
     "input": [
      "import pymongo\n",
      "\n",
      "# Connection to Mongo DB\n",
      "conn = pymongo.MongoClient('localhost', 27017)\n",
      "db = conn['mozart']\n",
      "\n",
      "print('connected to database')"
     ],
     "language": "python",
     "metadata": {},
     "outputs": [
      {
       "output_type": "stream",
       "stream": "stdout",
       "text": [
        "connected to database\n"
       ]
      }
     ],
     "prompt_number": 6
    },
    {
     "cell_type": "code",
     "collapsed": false,
     "input": [
      "from pprint import pprint\n",
      "\n",
      "tweetsRecords = db.testNp.aggregate(\n",
      "    {\n",
      "        \"$project\": {\n",
      "            \"_id\": 0,\n",
      "            \"tweetId\": \"$tweet.id_str\",\n",
      "            \"geo\": \"$tweet.geo\",\n",
      "            \"lang_user\": \"$tweet.user.lang\",\n",
      "            \"time_zone\": \"$tweet.user.time_zone\",\n",
      "            \"utc_offset\": \"$tweet.user.utc_offset\",\n",
      "            \"location\": \"$tweet.user.location\",\n",
      "            \"place\": \"$tweet.place\",\n",
      "            \"coordinates\": \"$tweet.coordinates\",\n",
      "            \"tweet\": \"$tweet.text\",\n",
      "            \"friends\": \"$tweet.user.friends_count\"\n",
      "        }\n",
      "    }\n",
      ")\n",
      "\n",
      "\n",
      "tweets = list(tweetsRecords['result'])\n",
      "print(\"get records\")"
     ],
     "language": "python",
     "metadata": {},
     "outputs": [
      {
       "output_type": "stream",
       "stream": "stdout",
       "text": [
        "get records\n"
       ]
      }
     ],
     "prompt_number": 7
    },
    {
     "cell_type": "code",
     "collapsed": false,
     "input": [
      "pprint(tweets[0])"
     ],
     "language": "python",
     "metadata": {},
     "outputs": [
      {
       "output_type": "stream",
       "stream": "stdout",
       "text": [
        "{'coordinates': None,\n",
        " 'friends': 926,\n",
        " 'geo': None,\n",
        " 'lang_user': 'es',\n",
        " 'location': 'LatinAmerica',\n",
        " 'place': None,\n",
        " 'time_zone': 'Caracas',\n",
        " 'tweet': '#NP Born of Osiris - Machine #RADIO: http://t.co/QqbW4t8XkZ',\n",
        " 'tweetId': '581094290794917889',\n",
        " 'utc_offset': -16200}\n"
       ]
      }
     ],
     "prompt_number": 8
    },
    {
     "cell_type": "code",
     "collapsed": false,
     "input": [
      "import json\n",
      "from pprint import pprint\n",
      "\n",
      "with open('json/npTestTweets2.json') as data_file:    \n",
      "    data = json.load(data_file)\n",
      "\n",
      "print('Load test json')"
     ],
     "language": "python",
     "metadata": {},
     "outputs": [
      {
       "output_type": "stream",
       "stream": "stdout",
       "text": [
        "Load test json\n"
       ]
      }
     ],
     "prompt_number": 7
    },
    {
     "cell_type": "code",
     "collapsed": false,
     "input": [
      "def checkLocation(locationData, field):\n",
      "    succes = 0\n",
      "    failed = 0\n",
      "    null = 0\n",
      "    for jsonData in data:\n",
      "        for location in locationData:\n",
      "            if jsonData['tweetId'] == location['tweetId']:\n",
      "                if jsonData['lon'] == None:\n",
      "                    if  location['lon'] == 'null':\n",
      "                        null = null + 1\n",
      "                    else:\n",
      "                       failed = failed + 1 \n",
      "                else:\n",
      "                    minLon = jsonData['lon'] - 1\n",
      "                    maxLon = jsonData['lon'] + 1\n",
      "                    minLat = jsonData['lat'] - 1\n",
      "                    maxLat = jsonData['lat'] + 1\n",
      "                    if location['lon'] == 'null':\n",
      "                        print(jsonData['index'],'null') \n",
      "                        null = null + 1\n",
      "                    elif location['lon'] > minLon and location['lon'] < maxLon and location['lat'] > minLat and location['lat'] < maxLat:\n",
      "                        print(jsonData['index'],'succes')\n",
      "                        succes = succes + 1   \n",
      "                    else:\n",
      "                        print(jsonData['index'],'failed')\n",
      "                        #print('lon:', jsonData['lon'], location['lon'], '\\n lat:', jsonData['lat'], location['lat'], '\\n ',field,':', location[field], '\\n')\n",
      "                        failed = failed + 1\n",
      "    print(round((succes/len(data))*100,2),'% succes')\n",
      "    print(round((failed/len(data))*100,2),'% failed')\n",
      "    print(round((null/len(data))*100,2),'% null')"
     ],
     "language": "python",
     "metadata": {},
     "outputs": [],
     "prompt_number": 8
    },
    {
     "cell_type": "code",
     "collapsed": false,
     "input": [
      "from time import sleep\n",
      "\n",
      "def getLocation(field):\n",
      "    i = 0\n",
      "    locations = []\n",
      "    for tweet in tweets:\n",
      "        (lat,lon) = ('null','null')\n",
      "        \n",
      "        if tweet[field] != None or tweet[field] != \"\":\n",
      "            if field == 'time_zone':\n",
      "                if tweet[field] == 'Pacific Time (US & Canada)':\n",
      "                    tweet[field] = 'San Franscisco'\n",
      "                elif tweet[field] == 'Central Time (US & Canada)':\n",
      "                    tweet[field] = 'Dallas'\n",
      "                elif tweet[field] == 'Eastern Time (US & Canada)':\n",
      "                    tweet[field] = 'New York'\n",
      "                elif tweet[field] == 'Mountain  Time (US & Canada)':\n",
      "                    tweet[field] = 'Billings'\n",
      "            try:\n",
      "                results  = Geocoder.geocode(tweet[field])\n",
      "                sleep(0.2)\n",
      "                (lat, lon) = results[0].coordinates\n",
      "            except GeocoderError:\n",
      "                (lat, lon) = ('null', 'null')\n",
      "            locations.append({'tweetId':tweet['tweetId'], field: tweet[field], 'lon': lon, 'lat': lat})\n",
      "        i += 1\n",
      "    return locations"
     ],
     "language": "python",
     "metadata": {},
     "outputs": [],
     "prompt_number": 11
    },
    {
     "cell_type": "heading",
     "level": 2,
     "metadata": {},
     "source": [
      "Location"
     ]
    },
    {
     "cell_type": "code",
     "collapsed": false,
     "input": [
      "rowsLocation = getLocation('location')\n",
      "checkLocation(rowsLocation, 'location')"
     ],
     "language": "python",
     "metadata": {},
     "outputs": [
      {
       "output_type": "stream",
       "stream": "stdout",
       "text": [
        "0 failed\n",
        "1 failed\n",
        "2 succes\n",
        "3 succes\n",
        "4 succes\n",
        "5 null\n",
        "6 succes\n",
        "7 failed\n",
        "8 failed\n",
        "9 failed\n",
        "10 succes\n",
        "11 succes\n",
        "12 succes\n",
        "13 failed\n",
        "15 failed\n",
        "16 null\n",
        "17 failed\n",
        "18 succes\n",
        "19 null\n",
        "20 succes\n",
        "21 failed\n",
        "22 failed\n",
        "23 succes\n",
        "24 failed\n",
        "25 succes\n",
        "26 succes\n",
        "27 null\n",
        "28 succes\n",
        "29 failed\n",
        "30 succes\n",
        "31 null\n",
        "32 failed\n",
        "33 null\n",
        "35 failed\n",
        "36 succes\n",
        "37 succes\n",
        "38 null\n",
        "39 succes\n",
        "40 failed\n",
        "41 null\n",
        "42 succes\n",
        "43 null\n",
        "44 succes\n",
        "45 failed\n",
        "46 succes\n",
        "48 null\n",
        "49 succes\n",
        "42.0 % succes\n",
        "32.0 % failed\n",
        "24.0 % null\n"
       ]
      }
     ],
     "prompt_number": 12
    },
    {
     "cell_type": "heading",
     "level": 2,
     "metadata": {},
     "source": [
      "Time zone"
     ]
    },
    {
     "cell_type": "code",
     "collapsed": false,
     "input": [
      "rowsTimeZone = getLocation('time_zone')\n",
      "checkLocation(rowsTimeZone, 'time_zone')"
     ],
     "language": "python",
     "metadata": {},
     "outputs": [
      {
       "output_type": "stream",
       "stream": "stdout",
       "text": [
        "0 succes\n",
        "1 succes\n",
        "2 failed\n",
        "3 failed\n",
        "4 failed\n",
        "5 succes\n",
        "6 null\n",
        "7 null\n",
        "8 succes\n",
        "9 failed\n",
        "10 failed\n",
        "11 succes\n",
        "12 failed\n",
        "13 failed\n",
        "15 null\n",
        "16 succes\n",
        "17 succes\n",
        "18 failed\n",
        "19 failed\n",
        "20 failed\n",
        "21 failed\n",
        "22 null\n",
        "23 null\n",
        "24 failed\n",
        "25 failed\n",
        "26 succes\n",
        "27 succes\n",
        "28 null\n",
        "29 failed\n",
        "30 failed\n",
        "31 failed\n",
        "32 succes\n",
        "33 succes\n",
        "35 succes\n",
        "36 succes\n",
        "37 failed\n",
        "38 succes\n",
        "39 null\n",
        "40 null\n",
        "41 succes\n",
        "42 failed\n",
        "43 null\n",
        "44 succes\n",
        "45 succes\n",
        "46 null\n",
        "48 null\n",
        "49 null\n",
        "34.0 % succes\n",
        "38.0 % failed\n",
        "26.0 % null\n"
       ]
      }
     ],
     "prompt_number": 13
    },
    {
     "cell_type": "heading",
     "level": 2,
     "metadata": {},
     "source": [
      "Combi Location Time zone"
     ]
    },
    {
     "cell_type": "markdown",
     "metadata": {},
     "source": [
      "Het verschil van de locatie en time zone LONG mag maar max 8 LONG zijn in de radius"
     ]
    },
    {
     "cell_type": "code",
     "collapsed": false,
     "input": [
      "def checkLocationByTimeZone(LocationArray, TimeZoneArray, pipelineTweets):\n",
      "    i = 0\n",
      "    succes = 0\n",
      "    for location in LocationArray:\n",
      "        # pipeline\n",
      "        if pipelineTweets != 'null' and pipelineTweets[i]['lon'] != 'null':\n",
      "            succes = succes + 1\n",
      "        elif rowsTimeZone[i]['lon'] != 'null' and location['lon'] != 'null':\n",
      "            timeZoneLon = float(TimeZoneArray[i]['lon'])\n",
      "            locationLon = float(location['lon'])      \n",
      "            if locationLon < (timeZoneLon + 9) and locationLon > (timeZoneLon - 9):\n",
      "                if pipelineTweets == 'null':\n",
      "                    print(data[i]['index'],'V',location['location'])\n",
      "                succes = succes + 1\n",
      "                # pipeline\n",
      "                if pipelineTweets != 'null':\n",
      "                    pipelineTweets[i]['lon'] = location['lon']\n",
      "                    pipelineTweets[i]['lat'] = location['lat']\n",
      "            else:\n",
      "                if pipelineTweets == 'null':\n",
      "                    print(data[i]['index'],'X',location['location'])\n",
      "        else:\n",
      "            if pipelineTweets == 'null':\n",
      "                print(data[i]['index'],'-',location['location'])\n",
      "        i = i + 1\n",
      "    if pipelineTweets == 'null':\n",
      "        print('\\n succes:', round((succes/len(data))*100,2),'%')"
     ],
     "language": "python",
     "metadata": {},
     "outputs": [],
     "prompt_number": 14
    },
    {
     "cell_type": "code",
     "collapsed": false,
     "input": [
      "checkLocationByTimeZone(rowsLocation,rowsTimeZone, 'null')"
     ],
     "language": "python",
     "metadata": {},
     "outputs": [
      {
       "output_type": "stream",
       "stream": "stdout",
       "text": [
        "0 V LatinAmerica\n",
        "1 X Sun\n",
        "2 V Deerfield Beach, Florida\n",
        "3 V Chicago (USA) & Worldwide\n",
        "4 V Virginia\n",
        "5 - \n",
        "6 - Houston Tx\n",
        "7 - The #BLUES Planet Earth\n",
        "8 X Rimba Aceh\n",
        "9 V Wide Awake\n",
        "10 V Naples,florida.\n",
        "11 V SE London\n",
        "12 V MANILA, PHILIPPINES\n",
        "13 V Portugal\n",
        "14 - \n",
        "15 - Houston/Austin MOFO TEXAS\n",
        "16 - \n",
        "17 V Poland\n",
        "18 X Delaware\n",
        "19 - BLC Basement\n",
        "20 V Virginia\n",
        "21 - \n",
        "22 - Global \n",
        "23 - Tacoma,WA\n",
        "24 V Wide Awake\n",
        "25 V Burlington, ON Canada\n",
        "26 V Tokyo\n",
        "27 - EVERYWHERE YOU'RE NOT\n",
        "28 - Silver Spring\n",
        "29 V Boogerville, Texas\n",
        "30 V South Carolina\n",
        "31 - \n",
        "32 X 202km to k\n",
        "33 - \n",
        "34 - \n",
        "35 V Wide Awake\n",
        "36 V Sintra, Portugal\n",
        "37 V Virginia\n",
        "38 - I'm from \u00b7o. MARS\n",
        "39 - Poland\n",
        "40 - Land of 10,000 lakes \n",
        "41 - contato@457fm.com\n",
        "42 X Texas nigga!!:))\n",
        "43 - Dans le jus d'orange\n",
        "44 V Athens, Greece\n",
        "45 X 221B Baker Street. London\n",
        "46 - Philadelphia PA\n",
        "47 V Leitrim Ireland\n",
        "48 - \n",
        "49 - Barcelona\n",
        "\n",
        " succes: 42.0 %\n"
       ]
      }
     ],
     "prompt_number": 15
    },
    {
     "cell_type": "heading",
     "level": 1,
     "metadata": {},
     "source": [
      "Pipeline"
     ]
    },
    {
     "cell_type": "markdown",
     "metadata": {},
     "source": [
      "We gaan een pipeline maken waarbij de tweet de volgende stappen zullen doorlopen om te achterhalen waar ze vandaan komen:\n",
      "\n",
      "<ul>\n",
      "<li>Get COORDINATES location</li>\n",
      "<ul>\n",
      "<li>Succes: Done</li>\n",
      "</ul>\n",
      "<li>Failed: Continue</li>\n",
      "<li>Get PLACE location</li>\n",
      "<ul>\n",
      "<li>Succes: Done</li>\n",
      "</ul>\n",
      "<li>Get location by LOCATION & TIME_ZONE fields</li>\n",
      "<ul>\n",
      "<li>Succes: Done</li>\n",
      "</ul>\n",
      "<li>Failed: Continue</li>\n",
      "<li>Get location by TWITTER FRIENDS</li>\n",
      "<ul>\n",
      "<li>Succes: Done</li>\n",
      "</ul>\n",
      "<li>Failed: NO LOCATION</li>\n",
      "</ul>"
     ]
    },
    {
     "cell_type": "code",
     "collapsed": false,
     "input": [
      "def getSuccesRated(tweets):\n",
      "    succes = 0\n",
      "    for tweet in tweets:\n",
      "        if tweet['lon'] != 'null':\n",
      "            succes += 1\n",
      "    print('\\n succes:', round((succes/len(tweets))*100,2),'%')"
     ],
     "language": "python",
     "metadata": {},
     "outputs": [],
     "prompt_number": 16
    },
    {
     "cell_type": "heading",
     "level": 2,
     "metadata": {},
     "source": [
      "1: Coordinates"
     ]
    },
    {
     "cell_type": "code",
     "collapsed": false,
     "input": [
      "def getLocationByCoordinates(tweet):\n",
      "    if tweet['coordinates'] != None:\n",
      "        geoPoints = (tweet['coordinates']['coordinates'])\n",
      "        i = 0\n",
      "        for geoPoint in geoPoints:\n",
      "            if i == 0:\n",
      "                i = i + 1\n",
      "                tweet['lon'] = geoPoint\n",
      "            else:\n",
      "                tweet['lat'] = geoPoint"
     ],
     "language": "python",
     "metadata": {},
     "outputs": [],
     "prompt_number": 17
    },
    {
     "cell_type": "code",
     "collapsed": false,
     "input": [
      "tweetsWithGeo = tweets\n",
      "for tweet in tweetsWithGeo:\n",
      "    tweet['lon'] = 'null'\n",
      "    tweet['lat'] = 'null'\n",
      "    getLocationByCoordinates(tweet)\n",
      "\n",
      "getSuccesRated(tweetsWithGeo)"
     ],
     "language": "python",
     "metadata": {},
     "outputs": [
      {
       "output_type": "stream",
       "stream": "stdout",
       "text": [
        "\n",
        " succes: 2.0 %\n"
       ]
      }
     ],
     "prompt_number": 18
    },
    {
     "cell_type": "heading",
     "level": 2,
     "metadata": {},
     "source": [
      "2: Place"
     ]
    },
    {
     "cell_type": "code",
     "collapsed": false,
     "input": [
      "def getLocationByPlace(tweet):\n",
      "    if tweet['place'] != None and tweet['lon'] == 'null':\n",
      "        geoPoints = (tweet['place']['bounding_box']['coordinates'][0])\n",
      "        i = 0\n",
      "        lon = 0\n",
      "        lat = 0\n",
      "        for geoPoint in geoPoints:\n",
      "            i += 1\n",
      "            j = 0\n",
      "            for lonLat in geoPoint:\n",
      "                if j == 0:\n",
      "                    j += 1\n",
      "                    lon += lonLat\n",
      "                else:\n",
      "                    lat += lonLat\n",
      "        tweet['lon'] = lon/i\n",
      "        tweet['lat'] = lat/i"
     ],
     "language": "python",
     "metadata": {},
     "outputs": [],
     "prompt_number": 19
    },
    {
     "cell_type": "code",
     "collapsed": false,
     "input": [
      "for tweet in tweetsWithGeo:\n",
      "    getLocationByPlace(tweet)\n",
      "getSuccesRated(tweetsWithGeo)"
     ],
     "language": "python",
     "metadata": {},
     "outputs": [
      {
       "output_type": "stream",
       "stream": "stdout",
       "text": [
        "\n",
        " succes: 2.0 %\n"
       ]
      }
     ],
     "prompt_number": 20
    },
    {
     "cell_type": "heading",
     "level": 2,
     "metadata": {},
     "source": [
      "3: Location & Time Zone"
     ]
    },
    {
     "cell_type": "code",
     "collapsed": false,
     "input": [
      "checkLocationByTimeZone(rowsLocation,rowsTimeZone, tweetsWithGeo)\n",
      "getSuccesRated(tweetsWithGeo)"
     ],
     "language": "python",
     "metadata": {},
     "outputs": [
      {
       "output_type": "stream",
       "stream": "stdout",
       "text": [
        "\n",
        " succes: 42.0 %\n"
       ]
      }
     ],
     "prompt_number": 21
    },
    {
     "cell_type": "heading",
     "level": 2,
     "metadata": {},
     "source": [
      "4: Twitter users friends location"
     ]
    },
    {
     "cell_type": "markdown",
     "metadata": {},
     "source": [
      "https://dev.twitter.com/rest/reference/get/friends/ids\n",
      "\n",
      "https://dev.twitter.com/rest/reference/get/users/lookup\n"
     ]
    },
    {
     "cell_type": "code",
     "collapsed": false,
     "input": [
      "import tweepy\n",
      "\n",
      "consumer_key=\"FjlMjJXaZuDCN7nT2M7Y7WOX0\"\n",
      "consumer_secret=\"Lvcqw5mAuezz5EQsLhrTQijqURAxNfwv8qFblBDjyCywlz108K\"\n",
      "access_token=\"73969502-jKZC5Cq8q2CJ7bRR3uIBNKY2YaiGPv8CXyBnpdySJ\"\n",
      "access_token_secret=\"bVBYB03mPyR5sbI7vnjwDXUvm1aCMN8HXLesoU3xZOwic\"\n",
      "\n",
      "auth = tweepy.OAuthHandler(consumer_key, consumer_secret)\n",
      "auth.secure = True\n",
      "auth.set_access_token(access_token, access_token_secret)\n",
      "\n",
      "api = tweepy.API(auth)\n",
      "\n",
      "# If the authentication was successful, you should\n",
      "# see the name of the account print out\n",
      "print(api.me().name)"
     ],
     "language": "python",
     "metadata": {},
     "outputs": [
      {
       "output_type": "stream",
       "stream": "stdout",
       "text": [
        "Andres Lamont\n"
       ]
      }
     ],
     "prompt_number": 22
    },
    {
     "cell_type": "code",
     "collapsed": false,
     "input": [
      "def getFriendsLocationDescription(twitterUserId):\n",
      "    print(twitterUserId)\n",
      "    friendsIdString = []\n",
      "    friends = []\n",
      "    locactionFriends = []\n",
      "    i = 0\n",
      "    \n",
      "    # API max 15 calls in 15 min\n",
      "    # https://dev.twitter.com/rest/reference/get/friends/ids\n",
      "    twitterFriendIds = api.friends_ids(twitterUserId)\n",
      "    for friendId in twitterFriendIds:\n",
      "        i += 1\n",
      "        friendsIdString.append(friendId)\n",
      "        if i == 100:\n",
      "            friends = api.lookup_users(friendsIdString)\n",
      "    if i < 100 and i > 0:\n",
      "        friends = api.lookup_users(friendsIdString)\n",
      "    \n",
      "    for friend in friends:        \n",
      "        if friend.location != '':\n",
      "            locactionFriends.append(friend.location)\n",
      "    return locactionFriends"
     ],
     "language": "python",
     "metadata": {},
     "outputs": [],
     "prompt_number": 115
    },
    {
     "cell_type": "heading",
     "level": 3,
     "metadata": {},
     "source": [
      "Opvragen welke location beschrijving het meeste voor komt"
     ]
    },
    {
     "cell_type": "code",
     "collapsed": false,
     "input": [
      "from collections import Counter\n",
      "locactionFriends = getFriendsLocationDescription(968459389)\n",
      "Counter(locactionFriends)"
     ],
     "language": "python",
     "metadata": {},
     "outputs": [
      {
       "output_type": "stream",
       "stream": "stdout",
       "text": [
        "968459389\n"
       ]
      },
      {
       "metadata": {},
       "output_type": "pyout",
       "prompt_number": 116,
       "text": [
        "Counter({'Houston': 2, 'Houston,TX': 2, 'Worldwide': 2, 'Houston, Tx': 2, 'Houston, Texas': 2, 'San Francisco, CA': 2, 'Houston Tx.': 1, 'SOuth Houston, TX': 1, 'Houston, Texas  #RIPDJScrew ': 1, 'From Mo. City 2 Yo City ': 1, 'Leader Of The Mutants': 1, 'Austin': 1, 'Home of the Dome': 1, 'compton': 1, 'Houston, TX /THRETURNAB4A': 1, 'Undergravity, Htown,tx, Everywhere': 1, '5TH WARD HOUSTON,TEXAS': 1, 'Houston TEXAS': 1, 'Between Success & a Pennacle': 1, 'H-Town, Texas': 1, 'Los Angeles': 1, 'H-town': 1, 'all over': 1, 'At Whataburger': 1, 'HOU.TX / BC.CA': 1, 'St. Martinville, Louisiana': 1, 'IG: KyMeyerTunedIn ': 1, 'Austin, Tx': 1, '3rd Coast, Texas': 1, 'New York, NY': 1, 'HOUSTON,TEXAS': 1, 'HOUSTON,TX': 1, 'Trinity Garden Texas': 1, 'Contact: mail@willied.com ': 1, 'cy@cyfyremusic.com': 1, 'Bat Cave, Houston': 1, 'HOUSTON, TEXAS': 1, 'Austin, Texas': 1, 'BootsieLand': 1, 'Screwston, TX': 1, 'my own universe ': 1, \"Martha's Vineyard via Texas\": 1, 'Houston, TX': 1, 'Missouri City, Tx': 1, 'Fayetteville 26': 1, 'Houston, Texas  (SPACE CITY)': 1, 'A.T.X/EVERYWHERE YA NOT': 1, 'Houston \u00b7 Phoenix': 1, 'HustleTown TX': 1, 'SCREWSTON,TEXAS\u0e4f[-\u0e34_\u2022\u0e34]\u0e4f': 1, 'Houston Texas': 1, 'Fayetteville, AR': 1, 'HOUSTON': 1, 'Dollaz,Tx ': 1, 'Austin Texas': 1, 'San Antonio Tx. (Cloud 9)': 1, 'Los Angeles . Miami . Houston ': 1, '2nd Ward, South East, H-Town': 1, 'houston texas': 1, 'San Francisco, California': 1, '512 - 409': 1, 'Bend, OR': 1, 'H O U S T O N': 1, 'aspiring to inspire!': 1, 'Nawf Mania': 1, 'Southside, Houston ': 1, 'Zooston, TX 8900': 1, 'HOUSTON & ATLANTA': 1, 'the space-time continuum': 1, ' KAB Route': 1, 'Dj Screw House': 1, 'Houston [Space City], Texas': 1, 'southside of the map': 1, 'San Antonio, Texas': 1, '781 / Germany': 1, '16 Bars away from Success...': 1, 'Troup County, GA/Nashville, TN': 1, 'United States': 1, 'Houston, TX ': 1, 'Houston, Tx.': 1})"
       ]
      }
     ],
     "prompt_number": 116
    },
    {
     "cell_type": "markdown",
     "metadata": {},
     "source": [
      "Door de kleine verschillen is er bij de eerste 100 friends geen \u00e9\u00e9n locatie die meer dan 2 keer voorkomt. Wel zien we veel Houston terug komen dus wil ik proberen Houston naar voren te krijgen door te tellen welke woord het meeste voorkomt"
     ]
    },
    {
     "cell_type": "heading",
     "level": 3,
     "metadata": {},
     "source": [
      "Welke locatie woorden komen het meeste voor"
     ]
    },
    {
     "cell_type": "markdown",
     "metadata": {},
     "source": [
      "Om een nog hoger uitkomst te krijgen voor bepaalde worden convert ik de string op het volgende:\n",
      "- Alle NON char wordt vervangen door een spatie\n",
      "- Alle string worden lower-case\n",
      "- ik splits vervolgens alle string waarbij overbodige spatie onmiddelijk verdwijnen"
     ]
    },
    {
     "cell_type": "code",
     "collapsed": false,
     "input": [
      "import re\n",
      "def countLocationWords(locactionFriends):\n",
      "    words = []\n",
      "    for locationFriend in locactionFriends: \n",
      "        locationFriend = re.sub(r'\\W+', ' ', locationFriend.lower())\n",
      "        words.extend(locationFriend.split())\n",
      "    wordsCount = Counter(words)\n",
      "\n",
      "    # print % of 5 most use words\n",
      "    for word in wordsCount.most_common(2):\n",
      "        print(word[0], ':', round((word[1]/len(locactionFriends))*100,2),'%')\n",
      "    return wordsCount"
     ],
     "language": "python",
     "metadata": {},
     "outputs": [],
     "prompt_number": 282
    },
    {
     "cell_type": "code",
     "collapsed": false,
     "input": [
      "wordsCount = countLocationWords(locactionFriends)"
     ],
     "language": "python",
     "metadata": {},
     "outputs": [
      {
       "output_type": "stream",
       "stream": "stdout",
       "text": [
        "houston : 34.88 %\n",
        "tx : 23.26 %\n",
        "texas : 22.09 %\n",
        "san : 5.81 %\n",
        "city : 5.81 %\n"
       ]
      }
     ],
     "prompt_number": 187
    },
    {
     "cell_type": "markdown",
     "metadata": {},
     "source": [
      "Nu springen de woorden 'houston' en 'tx' zoals ik hoopte er goed uit. Mij idee is nu om met de 2 woorden die het meest voorkomen de locatie op te vragen"
     ]
    },
    {
     "cell_type": "heading",
     "level": 3,
     "metadata": {},
     "source": [
      "Vraag op locatie adhv van 2 meest voorkomende woorden"
     ]
    },
    {
     "cell_type": "code",
     "collapsed": false,
     "input": [
      "def getLocationByFriendsLocations(friendLocations, testId):\n",
      "    locationString = []\n",
      "    if len(friendLocations) > 2:\n",
      "        locArray = friendLocations.most_common(2)[0][0], friendLocations.most_common(2)[1][0]\n",
      "        locationString = ' '.join(locArray)\n",
      "        print(locationString)\n",
      "        try:\n",
      "            results  = Geocoder.geocode(locationString)\n",
      "            sleep(0.2)\n",
      "            (lat, lon) = results[0].coordinates\n",
      "        except GeocoderError:\n",
      "            (lat, lon) = ('null', 'null')\n",
      "        \n",
      "        if lon != 'null' and data[testId]['lon'] != None:\n",
      "            if lon > (data[testId]['lon'] - 2) and lon < (data[testId]['lon'] + 2) and lat > (data[testId]['lat'] - 2) and lon < (data[testId]['lat'] + 2):\n",
      "                print(testId,'SUCCESED:', data[testId]['lon'], data[testId]['lat'], '<<TEST - FRIENDS>>:',lon,lat)\n",
      "            else:\n",
      "                print(testId,'FAILED:', data[testId]['lon'], data[testId]['lat'], '<<TEST - FRIENDS>>',lon,lat)\n",
      "        else:\n",
      "            print(testId,'NONE:', data[testId]['lon'], data[testId]['lat'], '<<TEST - FRIENDS>>:',lon,lat)\n",
      "    else:\n",
      "        print(testId,'No friends :O')"
     ],
     "language": "python",
     "metadata": {},
     "outputs": [],
     "prompt_number": 280
    },
    {
     "cell_type": "code",
     "collapsed": false,
     "input": [
      "getLocationByFriendsLocations(wordsCount,6)"
     ],
     "language": "python",
     "metadata": {},
     "outputs": [
      {
       "output_type": "stream",
       "stream": "stdout",
       "text": [
        "6 SUCCESED: -95.4021585102112 29.675779 <<TEST - FRIENDS>>: -95.3698028 29.7604267\n"
       ]
      }
     ],
     "prompt_number": 188
    },
    {
     "cell_type": "markdown",
     "metadata": {},
     "source": [
      "Het is succesvol dus nu wil ik het voor 10 andere gebruikers proberen. Ik doe niet alle test data waarbij de locatie nog niet bepaalde is omdat twitter API een limit heeft van hoeveel request we opsturen"
     ]
    },
    {
     "cell_type": "heading",
     "level": 3,
     "metadata": {},
     "source": [
      "10 meer locatie bepalen adhv friends"
     ]
    },
    {
     "cell_type": "code",
     "collapsed": false,
     "input": [
      "userIdList = [[5, 2540752582],\n",
      "    [7, 1541125507],\n",
      "    [8, 2261140970],\n",
      "    [14, 318753478],\n",
      "    [15, 403794270],\n",
      "    [16, 2685291049],\n",
      "    [18, 88568934],\n",
      "    [19, 65086276],\n",
      "    [21, 1663193906],\n",
      "    #[22, 3115056857]\n",
      "    ]"
     ],
     "language": "python",
     "metadata": {},
     "outputs": [],
     "prompt_number": 253
    },
    {
     "cell_type": "code",
     "collapsed": false,
     "input": [
      "userLocationArray = []\n",
      "# get friends location desciptions\n",
      "for userId in userIdList:\n",
      "    userLocationArray.append(getFriendsLocationDescription(userId[1]))"
     ],
     "language": "python",
     "metadata": {},
     "outputs": [
      {
       "ename": "TweepError",
       "evalue": "Twitter error response: status code = 404",
       "output_type": "pyerr",
       "traceback": [
        "\u001b[1;31m---------------------------------------------------------------------------\u001b[0m\n\u001b[1;31mTweepError\u001b[0m                                Traceback (most recent call last)",
        "\u001b[1;32m<ipython-input-175-60421b94d615>\u001b[0m in \u001b[0;36m<module>\u001b[1;34m()\u001b[0m\n\u001b[0;32m      2\u001b[0m \u001b[1;31m# get friends location desciptions\u001b[0m\u001b[1;33m\u001b[0m\u001b[1;33m\u001b[0m\u001b[0m\n\u001b[0;32m      3\u001b[0m \u001b[1;32mfor\u001b[0m \u001b[0muserId\u001b[0m \u001b[1;32min\u001b[0m \u001b[0muserIdList\u001b[0m\u001b[1;33m:\u001b[0m\u001b[1;33m\u001b[0m\u001b[0m\n\u001b[1;32m----> 4\u001b[1;33m     \u001b[0muserLocationArray\u001b[0m\u001b[1;33m.\u001b[0m\u001b[0mappend\u001b[0m\u001b[1;33m(\u001b[0m\u001b[0mgetFriendsLocationDescription\u001b[0m\u001b[1;33m(\u001b[0m\u001b[0muserId\u001b[0m\u001b[1;33m[\u001b[0m\u001b[1;36m1\u001b[0m\u001b[1;33m]\u001b[0m\u001b[1;33m)\u001b[0m\u001b[1;33m)\u001b[0m\u001b[1;33m\u001b[0m\u001b[0m\n\u001b[0m",
        "\u001b[1;32m<ipython-input-155-84429892c17c>\u001b[0m in \u001b[0;36mgetFriendsLocationDescription\u001b[1;34m(twitterUserId)\u001b[0m\n\u001b[0;32m      7\u001b[0m     \u001b[1;31m# API max 15 calls in 15 min\u001b[0m\u001b[1;33m\u001b[0m\u001b[1;33m\u001b[0m\u001b[0m\n\u001b[0;32m      8\u001b[0m     \u001b[1;31m# https://dev.twitter.com/rest/reference/get/friends/ids\u001b[0m\u001b[1;33m\u001b[0m\u001b[1;33m\u001b[0m\u001b[0m\n\u001b[1;32m----> 9\u001b[1;33m     \u001b[0mtwitterFriendIds\u001b[0m \u001b[1;33m=\u001b[0m \u001b[0mapi\u001b[0m\u001b[1;33m.\u001b[0m\u001b[0mfriends_ids\u001b[0m\u001b[1;33m(\u001b[0m\u001b[0mtwitterUserId\u001b[0m\u001b[1;33m)\u001b[0m\u001b[1;33m\u001b[0m\u001b[0m\n\u001b[0m\u001b[0;32m     10\u001b[0m     \u001b[1;32mfor\u001b[0m \u001b[0mfriendId\u001b[0m \u001b[1;32min\u001b[0m \u001b[0mtwitterFriendIds\u001b[0m\u001b[1;33m:\u001b[0m\u001b[1;33m\u001b[0m\u001b[0m\n\u001b[0;32m     11\u001b[0m         \u001b[0mi\u001b[0m \u001b[1;33m+=\u001b[0m \u001b[1;36m1\u001b[0m\u001b[1;33m\u001b[0m\u001b[0m\n",
        "\u001b[1;32mC:\\Users\\Stijn\\Anaconda3\\lib\\site-packages\\tweepy\\binder.py\u001b[0m in \u001b[0;36m_call\u001b[1;34m(*args, **kwargs)\u001b[0m\n\u001b[0;32m    237\u001b[0m             \u001b[1;32mreturn\u001b[0m \u001b[0mmethod\u001b[0m\u001b[1;33m\u001b[0m\u001b[0m\n\u001b[0;32m    238\u001b[0m         \u001b[1;32melse\u001b[0m\u001b[1;33m:\u001b[0m\u001b[1;33m\u001b[0m\u001b[0m\n\u001b[1;32m--> 239\u001b[1;33m             \u001b[1;32mreturn\u001b[0m \u001b[0mmethod\u001b[0m\u001b[1;33m.\u001b[0m\u001b[0mexecute\u001b[0m\u001b[1;33m(\u001b[0m\u001b[1;33m)\u001b[0m\u001b[1;33m\u001b[0m\u001b[0m\n\u001b[0m\u001b[0;32m    240\u001b[0m \u001b[1;33m\u001b[0m\u001b[0m\n\u001b[0;32m    241\u001b[0m     \u001b[1;31m# Set pagination mode\u001b[0m\u001b[1;33m\u001b[0m\u001b[1;33m\u001b[0m\u001b[0m\n",
        "\u001b[1;32mC:\\Users\\Stijn\\Anaconda3\\lib\\site-packages\\tweepy\\binder.py\u001b[0m in \u001b[0;36mexecute\u001b[1;34m(self)\u001b[0m\n\u001b[0;32m    221\u001b[0m                 \u001b[1;32mexcept\u001b[0m \u001b[0mException\u001b[0m\u001b[1;33m:\u001b[0m\u001b[1;33m\u001b[0m\u001b[0m\n\u001b[0;32m    222\u001b[0m                     \u001b[0merror_msg\u001b[0m \u001b[1;33m=\u001b[0m \u001b[1;34m\"Twitter error response: status code = %s\"\u001b[0m \u001b[1;33m%\u001b[0m \u001b[0mresp\u001b[0m\u001b[1;33m.\u001b[0m\u001b[0mstatus_code\u001b[0m\u001b[1;33m\u001b[0m\u001b[0m\n\u001b[1;32m--> 223\u001b[1;33m                 \u001b[1;32mraise\u001b[0m \u001b[0mTweepError\u001b[0m\u001b[1;33m(\u001b[0m\u001b[0merror_msg\u001b[0m\u001b[1;33m,\u001b[0m \u001b[0mresp\u001b[0m\u001b[1;33m)\u001b[0m\u001b[1;33m\u001b[0m\u001b[0m\n\u001b[0m\u001b[0;32m    224\u001b[0m \u001b[1;33m\u001b[0m\u001b[0m\n\u001b[0;32m    225\u001b[0m             \u001b[1;31m# Parse the response payload\u001b[0m\u001b[1;33m\u001b[0m\u001b[1;33m\u001b[0m\u001b[0m\n",
        "\u001b[1;31mTweepError\u001b[0m: Twitter error response: status code = 404"
       ]
      }
     ],
     "prompt_number": 175
    },
    {
     "cell_type": "code",
     "collapsed": false,
     "input": [
      "i = 0\n",
      "for userLocation in userLocationArray:\n",
      "    getLocationByFriendsLocations(countLocationWords(userLocation),userIdList[i][0])\n",
      "    print('--------------------')\n",
      "    i += 1"
     ],
     "language": "python",
     "metadata": {},
     "outputs": [
      {
       "output_type": "stream",
       "stream": "stdout",
       "text": [
        "\u0431\u0435\u043b\u0430\u0440\u0443\u0441\u044c : 8.7 %\n",
        "ukraine : 8.7 %\n",
        "\u0442\u0432\u0435\u0440\u044c : 4.35 %\n",
        "\u0437\u0435\u043c\u043b\u0438 : 4.35 %\n",
        "\u043e\u043a\u0435\u0430\u043d : 4.35 %\n",
        "ukraine\n",
        "\u0431\u0435\u043b\u0430\u0440\u0443\u0441\u044c ukraine\n",
        "5"
       ]
      },
      {
       "output_type": "stream",
       "stream": "stdout",
       "text": [
        " FAILED: 37.6187042 55.7516335 <<TEST - FRIENDS>> 30.5037868 50.4467311\n",
        "--------------------\n",
        "africa : 5.48 %\n",
        "south : 5.48 %\n",
        "florida : 5.48 %\n",
        "in : 4.11 %\n",
        "ny : 4.11 %\n",
        "south\n",
        "africa south\n",
        "7"
       ]
      },
      {
       "output_type": "stream",
       "stream": "stdout",
       "text": [
        " FAILED: -77.548053 39.743876 <<TEST - FRIENDS>> 34.508523 -8.783195\n",
        "--------------------\n",
        "lumpur : 50.0 %\n",
        "malaysia : 50.0 %\n",
        "kuala : 50.0 %\n",
        "jakarta : 50.0 %\n",
        "malaysia\n",
        "lumpur malaysia\n",
        "8"
       ]
      },
      {
       "output_type": "stream",
       "stream": "stdout",
       "text": [
        " FAILED: 106.8271436 -6.1753167 <<TEST - FRIENDS>> 100.362109 6.125558\n",
        "--------------------\n",
        "14 No friends :O\n",
        "--------------------\n",
        "houston : 22.35 %\n",
        "tx : 14.12 %\n",
        "everywhere : 5.88 %\n",
        "com : 5.88 %\n",
        "texas : 5.88 %\n",
        "tx\n",
        "houston tx\n",
        "15"
       ]
      },
      {
       "output_type": "stream",
       "stream": "stdout",
       "text": [
        " SUCCESED: -95.501984 29.715444 <<TEST - FRIENDS>>: -95.3698028 29.7604267\n",
        "--------------------\n",
        "russia : 9.09 %\n",
        "\u043c\u043e\u0441\u043a\u0432\u0430 : 7.27 %\n",
        "the : 3.64 %\n",
        "\uff9e : 3.64 %\n",
        "of : 3.64 %\n",
        "\u043c\u043e\u0441\u043a\u0432\u0430\n",
        "russia \u043c\u043e\u0441\u043a\u0432\u0430\n",
        "16"
       ]
      },
      {
       "output_type": "stream",
       "stream": "stdout",
       "text": [
        " SUCCESED: 37.6173 55.755826 <<TEST - FRIENDS>>: 37.6173 55.755826\n",
        "--------------------\n",
        "jamaica : 24.69 %\n",
        "kingston : 7.41 %\n",
        "delaware : 6.17 %\n",
        "london : 6.17 %\n",
        "de : 4.94 %\n",
        "kingston\n",
        "jamaica kingston\n",
        "18"
       ]
      },
      {
       "output_type": "stream",
       "stream": "stdout",
       "text": [
        " FAILED: -75.524368 39.158168 <<TEST - FRIENDS>> -76.8 17.983333\n",
        "--------------------\n",
        "new : 16.22 %\n",
        "jersey : 14.86 %\n",
        "nj : 9.46 %\n",
        "lawrenceville : 6.76 %\n",
        "central : 4.05 %\n",
        "jersey\n",
        "new jersey\n",
        "19"
       ]
      },
      {
       "output_type": "stream",
       "stream": "stdout",
       "text": [
        " SUCCESED: -74.741221 40.280965 <<TEST - FRIENDS>>: -74.4056612 40.0583238\n",
        "--------------------\n",
        "viseu : 71.93 %\n",
        "portugal : 10.53 %\n",
        "visa : 7.02 %\n",
        "coimbra : 3.51 %\n",
        "city : 3.51 %\n",
        "portugal\n",
        "viseu portugal\n",
        "21"
       ]
      },
      {
       "output_type": "stream",
       "stream": "stdout",
       "text": [
        " FAILED: -9.139337 38.722252 <<TEST - FRIENDS>> -7.9124712 40.6565861\n",
        "--------------------\n"
       ]
      }
     ],
     "prompt_number": 252
    },
    {
     "cell_type": "markdown",
     "metadata": {},
     "source": [
      "<p>Het valt op dat nu veel locatie niet overeen komen met ik heb ingevult bij de test data. Maar omdat ik veel locatie global heb ingevult dus op niveau van land van plaats een bepaalde stad of provincie kloppen de locatie bepalen niet.</p>\n",
      "<p>Daarom wil ik nu de locatie opnieuw bekijken en bepalen of de locatie van de vrienden toch beter is</p>"
     ]
    },
    {
     "cell_type": "markdown",
     "metadata": {},
     "source": [
      "<table>\n",
      "    <tr>\n",
      "        <th>Index Id</th>\n",
      "        <th>Amount Friends</th>\n",
      "        <th>Amount Following</th>\n",
      "        <th>Avg. Top 2 location field</th>\n",
      "        <th>Status</th>\n",
      "        <th>Friend loc. <> test loc.</th>\n",
      "    </tr>\n",
      "    <tr>\n",
      "        <td>5</td>\n",
      "        <td>38</td>\n",
      "        <td>53</td>\n",
      "        <td>8.7%</td>\n",
      "        <td>FAILED</td>\n",
      "        <td>SAME</td>\n",
      "    </tr>\n",
      "    <tr>\n",
      "        <td>7</td>\n",
      "        <td>1733</td>\n",
      "        <td>2775</td>\n",
      "        <td>5.48%</td>\n",
      "        <td>FAILED</td>\n",
      "        <td>SAME</td>\n",
      "    </tr>\n",
      "    <tr>\n",
      "        <td>8</td>\n",
      "        <td>2</td>\n",
      "        <td>98</td>\n",
      "        <td>50%</td>\n",
      "        <td>FAILED</td>\n",
      "        <td>DOWN</td>\n",
      "    </tr>\n",
      "    <tr>\n",
      "        <td>14</td>\n",
      "        <td>0</td>\n",
      "        <td>226</td>\n",
      "        <td>-</td>\n",
      "        <td>NONE</td>\n",
      "        <td>DOWN</td>\n",
      "    </tr>\n",
      "    <tr>\n",
      "        <td>15</td>\n",
      "        <td>2165</td>\n",
      "        <td>3029</td>\n",
      "        <td>18%</td>\n",
      "        <td>SUCCES</td>\n",
      "        <td>SAME</td>\n",
      "    </tr>\n",
      "    <tr>\n",
      "        <td>16</td>\n",
      "        <td>990</td>\n",
      "        <td>959</td>\n",
      "        <td>8%</td>\n",
      "        <td>SUCCES</td>\n",
      "        <td>UP</td>\n",
      "    </tr>\n",
      "    <tr>\n",
      "        <td>18</td>\n",
      "        <td>855</td>\n",
      "        <td>1184</td>\n",
      "        <td>16%</td>\n",
      "        <td>FAILED</td>\n",
      "        <td>SAME</td>\n",
      "    </tr>\n",
      "    <tr>\n",
      "        <td>19</td>\n",
      "        <td>182</td>\n",
      "        <td>607</td>\n",
      "        <td>15%</td>\n",
      "        <td>SUCCES</td>\n",
      "        <td>SAME</td>\n",
      "    </tr>\n",
      "    <tr>\n",
      "        <td>21</td>\n",
      "        <td>101</td>\n",
      "        <td>447</td>\n",
      "        <td>41%</td>\n",
      "        <td>FAILED</td>\n",
      "        <td>UP</td>\n",
      "    </tr>\n",
      "</table>\n",
      "<p>Date check: 15-04-2015</p>"
     ]
    },
    {
     "cell_type": "markdown",
     "metadata": {},
     "source": [
      "Dit geeft mij nog geen duidelijk beeld dus ga ik er nog meer rijen aantoevoegen"
     ]
    },
    {
     "cell_type": "heading",
     "level": 3,
     "metadata": {},
     "source": [
      "All test rows check friend location"
     ]
    },
    {
     "cell_type": "code",
     "collapsed": false,
     "input": [
      "userIdList2 = [[23, 2354960106],\n",
      "[27, 281699791],\n",
      "[28, 2523814903],\n",
      "[31, 361351971],\n",
      "[32, 2706452066],\n",
      "[33, 1028175007],\n",
      "[34, 2917032234],\n",
      "[38, 2397735163],\n",
      "[39, 2873637485],\n",
      "[40, 353937547],\n",
      "[41, 25368824],\n",
      "[42, 474184091],\n",
      "[43, 274579593],\n",
      "[45, 888673332],\n",
      "[46, 2591935236]]\n"
     ],
     "language": "python",
     "metadata": {},
     "outputs": [],
     "prompt_number": 258
    },
    {
     "cell_type": "code",
     "collapsed": false,
     "input": [
      "userIdListTotaal =  [[5, 2540752582],\n",
      "    [7, 1541125507],\n",
      "    [8, 2261140970],\n",
      "    [14, 318753478],\n",
      "    [15, 403794270],\n",
      "    [16, 2685291049],\n",
      "    [18, 88568934],\n",
      "    [19, 65086276],\n",
      "    [21, 1663193906],\n",
      "    #[22, 3115056857]\n",
      "    [23, 2354960106],\n",
      "    [27, 281699791],\n",
      "    [28, 2523814903],\n",
      "    [31, 361351971],\n",
      "    [32, 2706452066],\n",
      "    [33, 1028175007],\n",
      "    [34, 2917032234],\n",
      "    [38, 2397735163],\n",
      "    [39, 2873637485],\n",
      "    [40, 353937547],\n",
      "    [41, 25368824],\n",
      "    [42, 474184091],\n",
      "    [43, 274579593],\n",
      "    [45, 888673332],\n",
      "    [46, 2591935236]\n",
      "]"
     ],
     "language": "python",
     "metadata": {},
     "outputs": [],
     "prompt_number": 262
    },
    {
     "cell_type": "code",
     "collapsed": false,
     "input": [
      "# get friends location desciptions\n",
      "for userId in userIdList2:\n",
      "    userLocationArray.append(getFriendsLocationDescription(userId[1]))"
     ],
     "language": "python",
     "metadata": {},
     "outputs": [
      {
       "output_type": "stream",
       "stream": "stdout",
       "text": [
        "2354960106\n",
        "281699791"
       ]
      },
      {
       "output_type": "stream",
       "stream": "stdout",
       "text": [
        "\n",
        "2523814903"
       ]
      },
      {
       "output_type": "stream",
       "stream": "stdout",
       "text": [
        "\n",
        "361351971"
       ]
      },
      {
       "output_type": "stream",
       "stream": "stdout",
       "text": [
        "\n",
        "2706452066"
       ]
      },
      {
       "output_type": "stream",
       "stream": "stdout",
       "text": [
        "\n",
        "1028175007"
       ]
      },
      {
       "output_type": "stream",
       "stream": "stdout",
       "text": [
        "\n",
        "2917032234"
       ]
      },
      {
       "output_type": "stream",
       "stream": "stdout",
       "text": [
        "\n",
        "2397735163"
       ]
      },
      {
       "output_type": "stream",
       "stream": "stdout",
       "text": [
        "\n",
        "2873637485"
       ]
      },
      {
       "output_type": "stream",
       "stream": "stdout",
       "text": [
        "\n",
        "353937547"
       ]
      },
      {
       "output_type": "stream",
       "stream": "stdout",
       "text": [
        "\n",
        "25368824"
       ]
      },
      {
       "output_type": "stream",
       "stream": "stdout",
       "text": [
        "\n",
        "474184091"
       ]
      },
      {
       "output_type": "stream",
       "stream": "stdout",
       "text": [
        "\n",
        "274579593"
       ]
      },
      {
       "output_type": "stream",
       "stream": "stdout",
       "text": [
        "\n",
        "888673332"
       ]
      },
      {
       "output_type": "stream",
       "stream": "stdout",
       "text": [
        "\n",
        "2591935236"
       ]
      },
      {
       "output_type": "stream",
       "stream": "stdout",
       "text": [
        "\n"
       ]
      }
     ],
     "prompt_number": 259
    },
    {
     "cell_type": "code",
     "collapsed": false,
     "input": [
      "i = 0\n",
      "for userLocation in userLocationArray:\n",
      "    getLocationByFriendsLocations(countLocationWords(userLocation),userIdListTotaal[i][0])\n",
      "    print('--------------------')\n",
      "    i += 1"
     ],
     "language": "python",
     "metadata": {},
     "outputs": [
      {
       "output_type": "stream",
       "stream": "stdout",
       "text": [
        "\u0431\u0435\u043b\u0430\u0440\u0443\u0441\u044c : 8.7 %\n",
        "ukraine : 8.7 %\n",
        "\u0431\u0435\u043b\u0430\u0440\u0443\u0441\u044c ukraine\n",
        "5"
       ]
      },
      {
       "output_type": "stream",
       "stream": "stdout",
       "text": [
        " FAILED: 37.6187042 55.7516335 <<TEST - FRIENDS>> 30.5037868 50.4467311\n",
        "--------------------\n",
        "africa : 5.48 %\n",
        "south : 5.48 %\n",
        "africa south\n",
        "7"
       ]
      },
      {
       "output_type": "stream",
       "stream": "stdout",
       "text": [
        " FAILED: -77.548053 39.743876 <<TEST - FRIENDS>> 34.508523 -8.783195\n",
        "--------------------\n",
        "lumpur : 50.0 %\n",
        "malaysia : 50.0 %\n",
        "lumpur malaysia\n",
        "8"
       ]
      },
      {
       "output_type": "stream",
       "stream": "stdout",
       "text": [
        " FAILED: 106.8271436 -6.1753167 <<TEST - FRIENDS>> 100.362109 6.125558\n",
        "--------------------\n",
        "14 No friends :O\n",
        "--------------------\n",
        "houston : 22.35 %\n",
        "tx : 14.12 %\n",
        "houston tx\n",
        "15"
       ]
      },
      {
       "output_type": "stream",
       "stream": "stdout",
       "text": [
        " SUCCESED: -95.501984 29.715444 <<TEST - FRIENDS>>: -95.3698028 29.7604267\n",
        "--------------------\n",
        "russia : 9.09 %\n",
        "\u043c\u043e\u0441\u043a\u0432\u0430 : 7.27 %\n",
        "russia \u043c\u043e\u0441\u043a\u0432\u0430\n",
        "16"
       ]
      },
      {
       "output_type": "stream",
       "stream": "stdout",
       "text": [
        " SUCCESED: 37.6173 55.755826 <<TEST - FRIENDS>>: 37.6173 55.755826\n",
        "--------------------\n",
        "jamaica : 24.69 %\n",
        "kingston : 7.41 %\n",
        "jamaica kingston\n",
        "18"
       ]
      },
      {
       "output_type": "stream",
       "stream": "stdout",
       "text": [
        " FAILED: -75.524368 39.158168 <<TEST - FRIENDS>> -76.8 17.983333\n",
        "--------------------\n",
        "new : 16.22 %\n",
        "jersey : 14.86 %\n",
        "new jersey\n",
        "19"
       ]
      },
      {
       "output_type": "stream",
       "stream": "stdout",
       "text": [
        " SUCCESED: -74.741221 40.280965 <<TEST - FRIENDS>>: -74.4056612 40.0583238\n",
        "--------------------\n",
        "viseu : 71.93 %\n",
        "portugal : 10.53 %\n",
        "viseu portugal\n",
        "21"
       ]
      },
      {
       "output_type": "stream",
       "stream": "stdout",
       "text": [
        " SUCCESED: -9.139337 38.722252 <<TEST - FRIENDS>>: -7.9124712 40.6565861\n",
        "--------------------\n",
        "seattle : 17.5 %\n",
        "wa : 16.25 %\n",
        "seattle wa\n",
        "23"
       ]
      },
      {
       "output_type": "stream",
       "stream": "stdout",
       "text": [
        " SUCCESED: -122.444291 47.252877 <<TEST - FRIENDS>>: -122.3320708 47.6062095\n",
        "--------------------\n",
        "new : 14.49 %\n",
        "paterson : 11.59 %\n",
        "new paterson\n",
        "27"
       ]
      },
      {
       "output_type": "stream",
       "stream": "stdout",
       "text": [
        " FAILED: -78.467838 -0.180653 <<TEST - FRIENDS>> -74.184545 40.907446\n",
        "--------------------\n",
        "dc : 14.86 %\n",
        "washington : 8.11 %\n",
        "dc washington\n",
        "28"
       ]
      },
      {
       "output_type": "stream",
       "stream": "stdout",
       "text": [
        " SUCCESED: -77.026088 38.990666 <<TEST - FRIENDS>>: -77.0368707 38.9071923\n",
        "--------------------\n",
        "the : 5.13 %\n",
        "atlanta : 5.13 %\n",
        "the atlanta\n",
        "31"
       ]
      },
      {
       "output_type": "stream",
       "stream": "stdout",
       "text": [
        " FAILED: -3.435973 55.378051 <<TEST - FRIENDS>> -84.3879824 33.7489954\n",
        "--------------------\n",
        "poland : 28.99 %\n",
        "to : 8.7 %\n",
        "poland to\n",
        "32"
       ]
      },
      {
       "output_type": "stream",
       "stream": "stdout",
       "text": [
        " FAILED: 14.505751 46.056947 <<TEST - FRIENDS>> 18.3803177 52.5185572\n",
        "--------------------\n",
        "rouen : 31.71 %\n",
        "paris : 7.32 %\n",
        "rouen paris\n",
        "33"
       ]
      },
      {
       "output_type": "stream",
       "stream": "stdout",
       "text": [
        " SUCCESED: 2.352222 48.856614 <<TEST - FRIENDS>>: 1.0990045 49.43673219999999\n",
        "--------------------\n",
        "ny : 6.94 %\n",
        "los : 6.94 %\n",
        "ny los\n",
        "34"
       ]
      },
      {
       "output_type": "stream",
       "stream": "stdout",
       "text": [
        " NONE: None None <<TEST - FRIENDS>>: -73.9891469 40.7515162\n",
        "--------------------\n",
        "indonesia : 33.33 %\n",
        "lamongan : 33.33 %\n",
        "indonesia lamongan\n",
        "38"
       ]
      },
      {
       "output_type": "stream",
       "stream": "stdout",
       "text": [
        " FAILED: 106.845599 -6.208763 <<TEST - FRIENDS>> 112.4149811 -7.1181109\n",
        "--------------------\n",
        "korea : 12.5 %\n",
        "seoul : 12.5 %\n",
        "korea seoul\n",
        "39"
       ]
      },
      {
       "output_type": "stream",
       "stream": "stdout",
       "text": [
        " FAILED: 19.145136 51.919438 <<TEST - FRIENDS>> 126.9779692 37.566535\n",
        "--------------------\n",
        "los : 8.75 %\n",
        "angeles : 8.75 %\n",
        "los angeles\n",
        "40"
       ]
      },
      {
       "output_type": "stream",
       "stream": "stdout",
       "text": [
        " FAILED: -93.265011 44.977753 <<TEST - FRIENDS>> -118.2436849 34.0522342\n",
        "--------------------\n",
        "brasil : 18.18 %\n",
        "paulo : 15.58 %\n",
        "brasil paulo\n",
        "41"
       ]
      },
      {
       "output_type": "stream",
       "stream": "stdout",
       "text": [
        " FAILED: -51.92528 -14.235004 <<TEST - FRIENDS>> -37.0679394 -10.9531117\n",
        "--------------------\n",
        "worldwide : 12.5 %\n",
        "world : 7.14 %\n",
        "worldwide world\n",
        "42"
       ]
      },
      {
       "output_type": "stream",
       "stream": "stdout",
       "text": [
        " FAILED: -99.901813 31.968599 <<TEST - FRIENDS>> 77.03838520000001 28.418697\n",
        "--------------------\n",
        "france : 17.19 %\n",
        "paris : 10.94 %\n",
        "france paris\n",
        "43"
       ]
      },
      {
       "output_type": "stream",
       "stream": "stdout",
       "text": [
        " SUCCESED: 2.213749 46.227638 <<TEST - FRIENDS>>: 2.3522219 48.856614\n",
        "--------------------\n",
        "russia : 9.62 %\n",
        "london : 7.69 %\n",
        "russia london\n",
        "45"
       ]
      },
      {
       "output_type": "stream",
       "stream": "stdout",
       "text": [
        " FAILED: 37.6173 55.755826 <<TEST - FRIENDS>> 55.9972225 54.70587099999999\n",
        "--------------------\n",
        "philly : 6.76 %\n",
        "new : 6.76 %\n",
        "philly new\n",
        "46"
       ]
      },
      {
       "output_type": "stream",
       "stream": "stdout",
       "text": [
        " SUCCESED: -75.165222 39.952584 <<TEST - FRIENDS>>: -75.144132 39.9552855\n",
        "--------------------\n"
       ]
      }
     ],
     "prompt_number": 283
    },
    {
     "cell_type": "markdown",
     "metadata": {},
     "source": [
      "<table>\n",
      "    <tr>\n",
      "        <th>Index Id</th>\n",
      "        <th>Amount Friends</th>\n",
      "        <th>Amount Following</th>\n",
      "        <th>Avg. Top 2 location field</th>\n",
      "        <th>Status</th>\n",
      "        <th>Friend loc. <> test loc.</th>\n",
      "    </tr>\n",
      "    <tr>\n",
      "        <td>5</td>\n",
      "        <td>38</td>\n",
      "        <td>53</td>\n",
      "        <td>8.7%</td>\n",
      "        <td>FAIL</td>\n",
      "        <td>SAME</td>\n",
      "    </tr>\n",
      "    <tr>\n",
      "        <td>7</td>\n",
      "        <td>1733</td>\n",
      "        <td>2775</td>\n",
      "        <td>5.48%</td>\n",
      "        <td>FAIL</td>\n",
      "        <td>SAME</td>\n",
      "    </tr>\n",
      "    <tr>\n",
      "        <td>8</td>\n",
      "        <td>2</td>\n",
      "        <td>98</td>\n",
      "        <td>50%</td>\n",
      "        <td>FAIL</td>\n",
      "        <td>DOWN</td>\n",
      "    </tr>\n",
      "    <tr>\n",
      "        <td>14</td>\n",
      "        <td>0</td>\n",
      "        <td>226</td>\n",
      "        <td>-</td>\n",
      "        <td>NONE</td>\n",
      "        <td>SAME</td>\n",
      "    </tr>\n",
      "    <tr>\n",
      "        <td>15</td>\n",
      "        <td>2165</td>\n",
      "        <td>3029</td>\n",
      "        <td>18%</td>\n",
      "        <td>SUCCES</td>\n",
      "        <td>SAME</td>\n",
      "    </tr>\n",
      "    <tr>\n",
      "        <td>16</td>\n",
      "        <td>990</td>\n",
      "        <td>959</td>\n",
      "        <td>8%</td>\n",
      "        <td>SUCCES</td>\n",
      "        <td>UP</td>\n",
      "    </tr>\n",
      "    <tr>\n",
      "        <td>18</td>\n",
      "        <td>855</td>\n",
      "        <td>1184</td>\n",
      "        <td>16%</td>\n",
      "        <td>FAIL</td>\n",
      "        <td>SAME</td>\n",
      "    </tr>\n",
      "    <tr>\n",
      "        <td>19</td>\n",
      "        <td>182</td>\n",
      "        <td>607</td>\n",
      "        <td>15%</td>\n",
      "        <td>SUCCES</td>\n",
      "        <td>SAME</td>\n",
      "    </tr>\n",
      "    <tr>\n",
      "        <td>21</td>\n",
      "        <td>101</td>\n",
      "        <td>447</td>\n",
      "        <td>41%</td>\n",
      "        <td>FAIL</td>\n",
      "        <td>UP</td>\n",
      "    </tr>\n",
      "    <tr>\n",
      "        <td>23</td>\n",
      "        <td>163</td>\n",
      "        <td>64</td>\n",
      "        <td>17%</td>\n",
      "        <td>SUCCES</td>\n",
      "        <td>SAME</td>\n",
      "    </tr>\n",
      "    <tr>\n",
      "        <td>27</td>\n",
      "        <td>524</td>\n",
      "        <td>612</td>\n",
      "        <td>13%</td>\n",
      "        <td>FAIL</td>\n",
      "        <td>UP</td>\n",
      "    </tr>\n",
      "    <tr>\n",
      "        <td>28</td>\n",
      "        <td>135</td>\n",
      "        <td>136</td>\n",
      "        <td>12%</td>\n",
      "        <td>SUCCES</td>\n",
      "        <td>SAME</td>\n",
      "    </tr>\n",
      "    <tr>\n",
      "        <td>31</td>\n",
      "        <td>368</td>\n",
      "        <td>538</td>\n",
      "        <td>5%</td>\n",
      "        <td>FAIL</td>\n",
      "        <td>DOWN</td>\n",
      "    </tr>\n",
      "    <tr>\n",
      "        <td>32</td>\n",
      "        <td>3714</td>\n",
      "        <td>3383</td>\n",
      "        <td>19%</td>\n",
      "        <td>FAIL</td>\n",
      "        <td>SAME</td>\n",
      "    </tr>\n",
      "    <tr>\n",
      "        <td>33</td>\n",
      "        <td>94</td>\n",
      "        <td>277</td>\n",
      "        <td>19%</td>\n",
      "        <td>SUCCES</td>\n",
      "        <td>SAME</td>\n",
      "    </tr>\n",
      "    <tr>\n",
      "        <td>34</td>\n",
      "        <td>792</td>\n",
      "        <td>302</td>\n",
      "        <td>7%</td>\n",
      "        <td>NONE</td>\n",
      "        <td>UP</td>\n",
      "    </tr>\n",
      "    <tr>\n",
      "        <td>38</td>\n",
      "        <td>40</td>\n",
      "        <td>58</td>\n",
      "        <td>33%</td>\n",
      "        <td>FAIL</td>\n",
      "        <td>DOWN</td>\n",
      "    </tr>\n",
      "    <tr>\n",
      "        <td>39</td>\n",
      "        <td>36</td>\n",
      "        <td>5</td>\n",
      "        <td>13%</td>\n",
      "        <td>FAIL</td>\n",
      "        <td>SAME</td>\n",
      "    </tr>\n",
      "    <tr>\n",
      "        <td>40</td>\n",
      "        <td>232</td>\n",
      "        <td>219</td>\n",
      "        <td>9%</td>\n",
      "        <td>FAIL</td>\n",
      "        <td>DOWN</td>\n",
      "    </tr>\n",
      "    <tr>\n",
      "        <td>41</td>\n",
      "        <td>861</td>\n",
      "        <td>2426</td>\n",
      "        <td>17%</td>\n",
      "        <td>FAIL</td>\n",
      "        <td>UP</td>\n",
      "    </tr>\n",
      "    <tr>\n",
      "        <td>42</td>\n",
      "        <td>3594</td>\n",
      "        <td>3544</td>\n",
      "        <td>10%</td>\n",
      "        <td>FAIL</td>\n",
      "        <td>DOWN</td>\n",
      "    </tr>\n",
      "    <tr>\n",
      "        <td>43</td>\n",
      "        <td>660</td>\n",
      "        <td>192</td>\n",
      "        <td>14%</td>\n",
      "        <td>SUCCES</td>\n",
      "        <td>UP</td>\n",
      "    </tr>\n",
      "    <tr>\n",
      "        <td>45</td>\n",
      "        <td>2157</td>\n",
      "        <td>6147</td>\n",
      "        <td>8%</td>\n",
      "        <td>FAIL</td>\n",
      "        <td>DOWN</td>\n",
      "    </tr>\n",
      "    <tr>\n",
      "        <td>46</td>\n",
      "        <td>12697</td>\n",
      "        <td>9130</td>\n",
      "        <td>7%</td>\n",
      "        <td>SUCCES</td>\n",
      "        <td>SAME</td>\n",
      "    </tr>\n",
      "</table>\n",
      "<p>Date check: 15-04-2015</p>"
     ]
    },
    {
     "cell_type": "heading",
     "level": 3,
     "metadata": {},
     "source": [
      "Conclusie trekken uit locatie vrienden"
     ]
    },
    {
     "cell_type": "code",
     "collapsed": false,
     "input": [
      "OutCome = [[5,38,53,9,'FAIL','SAME'],\n",
      "[7,1733,2775,5,'FAIL','SAME'],\n",
      "[8,2,98,50,'FAIL','DOWN'],\n",
      "[14,0,226,0,'NONE','SAME'],\n",
      "[15,2165,3029,18,'SUCCES','SAME'],\n",
      "[16,990,959,8,'SUCCES','UP'],\n",
      "[18,855,1184,16,'FAIL','SAME'],\n",
      "[19,182,607,15,'SUCCES','SAME'],\n",
      "[21,101,447,41,'FAIL','UP'],\n",
      "[23,163,64,17,'SUCCES','SAME'],\n",
      "[27,524,612,13,'FAIL','UP'],\n",
      "[28,135,136,12,'SUCCES','SAME'],\n",
      "[31,368,538,5,'FAIL','DOWN'],\n",
      "[32,3714,3383,19,'FAIL','SAME'],\n",
      "[33,94,277,19,'SUCCES','SAME'],\n",
      "[34,792,302,7,'NONE','UP'],\n",
      "[38,40,58,33,'FAIL','DOWN'],\n",
      "[39,36,5,13,'FAIL','SAME'],\n",
      "[40,232,219,9,'FAIL','DOWN'],\n",
      "[41,861,2426,17,'FAIL','UP'],\n",
      "[42,3594,3544,10,'FAIL','DOWN'],\n",
      "[43,660,192,14,'SUCCES','UP'],\n",
      "[45,2157,6147,8,'FAIL','DOWN'],\n",
      "[46,12697,9130,7,'SUCCES','SAME']]"
     ],
     "language": "python",
     "metadata": {},
     "outputs": [],
     "prompt_number": 299
    },
    {
     "cell_type": "code",
     "collapsed": false,
     "input": [
      "same = 0\n",
      "up = 0\n",
      "down = 0\n",
      "avgSamePrec = 0\n",
      "avgUpPrec = 0\n",
      "avgDownPrec = 0\n",
      "avgSameFriends = 0\n",
      "avgUpFriends = 0\n",
      "avgDownFriends = 0\n",
      "for row in OutCome:\n",
      "    if row[5] == 'UP':\n",
      "        up += 1\n",
      "        avgUpPrec += row[3]\n",
      "        avgUpFriends += row[1]\n",
      "    elif row[5] == 'SAME':\n",
      "        same += 1\n",
      "        avgSamePrec += row[3]\n",
      "        avgSameFriends += row[1]\n",
      "    elif row[5] == 'DOWN':\n",
      "        down += 1\n",
      "        avgDownPrec += row[3]\n",
      "        avgDownFriends += row[1]\n",
      "\n",
      "print('Amount of status')\n",
      "print('UP:', round((up/len(OutCome))*100,2),'%')\n",
      "print('SAME:', round((same/len(OutCome))*100,2),'%')\n",
      "print('DOWN:', round((down/len(OutCome))*100,2),'%')\n",
      "\n",
      "print('\\nAVG. % search words are find by friends')\n",
      "print('UP:', round((avgUpPrec/up),2),'%')\n",
      "print('SAME:', round((avgSamePrec/same),2),'%')\n",
      "print('DOWN:', round((avgDownPrec/down),2),'%')\n",
      "\n",
      "print('\\nAVG. Friends')\n",
      "print('UP:', round((avgUpFriends/up)))\n",
      "print('SAME:', round((avgSameFriends/same)))\n",
      "print('DOWN:', round((avgDownFriends/down)))"
     ],
     "language": "python",
     "metadata": {},
     "outputs": [
      {
       "output_type": "stream",
       "stream": "stdout",
       "text": [
        "Amount of status\n",
        "UP: 25.0 %\n",
        "SAME: 50.0 %\n",
        "DOWN: 25.0 %\n",
        "\n",
        "AVG. % search words are find by friends\n",
        "UP: 16.67 %\n",
        "SAME: 12.5 %\n",
        "DOWN: 19.17 %\n",
        "\n",
        "AVG. Friends\n",
        "UP: 655\n",
        "SAME: 1818\n",
        "DOWN: 1066\n"
       ]
      }
     ],
     "prompt_number": 324
    },
    {
     "cell_type": "heading",
     "level": 4,
     "metadata": {},
     "source": [
      "Check data in database"
     ]
    },
    {
     "cell_type": "code",
     "collapsed": false,
     "input": [
      "i = 0\n",
      "listDown = [5, 7, 8, 14, 15,16,18,19,21,23,27,28,31,32,33,34,38,39,40,41,42,43,45]\n",
      "downTweets = []\n",
      "for t in tweets:\n",
      "    if i in listDown:\n",
      "        downTweets.append(t)\n",
      "    i += 1"
     ],
     "language": "python",
     "metadata": {},
     "outputs": [],
     "prompt_number": 5
    },
    {
     "cell_type": "code",
     "collapsed": false,
     "input": [
      "for tweet in downTweets:\n",
      "    print('location:',tweet['location'])\n",
      "    print('timeZone:',tweet['time_zone'])\n",
      "    print('language:',tweet['lang_user'])\n",
      "    print('----------------')"
     ],
     "language": "python",
     "metadata": {},
     "outputs": [
      {
       "output_type": "stream",
       "stream": "stdout",
       "text": [
        "location: \n",
        "timeZone: Moscow\n",
        "language: en\n",
        "----------------\n",
        "location: The #BLUES Planet Earth\n",
        "timeZone: None\n",
        "language: en\n",
        "----------------\n",
        "location: Rimba Aceh\n",
        "timeZone: Jakarta\n",
        "language: id\n",
        "----------------\n",
        "location: \n",
        "timeZone: Pacific Time (US & Canada)\n",
        "language: en\n",
        "----------------\n",
        "location: Houston/Austin MOFO TEXAS\n",
        "timeZone: None\n",
        "language: en\n",
        "----------------\n",
        "location: \n",
        "timeZone: Moscow\n",
        "language: ru\n",
        "----------------\n",
        "location: Delaware\n",
        "timeZone: Central Time (US & Canada)\n",
        "language: en\n",
        "----------------\n",
        "location: BLC Basement\n",
        "timeZone: Quito\n",
        "language: en\n",
        "----------------\n",
        "location: \n",
        "timeZone: Lisbon\n",
        "language: pt\n",
        "----------------\n",
        "location: Tacoma,WA\n",
        "timeZone: None\n",
        "language: en\n",
        "----------------\n",
        "location: EVERYWHERE YOU'RE NOT\n",
        "timeZone: Quito\n",
        "language: en\n",
        "----------------\n",
        "location: Silver Spring\n",
        "timeZone: None\n",
        "language: en\n",
        "----------------\n",
        "location: \n",
        "timeZone: Amsterdam\n",
        "language: en\n",
        "----------------\n",
        "location: 202km to k\n",
        "timeZone: Ljubljana\n",
        "language: pl\n",
        "----------------\n",
        "location: \n",
        "timeZone: Paris\n",
        "language: fr\n",
        "----------------\n",
        "location: \n",
        "timeZone: None\n",
        "language: en\n",
        "----------------\n",
        "location: I'm from \u00b7o. MARS\n",
        "timeZone: Jakarta\n",
        "language: id\n",
        "----------------\n",
        "location: Poland\n",
        "timeZone: None\n",
        "language: pl\n",
        "----------------\n",
        "location: Land of 10,000 lakes \n",
        "timeZone: None\n",
        "language: en\n",
        "----------------\n",
        "location: contato@457fm.com\n",
        "timeZone: Brasilia\n",
        "language: pt\n",
        "----------------\n",
        "location: Texas nigga!!:))\n",
        "timeZone: Eastern Time (US & Canada)\n",
        "language: en\n",
        "----------------\n",
        "location: Dans le jus d'orange\n",
        "timeZone: None\n",
        "language: fr\n",
        "----------------\n",
        "location: 221B Baker Street. London\n",
        "timeZone: Moscow\n",
        "language: en-gb\n",
        "----------------\n"
       ]
      }
     ],
     "prompt_number": 6
    },
    {
     "cell_type": "heading",
     "level": 2,
     "metadata": {},
     "source": [
      "Getting friends location PART II"
     ]
    },
    {
     "cell_type": "markdown",
     "metadata": {},
     "source": [
      "Onze conclusie van hierboven is, is dat er nog met te weinig dat wordt gewerkt. Daarom willen we nu per gebruiker van plaats 100 tot wel 400 gebruikers ophalen om de locatie te controleren. Tevens willen we de gebruikers opslaan zodat we de gegevens later opnieuw kunnen opvragen"
     ]
    },
    {
     "cell_type": "markdown",
     "metadata": {},
     "source": [
      "Omdat de locatie opvragen adhv van friends een flinke stap is maak ik voor de overzicht er een nieuwe labjournaal van zie: URL!!"
     ]
    },
    {
     "cell_type": "code",
     "collapsed": false,
     "input": [
      "twitterFriendIds = api.friends_ids(1541125507)"
     ],
     "language": "python",
     "metadata": {},
     "outputs": [],
     "prompt_number": 35
    },
    {
     "cell_type": "code",
     "collapsed": false,
     "input": [
      "from time import sleep\n",
      "i = 0\n",
      "friendsIdString = []\n",
      "friends = []\n",
      "for friendId in twitterFriendIds:\n",
      "    if db.twitterUser.find({'id': friendId}).count() == 0:\n",
      "        i += 1\n",
      "        friendsIdString.append(friendId)\n",
      "        if i % 100 == 0 and i <= 400:\n",
      "            friends.append(api.lookup_users(friendsIdString))\n",
      "            sleep(1)\n",
      "            friendsIdString = []\n",
      "\n",
      "if i % 100 != 0:\n",
      "    friends.append(api.lookup_users(friendsIdString))"
     ],
     "language": "python",
     "metadata": {},
     "outputs": [
      {
       "ename": "TweepError",
       "evalue": "Twitter error response: status code = 403",
       "output_type": "pyerr",
       "traceback": [
        "\u001b[1;31m---------------------------------------------------------------------------\u001b[0m\n\u001b[1;31mTweepError\u001b[0m                                Traceback (most recent call last)",
        "\u001b[1;32m<ipython-input-111-f1dc54590f01>\u001b[0m in \u001b[0;36m<module>\u001b[1;34m()\u001b[0m\n\u001b[0;32m     13\u001b[0m \u001b[1;33m\u001b[0m\u001b[0m\n\u001b[0;32m     14\u001b[0m \u001b[1;32mif\u001b[0m \u001b[0mi\u001b[0m \u001b[1;33m%\u001b[0m \u001b[1;36m100\u001b[0m \u001b[1;33m!=\u001b[0m \u001b[1;36m0\u001b[0m\u001b[1;33m:\u001b[0m\u001b[1;33m\u001b[0m\u001b[0m\n\u001b[1;32m---> 15\u001b[1;33m     \u001b[0mfriends\u001b[0m \u001b[1;33m=\u001b[0m \u001b[0mapi\u001b[0m\u001b[1;33m.\u001b[0m\u001b[0mlookup_users\u001b[0m\u001b[1;33m(\u001b[0m\u001b[0mfriendsIdString\u001b[0m\u001b[1;33m)\u001b[0m\u001b[1;33m\u001b[0m\u001b[0m\n\u001b[0m",
        "\u001b[1;32mC:\\Users\\Stijn\\Anaconda3\\lib\\site-packages\\tweepy\\api.py\u001b[0m in \u001b[0;36mlookup_users\u001b[1;34m(self, user_ids, screen_names, include_entities)\u001b[0m\n\u001b[0;32m    319\u001b[0m             \u001b[0mpost_data\u001b[0m\u001b[1;33m[\u001b[0m\u001b[1;34m'screen_name'\u001b[0m\u001b[1;33m]\u001b[0m \u001b[1;33m=\u001b[0m \u001b[0mlist_to_csv\u001b[0m\u001b[1;33m(\u001b[0m\u001b[0mscreen_names\u001b[0m\u001b[1;33m)\u001b[0m\u001b[1;33m\u001b[0m\u001b[0m\n\u001b[0;32m    320\u001b[0m \u001b[1;33m\u001b[0m\u001b[0m\n\u001b[1;32m--> 321\u001b[1;33m         \u001b[1;32mreturn\u001b[0m \u001b[0mself\u001b[0m\u001b[1;33m.\u001b[0m\u001b[0m_lookup_users\u001b[0m\u001b[1;33m(\u001b[0m\u001b[0mpost_data\u001b[0m\u001b[1;33m=\u001b[0m\u001b[0mpost_data\u001b[0m\u001b[1;33m)\u001b[0m\u001b[1;33m\u001b[0m\u001b[0m\n\u001b[0m\u001b[0;32m    322\u001b[0m \u001b[1;33m\u001b[0m\u001b[0m\n\u001b[0;32m    323\u001b[0m     \u001b[1;33m@\u001b[0m\u001b[0mproperty\u001b[0m\u001b[1;33m\u001b[0m\u001b[0m\n",
        "\u001b[1;32mC:\\Users\\Stijn\\Anaconda3\\lib\\site-packages\\tweepy\\binder.py\u001b[0m in \u001b[0;36m_call\u001b[1;34m(*args, **kwargs)\u001b[0m\n\u001b[0;32m    237\u001b[0m             \u001b[1;32mreturn\u001b[0m \u001b[0mmethod\u001b[0m\u001b[1;33m\u001b[0m\u001b[0m\n\u001b[0;32m    238\u001b[0m         \u001b[1;32melse\u001b[0m\u001b[1;33m:\u001b[0m\u001b[1;33m\u001b[0m\u001b[0m\n\u001b[1;32m--> 239\u001b[1;33m             \u001b[1;32mreturn\u001b[0m \u001b[0mmethod\u001b[0m\u001b[1;33m.\u001b[0m\u001b[0mexecute\u001b[0m\u001b[1;33m(\u001b[0m\u001b[1;33m)\u001b[0m\u001b[1;33m\u001b[0m\u001b[0m\n\u001b[0m\u001b[0;32m    240\u001b[0m \u001b[1;33m\u001b[0m\u001b[0m\n\u001b[0;32m    241\u001b[0m     \u001b[1;31m# Set pagination mode\u001b[0m\u001b[1;33m\u001b[0m\u001b[1;33m\u001b[0m\u001b[0m\n",
        "\u001b[1;32mC:\\Users\\Stijn\\Anaconda3\\lib\\site-packages\\tweepy\\binder.py\u001b[0m in \u001b[0;36mexecute\u001b[1;34m(self)\u001b[0m\n\u001b[0;32m    221\u001b[0m                 \u001b[1;32mexcept\u001b[0m \u001b[0mException\u001b[0m\u001b[1;33m:\u001b[0m\u001b[1;33m\u001b[0m\u001b[0m\n\u001b[0;32m    222\u001b[0m                     \u001b[0merror_msg\u001b[0m \u001b[1;33m=\u001b[0m \u001b[1;34m\"Twitter error response: status code = %s\"\u001b[0m \u001b[1;33m%\u001b[0m \u001b[0mresp\u001b[0m\u001b[1;33m.\u001b[0m\u001b[0mstatus_code\u001b[0m\u001b[1;33m\u001b[0m\u001b[0m\n\u001b[1;32m--> 223\u001b[1;33m                 \u001b[1;32mraise\u001b[0m \u001b[0mTweepError\u001b[0m\u001b[1;33m(\u001b[0m\u001b[0merror_msg\u001b[0m\u001b[1;33m,\u001b[0m \u001b[0mresp\u001b[0m\u001b[1;33m)\u001b[0m\u001b[1;33m\u001b[0m\u001b[0m\n\u001b[0m\u001b[0;32m    224\u001b[0m \u001b[1;33m\u001b[0m\u001b[0m\n\u001b[0;32m    225\u001b[0m             \u001b[1;31m# Parse the response payload\u001b[0m\u001b[1;33m\u001b[0m\u001b[1;33m\u001b[0m\u001b[0m\n",
        "\u001b[1;31mTweepError\u001b[0m: Twitter error response: status code = 403"
       ]
      }
     ],
     "prompt_number": 111
    },
    {
     "cell_type": "code",
     "collapsed": false,
     "input": [
      "friendss = friends\n",
      "#db.twitterUser.find({'id': friends[0].id}).count()"
     ],
     "language": "python",
     "metadata": {},
     "outputs": [],
     "prompt_number": 97
    },
    {
     "cell_type": "code",
     "collapsed": false,
     "input": [
      "for friend in friends:\n",
      "    db.twitterUser.insert(friend._json)"
     ],
     "language": "python",
     "metadata": {},
     "outputs": [],
     "prompt_number": 134
    },
    {
     "cell_type": "code",
     "collapsed": false,
     "input": [
      "start_time = time.time()\n",
      "i = 0\n",
      "friendsIdString = []\n",
      "friends = []\n",
      "for friendId in twitterFriendIds:\n",
      "    if i != 400 and db.twitterUser.find({'id': friendId}).count() == 0:\n",
      "        i += 1\n",
      "        friendsIdString.append(friendId)\n",
      "        if i % 100 == 0 and i <= 400:\n",
      "            print(len(friendsIdString))\n",
      "            friends.extend(api.lookup_users(friendsIdString))\n",
      "            insertTwitterUserFriends(1541125507, friendsIdString)\n",
      "            friendsIdString = []\n",
      "\n",
      "if i % 100 != 0:\n",
      "    friends.append(api.lookup_users(friendsIdString))\n",
      "\n",
      "\n",
      "print(\"--- %s seconds ---\" % (time.time() - start_time))"
     ],
     "language": "python",
     "metadata": {},
     "outputs": [
      {
       "output_type": "stream",
       "stream": "stdout",
       "text": [
        "100\n",
        "100"
       ]
      },
      {
       "output_type": "stream",
       "stream": "stdout",
       "text": [
        "\n",
        "100"
       ]
      },
      {
       "output_type": "stream",
       "stream": "stdout",
       "text": [
        "\n",
        "100"
       ]
      },
      {
       "output_type": "stream",
       "stream": "stdout",
       "text": [
        "\n"
       ]
      },
      {
       "ename": "TweepError",
       "evalue": "Twitter error response: status code = 403",
       "output_type": "pyerr",
       "traceback": [
        "\u001b[1;31m---------------------------------------------------------------------------\u001b[0m\n\u001b[1;31mTweepError\u001b[0m                                Traceback (most recent call last)",
        "\u001b[1;32m<ipython-input-132-758af8653fdd>\u001b[0m in \u001b[0;36m<module>\u001b[1;34m()\u001b[0m\n\u001b[0;32m     16\u001b[0m \u001b[1;33m\u001b[0m\u001b[0m\n\u001b[0;32m     17\u001b[0m \u001b[1;32mif\u001b[0m \u001b[0mi\u001b[0m \u001b[1;33m%\u001b[0m \u001b[1;36m100\u001b[0m \u001b[1;33m!=\u001b[0m \u001b[1;36m0\u001b[0m\u001b[1;33m:\u001b[0m\u001b[1;33m\u001b[0m\u001b[0m\n\u001b[1;32m---> 18\u001b[1;33m     \u001b[0mfriends\u001b[0m\u001b[1;33m.\u001b[0m\u001b[0mappend\u001b[0m\u001b[1;33m(\u001b[0m\u001b[0mapi\u001b[0m\u001b[1;33m.\u001b[0m\u001b[0mlookup_users\u001b[0m\u001b[1;33m(\u001b[0m\u001b[0mfriendsIdString\u001b[0m\u001b[1;33m)\u001b[0m\u001b[1;33m)\u001b[0m\u001b[1;33m\u001b[0m\u001b[0m\n\u001b[0m\u001b[0;32m     19\u001b[0m \u001b[1;33m\u001b[0m\u001b[0m\n\u001b[0;32m     20\u001b[0m \u001b[0mprint\u001b[0m\u001b[1;33m(\u001b[0m\u001b[1;34m\"--- %s seconds ---\"\u001b[0m \u001b[1;33m%\u001b[0m \u001b[1;33m(\u001b[0m\u001b[0mtime\u001b[0m\u001b[1;33m.\u001b[0m\u001b[0mtime\u001b[0m\u001b[1;33m(\u001b[0m\u001b[1;33m)\u001b[0m \u001b[1;33m-\u001b[0m \u001b[0mstart_time\u001b[0m\u001b[1;33m)\u001b[0m\u001b[1;33m)\u001b[0m\u001b[1;33m\u001b[0m\u001b[0m\n",
        "\u001b[1;32mC:\\Users\\Stijn\\Anaconda3\\lib\\site-packages\\tweepy\\api.py\u001b[0m in \u001b[0;36mlookup_users\u001b[1;34m(self, user_ids, screen_names, include_entities)\u001b[0m\n\u001b[0;32m    319\u001b[0m             \u001b[0mpost_data\u001b[0m\u001b[1;33m[\u001b[0m\u001b[1;34m'screen_name'\u001b[0m\u001b[1;33m]\u001b[0m \u001b[1;33m=\u001b[0m \u001b[0mlist_to_csv\u001b[0m\u001b[1;33m(\u001b[0m\u001b[0mscreen_names\u001b[0m\u001b[1;33m)\u001b[0m\u001b[1;33m\u001b[0m\u001b[0m\n\u001b[0;32m    320\u001b[0m \u001b[1;33m\u001b[0m\u001b[0m\n\u001b[1;32m--> 321\u001b[1;33m         \u001b[1;32mreturn\u001b[0m \u001b[0mself\u001b[0m\u001b[1;33m.\u001b[0m\u001b[0m_lookup_users\u001b[0m\u001b[1;33m(\u001b[0m\u001b[0mpost_data\u001b[0m\u001b[1;33m=\u001b[0m\u001b[0mpost_data\u001b[0m\u001b[1;33m)\u001b[0m\u001b[1;33m\u001b[0m\u001b[0m\n\u001b[0m\u001b[0;32m    322\u001b[0m \u001b[1;33m\u001b[0m\u001b[0m\n\u001b[0;32m    323\u001b[0m     \u001b[1;33m@\u001b[0m\u001b[0mproperty\u001b[0m\u001b[1;33m\u001b[0m\u001b[0m\n",
        "\u001b[1;32mC:\\Users\\Stijn\\Anaconda3\\lib\\site-packages\\tweepy\\binder.py\u001b[0m in \u001b[0;36m_call\u001b[1;34m(*args, **kwargs)\u001b[0m\n\u001b[0;32m    237\u001b[0m             \u001b[1;32mreturn\u001b[0m \u001b[0mmethod\u001b[0m\u001b[1;33m\u001b[0m\u001b[0m\n\u001b[0;32m    238\u001b[0m         \u001b[1;32melse\u001b[0m\u001b[1;33m:\u001b[0m\u001b[1;33m\u001b[0m\u001b[0m\n\u001b[1;32m--> 239\u001b[1;33m             \u001b[1;32mreturn\u001b[0m \u001b[0mmethod\u001b[0m\u001b[1;33m.\u001b[0m\u001b[0mexecute\u001b[0m\u001b[1;33m(\u001b[0m\u001b[1;33m)\u001b[0m\u001b[1;33m\u001b[0m\u001b[0m\n\u001b[0m\u001b[0;32m    240\u001b[0m \u001b[1;33m\u001b[0m\u001b[0m\n\u001b[0;32m    241\u001b[0m     \u001b[1;31m# Set pagination mode\u001b[0m\u001b[1;33m\u001b[0m\u001b[1;33m\u001b[0m\u001b[0m\n",
        "\u001b[1;32mC:\\Users\\Stijn\\Anaconda3\\lib\\site-packages\\tweepy\\binder.py\u001b[0m in \u001b[0;36mexecute\u001b[1;34m(self)\u001b[0m\n\u001b[0;32m    221\u001b[0m                 \u001b[1;32mexcept\u001b[0m \u001b[0mException\u001b[0m\u001b[1;33m:\u001b[0m\u001b[1;33m\u001b[0m\u001b[0m\n\u001b[0;32m    222\u001b[0m                     \u001b[0merror_msg\u001b[0m \u001b[1;33m=\u001b[0m \u001b[1;34m\"Twitter error response: status code = %s\"\u001b[0m \u001b[1;33m%\u001b[0m \u001b[0mresp\u001b[0m\u001b[1;33m.\u001b[0m\u001b[0mstatus_code\u001b[0m\u001b[1;33m\u001b[0m\u001b[0m\n\u001b[1;32m--> 223\u001b[1;33m                 \u001b[1;32mraise\u001b[0m \u001b[0mTweepError\u001b[0m\u001b[1;33m(\u001b[0m\u001b[0merror_msg\u001b[0m\u001b[1;33m,\u001b[0m \u001b[0mresp\u001b[0m\u001b[1;33m)\u001b[0m\u001b[1;33m\u001b[0m\u001b[0m\n\u001b[0m\u001b[0;32m    224\u001b[0m \u001b[1;33m\u001b[0m\u001b[0m\n\u001b[0;32m    225\u001b[0m             \u001b[1;31m# Parse the response payload\u001b[0m\u001b[1;33m\u001b[0m\u001b[1;33m\u001b[0m\u001b[0m\n",
        "\u001b[1;31mTweepError\u001b[0m: Twitter error response: status code = 403"
       ]
      }
     ],
     "prompt_number": 132
    },
    {
     "cell_type": "code",
     "collapsed": false,
     "input": [
      "def insertTwitterUserFriends(userId, friendsId):\n",
      "    if db.twitterUserFriends.find({'id': userId}).count() == 0:\n",
      "        db.twitterUserFriends.insert({'id': userId, 'friends': friendsId})\n",
      "    else:\n",
      "        db.twitterUserFriends.update({'id': userId}, {'$push': {'friends': { '$each': friendsId}}})"
     ],
     "language": "python",
     "metadata": {},
     "outputs": [],
     "prompt_number": 131
    }
   ],
   "metadata": {}
  }
 ]
}