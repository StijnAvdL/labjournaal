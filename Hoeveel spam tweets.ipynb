{
 "metadata": {
  "name": "",
  "signature": "sha256:38b07628a370240ebac49e845ef8713d07b8acd09ae0665cfe3ff6bf03d8c8ef"
 },
 "nbformat": 3,
 "nbformat_minor": 0,
 "worksheets": [
  {
   "cells": [
    {
     "cell_type": "heading",
     "level": 1,
     "metadata": {},
     "source": [
      "Hoeveel spam tweets zijn er?"
     ]
    },
    {
     "cell_type": "markdown",
     "metadata": {},
     "source": [
      "Datum: 25-03-2015"
     ]
    },
    {
     "cell_type": "markdown",
     "metadata": {},
     "source": [
      "Url: http://nbviewer.ipython.org/github/StijnAvdL/labjournaal/blob/master/Hoeveel%20spam%20tweets.ipynb"
     ]
    },
    {
     "cell_type": "code",
     "collapsed": false,
     "input": [
      "%pylab inline"
     ],
     "language": "python",
     "metadata": {},
     "outputs": [
      {
       "output_type": "stream",
       "stream": "stdout",
       "text": [
        "Populating the interactive namespace from numpy and matplotlib\n"
       ]
      }
     ],
     "prompt_number": 1
    },
    {
     "cell_type": "code",
     "collapsed": false,
     "input": [
      "import pymongo\n",
      "\n",
      "# Connection to Mongo DB\n",
      "conn = pymongo.MongoClient('localhost', 27017)\n",
      "db = conn['app24236103']\n",
      "\n",
      "twitterUsers = db.top40plays.aggregate([\n",
      "    {\n",
      "        \"$limit\":500000\n",
      "    },\n",
      "    {\n",
      "        \"$group\": {\n",
      "            \"_id\": \"$twitter_user_id\",\n",
      "            \"count\": {\"$sum\": 1}\n",
      "        }\n",
      "    },\n",
      "    {\n",
      "        \"$sort\": {\"count\": -1}\n",
      "    }\n",
      "])\n",
      "\n",
      "countTwitterUsers = list(twitterUsers['result'])\n",
      "\n",
      "c = str(len(countTwitterUsers))\n",
      "\n",
      "print(\"Aantal verschillende gebruikers: \" + c)"
     ],
     "language": "python",
     "metadata": {},
     "outputs": [
      {
       "output_type": "stream",
       "stream": "stdout",
       "text": [
        "Aantal verschillende gebruikers: 308463\n"
       ]
      }
     ],
     "prompt_number": 2
    },
    {
     "cell_type": "code",
     "collapsed": false,
     "input": [
      "import matplotlib as plt\n",
      "import time\n",
      "\n",
      "today= time.strftime(\"%d/%m/%Y\")\n",
      "count=[]\n",
      "for t, twitterUser in enumerate(countTwitterUsers):\n",
      "    count.append(twitterUser['count'])\n",
      "\n",
      "minCount = min(count)\n",
      "maxCount = max(count)"
     ],
     "language": "python",
     "metadata": {},
     "outputs": [],
     "prompt_number": 3
    },
    {
     "cell_type": "code",
     "collapsed": false,
     "input": [
      "rangeCount = maxCount/10\n",
      "rangeC = [0,0,0,0,0,0,0,0,0,0]\n",
      "for c in count:\n",
      "    i = 0\n",
      "    r = rangeCount\n",
      "    while c > r:\n",
      "        i = i + 1\n",
      "        r = (rangeCount*(i+1))\n",
      "    rangeC[i] = rangeC[i] + c\n",
      "\n",
      "print(rangeC)"
     ],
     "language": "python",
     "metadata": {},
     "outputs": [
      {
       "output_type": "stream",
       "stream": "stdout",
       "text": [
        "[448794, 22276, 11494, 8743, 1161, 4778, 0, 0, 0, 2754]\n"
       ]
      }
     ],
     "prompt_number": 4
    },
    {
     "cell_type": "code",
     "collapsed": false,
     "input": [
      "fig = plt.pyplot.figure()\n",
      "ax = fig.add_subplot(111)\n",
      "ax.hist(count, bins = 9, range = (minCount,maxCount))\n",
      "plt.pyplot.title('Tweet each user posted: ' + today)\n",
      "plt.pyplot.xlabel('Tweets')\n",
      "plt.pyplot.ylabel('Users')\n",
      "plt.pyplot.show()\n",
      "print(\"Tweet each user posted\")\n"
     ],
     "language": "python",
     "metadata": {},
     "outputs": [
      {
       "metadata": {},
       "output_type": "display_data",
       "png": "[encoded data removed]",
       "text": [
        "<matplotlib.figure.Figure at 0x6f82780>"
       ]
      },
      {
       "output_type": "stream",
       "stream": "stdout",
       "text": [
        "Tweet each user posted\n"
       ]
      }
     ],
     "prompt_number": 5
    },
    {
     "cell_type": "markdown",
     "metadata": {},
     "source": [
      "Meeste twitteraars hebben in de periode van nov 2014 tot maart 2015 tussen de 1 a 250 tweets gepost.\n",
      "\n",
      "Er zijn ook enkele gebruikers met wel 3000 tweets, maar dit is maar zeer beperkt."
     ]
    },
    {
     "cell_type": "heading",
     "level": 2,
     "metadata": {},
     "source": [
      "Waar komen de meeste tweets vandaan, van enkel die veel posten of de grote groep die relatief weinig post?"
     ]
    },
    {
     "cell_type": "code",
     "collapsed": false,
     "input": [
      "x=linspace(1,len(rangeC),len(rangeC))\n",
      "\n",
      "nlLine = plt.pyplot.plot(x, rangeC, 'r-', label='Aandeel tweets')\n",
      "plt.pyplot.ylabel('sum tweet user group: ' + today)\n",
      "ax.set_yscale(\"log\", nonposy='clip')\n",
      "plt.pyplot.xlabel('amount tweet')\n",
      "plt.pyplot.title('Tweets % each twitter group')\n",
      "plt.pyplot.legend()\n",
      "plt.pyplot.show()"
     ],
     "language": "python",
     "metadata": {},
     "outputs": [
      {
       "metadata": {},
       "output_type": "display_data",
       "png": "[encoded data removed]",
       "text": [
        "<matplotlib.figure.Figure at 0x787e828>"
       ]
      }
     ],
     "prompt_number": 6
    },
    {
     "cell_type": "markdown",
     "metadata": {},
     "source": [
      "Hieruit blijkt dat de gebruikt tot 100 tweets verweg de grootste aandeel hebben"
     ]
    },
    {
     "cell_type": "heading",
     "level": 2,
     "metadata": {},
     "source": [
      "Hoe is de groep met minder dan 100 tweets verdeeld?"
     ]
    },
    {
     "cell_type": "code",
     "collapsed": false,
     "input": [
      "fig = plt.pyplot.figure()\n",
      "ax = fig.add_subplot(111)\n",
      "ax.hist(count, bins = 9, range = (minCount,100))\n",
      "plt.pyplot.yscale('log')\n",
      "plt.pyplot.title('Tweet each user posted: ' + today)\n",
      "plt.pyplot.xlabel('Tweets')\n",
      "plt.pyplot.ylabel('Users')\n",
      "plt.pyplot.show()\n",
      "print(\"Tweet each user posted\")"
     ],
     "language": "python",
     "metadata": {},
     "outputs": [
      {
       "metadata": {},
       "output_type": "display_data",
       "png": "[encoded data removed]",
       "text": [
        "<matplotlib.figure.Figure at 0x77c6a90>"
       ]
      },
      {
       "output_type": "stream",
       "stream": "stdout",
       "text": [
        "Tweet each user posted\n"
       ]
      }
     ],
     "prompt_number": 7
    },
    {
     "cell_type": "markdown",
     "metadata": {},
     "source": [
      "De data lijkt met een paar uitschieters er schoon uit te zien qua spammers. Dit komt mede omdat we nog maar een aantal nummer checken en nog niet de gehele #NP er bij zit. Toch gaan we er een check op gooien dat per twitter user er 10 berichten per dag gepost mogen worden om spam tegen te gaan. "
     ]
    }
   ],
   "metadata": {}
  }
 ]
}