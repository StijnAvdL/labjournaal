{
 "metadata": {
  "name": "",
  "signature": "sha256:bfcf67992ca3b4d60b0d55a4d98e27dc162ef98bda8d5a28ecc18152d63670e7"
 },
 "nbformat": 3,
 "nbformat_minor": 0,
 "worksheets": [
  {
   "cells": [
    {
     "cell_type": "heading",
     "level": 1,
     "metadata": {},
     "source": [
      "Get location by friends"
     ]
    },
    {
     "cell_type": "markdown",
     "metadata": {},
     "source": [
      "Datum: 16-04-2015"
     ]
    },
    {
     "cell_type": "markdown",
     "metadata": {},
     "source": [
      "Url:"
     ]
    },
    {
     "cell_type": "markdown",
     "metadata": {},
     "source": [
      "Deze labjournaal is een subjournaal van URL"
     ]
    },
    {
     "cell_type": "code",
     "collapsed": false,
     "input": [
      "import json\n",
      "from pprint import pprint\n",
      "import pymongo\n",
      "import tweepy\n",
      "import datetime\n",
      "from collections import Counter\n",
      "import re\n",
      "from geopy.geocoders import Nominatim\n",
      "from pygeocoder import Geocoder\n",
      "from pygeolib import GeocoderError\n",
      "from time import sleep"
     ],
     "language": "python",
     "metadata": {},
     "outputs": [],
     "prompt_number": 1
    },
    {
     "cell_type": "code",
     "collapsed": false,
     "input": [
      "# Connection to Mongo DB\n",
      "conn = pymongo.MongoClient('localhost', 27017)\n",
      "db = conn['mozart']\n",
      "\n",
      "print('connected to database')"
     ],
     "language": "python",
     "metadata": {},
     "outputs": [
      {
       "output_type": "stream",
       "stream": "stdout",
       "text": [
        "connected to database\n"
       ]
      }
     ],
     "prompt_number": 2
    },
    {
     "cell_type": "code",
     "collapsed": false,
     "input": [
      "tweetsRecords = db.testNp.aggregate(\n",
      "    {\n",
      "        \"$project\": {\n",
      "            \"_id\": 0,\n",
      "            \"userId\": \"$tweet.user.id\",\n",
      "            \"tweetId\": \"$tweet.id_str\",\n",
      "            \"geo\": \"$tweet.geo\",\n",
      "            \"lang_user\": \"$tweet.user.lang\",\n",
      "            \"time_zone\": \"$tweet.user.time_zone\",\n",
      "            \"utc_offset\": \"$tweet.user.utc_offset\",\n",
      "            \"location\": \"$tweet.user.location\",\n",
      "            \"place\": \"$tweet.place\",\n",
      "            \"coordinates\": \"$tweet.coordinates\",\n",
      "            \"tweet\": \"$tweet.text\",\n",
      "            \"friends\": \"$tweet.user.friends_count\",\n",
      "            \"followers\": \"$tweet.user.followers_count\"\n",
      "        }\n",
      "    }\n",
      ")\n",
      "\n",
      "\n",
      "tweets = list(tweetsRecords['result'])\n",
      "print(\"get records\")"
     ],
     "language": "python",
     "metadata": {},
     "outputs": [
      {
       "output_type": "stream",
       "stream": "stdout",
       "text": [
        "get records\n"
       ]
      }
     ],
     "prompt_number": 3
    },
    {
     "cell_type": "code",
     "collapsed": false,
     "input": [
      "with open('json/npTestTweets2.json') as data_file:    \n",
      "    data = json.load(data_file)\n",
      "\n",
      "print('Load test json')"
     ],
     "language": "python",
     "metadata": {},
     "outputs": [
      {
       "output_type": "stream",
       "stream": "stdout",
       "text": [
        "Load test json\n"
       ]
      }
     ],
     "prompt_number": 4
    },
    {
     "cell_type": "code",
     "collapsed": false,
     "input": [
      "consumer_key=\"FjlMjJXaZuDCN7nT2M7Y7WOX0\"\n",
      "consumer_secret=\"Lvcqw5mAuezz5EQsLhrTQijqURAxNfwv8qFblBDjyCywlz108K\"\n",
      "access_token=\"73969502-jKZC5Cq8q2CJ7bRR3uIBNKY2YaiGPv8CXyBnpdySJ\"\n",
      "access_token_secret=\"bVBYB03mPyR5sbI7vnjwDXUvm1aCMN8HXLesoU3xZOwic\"\n",
      "\n",
      "auth = tweepy.OAuthHandler(consumer_key, consumer_secret)\n",
      "auth.secure = True\n",
      "auth.set_access_token(access_token, access_token_secret)\n",
      "\n",
      "api = tweepy.API(auth)\n",
      "\n",
      "# If the authentication was successful, you should\n",
      "# see the name of the account print out\n",
      "print(api.me().name)"
     ],
     "language": "python",
     "metadata": {},
     "outputs": [
      {
       "output_type": "stream",
       "stream": "stdout",
       "text": [
        "Andres Lamont\n"
       ]
      }
     ],
     "prompt_number": 5
    },
    {
     "cell_type": "heading",
     "level": 2,
     "metadata": {},
     "source": [
      "Insert Friends"
     ]
    },
    {
     "cell_type": "code",
     "collapsed": false,
     "input": [
      "def insertTwitterUserFriends(userId, friendsId):\n",
      "    if db.twitterUserFriends.find({'id': userId}).count() == 0:\n",
      "        db.twitterUserFriends.insert({'id': userId, 'friends': friendsId})\n",
      "    else:\n",
      "        db.twitterUserFriends.update({'id': userId}, {'$push': {'friends': { '$each': friendsId}}})"
     ],
     "language": "python",
     "metadata": {},
     "outputs": [],
     "prompt_number": 6
    },
    {
     "cell_type": "code",
     "collapsed": false,
     "input": [
      "def insertTwitterUser(user):\n",
      "    if 'status' not in user:\n",
      "        db.twitterUser.insert({\n",
      "            'id': user['id'],\n",
      "            'time_zone': user['time_zone'],\n",
      "            'location': user['location'],\n",
      "            'listed_count': user['listed_count'],\n",
      "            'favourites_count': user['favourites_count'],\n",
      "            'screen_name': user['screen_name'],\n",
      "            'lang': user['lang'],\n",
      "            'statuses_count': user['statuses_count'],\n",
      "            'entities': user['entities'],\n",
      "            'friends_count': user['friends_count'],\n",
      "            'name': user['name'],\n",
      "            'description': user['description'],\n",
      "            'followers_count': user['followers_count'],\n",
      "            'created_at': user['created_at'],\n",
      "            'url': user['url'],\n",
      "            'time_retrieved': datetime.datetime.now()\n",
      "        })\n",
      "    else:\n",
      "        db.twitterUser.insert({\n",
      "            'id': user['id'],\n",
      "            'time_zone': user['time_zone'],\n",
      "            'location': user['location'],\n",
      "            'status_coordinates': user['status']['coordinates'],\n",
      "            'status_place': user['status']['place'],\n",
      "            'status_entities': user['status']['entities'],\n",
      "            'listed_count': user['listed_count'],\n",
      "            'favourites_count': user['favourites_count'],\n",
      "            'screen_name': user['screen_name'],\n",
      "            'lang': user['lang'],\n",
      "            'statuses_count': user['statuses_count'],\n",
      "            'entities': user['entities'],\n",
      "            'friends_count': user['friends_count'],\n",
      "            'name': user['name'],\n",
      "            'description': user['description'],\n",
      "            'followers_count': user['followers_count'],\n",
      "            'created_at': user['created_at'],\n",
      "            'url': user['url'],\n",
      "            'time_retrieved': datetime.datetime.now()\n",
      "        })"
     ],
     "language": "python",
     "metadata": {},
     "outputs": [],
     "prompt_number": 7
    },
    {
     "cell_type": "code",
     "collapsed": false,
     "input": [
      "def insertTwitterFriends(userId, friends):\n",
      "    i = 0\n",
      "    friendsIdString = []\n",
      "    friends = []\n",
      "    twitterFriendIds = []\n",
      "    \n",
      "    # getting friendsId from Twitter API and add new Twitter user in db\n",
      "    if db.twitterUserFriends.find({'id': userId}).count() == 0: \n",
      "        try:\n",
      "            if friends == True:\n",
      "                twitterFriendIds = api.friends_ids(userId)\n",
      "            else:\n",
      "                twitterFriendIds = api.followers_ids(userId)\n",
      "        except Exception:\n",
      "            print('user doesnt exsist or to many request')\n",
      "            twitterFriendIds = []\n",
      "        for friendId in twitterFriendIds:\n",
      "            if i < 400 and db.twitterUser.find({'id': friendId}).count() == 0:\n",
      "                i += 1\n",
      "                friendsIdString.append(friendId)\n",
      "                if i % 100 == 0 and i <= 400:\n",
      "                    friends.extend(api.lookup_users(friendsIdString))\n",
      "                    insertTwitterUserFriends(userId, friendsIdString)\n",
      "                    friendsIdString = []\n",
      "\n",
      "        if i % 100 != 0:\n",
      "            friends.extend(api.lookup_users(friendsIdString))\n",
      "            insertTwitterUserFriends(userId, friendsIdString)\n",
      "        # insert new twitter users\n",
      "        for friend in friends:\n",
      "            insertTwitterUser(friend._json)\n",
      "    print('done insert friends:', userId)"
     ],
     "language": "python",
     "metadata": {},
     "outputs": [],
     "prompt_number": 8
    },
    {
     "cell_type": "code",
     "collapsed": false,
     "input": [
      "insertTwitterFriends(1541125507, True)"
     ],
     "language": "python",
     "metadata": {},
     "outputs": [
      {
       "output_type": "stream",
       "stream": "stdout",
       "text": [
        "done insert friends: 1541125507\n"
       ]
      }
     ],
     "prompt_number": 9
    },
    {
     "cell_type": "heading",
     "level": 2,
     "metadata": {},
     "source": [
      "Get location Friends"
     ]
    },
    {
     "cell_type": "code",
     "collapsed": false,
     "input": [
      "def getTwitterUserFriendsLocation(userId):\n",
      "    friends = []\n",
      "    # get friendsIds\n",
      "    row = db.twitterUserFriends.aggregate([\n",
      "        { '$match': {'id': userId } },\n",
      "        { '$project': {'_id': 0, 'friends': '$friends'} }\n",
      "    ])\n",
      "    if len(row['result']) > 0:\n",
      "        friendsIds = row['result'][0]['friends']\n",
      "\n",
      "        for friendsId in friendsIds:\n",
      "            # get friendsLocation\n",
      "            f = db.twitterUser.aggregate([\n",
      "                { '$match': {'id': friendsId } },\n",
      "                { '$project': {'_id': 0, 'location': '$location'} }\n",
      "            ])\n",
      "            # check if user exsist\n",
      "            if len(f['result']) > 0:\n",
      "                friends.append(f['result'][0])\n",
      "    return friends"
     ],
     "language": "python",
     "metadata": {},
     "outputs": [],
     "prompt_number": 10
    },
    {
     "cell_type": "code",
     "collapsed": false,
     "input": [
      "locationFriends = getTwitterUserFriendsLocation(1541125507)"
     ],
     "language": "python",
     "metadata": {},
     "outputs": [],
     "prompt_number": 11
    },
    {
     "cell_type": "heading",
     "level": 3,
     "metadata": {},
     "source": [
      "Estimate location"
     ]
    },
    {
     "cell_type": "code",
     "collapsed": false,
     "input": [
      "def countLocationWords(locactionFriends):\n",
      "    words = []\n",
      "    for locationFriend in locactionFriends:\n",
      "        if isinstance(locationFriend, str):\n",
      "            locationFriend = re.sub(r'\\W+', ' ', locationFriend.lower())\n",
      "            words.extend(locationFriend.split())\n",
      "    wordsCount = Counter(words)\n",
      "\n",
      "    # print % of 3 most use words\n",
      "    for word in wordsCount.most_common(5):\n",
      "        print(word[0], ':', round((word[1]/len(locactionFriends))*100,2),'%')\n",
      "    return wordsCount"
     ],
     "language": "python",
     "metadata": {},
     "outputs": [],
     "prompt_number": 12
    },
    {
     "cell_type": "code",
     "collapsed": false,
     "input": [
      "locationArray = []\n",
      "for locationFriend in locationFriends:\n",
      "    locationArray.append(locationFriend['location'])\n",
      "countLocationWords(locationArray)\n",
      "print('done')"
     ],
     "language": "python",
     "metadata": {},
     "outputs": [
      {
       "output_type": "stream",
       "stream": "stdout",
       "text": [
        "ca : 5.25 %\n",
        "new : 5.0 %\n",
        "york : 3.75 %\n",
        "usa : 3.5 %\n",
        "canada : 3.5 %\n",
        "done\n"
       ]
      }
     ],
     "prompt_number": 13
    },
    {
     "cell_type": "heading",
     "level": 2,
     "metadata": {},
     "source": [
      "Test on group of users"
     ]
    },
    {
     "cell_type": "code",
     "collapsed": false,
     "input": [
      "twitterUsers = [[5, 2540752582, True],\n",
      "[7, 1541125507, True],\n",
      "[15, 403794270, True],\n",
      "[16, 2685291049, True],\n",
      "[18, 88568934, True],\n",
      "[19, 65086276, True],\n",
      "[21, 1663193906, True],\n",
      "[41, 25368824, True],\n",
      "[42, 474184091, True],\n",
      "[43, 274579593, True],\n",
      "[45, 888673332, True],\n",
      "[46, 2591935236, True],\n",
      "[48, 2653651861, True],\n",
      "[49, 406474436, True]]\n",
      "for user in twitterUsers:\n",
      "    insertTwitterFriends(user[1], user[2])"
     ],
     "language": "python",
     "metadata": {},
     "outputs": [
      {
       "output_type": "stream",
       "stream": "stdout",
       "text": [
        "done insert friends: 2540752582\n",
        "done insert friends: 1541125507\n",
        "done insert friends: 403794270\n",
        "done insert friends: 2685291049\n",
        "done insert friends: 88568934\n",
        "done insert friends: 65086276\n",
        "done insert friends: 1663193906\n",
        "done insert friends: 25368824\n",
        "done insert friends: 474184091\n",
        "done insert friends: 274579593\n",
        "done insert friends: 888673332\n",
        "done insert friends: 2591935236\n",
        "done insert friends: 2653651861\n",
        "done insert friends: 406474436\n"
       ]
      }
     ],
     "prompt_number": 28
    },
    {
     "cell_type": "heading",
     "level": 2,
     "metadata": {},
     "source": [
      "Estamte location"
     ]
    },
    {
     "cell_type": "code",
     "collapsed": false,
     "input": [
      "def getLocationByFriendsLocations(friendLocations, indexId, amountSearchWords, pipeline):\n",
      "    locationString = []\n",
      "    (lat, lon) = ('null', 'null')\n",
      "    if len(friendLocations) > amountSearchWords:       \n",
      "        while amountSearchWords >= 2 and lat == 'null':\n",
      "            locationString = getSearchLocation(friendLocations, amountSearchWords)\n",
      "            print(locationString)\n",
      "            try:\n",
      "                results  = Geocoder.geocode(locationString)\n",
      "                sleep(0.2)\n",
      "                (lat, lon) = results[0].coordinates\n",
      "            except GeocoderError:\n",
      "                (lat, lon) = ('null', 'null')\n",
      "                amountSearchWords -= 1\n",
      "        \n",
      "        if lon != 'null' and data[indexId]['lon'] != None:\n",
      "            if lon >= (data[indexId]['lon'] - 2) and lon <= (data[indexId]['lon'] + 2) and lat >= (data[indexId]['lat'] - 2) and lon <= (data[indexId]['lat'] + 2):\n",
      "                print(indexId,'SUCCESED:', data[indexId]['lon'], data[indexId]['lat'], '<<TEST - FRIENDS>>:',lon,lat)\n",
      "            else:\n",
      "                print(indexId,'FAILED:', data[indexId]['lon'], data[indexId]['lat'], '<<TEST - FRIENDS>>',lon,lat)\n",
      "        else:\n",
      "            print(indexId,'NONE:', data[indexId]['lon'], data[indexId]['lat'], '<<TEST - FRIENDS>>:',lon,lat)\n",
      "    else:\n",
      "        print(indexId,'No friends :O')\n",
      "    if pipeline == True:\n",
      "        return (lon,lat)"
     ],
     "language": "python",
     "metadata": {},
     "outputs": [],
     "prompt_number": 15
    },
    {
     "cell_type": "code",
     "collapsed": false,
     "input": [
      "def getSearchLocation(friendLocations, amount):\n",
      "    searchString = ''\n",
      "    locArray = []\n",
      "    i = 0\n",
      "    while i < amount:\n",
      "        locArray.append(friendLocations.most_common(amount)[i][0])\n",
      "        i += 1\n",
      "    locationString = ' '.join(locArray)\n",
      "    return locationString"
     ],
     "language": "python",
     "metadata": {},
     "outputs": [],
     "prompt_number": 16
    },
    {
     "cell_type": "code",
     "collapsed": false,
     "input": [
      "for twitterUser in twitterUsers:\n",
      "    locationArray = []\n",
      "    locationFriends = getTwitterUserFriendsLocation(twitterUser[1])\n",
      "    for locationFriend in locationFriends:\n",
      "        locationArray.append(locationFriend['location'])\n",
      "    getLocationByFriendsLocations(countLocationWords(locationArray),twitterUser[0], 3, False)\n",
      "    print('--------------------')"
     ],
     "language": "python",
     "metadata": {},
     "outputs": [
      {
       "output_type": "stream",
       "stream": "stdout",
       "text": [
        "\u0431\u0435\u043b\u0430\u0440\u0443\u0441\u044c : 5.0 %\n",
        "ukraine : 5.0 %\n",
        "only : 2.5 %\n",
        "kaitea : 2.5 %\n",
        "\u0432\u0441\u0435 : 2.5 %\n",
        "\u0431\u0435\u043b\u0430\u0440\u0443\u0441\u044c ukraine only\n",
        "\u0431\u0435\u043b\u0430\u0440\u0443\u0441\u044c ukraine"
       ]
      },
      {
       "output_type": "stream",
       "stream": "stdout",
       "text": [
        "\n",
        "5"
       ]
      },
      {
       "output_type": "stream",
       "stream": "stdout",
       "text": [
        " SUCCESED: 30.5037868 50.4467311 <<TEST - FRIENDS>>: 30.5037868 50.4467311\n",
        "--------------------\n",
        "ca"
       ]
      },
      {
       "output_type": "stream",
       "stream": "stdout",
       "text": [
        " : 5.25 %\n",
        "new : 5.0 %\n",
        "york : 3.75 %\n",
        "usa : 3.5 %\n",
        "canada : 3.5 %\n",
        "ca new york\n",
        "7"
       ]
      },
      {
       "output_type": "stream",
       "stream": "stdout",
       "text": [
        " SUCCESED: -74.21793260000001 43.2994285 <<TEST - FRIENDS>>: -74.21793260000001 43.2994285\n",
        "--------------------\n",
        "houston"
       ]
      },
      {
       "output_type": "stream",
       "stream": "stdout",
       "text": [
        " : 12.0 %\n",
        "tx : 8.5 %\n",
        "in : 5.75 %\n",
        "the : 4.75 %\n",
        "atl : 4.5 %\n",
        "houston tx in\n",
        "15"
       ]
      },
      {
       "output_type": "stream",
       "stream": "stdout",
       "text": [
        " SUCCESED: -95.501984 29.715444 <<TEST - FRIENDS>>: -95.3698028 29.7604267\n",
        "--------------------\n",
        "\u043c\u043e\u0441\u043a\u0432\u0430"
       ]
      },
      {
       "output_type": "stream",
       "stream": "stdout",
       "text": [
        " : 4.0 %\n",
        "russia : 3.0 %\n",
        "ukraine : 2.75 %\n",
        "\u043c\u0430\u043d\u0441\u0438\u0439\u0441\u043a : 2.25 %\n",
        "\u0445\u0430\u043d\u0442\u044b : 2.25 %\n",
        "\u043c\u043e\u0441\u043a\u0432\u0430 russia ukraine\n",
        "16"
       ]
      },
      {
       "output_type": "stream",
       "stream": "stdout",
       "text": [
        " SUCCESED: 37.6173 55.755826 <<TEST - FRIENDS>>: 37.566 55.75300000000001\n",
        "--------------------\n",
        "jamaica"
       ]
      },
      {
       "output_type": "stream",
       "stream": "stdout",
       "text": [
        " : 15.25 %\n",
        "kingston : 5.5 %\n",
        "london : 4.25 %\n",
        "ca : 3.25 %\n",
        "usa : 3.25 %\n",
        "jamaica kingston london\n",
        "18"
       ]
      },
      {
       "output_type": "stream",
       "stream": "stdout",
       "text": [
        " FAILED: -75.524368 39.158168 <<TEST - FRIENDS>> -76.8686785 17.9812473\n",
        "--------------------\n",
        "new"
       ]
      },
      {
       "output_type": "stream",
       "stream": "stdout",
       "text": [
        " : 6.63 %\n",
        "jersey : 6.08 %\n",
        "nj : 3.87 %\n",
        "uk : 3.87 %\n",
        "lawrenceville : 2.76 %\n",
        "new jersey nj\n",
        "19"
       ]
      },
      {
       "output_type": "stream",
       "stream": "stdout",
       "text": [
        " SUCCESED: -74.741221 40.280965 <<TEST - FRIENDS>>: -74.4056612 40.0583238\n",
        "--------------------\n",
        "viseu"
       ]
      },
      {
       "output_type": "stream",
       "stream": "stdout",
       "text": [
        " : 40.0 %\n",
        "portugal : 5.71 %\n",
        "visa : 3.81 %\n",
        "city : 1.9 %\n",
        "coimbra : 1.9 %\n",
        "viseu portugal visa\n",
        "21"
       ]
      },
      {
       "output_type": "stream",
       "stream": "stdout",
       "text": [
        " SUCCESED: -7.9124712 40.6565861 <<TEST - FRIENDS>>: -7.9124712 40.6565861\n",
        "--------------------\n",
        "22 No friends :O\n",
        "--------------------\n",
        "london"
       ]
      },
      {
       "output_type": "stream",
       "stream": "stdout",
       "text": [
        " : 5.25 %\n",
        "uk : 3.5 %\n",
        "worldwide : 3.25 %\n",
        "ny : 3.0 %\n",
        "ca : 2.75 %\n",
        "london uk worldwide\n",
        "46"
       ]
      },
      {
       "output_type": "stream",
       "stream": "stdout",
       "text": [
        " FAILED: -75.165222 39.952584 <<TEST - FRIENDS>> -0.0987733 51.4257374\n",
        "--------------------\n",
        "portugal"
       ]
      },
      {
       "output_type": "stream",
       "stream": "stdout",
       "text": [
        " : 4.75 %\n",
        "brasil : 3.5 %\n",
        "lisboa : 2.0 %\n",
        "com : 2.0 %\n",
        "brazil : 1.75 %\n",
        "portugal brasil lisboa\n",
        "48"
       ]
      },
      {
       "output_type": "stream",
       "stream": "stdout",
       "text": [
        " SUCCESED: -8.224454 39.399872 <<TEST - FRIENDS>>: -9.2214843 38.8077435\n",
        "--------------------\n",
        "barcelona"
       ]
      },
      {
       "output_type": "stream",
       "stream": "stdout",
       "text": [
        " : 8.04 %\n",
        "de : 5.8 %\n",
        "en : 3.12 %\n",
        "california : 3.12 %\n",
        "y : 3.12 %\n",
        "barcelona de en\n",
        "49"
       ]
      },
      {
       "output_type": "stream",
       "stream": "stdout",
       "text": [
        " SUCCESED: 2.173403 41.385064 <<TEST - FRIENDS>>: 2.1734035 41.3850639\n",
        "--------------------\n"
       ]
      }
     ],
     "prompt_number": 17
    },
    {
     "cell_type": "markdown",
     "metadata": {},
     "source": [
      "Veel van deze locatie vind ik beter dan mij eigen geschaten waarden en ga ze daarom ook vervangen"
     ]
    },
    {
     "cell_type": "heading",
     "level": 1,
     "metadata": {},
     "source": [
      "FINAL PIPELINE"
     ]
    },
    {
     "cell_type": "code",
     "collapsed": false,
     "input": [
      "def getSuccesRated(tweets):\n",
      "    succes = 0\n",
      "    for tweet in tweets:\n",
      "        if tweet['lon'] != 'null':\n",
      "            succes += 1\n",
      "    print('\\n succes:', round((succes/len(tweets))*100,2),'%')"
     ],
     "language": "python",
     "metadata": {},
     "outputs": [],
     "prompt_number": 18
    },
    {
     "cell_type": "heading",
     "level": 2,
     "metadata": {},
     "source": [
      "0: Prepare pipeline"
     ]
    },
    {
     "cell_type": "code",
     "collapsed": false,
     "input": [
      "twitterUsers2 = [[1, 128875157, True],\n",
      "[6, 968459389, True],\n",
      "[23, 2354960106, True],\n",
      "[27, 281699791, True],\n",
      "[28, 2523814903, True],\n",
      "[31, 361351971, True],\n",
      "[32, 2706452066, True],\n",
      "[33, 1028175007, True],\n",
      "[34, 2917032234, True],\n",
      "[38, 2397735163, True],\n",
      "[39, 2873637485, True],\n",
      "[40, 353937547, True]]\n",
      "for user in twitterUsers2:\n",
      "    insertTwitterFriends(user[1], user[2])"
     ],
     "language": "python",
     "metadata": {},
     "outputs": [
      {
       "output_type": "stream",
       "stream": "stdout",
       "text": [
        "done insert friends: 128875157\n",
        "done insert friends: 968459389\n",
        "done insert friends: 2354960106\n",
        "done insert friends: 281699791\n",
        "done insert friends: 2523814903\n",
        "done insert friends: 361351971\n",
        "done insert friends: 2706452066\n",
        "done insert friends: 1028175007\n",
        "done insert friends: 2917032234\n",
        "done insert friends: 2397735163\n",
        "done insert friends: 2873637485\n",
        "done insert friends: 353937547\n"
       ]
      }
     ],
     "prompt_number": 29
    },
    {
     "cell_type": "heading",
     "level": 2,
     "metadata": {},
     "source": [
      "1: Coordinates"
     ]
    },
    {
     "cell_type": "code",
     "collapsed": false,
     "input": [
      "def getLocationByCoordinates(tweet):\n",
      "    if tweet['coordinates'] != None:\n",
      "        geoPoints = (tweet['coordinates']['coordinates'])\n",
      "        i = 0\n",
      "        for geoPoint in geoPoints:\n",
      "            if i == 0:\n",
      "                i = i + 1\n",
      "                tweet['lon'] = geoPoint\n",
      "            else:\n",
      "                tweet['lat'] = geoPoint"
     ],
     "language": "python",
     "metadata": {},
     "outputs": [],
     "prompt_number": 30
    },
    {
     "cell_type": "code",
     "collapsed": false,
     "input": [
      "tweetsWithGeo = tweets\n",
      "for tweet in tweetsWithGeo:\n",
      "    tweet['lon'] = 'null'\n",
      "    tweet['lat'] = 'null'\n",
      "    getLocationByCoordinates(tweet)\n",
      "\n",
      "getSuccesRated(tweetsWithGeo)"
     ],
     "language": "python",
     "metadata": {},
     "outputs": [
      {
       "output_type": "stream",
       "stream": "stdout",
       "text": [
        "\n",
        " succes: 2.0 %\n"
       ]
      }
     ],
     "prompt_number": 20
    },
    {
     "cell_type": "heading",
     "level": 2,
     "metadata": {},
     "source": [
      "2: Place"
     ]
    },
    {
     "cell_type": "code",
     "collapsed": false,
     "input": [
      "def getLocationByPlace(tweet):\n",
      "    if tweet['place'] != None and tweet['lon'] == 'null':\n",
      "        geoPoints = (tweet['place']['bounding_box']['coordinates'][0])\n",
      "        i = 0\n",
      "        lon = 0\n",
      "        lat = 0\n",
      "        for geoPoint in geoPoints:\n",
      "            i += 1\n",
      "            j = 0\n",
      "            for lonLat in geoPoint:\n",
      "                if j == 0:\n",
      "                    j += 1\n",
      "                    lon += lonLat\n",
      "                else:\n",
      "                    lat += lonLat\n",
      "        tweet['lon'] = lon/i\n",
      "        tweet['lat'] = lat/i"
     ],
     "language": "python",
     "metadata": {},
     "outputs": [],
     "prompt_number": 21
    },
    {
     "cell_type": "code",
     "collapsed": false,
     "input": [
      "for tweet in tweetsWithGeo:\n",
      "    getLocationByPlace(tweet)\n",
      "getSuccesRated(tweetsWithGeo)"
     ],
     "language": "python",
     "metadata": {},
     "outputs": [
      {
       "output_type": "stream",
       "stream": "stdout",
       "text": [
        "\n",
        " succes: 2.0 %\n"
       ]
      }
     ],
     "prompt_number": 22
    },
    {
     "cell_type": "heading",
     "level": 2,
     "metadata": {},
     "source": [
      "3: Location & Time Zone"
     ]
    },
    {
     "cell_type": "code",
     "collapsed": false,
     "input": [
      "def getLocation(field, tweets):\n",
      "    locations = []\n",
      "    for tweet in tweets:\n",
      "        (lat,lon) = ('null','null')\n",
      "        if tweet['lon'] == 'null':    \n",
      "            if tweet[field] != None or tweet[field] != \"\":\n",
      "                if field == 'time_zone':\n",
      "                    if tweet[field] == 'Pacific Time (US & Canada)':\n",
      "                        tweet[field] = 'San Franscisco'\n",
      "                    elif tweet[field] == 'Central Time (US & Canada)':\n",
      "                        tweet[field] = 'Dallas'\n",
      "                    elif tweet[field] == 'Eastern Time (US & Canada)':\n",
      "                        tweet[field] = 'New York'\n",
      "                    elif tweet[field] == 'Mountain  Time (US & Canada)':\n",
      "                        tweet[field] = 'Billings'\n",
      "                try:\n",
      "                    results  = Geocoder.geocode(tweet[field])\n",
      "                    sleep(0.2)\n",
      "                    (lat, lon) = results[0].coordinates\n",
      "                except GeocoderError:\n",
      "                    (lat, lon) = ('null', 'null')\n",
      "        locations.append({'tweetId':tweet['tweetId'], field: tweet[field], 'lon': lon, 'lat': lat})\n",
      "    return locations"
     ],
     "language": "python",
     "metadata": {},
     "outputs": [],
     "prompt_number": 23
    },
    {
     "cell_type": "code",
     "collapsed": false,
     "input": [
      "def checkLocationByTimeZone(LocationArray, TimeZoneArray, pipelineTweets):\n",
      "    i = 0\n",
      "    succes = 0\n",
      "    for location in LocationArray:\n",
      "        # pipeline\n",
      "        if pipelineTweets != 'null' and pipelineTweets[i]['lon'] != 'null':\n",
      "            succes = succes + 1\n",
      "        elif rowsTimeZone[i]['lon'] != 'null' and location['lon'] != 'null':\n",
      "            timeZoneLon = float(TimeZoneArray[i]['lon'])\n",
      "            locationLon = float(location['lon'])      \n",
      "            if locationLon <= (timeZoneLon + 9) and locationLon >= (timeZoneLon - 9):\n",
      "                if pipelineTweets == 'null':\n",
      "                    print(data[i]['index'],'V',location['location'])\n",
      "                succes = succes + 1\n",
      "                # pipeline\n",
      "                if pipelineTweets != 'null':\n",
      "                    pipelineTweets[i]['lon'] = location['lon']\n",
      "                    pipelineTweets[i]['lat'] = location['lat']\n",
      "            else:\n",
      "                if pipelineTweets == 'null':\n",
      "                    print(data[i]['index'],'X',location['location'])\n",
      "        else:\n",
      "            if pipelineTweets == 'null':\n",
      "                print(data[i]['index'],'-',location['location'])\n",
      "        i = i + 1\n",
      "    if pipelineTweets == 'null':\n",
      "        print('\\n succes:', round((succes/len(data))*100,2),'%')"
     ],
     "language": "python",
     "metadata": {},
     "outputs": [],
     "prompt_number": 24
    },
    {
     "cell_type": "code",
     "collapsed": false,
     "input": [
      "# create stuff needed for location en time zone check\n",
      "rowsLocation = getLocation('location',tweetsWithGeo)\n",
      "rowsTimeZone = getLocation('time_zone',tweetsWithGeo)"
     ],
     "language": "python",
     "metadata": {},
     "outputs": [],
     "prompt_number": 25
    },
    {
     "cell_type": "code",
     "collapsed": false,
     "input": [
      "checkLocationByTimeZone(rowsLocation,rowsTimeZone, tweetsWithGeo)\n",
      "getSuccesRated(tweetsWithGeo)"
     ],
     "language": "python",
     "metadata": {},
     "outputs": [
      {
       "output_type": "stream",
       "stream": "stdout",
       "text": [
        "\n",
        " succes: 42.0 %\n"
       ]
      }
     ],
     "prompt_number": 26
    },
    {
     "cell_type": "heading",
     "level": 2,
     "metadata": {},
     "source": [
      "4: Twitter users friends location"
     ]
    },
    {
     "cell_type": "markdown",
     "metadata": {},
     "source": [
      "IMPORT: In deze Pipeline zijn alle friends van de overgebleven locaties al in de database verwerk"
     ]
    },
    {
     "cell_type": "code",
     "collapsed": false,
     "input": [
      "for tweet in tweetsWithGeo:\n",
      "    if tweet['lon'] == 'null':\n",
      "        locationArray = []\n",
      "        locationFriends = getTwitterUserFriendsLocation(tweet['userId'])\n",
      "        for locationFriend in locationFriends:\n",
      "            locationArray.append(locationFriend['location'])\n",
      "        for t in data:\n",
      "            if t['tweetId'] == tweet['tweetId']:\n",
      "                geoLocation = getLocationByFriendsLocations(countLocationWords(locationArray),t['index'], 3, True)\n",
      "                tweet['lon'] = geoLocation[0]\n",
      "                tweet['lat'] = geoLocation[1]\n",
      "        print('--------------------')"
     ],
     "language": "python",
     "metadata": {},
     "outputs": [
      {
       "output_type": "stream",
       "stream": "stdout",
       "text": [
        "malaysia : 17.46 %\n",
        "pahang : 4.76 %\n",
        "pekan : 3.97 %\n",
        "shah : 3.97 %\n",
        "alam : 3.97 %\n",
        "malaysia pahang pekan\n",
        "1"
       ]
      },
      {
       "output_type": "stream",
       "stream": "stdout",
       "text": [
        " FAILED: 103.0852249 3.056192 <<TEST - FRIENDS>> 103.3895446 3.492095\n",
        "--------------------\n",
        "\u0431\u0435\u043b\u0430\u0440\u0443\u0441\u044c"
       ]
      },
      {
       "output_type": "stream",
       "stream": "stdout",
       "text": [
        " : 5.0 %\n",
        "ukraine : 5.0 %\n",
        "only : 2.5 %\n",
        "kaitea : 2.5 %\n",
        "\u0432\u0441\u0435 : 2.5 %\n",
        "\u0431\u0435\u043b\u0430\u0440\u0443\u0441\u044c ukraine only\n",
        "\u0431\u0435\u043b\u0430\u0440\u0443\u0441\u044c ukraine"
       ]
      },
      {
       "output_type": "stream",
       "stream": "stdout",
       "text": [
        "\n",
        "5"
       ]
      },
      {
       "output_type": "stream",
       "stream": "stdout",
       "text": [
        " SUCCESED: 30.5037868 50.4467311 <<TEST - FRIENDS>>: 30.5037868 50.4467311\n",
        "--------------------\n",
        "houston"
       ]
      },
      {
       "output_type": "stream",
       "stream": "stdout",
       "text": [
        " : 29.01 %\n",
        "tx : 22.84 %\n",
        "texas : 21.6 %\n",
        "austin : 9.26 %\n",
        "the : 4.94 %\n",
        "houston tx texas\n",
        "6"
       ]
      },
      {
       "output_type": "stream",
       "stream": "stdout",
       "text": [
        " SUCCESED: -95.4021585102112 29.675779 <<TEST - FRIENDS>>: -95.3698028 29.7604267\n",
        "--------------------\n",
        "ca"
       ]
      },
      {
       "output_type": "stream",
       "stream": "stdout",
       "text": [
        " : 5.25 %\n",
        "new : 5.0 %\n",
        "york : 3.75 %\n",
        "usa : 3.5 %\n",
        "canada : 3.5 %\n",
        "ca new york\n",
        "7"
       ]
      },
      {
       "output_type": "stream",
       "stream": "stdout",
       "text": [
        " SUCCESED: -74.21793260000001 43.2994285 <<TEST - FRIENDS>>: -74.21793260000001 43.2994285\n",
        "--------------------\n",
        "lumpur"
       ]
      },
      {
       "output_type": "stream",
       "stream": "stdout",
       "text": [
        " : 50.0 %\n",
        "jakarta : 50.0 %\n",
        "kuala : 50.0 %\n",
        "malaysia : 50.0 %\n",
        "lumpur jakarta kuala\n",
        "lumpur jakarta"
       ]
      },
      {
       "output_type": "stream",
       "stream": "stdout",
       "text": [
        "\n",
        "8"
       ]
      },
      {
       "output_type": "stream",
       "stream": "stdout",
       "text": [
        " FAILED: 102.250087 2.189594 <<TEST - FRIENDS>> 106.845599 -6.2087634\n",
        "--------------------\n",
        "usa"
       ]
      },
      {
       "output_type": "stream",
       "stream": "stdout",
       "text": [
        " : 5.53 %\n",
        "texas : 3.23 %\n",
        "tn : 2.76 %\n",
        "city : 2.3 %\n",
        "new : 2.3 %\n",
        "usa texas tn\n",
        "14"
       ]
      },
      {
       "output_type": "stream",
       "stream": "stdout",
       "text": [
        " SUCCESED: -83.961951 35.9819624 <<TEST - FRIENDS>>: -83.961951 35.9819624\n",
        "--------------------\n",
        "houston"
       ]
      },
      {
       "output_type": "stream",
       "stream": "stdout",
       "text": [
        " : 12.0 %\n",
        "tx : 8.5 %\n",
        "in : 5.75 %\n",
        "the : 4.75 %\n",
        "atl : 4.5 %\n",
        "houston tx in\n",
        "15"
       ]
      },
      {
       "output_type": "stream",
       "stream": "stdout",
       "text": [
        " SUCCESED: -95.501984 29.715444 <<TEST - FRIENDS>>: -95.3698028 29.7604267\n",
        "--------------------\n",
        "\u043c\u043e\u0441\u043a\u0432\u0430"
       ]
      },
      {
       "output_type": "stream",
       "stream": "stdout",
       "text": [
        " : 4.0 %\n",
        "russia : 3.0 %\n",
        "ukraine : 2.75 %\n",
        "\u043c\u0430\u043d\u0441\u0438\u0439\u0441\u043a : 2.25 %\n",
        "\u0445\u0430\u043d\u0442\u044b : 2.25 %\n",
        "\u043c\u043e\u0441\u043a\u0432\u0430 russia ukraine\n",
        "16"
       ]
      },
      {
       "output_type": "stream",
       "stream": "stdout",
       "text": [
        " SUCCESED: 37.6173 55.755826 <<TEST - FRIENDS>>: 37.566 55.75300000000001\n",
        "--------------------\n",
        "jamaica"
       ]
      },
      {
       "output_type": "stream",
       "stream": "stdout",
       "text": [
        " : 15.25 %\n",
        "kingston : 5.5 %\n",
        "london : 4.25 %\n",
        "ca : 3.25 %\n",
        "usa : 3.25 %\n",
        "jamaica kingston london\n",
        "18"
       ]
      },
      {
       "output_type": "stream",
       "stream": "stdout",
       "text": [
        " FAILED: -75.524368 39.158168 <<TEST - FRIENDS>> -76.8686785 17.9812473\n",
        "--------------------\n",
        "new"
       ]
      },
      {
       "output_type": "stream",
       "stream": "stdout",
       "text": [
        " : 6.63 %\n",
        "jersey : 6.08 %\n",
        "nj : 3.87 %\n",
        "uk : 3.87 %\n",
        "lawrenceville : 2.76 %\n",
        "new jersey nj\n",
        "19"
       ]
      },
      {
       "output_type": "stream",
       "stream": "stdout",
       "text": [
        " SUCCESED: -74.741221 40.280965 <<TEST - FRIENDS>>: -74.4056612 40.0583238\n",
        "--------------------\n",
        "viseu"
       ]
      },
      {
       "output_type": "stream",
       "stream": "stdout",
       "text": [
        " : 40.0 %\n",
        "portugal : 5.71 %\n",
        "visa : 3.81 %\n",
        "city : 1.9 %\n",
        "coimbra : 1.9 %\n",
        "viseu portugal visa\n",
        "21"
       ]
      },
      {
       "output_type": "stream",
       "stream": "stdout",
       "text": [
        " SUCCESED: -7.9124712 40.6565861 <<TEST - FRIENDS>>: -7.9124712 40.6565861\n",
        "--------------------\n",
        "22 No friends :O\n",
        "--------------------\n",
        "wa"
       ]
      },
      {
       "output_type": "stream",
       "stream": "stdout",
       "text": [
        " : 16.95 %\n",
        "seattle : 15.82 %\n",
        "tacoma : 10.17 %\n",
        "new : 7.91 %\n",
        "washington : 7.91 %\n",
        "wa seattle tacoma\n",
        "23"
       ]
      },
      {
       "output_type": "stream",
       "stream": "stdout",
       "text": [
        " SUCCESED: -122.444291 47.252877 <<TEST - FRIENDS>>: -122.3088165 47.4502499\n",
        "--------------------\n",
        "new"
       ]
      },
      {
       "output_type": "stream",
       "stream": "stdout",
       "text": [
        " : 7.0 %\n",
        "nj : 6.0 %\n",
        "paterson : 5.25 %\n",
        "jersey : 4.0 %\n",
        "york : 3.5 %\n",
        "new nj paterson\n",
        "27"
       ]
      },
      {
       "output_type": "stream",
       "stream": "stdout",
       "text": [
        " SUCCESED: -74.184545 40.907446 <<TEST - FRIENDS>>: -74.184545 40.907446\n",
        "--------------------\n",
        "dc"
       ]
      },
      {
       "output_type": "stream",
       "stream": "stdout",
       "text": [
        " : 14.36 %\n",
        "washington : 7.73 %\n",
        "d : 6.08 %\n",
        "the : 5.52 %\n",
        "v : 3.87 %\n",
        "dc washington d\n",
        "28"
       ]
      },
      {
       "output_type": "stream",
       "stream": "stdout",
       "text": [
        " SUCCESED: -77.026088 38.990666 <<TEST - FRIENDS>>: -77.0368707 38.9071923\n",
        "--------------------\n",
        "new"
       ]
      },
      {
       "output_type": "stream",
       "stream": "stdout",
       "text": [
        " : 5.25 %\n",
        "ca : 4.72 %\n",
        "angeles : 4.2 %\n",
        "los : 4.2 %\n",
        "the : 3.94 %\n",
        "new ca angeles\n",
        "31"
       ]
      },
      {
       "output_type": "stream",
       "stream": "stdout",
       "text": [
        " FAILED: -3.435973 55.378051 <<TEST - FRIENDS>> -118.1370719 34.1890663\n",
        "--------------------\n",
        "poland"
       ]
      },
      {
       "output_type": "stream",
       "stream": "stdout",
       "text": [
        " : 19.5 %\n",
        "5 : 3.0 %\n",
        "my : 3.0 %\n",
        "to : 2.75 %\n",
        "1d : 2.25 %\n",
        "poland 5 my\n",
        "32"
       ]
      },
      {
       "output_type": "stream",
       "stream": "stdout",
       "text": [
        " SUCCESED: 14.505751 46.056947 <<TEST - FRIENDS>>: 15.8254632 50.2130984\n",
        "--------------------\n",
        "rouen"
       ]
      },
      {
       "output_type": "stream",
       "stream": "stdout",
       "text": [
        " : 12.87 %\n",
        "paris : 2.97 %\n",
        "france : 1.98 %\n",
        "14 : 1.98 %\n",
        "liga : 1.98 %\n",
        "rouen paris france\n",
        "33"
       ]
      },
      {
       "output_type": "stream",
       "stream": "stdout",
       "text": [
        " SUCCESED: 2.352222 48.856614 <<TEST - FRIENDS>>: 1.0990045 49.43673219999999\n",
        "--------------------\n",
        "angeles"
       ]
      },
      {
       "output_type": "stream",
       "stream": "stdout",
       "text": [
        " : 4.25 %\n",
        "ca : 4.25 %\n",
        "los : 4.25 %\n",
        "new : 3.5 %\n",
        "york : 3.0 %\n",
        "angeles ca los\n",
        "34"
       ]
      },
      {
       "output_type": "stream",
       "stream": "stdout",
       "text": [
        " FAILED: -118.2436849 34.0522342 <<TEST - FRIENDS>> -76.085444 -13.4382822\n",
        "--------------------\n",
        "indonesia"
       ]
      },
      {
       "output_type": "stream",
       "stream": "stdout",
       "text": [
        " : 30.23 %\n",
        "lamongan : 30.23 %\n",
        "java : 6.98 %\n",
        "east : 6.98 %\n",
        "di : 4.65 %\n",
        "indonesia lamongan java\n",
        "38"
       ]
      },
      {
       "output_type": "stream",
       "stream": "stdout",
       "text": [
        " FAILED: 112.4149811 -7.1181109 <<TEST - FRIENDS>> 112.4149811 -7.1181109\n",
        "--------------------\n",
        "seoul"
       ]
      },
      {
       "output_type": "stream",
       "stream": "stdout",
       "text": [
        " : 8.57 %\n",
        "korea : 8.57 %\n",
        "london : 5.71 %\n",
        "polska : 5.71 %\n",
        "poland : 5.71 %\n",
        "seoul korea london\n",
        "39"
       ]
      },
      {
       "output_type": "stream",
       "stream": "stdout",
       "text": [
        " FAILED: 19.145136 51.919438 <<TEST - FRIENDS>> 126.9779692 37.566535\n",
        "--------------------\n",
        "mn"
       ]
      },
      {
       "output_type": "stream",
       "stream": "stdout",
       "text": [
        " : 7.06 %\n",
        "minnesota : 4.46 %\n",
        "angeles : 4.09 %\n",
        "los : 4.09 %\n",
        "the : 3.72 %\n",
        "mn minnesota angeles\n",
        "40"
       ]
      },
      {
       "output_type": "stream",
       "stream": "stdout",
       "text": [
        " SUCCESED: -93.265011 44.977753 <<TEST - FRIENDS>>: -92.9631364 43.6666847\n",
        "--------------------\n",
        "brasil"
       ]
      },
      {
       "output_type": "stream",
       "stream": "stdout",
       "text": [
        " : 15.0 %\n",
        "paulo : 11.5 %\n",
        "s\u00e3o : 11.0 %\n",
        "rio : 9.5 %\n",
        "de : 8.75 %\n",
        "brasil paulo s\u00e3o\n",
        "41"
       ]
      },
      {
       "output_type": "stream",
       "stream": "stdout",
       "text": [
        " SUCCESED: -46.6291845 -23.5431786 <<TEST - FRIENDS>>: -46.6291845 -23.5431786\n",
        "--------------------\n",
        "tx"
       ]
      },
      {
       "output_type": "stream",
       "stream": "stdout",
       "text": [
        " : 3.0 %\n",
        "worldwide : 2.75 %\n",
        "world : 2.25 %\n",
        "usa : 2.25 %\n",
        "new : 2.25 %\n",
        "tx worldwide world\n",
        "42"
       ]
      },
      {
       "output_type": "stream",
       "stream": "stdout",
       "text": [
        " SUCCESED: -99.901813 31.968599 <<TEST - FRIENDS>>: -97.99167899999999 30.3679788\n",
        "--------------------\n",
        "paris"
       ]
      },
      {
       "output_type": "stream",
       "stream": "stdout",
       "text": [
        " : 9.5 %\n",
        "france : 9.25 %\n",
        "la : 5.0 %\n",
        "rochelle : 2.5 %\n",
        "space : 1.75 %\n",
        "paris france la\n",
        "43"
       ]
      },
      {
       "output_type": "stream",
       "stream": "stdout",
       "text": [
        " SUCCESED: 2.213749 46.227638 <<TEST - FRIENDS>>: 2.3522219 48.856614\n",
        "--------------------\n",
        "london"
       ]
      },
      {
       "output_type": "stream",
       "stream": "stdout",
       "text": [
        " : 4.25 %\n",
        "russia : 4.0 %\n",
        "ukraine : 2.25 %\n",
        "england : 1.75 %\n",
        "uk : 1.75 %\n",
        "london russia ukraine\n",
        "45"
       ]
      },
      {
       "output_type": "stream",
       "stream": "stdout",
       "text": [
        " FAILED: 37.6173 55.755826 <<TEST - FRIENDS>> -0.1277583 51.5073509\n",
        "--------------------\n",
        "london"
       ]
      },
      {
       "output_type": "stream",
       "stream": "stdout",
       "text": [
        " : 5.25 %\n",
        "uk : 3.5 %\n",
        "worldwide : 3.25 %\n",
        "ny : 3.0 %\n",
        "ca : 2.75 %\n",
        "london uk worldwide\n",
        "46"
       ]
      },
      {
       "output_type": "stream",
       "stream": "stdout",
       "text": [
        " FAILED: -75.165222 39.952584 <<TEST - FRIENDS>> -0.0987733 51.4257374\n",
        "--------------------\n",
        "portugal"
       ]
      },
      {
       "output_type": "stream",
       "stream": "stdout",
       "text": [
        " : 4.75 %\n",
        "brasil : 3.5 %\n",
        "lisboa : 2.0 %\n",
        "com : 2.0 %\n",
        "brazil : 1.75 %\n",
        "portugal brasil lisboa\n",
        "48"
       ]
      },
      {
       "output_type": "stream",
       "stream": "stdout",
       "text": [
        " SUCCESED: -8.224454 39.399872 <<TEST - FRIENDS>>: -9.2214843 38.8077435\n",
        "--------------------\n",
        "barcelona"
       ]
      },
      {
       "output_type": "stream",
       "stream": "stdout",
       "text": [
        " : 8.04 %\n",
        "de : 5.8 %\n",
        "en : 3.12 %\n",
        "california : 3.12 %\n",
        "y : 3.12 %\n",
        "barcelona de en\n",
        "49"
       ]
      },
      {
       "output_type": "stream",
       "stream": "stdout",
       "text": [
        " SUCCESED: 2.173403 41.385064 <<TEST - FRIENDS>>: 2.1734035 41.3850639\n",
        "--------------------\n"
       ]
      }
     ],
     "prompt_number": 31
    },
    {
     "cell_type": "code",
     "collapsed": false,
     "input": [
      "getSuccesRated(tweetsWithGeo)"
     ],
     "language": "python",
     "metadata": {},
     "outputs": [
      {
       "output_type": "stream",
       "stream": "stdout",
       "text": [
        "\n",
        " succes: 98.0 %\n"
       ]
      }
     ],
     "prompt_number": 32
    },
    {
     "cell_type": "markdown",
     "metadata": {},
     "source": [
      "Failed locations score we toch al succesvol omdat dit meestal om radio stations gaat die veel luisteraars hebben in een ander deel van de wereld. En dus de muzieknummers die ze daar afspelen het meeste invloed heeft in dat gebied"
     ]
    },
    {
     "cell_type": "heading",
     "level": 2,
     "metadata": {},
     "source": [
      "5: Twitter user followers location"
     ]
    },
    {
     "cell_type": "code",
     "collapsed": false,
     "input": [
      "# voeg followers toe\n",
      "twitterIdFollowers = [[8, 2261140970, False],[14, 318753478, False], [22, 3115056857, False]]\n",
      "for user in twitterIdFollowers:\n",
      "    insertTwitterFriends(user[1], user[2])"
     ],
     "language": "python",
     "metadata": {},
     "outputs": [
      {
       "output_type": "stream",
       "stream": "stdout",
       "text": [
        "done insert friends: 2261140970\n",
        "done insert friends: 318753478\n",
        "user doesnt exsist or to many request"
       ]
      },
      {
       "output_type": "stream",
       "stream": "stdout",
       "text": [
        "\n",
        "done insert friends: 3115056857\n"
       ]
      }
     ],
     "prompt_number": 33
    },
    {
     "cell_type": "code",
     "collapsed": false,
     "input": [
      "for tweet in tweetsWithGeo:\n",
      "    if tweet['lon'] == 'null':\n",
      "        locationArray = []\n",
      "        locationFriends = getTwitterUserFriendsLocation(tweet['userId'])\n",
      "        for locationFriend in locationFriends:\n",
      "            locationArray.append(locationFriend['location'])\n",
      "        for t in data:\n",
      "            if t['tweetId'] == tweet['tweetId']:\n",
      "                geoLocation = getLocationByFriendsLocations(countLocationWords(locationArray),t['index'], 3, True)\n",
      "                tweet['lon'] = geoLocation[0]\n",
      "                tweet['lat'] = geoLocation[1]\n",
      "        print('--------------------')\n",
      "getSuccesRated(tweetsWithGeo)"
     ],
     "language": "python",
     "metadata": {},
     "outputs": [
      {
       "output_type": "stream",
       "stream": "stdout",
       "text": [
        "22 No friends :O\n",
        "--------------------\n",
        "\n",
        " succes: 98.0 %\n"
       ]
      }
     ],
     "prompt_number": 34
    }
   ],
   "metadata": {}
  }
 ]
}