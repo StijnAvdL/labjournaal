{
 "metadata": {
  "name": "",
  "signature": "sha256:04da6d852d17fdacda53e721740c1860d77814bb6f88ada34ec12981c4a17229"
 },
 "nbformat": 3,
 "nbformat_minor": 0,
 "worksheets": [
  {
   "cells": [
    {
     "cell_type": "heading",
     "level": 1,
     "metadata": {},
     "source": [
      "NpCoutry top data verzamelen"
     ]
    },
    {
     "cell_type": "markdown",
     "metadata": {},
     "source": [
      "Datum: 27-05-2015 <br>\n",
      "URL: http://nbviewer.ipython.org/github/StijnAvdL/labjournaal/blob/master/05-27%20NpCountry%20top%20data%20verzamelen.ipynb<br>\n",
      "Database: MongoDB #NP"
     ]
    },
    {
     "cell_type": "markdown",
     "metadata": {},
     "source": [
      "Om dadelijk cross correlatie uit te voeren op de nieuwe verzamelde dat moet er eerst goed gekeken worden met welke data we kunnen werken. Ik wil daarom eerst kijken of de top 50 mee getrackte muzieknummer data bevat wat ik niet vertrouw."
     ]
    },
    {
     "cell_type": "code",
     "collapsed": false,
     "input": [
      "import pymongo"
     ],
     "language": "python",
     "metadata": {},
     "outputs": [],
     "prompt_number": 25
    },
    {
     "cell_type": "code",
     "collapsed": false,
     "input": [
      "# Connection to Mongo DB\n",
      "conn = pymongo.MongoClient('localhost', 27017)\n",
      "db = conn['mozart']\n",
      "\n",
      "print('connected to database')"
     ],
     "language": "python",
     "metadata": {},
     "outputs": [
      {
       "output_type": "stream",
       "stream": "stdout",
       "text": [
        "connected to database\n"
       ]
      }
     ],
     "prompt_number": 2
    },
    {
     "cell_type": "code",
     "collapsed": false,
     "input": [
      "query = db.npCountry.aggregate([\n",
      "    {\n",
      "        '$match': {\n",
      "            'title': {'$ne': None}\n",
      "        }\n",
      "    },\n",
      "    {'$project': {\n",
      "        'total': '$value.total',\n",
      "        'mbId': '$mbId',\n",
      "        'title': '$title'\n",
      "        }\n",
      "    },\n",
      "    {\n",
      "        '$group': {\n",
      "            '_id': '$mbId',\n",
      "            'total': {'$sum': '$total'},\n",
      "            'title': {'$first': '$title'}\n",
      "        }\n",
      "    },\n",
      "    {'$sort': {'total': -1}},\n",
      "    {'$limit':50}\n",
      "])\n",
      "\n",
      "topCc = list(query['result'])\n",
      "print(\"get top song\")"
     ],
     "language": "python",
     "metadata": {},
     "outputs": [
      {
       "output_type": "stream",
       "stream": "stdout",
       "text": [
        "get top song\n"
       ]
      }
     ],
     "prompt_number": 56
    },
    {
     "cell_type": "heading",
     "level": 2,
     "metadata": {},
     "source": [
      "Top 50 meest gevonden muzieknummer"
     ]
    },
    {
     "cell_type": "code",
     "collapsed": false,
     "input": [
      "print('#','aantal landen', 'gem. tracks per land')\n",
      "i = 0\n",
      "for t in topCc:\n",
      "    i += 1\n",
      "    query = db.npCountry.find({'mbId': t['_id']})\n",
      "    oneSong = list(query)\n",
      "    countCountries = int(len(oneSong))\n",
      "    total = int(t['total'])\n",
      "    print('#',i,'-',str(countCountries),'-', str(total/countCountries))"
     ],
     "language": "python",
     "metadata": {},
     "outputs": [
      {
       "output_type": "stream",
       "stream": "stdout",
       "text": [
        "# aantal landen gem. tracks per land\n",
        "#"
       ]
      },
      {
       "output_type": "stream",
       "stream": "stdout",
       "text": [
        " 1 - 87 - 33.7816091954023\n",
        "#"
       ]
      },
      {
       "output_type": "stream",
       "stream": "stdout",
       "text": [
        " 2 - 31 - 85.7741935483871\n",
        "#"
       ]
      },
      {
       "output_type": "stream",
       "stream": "stdout",
       "text": [
        " 3 - 71 - 27.535211267605632\n",
        "#"
       ]
      },
      {
       "output_type": "stream",
       "stream": "stdout",
       "text": [
        " 4 - 1 - 1759.0\n",
        "#"
       ]
      },
      {
       "output_type": "stream",
       "stream": "stdout",
       "text": [
        " 5 - 57 - 26.157894736842106\n",
        "#"
       ]
      },
      {
       "output_type": "stream",
       "stream": "stdout",
       "text": [
        " 6 - 62 - 21.532258064516128\n",
        "#"
       ]
      },
      {
       "output_type": "stream",
       "stream": "stdout",
       "text": [
        " 7 - 59 - 21.677966101694917\n",
        "#"
       ]
      },
      {
       "output_type": "stream",
       "stream": "stdout",
       "text": [
        " 8 - 45 - 27.244444444444444\n",
        "#"
       ]
      },
      {
       "output_type": "stream",
       "stream": "stdout",
       "text": [
        " 9 - 51 - 22.019607843137255\n",
        "#"
       ]
      },
      {
       "output_type": "stream",
       "stream": "stdout",
       "text": [
        " 10 - 79 - 13.50632911392405\n",
        "#"
       ]
      },
      {
       "output_type": "stream",
       "stream": "stdout",
       "text": [
        " 11 - 59 - 16.45762711864407\n",
        "#"
       ]
      },
      {
       "output_type": "stream",
       "stream": "stdout",
       "text": [
        " 12 - 47 - 19.4468085106383\n",
        "#"
       ]
      },
      {
       "output_type": "stream",
       "stream": "stdout",
       "text": [
        " 13 - 56 - 16.125\n",
        "#"
       ]
      },
      {
       "output_type": "stream",
       "stream": "stdout",
       "text": [
        " 14 - 26 - 33.69230769230769\n",
        "#"
       ]
      },
      {
       "output_type": "stream",
       "stream": "stdout",
       "text": [
        " 15 - 50 - 17.26\n",
        "#"
       ]
      },
      {
       "output_type": "stream",
       "stream": "stdout",
       "text": [
        " 16 - 42 - 19.833333333333332\n",
        "#"
       ]
      },
      {
       "output_type": "stream",
       "stream": "stdout",
       "text": [
        " 17 - 47 - 16.851063829787233\n",
        "#"
       ]
      },
      {
       "output_type": "stream",
       "stream": "stdout",
       "text": [
        " 18 - 35 - 22.485714285714284\n",
        "#"
       ]
      },
      {
       "output_type": "stream",
       "stream": "stdout",
       "text": [
        " 19 - 43 - 17.88372093023256\n",
        "#"
       ]
      },
      {
       "output_type": "stream",
       "stream": "stdout",
       "text": [
        " 20 - 45 - 17.0\n",
        "#"
       ]
      },
      {
       "output_type": "stream",
       "stream": "stdout",
       "text": [
        " 21 - 38 - 20.105263157894736\n",
        "#"
       ]
      },
      {
       "output_type": "stream",
       "stream": "stdout",
       "text": [
        " 22 - 16 - 47.6875\n",
        "#"
       ]
      },
      {
       "output_type": "stream",
       "stream": "stdout",
       "text": [
        " 23 - 38 - 18.342105263157894\n",
        "#"
       ]
      },
      {
       "output_type": "stream",
       "stream": "stdout",
       "text": [
        " 24 - 33 - 20.87878787878788\n",
        "#"
       ]
      },
      {
       "output_type": "stream",
       "stream": "stdout",
       "text": [
        " 25 - 22 - 31.227272727272727\n",
        "#"
       ]
      },
      {
       "output_type": "stream",
       "stream": "stdout",
       "text": [
        " 26 - 5 - 132.8\n",
        "#"
       ]
      },
      {
       "output_type": "stream",
       "stream": "stdout",
       "text": [
        " 27 - 1 - 654.0\n",
        "#"
       ]
      },
      {
       "output_type": "stream",
       "stream": "stdout",
       "text": [
        " 28 - 41 - 14.536585365853659\n",
        "#"
       ]
      },
      {
       "output_type": "stream",
       "stream": "stdout",
       "text": [
        " 29 - 46 - 12.934782608695652\n",
        "#"
       ]
      },
      {
       "output_type": "stream",
       "stream": "stdout",
       "text": [
        " 30 - 42 - 14.095238095238095\n",
        "#"
       ]
      },
      {
       "output_type": "stream",
       "stream": "stdout",
       "text": [
        " 31 - 36 - 16.333333333333332\n",
        "#"
       ]
      },
      {
       "output_type": "stream",
       "stream": "stdout",
       "text": [
        " 32 - 20 - 29.4\n",
        "#"
       ]
      },
      {
       "output_type": "stream",
       "stream": "stdout",
       "text": [
        " 33 - 29 - 20.137931034482758\n",
        "#"
       ]
      },
      {
       "output_type": "stream",
       "stream": "stdout",
       "text": [
        " 34 - 18 - 31.77777777777778\n",
        "#"
       ]
      },
      {
       "output_type": "stream",
       "stream": "stdout",
       "text": [
        " 35 - 33 - 16.666666666666668\n",
        "#"
       ]
      },
      {
       "output_type": "stream",
       "stream": "stdout",
       "text": [
        " 36 - 41 - 13.268292682926829\n",
        "#"
       ]
      },
      {
       "output_type": "stream",
       "stream": "stdout",
       "text": [
        " 37 - 43 - 12.348837209302326\n",
        "#"
       ]
      },
      {
       "output_type": "stream",
       "stream": "stdout",
       "text": [
        " 38 - 42 - 12.095238095238095\n",
        "#"
       ]
      },
      {
       "output_type": "stream",
       "stream": "stdout",
       "text": [
        " 39 - 19 - 26.526315789473685\n",
        "#"
       ]
      },
      {
       "output_type": "stream",
       "stream": "stdout",
       "text": [
        " 40 - 2 - 246.5\n",
        "#"
       ]
      },
      {
       "output_type": "stream",
       "stream": "stdout",
       "text": [
        " 41 - 29 - 16.82758620689655\n",
        "#"
       ]
      },
      {
       "output_type": "stream",
       "stream": "stdout",
       "text": [
        " 42 - 19 - 25.526315789473685\n",
        "#"
       ]
      },
      {
       "output_type": "stream",
       "stream": "stdout",
       "text": [
        " 43 - 32 - 15.15625\n",
        "#"
       ]
      },
      {
       "output_type": "stream",
       "stream": "stdout",
       "text": [
        " 44 - 3 - 161.0\n",
        "#"
       ]
      },
      {
       "output_type": "stream",
       "stream": "stdout",
       "text": [
        " 45 - 42 - 11.428571428571429\n",
        "#"
       ]
      },
      {
       "output_type": "stream",
       "stream": "stdout",
       "text": [
        " 46 - 33 - 14.393939393939394\n",
        "#"
       ]
      },
      {
       "output_type": "stream",
       "stream": "stdout",
       "text": [
        " 47 - 31 - 14.806451612903226\n",
        "#"
       ]
      },
      {
       "output_type": "stream",
       "stream": "stdout",
       "text": [
        " 48 - 1 - 459.0\n",
        "#"
       ]
      },
      {
       "output_type": "stream",
       "stream": "stdout",
       "text": [
        " 49 - 44 - 10.363636363636363\n",
        "#"
       ]
      },
      {
       "output_type": "stream",
       "stream": "stdout",
       "text": [
        " 50 - 1 - 455.0\n"
       ]
      }
     ],
     "prompt_number": 55
    },
    {
     "cell_type": "markdown",
     "metadata": {},
     "source": [
      "Er zitten een aantal muzieknummer bij die maar in een paar landen voor komen. Ik wil de verhouding tussen die landen bekijken hoeveel er in ieder land is afgespeeld."
     ]
    },
    {
     "cell_type": "code",
     "collapsed": false,
     "input": [
      "query = db.npCountry.find({'mbId': '6206f545-61b8-4bac-a323-3e19248ffd0a'})\n",
      "numberFourty = list(query)\n",
      "for n in numberFourty:\n",
      "    print('Aantal plays in', n['cc'], 'is' ,n['value']['total'])"
     ],
     "language": "python",
     "metadata": {},
     "outputs": [
      {
       "output_type": "stream",
       "stream": "stdout",
       "text": [
        "Aantal plays in ID is 491.0\n",
        "Aantal plays in US is 2.0\n"
       ]
      }
     ],
     "prompt_number": 49
    },
    {
     "cell_type": "markdown",
     "metadata": {},
     "source": [
      "Deze data zou bij cross correlatie een erg verknipt beeld geven. Voor ik een grens trek in hoeveel land het minstens moet bestaan ga ik eerst bij een muzieknummer kijken die iets meer plays hebben."
     ]
    },
    {
     "cell_type": "code",
     "collapsed": false,
     "input": [
      "query = db.npCountry.find({'mbId': '440c73a8-64ea-4571-919d-b24b16e49513'})\n",
      "numberFourty = list(query)\n",
      "for n in numberFourty:\n",
      "    print('Aantal plays in', n['cc'], 'is' ,n['value']['total'])"
     ],
     "language": "python",
     "metadata": {},
     "outputs": [
      {
       "output_type": "stream",
       "stream": "stdout",
       "text": [
        "Aantal plays in AR is 59.0\n",
        "Aantal plays in AU is 16.0\n",
        "Aantal plays in JP is 1.0\n",
        "Aantal plays in PH is 2.0\n",
        "Aantal plays in US is 586.0\n"
       ]
      }
     ],
     "prompt_number": 50
    },
    {
     "cell_type": "markdown",
     "metadata": {},
     "source": [
      "Als weinig landen een bepaald nummer is getrackt is het in mijn ogen geen goed idee om deze mee te nemen in de cross correlatie. Doordat een land erg veel plays heeft en de rest een stuk minder gaat dit de verhouding tussen de landen verpesten."
     ]
    },
    {
     "cell_type": "markdown",
     "metadata": {},
     "source": [
      "Muzieknummer met weinig landen waarin het getrackt is ga ik eruit filteren. Ik zet de rest op minstens <b>10 landen</b>."
     ]
    },
    {
     "cell_type": "code",
     "collapsed": false,
     "input": [
      "query = db.npCountry.find({'mbId': 'c6cf4924-75b7-40b3-8d66-f50ff8aec30e'})\n",
      "numberFourty = list(query)\n",
      "for n in numberFourty:\n",
      "    print('Aantal plays in', n['cc'], 'is' ,n['value']['total'])"
     ],
     "language": "python",
     "metadata": {},
     "outputs": [
      {
       "output_type": "stream",
       "stream": "stdout",
       "text": [
        "Aantal plays in AE is 4.0\n",
        "Aantal plays in AR is 25.0\n",
        "Aantal plays in AU is 43.0\n",
        "Aantal plays in BE is 5.0\n",
        "Aantal plays in BR is 82.0\n",
        "Aantal plays in BY is 3.0\n",
        "Aantal plays in CH is 3.0\n",
        "Aantal plays in CN is 5.0\n",
        "Aantal plays in CO is 9.0\n",
        "Aantal plays in CR is 4.0\n",
        "Aantal plays in CY is 1.0\n",
        "Aantal plays in EC is 6.0\n",
        "Aantal plays in EG is 21.0\n",
        "Aantal plays in EH is 2.0\n",
        "Aantal plays in ES is 49.0\n",
        "Aantal plays in FR is 246.0\n",
        "Aantal plays in GB is 95.0\n",
        "Aantal plays in GL is 2.0\n",
        "Aantal plays in GP is 1.0\n",
        "Aantal plays in GR is 5.0\n",
        "Aantal plays in GT is 4.0\n",
        "Aantal plays in HT is 1.0\n",
        "Aantal plays in ID is 221.0\n",
        "Aantal plays in IN is 13.0\n",
        "Aantal plays in IT is 6.0\n",
        "Aantal plays in JO is 45.0\n",
        "Aantal plays in JP is 67.0\n",
        "Aantal plays in KE is 6.0\n",
        "Aantal plays in KZ is 1.0\n",
        "Aantal plays in LK is 6.0\n",
        "Aantal plays in LV is 5.0\n",
        "Aantal plays in MG is 2.0\n",
        "Aantal plays in ML is 1.0\n",
        "Aantal plays in MP is 38.0\n",
        "Aantal plays in MX is 23.0\n",
        "Aantal plays in MY is 258.0\n",
        "Aantal plays in NG is 4.0\n",
        "Aantal plays in NL is 72.0\n",
        "Aantal plays in PF is 3.0\n",
        "Aantal plays in PH is 41.0\n",
        "Aantal plays in PK is 2.0\n",
        "Aantal plays in PL is 25.0\n",
        "Aantal plays in PT is 515.0\n",
        "Aantal plays in RS is 7.0\n",
        "Aantal plays in RU is 35.0\n",
        "Aantal plays in SA is 4.0\n",
        "Aantal plays in SD is 2.0\n",
        "Aantal plays in SE is 4.0\n",
        "Aantal plays in SG is 28.0\n",
        "Aantal plays in SO is 7.0\n",
        "Aantal plays in TR is 251.0\n",
        "Aantal plays in UA is 6.0\n",
        "Aantal plays in US is 386.0\n",
        "Aantal plays in VE is 26.0\n",
        "Aantal plays in YE is 6.0\n",
        "Aantal plays in ZA is 6.0\n",
        "Aantal plays in ZW is 2.0\n",
        "Aantal plays in xx is 139.0\n",
        "Aantal plays in AT is 1.0\n",
        "Aantal plays in BA is 1.0\n",
        "Aantal plays in BN is 1.0\n",
        "Aantal plays in CA is 5.0\n",
        "Aantal plays in CL is 4.0\n",
        "Aantal plays in CM is 7.0\n",
        "Aantal plays in DE is 5.0\n",
        "Aantal plays in EE is 1.0\n",
        "Aantal plays in GA is 1.0\n",
        "Aantal plays in IE is 1.0\n",
        "Aantal plays in KG is 2.0\n",
        "Aantal plays in KH is 1.0\n",
        "Aantal plays in KW is 1.0\n",
        "Aantal plays in MA is 5.0\n",
        "Aantal plays in ME is 2.0\n",
        "Aantal plays in MK is 1.0\n",
        "Aantal plays in MQ is 1.0\n",
        "Aantal plays in MU is 2.0\n",
        "Aantal plays in MZ is 1.0\n",
        "Aantal plays in NA is 1.0\n",
        "Aantal plays in NI is 1.0\n",
        "Aantal plays in OM is 1.0\n",
        "Aantal plays in PE is 1.0\n",
        "Aantal plays in PG is 2.0\n",
        "Aantal plays in TG is 1.0\n",
        "Aantal plays in TH is 4.0\n",
        "Aantal plays in TZ is 3.0\n",
        "Aantal plays in UY is 1.0\n",
        "Aantal plays in VN is 2.0\n"
       ]
      }
     ],
     "prompt_number": 53
    },
    {
     "cell_type": "markdown",
     "metadata": {},
     "source": [
      "Dit is de muzieknummer met de meeste tracks. Er zitten veel landen tussen met maar een paar elke gevonden tweets. Hier kan ik voorlopig niks aan doen omdat we voor een langere periode moeten verzamelen. De landen met meer dan 20 tweets lijken mij wel intressante genoeg."
     ]
    },
    {
     "cell_type": "heading",
     "level": 2,
     "metadata": {},
     "source": [
      "Top 50 muzieknummer met minstens 10 landen"
     ]
    },
    {
     "cell_type": "code",
     "collapsed": false,
     "input": [
      "query= query = db.npCountry.aggregate([\n",
      "    {\n",
      "        '$match': {\n",
      "            'title': {'$ne': None}\n",
      "        }\n",
      "    },\n",
      "    {'$project': {\n",
      "        'total': '$value.total',\n",
      "        'mbId': '$mbId',\n",
      "        'title': '$title'\n",
      "        }\n",
      "    },\n",
      "    {\n",
      "        '$group': {\n",
      "            '_id': '$mbId',\n",
      "            'total': {'$sum': '$total'},\n",
      "            'title': {'$first': '$title'},\n",
      "            'countCC': {'$sum': 1}\n",
      "        }\n",
      "    },\n",
      "    {'$sort': {'total': -1}},\n",
      "    {'$match': {'countCC': {'$gt': 9}}},\n",
      "    {'$limit':50}\n",
      "])\n",
      "\n",
      "topCc2 = list(query['result'])\n",
      "print(\"Top muzieknummers met minstens 10 landen\")"
     ],
     "language": "python",
     "metadata": {},
     "outputs": [
      {
       "output_type": "stream",
       "stream": "stdout",
       "text": [
        "Top muzieknummers met minstens 10 landen\n"
       ]
      }
     ],
     "prompt_number": 58
    },
    {
     "cell_type": "code",
     "collapsed": false,
     "input": [
      "print('title - aantal landen - plays')\n",
      "for t in topCc2:\n",
      "    print(t['title'], '-', t['countCC'], '-', t['total'])"
     ],
     "language": "python",
     "metadata": {},
     "outputs": [
      {
       "output_type": "stream",
       "stream": "stdout",
       "text": [
        "title - aantal landen - plays\n",
        "See You Again - 87 - 2939.0\n",
        "Go On, Kill Me - 31 - 2659.0\n",
        "Love Me Like You Do - 71 - 1955.0\n",
        "Uptown Funk - 57 - 1491.0\n",
        "Thinking Out Loud - 62 - 1335.0\n",
        "See You Again - 59 - 1279.0\n",
        "Earned It (Fifty Shades of Grey) - 45 - 1226.0\n",
        "Sugar - 51 - 1123.0\n",
        "Lean On - 79 - 1067.0\n",
        "Take Me To Church - 59 - 971.0\n",
        "One Last Time - 47 - 914.0\n",
        "Bitch Better Have My Money - 56 - 903.0\n",
        "Somebody - 26 - 876.0\n",
        "I Want You To Know - 50 - 863.0\n",
        "Want to Want Me - 42 - 833.0\n",
        "Post To Be - 47 - 792.0\n",
        "Shut Up and Dance - 35 - 787.0\n",
        "Come on You Dumb Fucks You Seriously Couldn't Figure Out How to Find and Download an Album? This Is How You Find a Digital Album That Is Listed on Discogs. Step One Look at the Info Sometimes People Post a Download Link There. Step Two If Step One Had No Results Go to the Label's Discogs Page. You Can Get to This by Clicking the Words That Appear After \"Label:\" This Is Located at the Top Right Under the Artist and Release Name. Now That You Are on the Label's Discogs Page Look Right Underneath the Info Which Is Located at the Top. You Will Possibly Find a Link Behind the Part That Says \"Sites:\" and Make Sure to Click the Link. You Do Know How to Click Right? Press Your Index Finger on the Left Key of Your Mouse or Touch Pad, See You're Learning So Fast! The Link You Clicked Will Bring You to the Label's Website. Examine the Page You Are Brought to and Navigate Your Way to the Releases. Then Search for the Release You Want to Find Using the Artist Name, Album Name, and Catalog Number Will Make This Very Easy. Then Download It and You're Done. - 43 - 769.0\n",
        "Trap Queen - 45 - 765.0\n",
        "Ayo - 38 - 764.0\n",
        "Aldan\u0131yor - 16 - 763.0\n",
        "Talking Body - 38 - 697.0\n",
        "I Bet - 33 - 689.0\n",
        "Blessings - 22 - 687.0\n",
        "Hey Mama - 41 - 596.0\n",
        "I\u2019m Not the Only One - 46 - 595.0\n",
        "Outside - 42 - 592.0\n",
        "Slow Motion - 20 - 588.0\n",
        "Blank Space - 36 - 588.0\n",
        "Chains - 29 - 584.0\n",
        "He leads her by the arm in the old manner out into the music and the dancing light. She asks him, so he whispers something he thinks he might have said. She closes her eyes tight then, and when she opens them again she is different somehow. The nurse waits smoking against the car at the far end of the garden, and from over the fences the neighbourly sounds of cooking and children swim on the wind. - 18 - 572.0\n",
        "7/11 - 33 - 550.0\n",
        "King - 41 - 544.0\n",
        "Rather Be - 43 - 531.0\n",
        "Hold Back the River - 42 - 508.0\n",
        "The Matrimony - 19 - 504.0\n",
        "Jealous - 29 - 488.0\n",
        "She Knows - 19 - 485.0\n",
        "Cheerleader - 32 - 485.0\n",
        "Blame - 42 - 480.0\n",
        "Don't Look Down - 33 - 475.0\n",
        "Budapest - 31 - 459.0\n",
        "Firestone - 44 - 456.0\n",
        "Hold My Hand - 37 - 455.0\n",
        "Time of Our Lives - 32 - 451.0\n",
        "The Nights - 39 - 441.0\n",
        "Lay Me Down - 42 - 440.0\n",
        "Planes - 18 - 437.0\n",
        "Dear Future Husband - 36 - 419.0\n",
        "Pray to God - 42 - 412.0\n"
       ]
      }
     ],
     "prompt_number": 63
    },
    {
     "cell_type": "markdown",
     "metadata": {},
     "source": [
      "Dit wordt de data waarmee we gaan werken. Deze data wordt in een apart document geplaats zodat er snel met de data gewerkt kan worden en er niet tusen 400.000 regels gezocht moet worden."
     ]
    },
    {
     "cell_type": "heading",
     "level": 2,
     "metadata": {},
     "source": [
      "Toevoegen data in nieuw document"
     ]
    },
    {
     "cell_type": "code",
     "collapsed": false,
     "input": [
      "for t in topCc2:\n",
      "    query = db.npCountry.find({'mbId': t['_id']})\n",
      "    countries = list(query)\n",
      "    for country in countries:\n",
      "        db.npCountryTopCC.insert({\n",
      "            'cc': country['cc'],\n",
      "            'mbId': country['mbId'],\n",
      "            'value': country['value'],\n",
      "            'title': country['title']\n",
      "        })\n",
      "print('done')"
     ],
     "language": "python",
     "metadata": {},
     "outputs": [
      {
       "output_type": "stream",
       "stream": "stdout",
       "text": [
        "done\n"
       ]
      }
     ],
     "prompt_number": 72
    },
    {
     "cell_type": "heading",
     "level": 2,
     "metadata": {},
     "source": [
      "Conclusie"
     ]
    },
    {
     "cell_type": "markdown",
     "metadata": {},
     "source": [
      "De data is goed bekeken en ik heb besloten de top 50 muzieknummer waarvan ze minstens in 10 verschillende landen voorkomen te gebruiken voor de cross correlatie. <br>\n",
      "\n",
      "De data is in de database geplaats in een apart document zodat er snel mee gewerkt kan worden."
     ]
    }
   ],
   "metadata": {}
  }
 ]
}