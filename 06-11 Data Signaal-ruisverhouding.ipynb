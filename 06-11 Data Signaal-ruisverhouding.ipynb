{
 "metadata": {
  "name": "",
  "signature": "sha256:7efbadd1dc8a7aae84c09ba214794cb5ef690392b8ffdef4a5e910ede3b66ac6"
 },
 "nbformat": 3,
 "nbformat_minor": 0,
 "worksheets": [
  {
   "cells": [
    {
     "cell_type": "code",
     "collapsed": false,
     "input": [
      "%pylab inline\n",
      "\n",
      "import numpy as np\n",
      "import pymongo\n",
      "import matplotlib.pyplot as plt\n",
      "import scipy.stats as st"
     ],
     "language": "python",
     "metadata": {},
     "outputs": [
      {
       "output_type": "stream",
       "stream": "stdout",
       "text": [
        "Populating the interactive namespace from numpy and matplotlib\n"
       ]
      }
     ],
     "prompt_number": 1
    },
    {
     "cell_type": "code",
     "collapsed": false,
     "input": [
      "# Connection to Mongo DB\n",
      "conn = pymongo.MongoClient('localhost', 27017)\n",
      "db = conn['mozart']\n",
      "\n",
      "print('connected to database')"
     ],
     "language": "python",
     "metadata": {},
     "outputs": [
      {
       "output_type": "stream",
       "stream": "stdout",
       "text": [
        "connected to database\n"
       ]
      }
     ],
     "prompt_number": 2
    },
    {
     "cell_type": "code",
     "collapsed": false,
     "input": [
      "query = db.npCountry_aggr.aggregate([\n",
      "    {\n",
      "        '$match': {\n",
      "            'title': {'$ne': None}\n",
      "        }\n",
      "    },\n",
      "    {'$project': {\n",
      "        'total': '$value.total',\n",
      "        'mbId': '$mbId',\n",
      "        'title': '$title'\n",
      "        }\n",
      "    },\n",
      "    {\n",
      "        '$group': {\n",
      "            '_id': '$mbId',\n",
      "            'total': {'$sum': '$total'},\n",
      "            'title': {'$first': '$title'},\n",
      "            'countCC': {'$sum': 1}\n",
      "        }\n",
      "    },\n",
      "    {'$sort': {'total': -1}},\n",
      "    {'$limit':500}\n",
      "])\n",
      "\n",
      "topNpSongs = list(query['result'])\n",
      "print(\"Top 500 muzieknummers met meeste tweets\")"
     ],
     "language": "python",
     "metadata": {},
     "outputs": [
      {
       "output_type": "stream",
       "stream": "stdout",
       "text": [
        "Top 500 muzieknummers met meeste tweets\n"
       ]
      }
     ],
     "prompt_number": 3
    },
    {
     "cell_type": "code",
     "collapsed": false,
     "input": [
      "i = 0\n",
      "for topNpSong in topNpSongs: \n",
      "    query = db.npCountry_aggr.find({'mbId': topNpSong['_id']})\n",
      "    countries = list(query)\n",
      "    \n",
      "    i += 1\n",
      "    top50 = 1\n",
      "    if i > 50:\n",
      "        top50 = 0\n",
      "    \n",
      "    for country in countries:\n",
      "        db.npCountryTop500.insert({\n",
      "            'cc': country['cc'],\n",
      "            'mbId': country['mbId'],\n",
      "            'value': country['value'],\n",
      "            'title': country['title'],\n",
      "            'top50': top50\n",
      "        })\n",
      "print('done')"
     ],
     "language": "python",
     "metadata": {},
     "outputs": [
      {
       "output_type": "stream",
       "stream": "stdout",
       "text": [
        "done\n"
       ]
      }
     ],
     "prompt_number": 9
    }
   ],
   "metadata": {}
  }
 ]
}