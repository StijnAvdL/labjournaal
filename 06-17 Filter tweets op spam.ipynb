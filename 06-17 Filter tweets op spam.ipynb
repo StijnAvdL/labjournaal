{
 "metadata": {
  "name": "",
  "signature": "sha256:888707a55d034cb2f2f5cff11956e8dda4599e108a8fdc2cf1da43bb3862f8cb"
 },
 "nbformat": 3,
 "nbformat_minor": 0,
 "worksheets": [
  {
   "cells": [
    {
     "cell_type": "heading",
     "level": 1,
     "metadata": {},
     "source": [
      "Hoeveel spam zit er tussen de tweets die wij binnen halen?"
     ]
    },
    {
     "cell_type": "code",
     "collapsed": false,
     "input": [
      "%pylab inline\n",
      "\n",
      "import numpy as np\n",
      "import pymongo\n",
      "import matplotlib.pyplot as plt\n",
      "import pprint"
     ],
     "language": "python",
     "metadata": {},
     "outputs": [
      {
       "output_type": "stream",
       "stream": "stdout",
       "text": [
        "Populating the interactive namespace from numpy and matplotlib\n"
       ]
      }
     ],
     "prompt_number": 1
    },
    {
     "cell_type": "code",
     "collapsed": false,
     "input": [
      "# Connection to Mongo DB\n",
      "conn = pymongo.MongoClient('localhost', 27017)\n",
      "db = conn['mozart']\n",
      "\n",
      "print('connected to database')"
     ],
     "language": "python",
     "metadata": {},
     "outputs": [
      {
       "output_type": "stream",
       "stream": "stdout",
       "text": [
        "connected to database\n"
       ]
      }
     ],
     "prompt_number": 2
    },
    {
     "cell_type": "code",
     "collapsed": false,
     "input": [
      "totalTweets = db.frData.find().count()\n",
      "print(\"Totaal aantal tweets\", totalTweets)"
     ],
     "language": "python",
     "metadata": {},
     "outputs": [
      {
       "output_type": "stream",
       "stream": "stdout",
       "text": [
        "Totaal aantal tweets 42806\n"
       ]
      }
     ],
     "prompt_number": 3
    },
    {
     "cell_type": "heading",
     "level": 2,
     "metadata": {},
     "source": [
      "Aantal unieke gebruikers"
     ]
    },
    {
     "cell_type": "code",
     "collapsed": false,
     "input": [
      "query = db.frData.aggregate([\n",
      "    {\n",
      "        '$group': {\n",
      "            '_id': '$tweet.user.id', 'count': {'$sum': 1}\n",
      "        }\n",
      "    },\n",
      "    {\n",
      "        '$sort': {'count': -1}\n",
      "    }\n",
      "])\n",
      "userIds = list(query['result'])\n",
      "print(\"Aantal uneiek gebruikers\", len(userIds))"
     ],
     "language": "python",
     "metadata": {},
     "outputs": [
      {
       "output_type": "stream",
       "stream": "stdout",
       "text": [
        "Aantal uneiek gebruikers 5286\n"
       ]
      }
     ],
     "prompt_number": 4
    },
    {
     "cell_type": "markdown",
     "metadata": {},
     "source": [
      "Dus iedere gebruiker heeft germiddeld over een periode van ongeveer 40 dagen 8 tweets verstuurd. Dit zou betrouwbaar zijn... maar er zijn gebruikers met veel meer tweets."
     ]
    },
    {
     "cell_type": "heading",
     "level": 2,
     "metadata": {},
     "source": [
      "Spam filteren"
     ]
    },
    {
     "cell_type": "code",
     "collapsed": false,
     "input": [
      "tweets = list(db.frData.find())"
     ],
     "language": "python",
     "metadata": {},
     "outputs": [],
     "prompt_number": 5
    },
    {
     "cell_type": "code",
     "collapsed": false,
     "input": [
      "timestamp_spam = 10000000\n",
      "i = 0\n",
      "for tweet in tweets:\n",
      "    if i < 250:\n",
      "        try:\n",
      "            songId = tweet['song']['mb_id']\n",
      "        except:\n",
      "            songId = tweet['song']['_id']\n",
      "        userId = tweet['tweet']['user']['id']  \n",
      "        timestamp_ms =  int(tweet['tweet']['timestamp_ms'])\n",
      "        spam = {'spam':False, 'timestamp': timestamp_spam}\n",
      "        \n",
      "        userObj = db.userActivity.find_one({'userId': userId})\n",
      "        \n",
      "        # new user\n",
      "        if userObj == None:\n",
      "            db.userActivity.insert({'userId': userId, 'songs': [{'songId':songId, 'timestamp_ms': timestamp_ms}]})\n",
      "        else:\n",
      "            userSongObj = db.userActivity.find_one({'userId': userId, 'songs.songId': songId})\n",
      "            # new song\n",
      "            if userSongObj == None:\n",
      "                db.userActivity.update({ 'userId': userId}, { '$push': {'songs': {'songId':songId, 'timestamp_ms': timestamp_ms}}})\n",
      "            # update exsisting song\n",
      "            else:\n",
      "                for song in userSongObj['songs']:\n",
      "                    \n",
      "                    if song['songId'] == songId:\n",
      "                        print((timestamp_ms - song['timestamp_ms']), userId)\n",
      "                        if timestamp_ms - song['timestamp_ms'] < timestamp_spam:\n",
      "                            spam['spam'] = True\n",
      "                db.userActivity.update({ 'userId': userId, 'songs.songId': songId}, { '$set': {'timestamp_ms': timestamp_ms} })\n",
      "        \n",
      "        # insert tweet object database\n",
      "        db.frDataSpam.insert({\n",
      "            'tweet': tweet['tweet'], \n",
      "            'song': tweet['song'], \n",
      "            'estimatedGeo': tweet['estimatedGeo'], \n",
      "            'pipelineMetadata': tweet['pipelineMetadata'],\n",
      "            'spam': spam})\n",
      "    i += 1"
     ],
     "language": "python",
     "metadata": {},
     "outputs": [
      {
       "output_type": "stream",
       "stream": "stdout",
       "text": [
        "13134 2342143728.0\n",
        "6082637"
       ]
      },
      {
       "output_type": "stream",
       "stream": "stdout",
       "text": [
        " 531598120\n",
        "5157927"
       ]
      },
      {
       "output_type": "stream",
       "stream": "stdout",
       "text": [
        " 531598120\n",
        "8345746 531598120\n",
        "7827553 531598120\n",
        "7422864"
       ]
      },
      {
       "output_type": "stream",
       "stream": "stdout",
       "text": [
        " 398499675\n",
        "6189099 531598120\n",
        "9114361"
       ]
      },
      {
       "output_type": "stream",
       "stream": "stdout",
       "text": [
        " 531598120\n",
        "6277308 531598120\n",
        "8127770"
       ]
      },
      {
       "output_type": "stream",
       "stream": "stdout",
       "text": [
        " 531598120\n",
        "11785040 531598120\n",
        "7274021 531598120\n",
        "10823821"
       ]
      },
      {
       "output_type": "stream",
       "stream": "stdout",
       "text": [
        " 531598120\n",
        "989474 103468900\n",
        "12665627"
       ]
      },
      {
       "output_type": "stream",
       "stream": "stdout",
       "text": [
        " 398499675\n",
        "19140 898157048\n",
        "11868196 531598120\n",
        "11285196 531598120\n",
        "9302905"
       ]
      },
      {
       "output_type": "stream",
       "stream": "stdout",
       "text": [
        " 531598120\n",
        "15593421 531598120\n",
        "8814203 531598120\n"
       ]
      }
     ],
     "prompt_number": 67
    },
    {
     "cell_type": "heading",
     "level": 2,
     "metadata": {},
     "source": [
      "Radiostations filteren"
     ]
    },
    {
     "cell_type": "code",
     "collapsed": false,
     "input": [
      "query = db.frData.aggregate([\n",
      "    {\n",
      "        '$group': {\n",
      "            '_id': '$tweet.user.id', 'count': {'$sum': 1}\n",
      "        }\n",
      "    },\n",
      "    {\n",
      "        '$sort': {'count': -1}\n",
      "    }\n",
      "])\n",
      "\n",
      "topUsers = list(query['result'])"
     ],
     "language": "python",
     "metadata": {},
     "outputs": [],
     "prompt_number": 5
    },
    {
     "cell_type": "code",
     "collapsed": false,
     "input": [
      "i = 0\n",
      "for u in topUsers:\n",
      "    if u['count'] > 50:\n",
      "        user = db.frData.find_one({'tweet.user.id': u['_id']})\n",
      "        print(user['tweet']['user']['name']) \n",
      "        print(user['tweet']['user']['screen_name']) \n",
      "        pprint.pprint(user['tweet']['user']['description']) \n",
      "        print('===============================================')"
     ],
     "language": "python",
     "metadata": {},
     "outputs": [
      {
       "output_type": "stream",
       "stream": "stdout",
       "text": [
        "BestRadio On Air\n",
        "BestRadioOnAir\n",
        "'Le meilleur des Hits ! The best Hits!'\n",
        "===============================================\n",
        "Fip Now Plays\n",
        "FipNowPlays\n",
        "'Fil officiel de Fip, suivez la programmation en direct de la radio musicale '\n",
        "'la plus \u00e9clectique au monde. retrouvez nous sur @fipradio (ce service est en '\n",
        "'bet\u00e2)'\n",
        "===============================================\n",
        "BANG! Radio\u2122\n",
        "BANGbyDO\n",
        "'FOR SUBMISSIONS : bangbydo@gmail.com \u2605\u2605 MIXTAPE [BANG! #41] NOW AVAILABLE \u2605\u2605 '\n",
        "'FREE DOWNLOAD : http://www.bangbydo.com/bang-mixtape-2473.html'\n",
        "===============================================\n",
        "BlakMusicFirst\n",
        "BlakMusicFirst\n",
        "'Your Hip-Hop and R&B Source !\\nDL BMF APP: http://bit.ly/12YP3jq'\n",
        "===============================================\n",
        "plusfm\n",
        "plusfmradio\n",
        "'Eclectic electro pop trip-hop radio'\n",
        "===============================================\n",
        "MusicalProgram\n",
        "MusicalProgram\n",
        "'Listen best #hits from #80s on http://www.tropbeautiful.com and #non-stop '\n",
        "'#dance #music on http://www.beautifulmix.com #radio #free'\n",
        "===============================================\n",
        "Radio Top Side Live\n",
        "topsidelive\n",
        "\"La premi\u00e8re Webradio de la C\u00f4te d 'azur\\r\\n\"\n",
        "\"L'esprit radio libre de toutes les G\u00e9n\u00e9rations\"\n",
        "===============================================\n",
        "La Galette Sonore\n",
        "lagalettesonore\n",
        "'Un condens\u00e9 de la musique qui passe par les oreilles de @kxrz Compte '\n",
        "'addicted au hashtag #nowplaying'\n",
        "===============================================\n",
        "Ma\u00eetre Palmier"
       ]
      },
      {
       "output_type": "stream",
       "stream": "stdout",
       "text": [
        "\n",
        "AbrK_\n",
        "'In through the maze through your reflection, We enter from a terminal '\n",
        "'connection.'\n",
        "===============================================\n",
        "A-Japan (WLJ Radio)\n",
        "WLJRadio\n",
        "'About Japan Music Only new sound from Japan all days! '\n",
        "'https://www.facebook.com/WLJRadio Listen to the radio here: '\n",
        "'http://listen.radionomy.com/a-japan.m3u'\n",
        "===============================================\n",
        "GOAscend\n",
        "GOAscendancy\n",
        "'French Nerd.'\n",
        "===============================================\n",
        "Worth It.\n",
        "RealBeaster\n",
        "'17 Y-O #Boy/ MY SUNSHINE & BFF  @dreamer_2701| @AustinMahone @IAmBeckyG '\n",
        "'@Rihanna @LadyGaga @BrunoMars @Ddlovato @NICKIMINAJ, @BritneySpears & '\n",
        "'@Eminem = My Idols'\n",
        "===============================================\n",
        "#Mad_\u00c2me_A\n",
        "Mad_Ame_A\n",
        "'Ne vous trompez pas entre ma personnalit\u00e9 et mon attitude. Ma personnalit\u00e9 '\n",
        "'est qui JE SUIS et mon attitude d\u00e9pend de qui VOUS \u00caTES !'\n",
        "===============================================\n",
        "RADIO SATELLITE"
       ]
      },
      {
       "output_type": "stream",
       "stream": "stdout",
       "text": [
        "\n",
        "RADIOSATELLITE\n",
        "'RADIO SATELLITE: OLDIES POP + COUNTRY MUSIC \\n'\n",
        "'\\n'\n",
        "'Listen to RADIO SATELLITE on:\\n'\n",
        "'http://radiosatellite.co\\n'\n",
        "'http://www.facebook.com/radiosatellite.live'\n",
        "===============================================\n",
        "AbdulAziz Al Hindi\n",
        "alhindi_a\n",
        "'Finding peace in my little piece of life.'\n",
        "===============================================\n",
        "Alexander Ipfelkofer\n",
        "aipfelkofer\n",
        "'Photographer, Writer, Stage Actor, Traveler, Chief Destruction Officer and '\n",
        "'Curiosity Manager for you and you and you and yes, you, too.'\n",
        "===============================================\n",
        "heartbreak hotel.\n",
        "UnfoldingTime\n",
        "'Chlo\u00e9, po\u00e8te \u00e0 ces heures perdues. \u00c9coutes principalement du metal, rock, '\n",
        "'punk, grunge, indie, reggae. alice || @Arkyliane || Kybah Shade || MJ || \u00d8V '\n",
        "'|| Saez.'\n",
        "===============================================\n",
        "Alexis\n",
        "lgg_alexis\n",
        "'Lust for Life'\n",
        "===============================================\n",
        "Romain Delandrea"
       ]
      },
      {
       "output_type": "stream",
       "stream": "stdout",
       "text": [
        "\n",
        "iVersxce\n",
        "'21 y.o / \u2642 \u25b2 / Followed by @ConnorKingsland / @FrankieStorm_ / '\n",
        "'@AlexandraAmor / @jessicajarrell / @SleepSkee / @iamvantrease'\n",
        "===============================================\n",
        "Axel\n",
        "FrenchWhovian\n",
        "\"19; Etudiant en 2\u00e8me ann\u00e9e d'histoire, fan d'humour noir, s\u00e9rievore, \"\n",
        "'bibliophage, Whovian, Sherlockian, Fannibal, Queen, Bowie, Muse, Franz '\n",
        "'Ferdinand, etc'\n",
        "===============================================\n",
        "Oc\u00e9ane\n",
        "oce_30\n",
        "'FOB | 30STM | ATL | BMTH | SP | PARAMORE | NIRVANA | SWS |'\n",
        "===============================================\n",
        "Flvck\u00f8 \u2660 \n",
        "LM_974\n",
        "\"Don't be good my nigga, be great.\"\n",
        "===============================================\n",
        "ana\n",
        "Polskanaaise\n",
        "'|305km| |Minha Estrela \u00e0 jamais\u2728@CharlesHoss| |PolishGirl PortugueseGirl| '\n",
        "'{Ni fachos, ni \u00c9tat, ni fronti\u00e8res.} #antifa #acab'\n",
        "===============================================\n",
        "\u2601\ufe0f\n",
        "illuminajade\n",
        "'@1995posse'\n",
        "===============================================\n",
        "Solitaire. \u270b\n",
        "Chelsea_Tls\n",
        "'Ma femmax : @Eine_Antillaiz / IG : Chelsea_tls / #TeamDrizzy'\n",
        "===============================================\n",
        "Sir Douchebag\n",
        "Berzeck_Me\n",
        "'Today, I choose life. \u2022 Instagram & Snapchat : louannegnt'\n",
        "===============================================\n",
        "Betty Beverly"
       ]
      },
      {
       "output_type": "stream",
       "stream": "stdout",
       "text": [
        "\n",
        "BETTY5128BB\n",
        "'Hello, je me pr\u00e9sente : Betty .. je vis \u00e0 Paris, mes passions : la musique, '\n",
        "'les animaux,la mode, la photo, le cin\u00e9ma, le sport et fervente supportrice '\n",
        "'du PSG\u2764\ufe0f'\n",
        "===============================================\n",
        "Jeune Renoi Sauvage\u270c\n",
        "YoanBlood\n",
        "'No Love Allowed ..\\nIG : Tii_Aka  \\nSee You Again #F'\n",
        "===============================================\n",
        "Ludovic Fr\u00e9rot\n",
        "leludo\n",
        "'#IT professional in #Luxembourg, interested in nerd stuffs #java #android '\n",
        "'#CMS #WEB #BPM and others topics #politic #drawing #music #food #gaming, ...'\n",
        "===============================================\n",
        "K@RO#MaitreYoda"
       ]
      },
      {
       "output_type": "stream",
       "stream": "stdout",
       "text": [
        "\n",
        "karo22vielanuit\n",
        "'Rap FR / US #TeamPSG @LiilMickey #BestArtist - @DevilWoman__ @ScarfaceLoco '\n",
        "'@dragonelite3 @LiilMickey @AaxnissaChanel #CestLesMeilleurs - #TeamRap '\n",
        "'@DevilWoman__'\n",
        "===============================================\n",
        "So' P. \n",
        "SoParra\n",
        "\"J'aime dans le d\u00e9sordre les moustaches, Doctor Who, le cin\u00e9ma et la liste \"\n",
        "\"d'hommes de ma vie est bien trop longue.\"\n",
        "===============================================\n",
        "Darl\u00e8ne Nouemsi \n",
        "darlycrazy\n",
        "'Crazyness is my best attribute\u26abSmiling and  laughing are my habbits #TeamOL'\n",
        "===============================================\n"
       ]
      }
     ],
     "prompt_number": 94
    },
    {
     "cell_type": "code",
     "collapsed": false,
     "input": [
      "def checkIfRadio(user):\n",
      "    radio = False    \n",
      "    if 'radio' in user['name'].lower():\n",
      "        radio = True\n",
      "    elif 'radio' in user['screen_name'].lower():\n",
      "        radio = True\n",
      "    elif 'radio' in user['screen_name'].lower():\n",
      "        radio = True\n",
      "    return radio"
     ],
     "language": "python",
     "metadata": {},
     "outputs": [],
     "prompt_number": 74
    },
    {
     "cell_type": "code",
     "collapsed": false,
     "input": [
      "timestamp_spam = 10000000\n",
      "# i = 0\n",
      "for tweet in tweets:\n",
      "    try:\n",
      "        songId = tweet['song']['mb_id']\n",
      "    except:\n",
      "        songId = tweet['song']['_id']\n",
      "    userId = tweet['tweet']['user']['id']\n",
      "    timestamp_ms =  int(tweet['tweet']['timestamp_ms'])\n",
      "    spam = {'spam':False, 'timestamp': timestamp_spam, 'radio':False}\n",
      "\n",
      "    # check if twitter user is a radiostation\n",
      "    spam['radio'] = checkIfRadio(tweet['tweet']['user'])\n",
      "\n",
      "    userObj = db.userActivity.find_one({'userId': userId})\n",
      "\n",
      "    # new user\n",
      "    if userObj == None:\n",
      "        db.userActivity.insert({'userId': userId, 'songs': [{'songId':songId, 'timestamp_ms': timestamp_ms}]})\n",
      "    else:\n",
      "        userSongObj = db.userActivity.find_one({'userId': userId, 'songs.songId': songId})\n",
      "        # new song\n",
      "        if userSongObj == None:\n",
      "            db.userActivity.update({ 'userId': userId}, { '$push': {'songs': {'songId':songId, 'timestamp_ms': timestamp_ms}}})\n",
      "        # update exsisting song\n",
      "        else:\n",
      "            for song in userSongObj['songs']:\n",
      "                if song['songId'] == songId:\n",
      "                    if timestamp_ms - song['timestamp_ms'] < timestamp_spam:\n",
      "                        spam['spam'] = True\n",
      "            db.userActivity.update({ 'userId': userId, 'songs.songId': songId}, { '$set': {'timestamp_ms': timestamp_ms} })\n",
      "\n",
      "    # insert tweet object database\n",
      "    db.frDataSpam.insert({\n",
      "        'tweet': tweet['tweet'], \n",
      "        'song': tweet['song'], \n",
      "        'estimatedGeo': tweet['estimatedGeo'], \n",
      "        'pipelineMetadata': tweet['pipelineMetadata'],\n",
      "        'spam': spam})"
     ],
     "language": "python",
     "metadata": {},
     "outputs": [],
     "prompt_number": 41
    },
    {
     "cell_type": "heading",
     "level": 3,
     "metadata": {},
     "source": [
      "Hoeveel radiostation haal ik er correct uit?"
     ]
    },
    {
     "cell_type": "code",
     "collapsed": false,
     "input": [
      "query = db.frDataSpam.aggregate([\n",
      "    {'$match': {'spam.radio': False, 'spam.spam': True} },\n",
      "    {'$project': {'user': '$tweet.user.screen_name'}},\n",
      "    {'$group': {'_id': '$user'}} \n",
      "])\n",
      "\n",
      "spamNoRadio = list(query['result'])\n",
      "spamNoRadio"
     ],
     "language": "python",
     "metadata": {},
     "outputs": [
      {
       "metadata": {},
       "output_type": "pyout",
       "prompt_number": 50,
       "text": [
        "[{'_id': 'Sylarette'},\n",
        " {'_id': 'AntoineKryus'},\n",
        " {'_id': 'McDoPls'},\n",
        " {'_id': 'erdgnclk_mhtp'},\n",
        " {'_id': 'MorganCrt'},\n",
        " {'_id': 'J_Begoood'},\n",
        " {'_id': 'AxelAngelica'},\n",
        " {'_id': 'beatofshotgun'},\n",
        " {'_id': 'Hansy_Renard'},\n",
        " {'_id': 'StanDMbetch'},\n",
        " {'_id': 'Maida92'},\n",
        " {'_id': 'OcPittet'},\n",
        " {'_id': 'StylishBill'},\n",
        " {'_id': 'palmipedesaphik'},\n",
        " {'_id': 'kassOu_C'},\n",
        " {'_id': 'Chelsea_Tls'},\n",
        " {'_id': 'Theo_Huxxtable'},\n",
        " {'_id': 'oce_30'},\n",
        " {'_id': 'Lycaon_J'},\n",
        " {'_id': 'le_friwi'},\n",
        " {'_id': 'dominique44000'},\n",
        " {'_id': 'Aliice_Lr'},\n",
        " {'_id': 'YanDjok'},\n",
        " {'_id': 'sherilane_'},\n",
        " {'_id': '69Ben22'},\n",
        " {'_id': 'MelviinRedwood'},\n",
        " {'_id': 'dj_al1'},\n",
        " {'_id': 'tsirangama'},\n",
        " {'_id': 'PropJoyce'},\n",
        " {'_id': 'Tyranniquement'},\n",
        " {'_id': 'louloucharlade'},\n",
        " {'_id': 'PhotosChiara'},\n",
        " {'_id': 'Haykira_'},\n",
        " {'_id': 'sodeepbae'},\n",
        " {'_id': 'hilarylikound'},\n",
        " {'_id': 'IBSk2O'},\n",
        " {'_id': '404forever'},\n",
        " {'_id': 'louis_hrl'},\n",
        " {'_id': 'Miiidoons'},\n",
        " {'_id': 'Maxallica'},\n",
        " {'_id': 'Manon_Liam1993'},\n",
        " {'_id': 'Magxleo'},\n",
        " {'_id': 'rosoman'},\n",
        " {'_id': 'lgg_alexis'},\n",
        " {'_id': 'ProgRock92'},\n",
        " {'_id': 'FrLtRaine'},\n",
        " {'_id': 'darlycrazy'},\n",
        " {'_id': 'amazinglyblog'},\n",
        " {'_id': 'marionbbey'},\n",
        " {'_id': 'KLNRV'},\n",
        " {'_id': 'YelofMMG'},\n",
        " {'_id': 'GnZChill'},\n",
        " {'_id': 'npxrr'},\n",
        " {'_id': 'Nejettte'},\n",
        " {'_id': 'TimVrmd'},\n",
        " {'_id': 'AymerickLcom'},\n",
        " {'_id': 'Millenium_Melo'},\n",
        " {'_id': 'sohafid'},\n",
        " {'_id': 'Eljambonneau'},\n",
        " {'_id': 'DatGirlsAGenius'},\n",
        " {'_id': 'brunocandel'},\n",
        " {'_id': '19h47'},\n",
        " {'_id': 'ValentinHuby'},\n",
        " {'_id': 'Just_ineyou'},\n",
        " {'_id': 'ObradorSarah'},\n",
        " {'_id': 'Chloebringuier'},\n",
        " {'_id': 'Traish_'},\n",
        " {'_id': 'ParadigmeNp'},\n",
        " {'_id': 'MusicalProgram'},\n",
        " {'_id': 'Ebelle_Bosso'},\n",
        " {'_id': 'LMinnie19'},\n",
        " {'_id': 'DJamesBouin'},\n",
        " {'_id': 'MyBandNews'},\n",
        " {'_id': 'adwvle'},\n",
        " {'_id': 'LeBoeufCBon'},\n",
        " {'_id': 'karo22vielanuit'},\n",
        " {'_id': 'KittenByKitten'},\n",
        " {'_id': 'Cika89Jessica'},\n",
        " {'_id': 'FipNowPlays'},\n",
        " {'_id': 'Jnlien'},\n",
        " {'_id': 'NAKanaaneh'},\n",
        " {'_id': 'therealyoumei'},\n",
        " {'_id': 'Lm_sunshiine'},\n",
        " {'_id': 'steunoumady'},\n",
        " {'_id': 'Johanna_______'},\n",
        " {'_id': 'svp22121969'},\n",
        " {'_id': 'eman_emane_'},\n",
        " {'_id': 'AgatheIB'},\n",
        " {'_id': 'GOAscendancy'},\n",
        " {'_id': 'smileyna'},\n",
        " {'_id': 'VincentGrannola'},\n",
        " {'_id': 'alexxndra_'},\n",
        " {'_id': 'bonitadelcity'},\n",
        " {'_id': 'August_Jaason'},\n",
        " {'_id': 'Hugrd'},\n",
        " {'_id': 'COSMOMOBILE'},\n",
        " {'_id': 'WoOShoap'},\n",
        " {'_id': 'Krunch1970'},\n",
        " {'_id': 'misterfluo85'},\n",
        " {'_id': 'MSteve91'},\n",
        " {'_id': 'Misslolipod'},\n",
        " {'_id': 'RiyaUtatane'},\n",
        " {'_id': 'quentxn7'},\n",
        " {'_id': 'rayanestilinski'},\n",
        " {'_id': 'divsfbv'},\n",
        " {'_id': 'alhindi_a'},\n",
        " {'_id': 'christiluux'},\n",
        " {'_id': 'Dovahskygge0000'},\n",
        " {'_id': 'DaanWestbrook'},\n",
        " {'_id': 'rafdas91300'},\n",
        " {'_id': 'juliecarte'},\n",
        " {'_id': '_UriSarang'},\n",
        " {'_id': '_MrJda'},\n",
        " {'_id': 'Karlito_77'},\n",
        " {'_id': 'dranoushka'},\n",
        " {'_id': 'nanantika'},\n",
        " {'_id': 'musicforguest'},\n",
        " {'_id': 'pitchdu5032'},\n",
        " {'_id': 'noemie_sue'},\n",
        " {'_id': '69x18'},\n",
        " {'_id': '_arrivaltoearth'},\n",
        " {'_id': 'prozaiik'},\n",
        " {'_id': 'Kev_Zedreal'},\n",
        " {'_id': 'lagalettesonore'},\n",
        " {'_id': 'FlegzParis'},\n",
        " {'_id': 'pserratore'},\n",
        " {'_id': 'dxrksabbath'},\n",
        " {'_id': 'SpaceDementia7'},\n",
        " {'_id': 'lahtkoi'},\n",
        " {'_id': 'alicrvs'},\n",
        " {'_id': 'leludo'},\n",
        " {'_id': 'HelenaMeloni'},\n",
        " {'_id': 'Faldown_'},\n",
        " {'_id': 'moise3313'},\n",
        " {'_id': 'RealBeaster'},\n",
        " {'_id': 'LABFestival'},\n",
        " {'_id': 'yaannnavy'},\n",
        " {'_id': '_MercoBenz'},\n",
        " {'_id': 'Wastedteens'},\n",
        " {'_id': 'CamilleSinelle'},\n",
        " {'_id': 'Oneillcod'},\n",
        " {'_id': 'rikikirich'},\n",
        " {'_id': 'YoanBlood'}]"
       ]
      }
     ],
     "prompt_number": 50
    },
    {
     "cell_type": "code",
     "collapsed": false,
     "input": [
      "len(spamNoRadio)"
     ],
     "language": "python",
     "metadata": {},
     "outputs": [
      {
       "metadata": {},
       "output_type": "pyout",
       "prompt_number": 77,
       "text": [
        "143"
       ]
      }
     ],
     "prompt_number": 77
    },
    {
     "cell_type": "markdown",
     "metadata": {},
     "source": [
      "Gevonden radiostations die niet aangegeven staan als radiostation:\n",
      "\n",
      "- musicforguest\n",
      "- MusicalProgram\n",
      "- FipNowPlays\n",
      "\n",
      "Na een controle lijkt music een goede term om toe tevoegen. Ik wil kijken of ik hiermee ook alleen radio station eruit haal"
     ]
    },
    {
     "cell_type": "code",
     "collapsed": false,
     "input": [
      "def checkOnTerm(user, term, description = False):\n",
      "    term = term.lower()\n",
      "    radio = False    \n",
      "    if term in user['name'].lower():\n",
      "        radio = True\n",
      "    elif term in user['screen_name'].lower():\n",
      "        radio = True\n",
      "    elif description and term in user['description'].lower():\n",
      "        radio = True\n",
      "    return radio"
     ],
     "language": "python",
     "metadata": {},
     "outputs": [],
     "prompt_number": 67
    },
    {
     "cell_type": "code",
     "collapsed": false,
     "input": [
      "for spamUser in spamNoRadio:\n",
      "    user = db.frDataSpam.find_one({'tweet.user.screen_name': spamUser['_id']})\n",
      "    if checkOnTerm(user['tweet']['user'], 'music'):\n",
      "        print(user['tweet']['user']['screen_name'])"
     ],
     "language": "python",
     "metadata": {},
     "outputs": [
      {
       "output_type": "stream",
       "stream": "stdout",
       "text": [
        "MusicalProgram\n",
        "musicforguest"
       ]
      },
      {
       "output_type": "stream",
       "stream": "stdout",
       "text": [
        "\n"
       ]
      }
     ],
     "prompt_number": 55
    },
    {
     "cell_type": "code",
     "collapsed": false,
     "input": [
      "query = db.frDataSpam.aggregate([\n",
      "    {'$group': \n",
      "        {\n",
      "            '_id': '$tweet.user.screen_name',\n",
      "            'screen_name': {'$first': '$tweet.user.screen_name'},\n",
      "            'name': {'$first': '$tweet.user.name'},\n",
      "            'description': {'$first': '$tweet.user.description'}\n",
      "        }\n",
      "    } \n",
      "])\n",
      "\n",
      "users = list(query['result'])"
     ],
     "language": "python",
     "metadata": {},
     "outputs": [],
     "prompt_number": 68
    },
    {
     "cell_type": "code",
     "collapsed": false,
     "input": [
      "for user in users:\n",
      "    if checkOnTerm(user, 'music'):\n",
      "        print(user['screen_name'])"
     ],
     "language": "python",
     "metadata": {},
     "outputs": [
      {
       "output_type": "stream",
       "stream": "stdout",
       "text": [
        "rafmusic269\n",
        "clarensmusic\n",
        "sturdy514\n",
        "LooKAmusicmaker\n",
        "clembmusic\n",
        "RadiantQuasar\n",
        "KLYMusic\n",
        "Ines_music1\n",
        "kobenhavnmusic\n",
        "rxlmusic\n",
        "sancarolmusic\n",
        "RayaneBrtl\n",
        "MusicalProgram\n",
        "COEFFMUSIC\n",
        "KogalMusic\n",
        "mereevermusic\n",
        "JCRZMusic\n",
        "Lo_velifemus_ic\n",
        "GBHMusic\n",
        "Gwenaellemusic\n",
        "512FMusic\n",
        "SOS__MUSIC\n",
        "BlakMusicFirst\n",
        "musicforguest\n",
        "musicofjustin\n",
        "Goldhammermusic\n",
        "clydepmusic\n"
       ]
      }
     ],
     "prompt_number": 69
    },
    {
     "cell_type": "markdown",
     "metadata": {},
     "source": [
      "- MusicalProgram\n",
      "- musicforguest\n",
      "- musicofjustin\n",
      "\n",
      "Door de term muziek te gebruiken om te achterhalen of we met een radiostation hebben te maken is geen goed plan. De meeste zijn artiesten en maar 3 zijn daadwerkelijk radiostations. Dit zijn franse gebruikers laat staan hoe erg dit fotu zal gaan bij engelse twitteraars."
     ]
    },
    {
     "cell_type": "heading",
     "level": 4,
     "metadata": {},
     "source": [
      "Radiostation zoeken ook op beschrijving veld"
     ]
    },
    {
     "cell_type": "code",
     "collapsed": false,
     "input": [
      "i = 0\n",
      "for user in users:\n",
      "    if checkOnTerm(user, 'radio'):\n",
      "        i += 1\n",
      "        print(user['screen_name'])"
     ],
     "language": "python",
     "metadata": {},
     "outputs": [
      {
       "output_type": "stream",
       "stream": "stdout",
       "text": [
        "Sinya02radio\n",
        "RADIOSTAART\n",
        "campuslille\n",
        "Dkp_Family\n",
        "airgayradio\n",
        "radiomeuh\n",
        "plusfmradio\n",
        "BCJRADIO\n",
        "fipradio\n",
        "RadiOlendelL\n",
        "Radio_RNG\n",
        "Benradios\n",
        "BestRadioOnAir\n",
        "BANGbyDO\n",
        "Radio_NEO\n",
        "TRMNTRRDSHW\n",
        "topsidelive\n",
        "RADIOSATELLITE\n",
        "CueRadio1\n",
        "WLJRadio\n"
       ]
      }
     ],
     "prompt_number": 76
    },
    {
     "cell_type": "markdown",
     "metadata": {},
     "source": [
      "Levert geen extra radiostations op."
     ]
    },
    {
     "cell_type": "heading",
     "level": 3,
     "metadata": {},
     "source": [
      "Zijn aangegeven radiostation echt radiostations?"
     ]
    },
    {
     "cell_type": "code",
     "collapsed": false,
     "input": [
      "query = db.frDataSpam.aggregate([\n",
      "    {'$match': {'spam.radio': True} },\n",
      "    {'$project': {'user': '$tweet.user.screen_name'}},\n",
      "    {'$group': {'_id': '$user'}} \n",
      "])\n",
      "\n",
      "radios = list(query['result'])\n",
      "radios"
     ],
     "language": "python",
     "metadata": {},
     "outputs": [
      {
       "metadata": {},
       "output_type": "pyout",
       "prompt_number": 57,
       "text": [
        "[{'_id': 'RADIOSTAART'},\n",
        " {'_id': 'campuslille'},\n",
        " {'_id': 'Dkp_Family'},\n",
        " {'_id': 'MyriamSel25'},\n",
        " {'_id': 'radiomeuh'},\n",
        " {'_id': 'Radio_RNG'},\n",
        " {'_id': 'plusfmradio'},\n",
        " {'_id': 'BCJRADIO'},\n",
        " {'_id': 'Sinya02radio'},\n",
        " {'_id': 'Benradios'},\n",
        " {'_id': 'TRMNTRRDSHW'},\n",
        " {'_id': 'RadiOlendelL'},\n",
        " {'_id': 'RADIOSATELLITE'},\n",
        " {'_id': 'topsidelive'},\n",
        " {'_id': 'CueRadio1'},\n",
        " {'_id': 'WLJRadio'},\n",
        " {'_id': 'Radio_NEO'},\n",
        " {'_id': 'airgayradio'},\n",
        " {'_id': 'fipradio'},\n",
        " {'_id': 'BANGbyDO'},\n",
        " {'_id': 'BestRadioOnAir'}]"
       ]
      }
     ],
     "prompt_number": 57
    },
    {
     "cell_type": "markdown",
     "metadata": {},
     "source": [
      "- TRMNTRRDSHW (radio medewerker)\n",
      "- RADIOSATELLITE (Kleine zelf broadcaster)\n",
      "\n",
      "De rest zijn radio stations"
     ]
    },
    {
     "cell_type": "heading",
     "level": 1,
     "metadata": {},
     "source": [
      "Conclusie"
     ]
    },
    {
     "cell_type": "markdown",
     "metadata": {},
     "source": [
      "Er zijn twee grote conclusie getrokken qua betrekking hoe we spam gaan filteren. Ten eerste worden gebruikers voortaan opgeslagen in de database om vervolgens te kijken of ze al eerder over een bepaald muzieknummer hebben tweet en dat binnen een bepaald tijdsspan, zo ja wordt het als spam gemarkteerd. \n",
      "\n",
      "Daarnaast willen we radiostation tussen de andere gebruikers filteren. Dit doen we door te controleren of het woord 'radio' voorkomt in de name of screen_name veld. Dit is erg efficent en eenvoudige functie. "
     ]
    }
   ],
   "metadata": {}
  }
 ]
}