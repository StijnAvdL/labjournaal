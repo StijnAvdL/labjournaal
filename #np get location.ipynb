{
 "metadata": {
  "name": "",
  "signature": "sha256:64ef08cbdf3e421d774d119a7a7f8554b92e652a883f6374f16c210c530cb56f"
 },
 "nbformat": 3,
 "nbformat_minor": 0,
 "worksheets": [
  {
   "cells": [
    {
     "cell_type": "heading",
     "level": 1,
     "metadata": {},
     "source": [
      "Get location from #np tweets"
     ]
    },
    {
     "cell_type": "markdown",
     "metadata": {},
     "source": [
      "Datum: 02-04-2015"
     ]
    },
    {
     "cell_type": "markdown",
     "metadata": {},
     "source": [
      "URL"
     ]
    },
    {
     "cell_type": "heading",
     "level": 2,
     "metadata": {},
     "source": [
      "Welke velden kunnen iets zegen over location van een tweet?"
     ]
    },
    {
     "cell_type": "code",
     "collapsed": false,
     "input": [
      "%pylab inline"
     ],
     "language": "python",
     "metadata": {},
     "outputs": [
      {
       "output_type": "stream",
       "stream": "stdout",
       "text": [
        "Populating the interactive namespace from numpy and matplotlib\n"
       ]
      }
     ],
     "prompt_number": 1
    },
    {
     "cell_type": "code",
     "collapsed": false,
     "input": [
      "import pymongo\n",
      "\n",
      "# Connection to Mongo DB\n",
      "conn = pymongo.MongoClient('localhost', 27017)\n",
      "db = conn['mozart']\n",
      "\n",
      "print('connected to database')"
     ],
     "language": "python",
     "metadata": {},
     "outputs": [
      {
       "output_type": "stream",
       "stream": "stdout",
       "text": [
        "connected to database\n"
       ]
      }
     ],
     "prompt_number": 2
    },
    {
     "cell_type": "heading",
     "level": 3,
     "metadata": {},
     "source": [
      "Display all field about location"
     ]
    },
    {
     "cell_type": "code",
     "collapsed": false,
     "input": [
      "from pprint import pprint\n",
      "\n",
      "record = db['twitter-np'].aggregate([\n",
      "    {\n",
      "        \"$match\": {\n",
      "            \"tweet.geo.type\": {\"$exists\": 1}\n",
      "        }\n",
      "    },\n",
      "    {\n",
      "        \"$limit\": 1\n",
      "    },\n",
      "    {\n",
      "        \"$project\": {\n",
      "            \"_id\": 0,\n",
      "            \"geo_enabled\": \"$tweet.user.geo_enabled\",\n",
      "            \"geo\": \"$tweet.geo\",\n",
      "            \"lang_user\": \"$tweet.user.lang\",\n",
      "            \"time_zone\": \"$tweet.user.time_zone\",\n",
      "            \"utc_offset\": \"$tweet.user.utc_offset\",\n",
      "            \"location\": \"$tweet.user.location\",\n",
      "            \"place\": \"$tweet.place\",\n",
      "            \"coordinates\": \"$tweet.coordinates\",\n",
      "            \"lang_tweet\": \"$tweet.lang\" \n",
      "        }\n",
      "    }\n",
      "])\n",
      "\n",
      "pprint(record['result'])"
     ],
     "language": "python",
     "metadata": {},
     "outputs": [
      {
       "output_type": "stream",
       "stream": "stdout",
       "text": [
        "[{'coordinates': {'coordinates': [25.212937, 54.682721], 'type': 'Point'},\n",
        "  'geo': {'coordinates': [54.682721, 25.212937], 'type': 'Point'},\n",
        "  'geo_enabled': True,\n",
        "  'lang_tweet': 'en',\n",
        "  'lang_user': 'en',\n",
        "  'location': 'Portugal',\n",
        "  'place': {'attributes': {},\n",
        "            'bounding_box': {'coordinates': [[[25.0245985, 54.5689032],\n",
        "                                              [25.0245985, 54.8322118],\n",
        "                                              [25.48146, 54.8322118],\n",
        "                                              [25.48146, 54.5689032]]],\n",
        "                             'type': 'Polygon'},\n",
        "            'country': 'Lietuva',\n",
        "            'country_code': 'LT',\n",
        "            'full_name': 'Vilnius, Lietuva',\n",
        "            'id': '01cce83d8638e5f7',\n",
        "            'name': 'Vilnius',\n",
        "            'place_type': 'city',\n",
        "            'url': 'https://api.twitter.com/1.1/geo/id/01cce83d8638e5f7.json'},\n",
        "  'time_zone': 'Lisbon',\n",
        "  'utc_offset': 0}]\n"
       ]
      }
     ],
     "prompt_number": 3
    },
    {
     "cell_type": "markdown",
     "metadata": {},
     "source": [
      "<p>Hierbij kan <b>geo_enabled</b> direct uit de lijst want al staat deze op <b>true</b>, de <b>geo</b> veld weergeeft de location en dus heeft die geo_enabled <b>GEEN</b> toegevoegde waarde.</p>"
     ]
    },
    {
     "cell_type": "heading",
     "level": 3,
     "metadata": {},
     "source": [
      "Coordinates VS geo"
     ]
    },
    {
     "cell_type": "code",
     "collapsed": false,
     "input": [
      "recordGeo = db['twitter-np'].aggregate([\n",
      "    {\n",
      "        \"$match\": {\n",
      "            \"tweet.geo.type\": {\"$exists\": 1},\n",
      "            \"tweet.coordinates.type\": {\"$exists\": 0}\n",
      "        }\n",
      "    },\n",
      "    {\"$group\": {\"_id\": \"$_id\"} }\n",
      "])\n",
      "\n",
      "recordCoordinates = db['twitter-np'].aggregate([\n",
      "    {\n",
      "        \"$match\": {\n",
      "            \"tweet.geo.type\": {\"$exists\": 0},\n",
      "            \"tweet.coordinates.type\": {\"$exists\": 1}\n",
      "        }\n",
      "    },\n",
      "    {\"$group\": {\"_id\": \"$_id\"} }\n",
      "])\n",
      "\n",
      "recordBoth = db['twitter-np'].aggregate([\n",
      "    {\n",
      "        \"$match\": {\n",
      "            \"tweet.geo.type\": {\"$exists\": 1},\n",
      "            \"tweet.coordinates.type\": {\"$exists\": 1}\n",
      "        }\n",
      "    },\n",
      "    {\"$group\": {\"_id\": \"$_id\"} }\n",
      "])\n",
      "\n",
      "print('Totaal aantal met ALLEEN coorinates of geo obj:', (len(list(recordGeo['result']))+len(list(recordCoordinates['result']))))\n",
      "print('Totaal aantal met beide:', len(list(recordBoth['result'])))"
     ],
     "language": "python",
     "metadata": {},
     "outputs": [
      {
       "output_type": "stream",
       "stream": "stdout",
       "text": [
        "Totaal aantal met ALLEEN coorinates of geo obj: 0\n",
        "Totaal aantal met beide: 1011\n"
       ]
      }
     ],
     "prompt_number": 4
    },
    {
     "cell_type": "markdown",
     "metadata": {},
     "source": [
      "<p>Beide velden bestaan in een tweet of bestaan niet. Ik kies voor <b>Coordinates</b> omdat de lon bovenaan staat en zo worden de lon en lat ook uitgelezen door D3 worldmap API.</p>"
     ]
    },
    {
     "cell_type": "heading",
     "level": 3,
     "metadata": {},
     "source": [
      "Places & tweet location"
     ]
    },
    {
     "cell_type": "code",
     "collapsed": false,
     "input": [
      "totaalRecords = db['twitter-np'].find().count()\n",
      "\n",
      "record = db['twitter-np'].aggregate([\n",
      "    {\n",
      "        \"$match\": {\n",
      "            \"tweet.geo.type\": {\"$exists\": 0},\n",
      "            \"tweet.place.id\": {\"$exists\": 1}\n",
      "        }\n",
      "    },\n",
      "    {\"$group\": {\"_id\": \"$_id\"} }\n",
      "])\n",
      "\n",
      "record1 = db['twitter-np'].aggregate([\n",
      "    {\n",
      "        \"$match\": {\n",
      "            \"tweet.geo.type\": {\"$exists\": 1},\n",
      "            \"tweet.place.id\": {\"$exists\": 0}\n",
      "        }\n",
      "    },\n",
      "    {\"$group\": {\"_id\": \"$_id\"} }\n",
      "])\n",
      "\n",
      "recordGeo = db['twitter-np'].aggregate([\n",
      "    {\n",
      "        \"$match\": {\n",
      "            \"tweet.geo.type\": {\"$exists\": 1}\n",
      "        }\n",
      "    },\n",
      "    {\"$group\": {\"_id\": \"$_id\"} }\n",
      "])\n",
      "\n",
      "print('Totaal aantal tweet:', totaalRecords)\n",
      "print('Totaal aantal met tweet location:', len(list(recordGeo['result'])))\n",
      "print('Totaal aantal met WEL places field maar NIET geo:', len(list(record['result'])))\n",
      "print('Totaal aantal met NIET places field maar WEL geo:', len(list(record1['result'])))"
     ],
     "language": "python",
     "metadata": {},
     "outputs": [
      {
       "output_type": "stream",
       "stream": "stdout",
       "text": [
        "Totaal aantal tweet: 42271\n",
        "Totaal aantal met tweet location: 1011\n",
        "Totaal aantal met WEL places field maar NIET geo: 741\n",
        "Totaal aantal met NIET places field maar WEL geo: 0\n"
       ]
      }
     ],
     "prompt_number": 5
    },
    {
     "cell_type": "markdown",
     "metadata": {},
     "source": [
      "<p>Tweets met een tweet locatie maar zonder een place obj waarin ook locatie staan bestaan niet. Wel anders waarbij de tweet locatie niet bekend is maar er wel locatie uit de place obj gehaald kan worden.</p>"
     ]
    },
    {
     "cell_type": "heading",
     "level": 4,
     "metadata": {},
     "source": [
      "Liggen de place coorindaten dicht bij de tweet coordinaten?"
     ]
    },
    {
     "cell_type": "code",
     "collapsed": false,
     "input": [
      "records = db['twitter-np'].aggregate(\n",
      "    [\n",
      "        {\n",
      "            \"$match\": {\n",
      "                \"tweet.coordinates.type\": {\"$exists\": 1}\n",
      "            }\n",
      "        },\n",
      "        {\"$unwind\":\"$tweet.coordinates.coordinates\"},\n",
      "        {\n",
      "            \"$project\": {\n",
      "                \"user_location\": \"$tweet.coordinates.coordinates\",\n",
      "                \"place_locations\": \"$tweet.place.bounding_box.coordinates\"\n",
      "            }    \n",
      "        },\n",
      "        {\"$unwind\":\"$place_locations\"},\n",
      "        {\"$unwind\":\"$place_locations\"},\n",
      "        {\"$unwind\":\"$place_locations\"},\n",
      "        {\n",
      "            \"$group\": {\n",
      "                \"_id\": \"$_id\",\n",
      "                \"user\": {\"$first\": \"$user_location\"},\n",
      "                \"place\": {\"$first\": \"$place_locations\"}\n",
      "            }\n",
      "        },\n",
      "        {\n",
      "            \"$project\": {\n",
      "                \"_id\": 0,\n",
      "                \"user\": \"$user\",\n",
      "                \"place\": \"$place\",\n",
      "            }  \n",
      "        }\n",
      "    ]\n",
      ")\n",
      "\n",
      "listLocations = list(records['result'])"
     ],
     "language": "python",
     "metadata": {},
     "outputs": [],
     "prompt_number": 6
    },
    {
     "cell_type": "code",
     "collapsed": false,
     "input": [
      "loc_diff_big = 0\n",
      "loc_diff_small = 0\n",
      "loc_between = 0\n",
      "\n",
      "for location in listLocations:\n",
      "    loc_diff = location['user'] - location['place']\n",
      "    if loc_diff > 5 or loc_diff < -5:\n",
      "        loc_diff_big = loc_diff_big + 1\n",
      "    elif loc_diff > 1 or loc_diff < -1:\n",
      "        loc_between = loc_between + 1 \n",
      "    else:\n",
      "        loc_diff_small = loc_diff_small + 1\n",
      "print(round((loc_diff_small/len(listLocations))*100,2),\"%tweets hebben een kleiner verschil dan 1 lon dan de place\")\n",
      "print(round((loc_between/len(listLocations))*100,2),\"% tweets hebben een groter verschil dan 1 lon dan de place\")\n",
      "print(round((loc_diff_big/len(listLocations))*100,2),\"% tweets hebben een groter verschil dan 5 lon dan de place\")"
     ],
     "language": "python",
     "metadata": {},
     "outputs": [
      {
       "output_type": "stream",
       "stream": "stdout",
       "text": [
        "93.27 %tweets hebben een kleiner verschil dan 1 lon dan de place\n",
        "4.35 % tweets hebben een groter verschil dan 1 lon dan de place\n",
        "2.37 % tweets hebben een groter verschil dan 5 lon dan de place\n"
       ]
      }
     ],
     "prompt_number": 7
    },
    {
     "cell_type": "markdown",
     "metadata": {},
     "source": [
      "<p>Ver weg het grootste gedeelte van de tweet's user en place locatie vallen binnen een straal van 1 longitude. Over de rest valt ook iets te zeggen dat ze waarschijnlijk uit hetzelfde land komen. Want grote landen strekken over meerdere longitudes uit.</p>"
     ]
    },
    {
     "cell_type": "heading",
     "level": 3,
     "metadata": {},
     "source": [
      "Language"
     ]
    },
    {
     "cell_type": "markdown",
     "metadata": {},
     "source": [
      "Ik heb gekozen voor de user language object omdat deze door de gebruiker zelf ingevoerd is. De language object van de tweet wordt op basis van de tweet gebasseerd."
     ]
    },
    {
     "cell_type": "code",
     "collapsed": false,
     "input": [
      "recordLang = db['twitter-np'].aggregate(\n",
      "    [\n",
      "        {\n",
      "            \"$project\": {\n",
      "                \"_id\": 0,\n",
      "                \"lang\": \"$tweet.user.lang\"\n",
      "            }\n",
      "        },\n",
      "        {\n",
      "            \"$group\": {\n",
      "                \"_id\": \"$lang\",\n",
      "                \"count\": {\"$sum\": 1}\n",
      "            }\n",
      "        },\n",
      "        {\n",
      "            \"$sort\": {\"count\": -1}\n",
      "        },\n",
      "        {\n",
      "            \"$project\": {\n",
      "                \"_id\": 0,\n",
      "                \"lang\": \"$_id\",\n",
      "                \"count\": \"$count\"\n",
      "            }\n",
      "        }\n",
      "    ]\n",
      ")\n",
      "\n",
      "languages =list(recordLang['result'])\n",
      "print(\"Aantal verschillende talen:\", len(languages))"
     ],
     "language": "python",
     "metadata": {},
     "outputs": [
      {
       "output_type": "stream",
       "stream": "stdout",
       "text": [
        "Aantal verschillende talen: 42\n"
       ]
      }
     ],
     "prompt_number": 8
    },
    {
     "cell_type": "heading",
     "level": 4,
     "metadata": {},
     "source": [
      "Tabel top 10 language"
     ]
    },
    {
     "cell_type": "code",
     "collapsed": false,
     "input": [
      "import matplotlib.pyplot as plt\n",
      "import time\n",
      "\n",
      "today= time.strftime(\"%d/%m/%Y\")\n",
      "countTop10=[]\n",
      "languageTop10=[]\n",
      "i = 0\n",
      "for l, lang in enumerate(languages):\n",
      "    if i < 10:\n",
      "        countTop10.append(lang['count'])\n",
      "        languageTop10.append(lang['lang'])\n",
      "    i = i + 1"
     ],
     "language": "python",
     "metadata": {},
     "outputs": [],
     "prompt_number": 9
    },
    {
     "cell_type": "code",
     "collapsed": false,
     "input": [
      "ind = np.arange(10)  # the x locations for the groups\n",
      "\n",
      "fig, ax = plt.subplots()\n",
      "rects1 = ax.bar(ind, countTop10)\n",
      "\n",
      "# add some text for labels, title and axes ticks\n",
      "ax.set_ylabel('Tweets')\n",
      "ax.set_title('Tweets top 10 language '+today)\n",
      "ax.set_xticks(ind+.35)\n",
      "ax.set_xticklabels( languageTop10 )\n",
      "\n",
      "plt.show()"
     ],
     "language": "python",
     "metadata": {},
     "outputs": [
      {
       "metadata": {},
       "output_type": "display_data",
       "png": "[encoded data removed]",
       "text": [
        "<matplotlib.figure.Figure at 0x734cfd0>"
       ]
      }
     ],
     "prompt_number": 10
    },
    {
     "cell_type": "markdown",
     "metadata": {},
     "source": [
      "De default language is zeer waarschijnlijk <b>en</b> (engels) waardoor zo ontzettend hoog is. Daarna lijkt de data wel redelijk waarheidsgetrouw te zijn maar als je beter kijkt zie je dat bijvoorbeeld <b>us</b> er niet tussen staan. Net zoals Brazil die niet terug te vinden is en waarschijnlijk onder <b>pt</b> wordt geplaatst omdat daar portugees wordt gesproken. "
     ]
    },
    {
     "cell_type": "code",
     "collapsed": false,
     "input": [
      "count=[]\n",
      "language=[]\n",
      "i = 0\n",
      "for l, lang in enumerate(languages):\n",
      "    if i < 17 and i > 0:\n",
      "        count.append(lang['count'])\n",
      "        language.append(lang['lang'])\n",
      "    if lang['lang'] != 'und':\n",
      "        i = i + 1"
     ],
     "language": "python",
     "metadata": {},
     "outputs": [],
     "prompt_number": 11
    },
    {
     "cell_type": "code",
     "collapsed": false,
     "input": [
      "ind = np.arange(16)  # the x locations for the groups\n",
      "\n",
      "fig, ax = plt.subplots()\n",
      "rects1 = ax.bar(ind, count)\n",
      "\n",
      "# add some text for labels, title and axes ticks\n",
      "ax.set_ylabel('Tweets')\n",
      "ax.set_title('Tweets each language '+today)\n",
      "ax.set_xticks(ind+.35)\n",
      "ax.set_xticklabels( language )\n",
      "\n",
      "plt.show()"
     ],
     "language": "python",
     "metadata": {},
     "outputs": [
      {
       "metadata": {},
       "output_type": "display_data",
       "png": "[encoded data removed]",
       "text": [
        "<matplotlib.figure.Figure at 0x7247cf8>"
       ]
      }
     ],
     "prompt_number": 12
    },
    {
     "cell_type": "markdown",
     "metadata": {},
     "source": [
      "Deze grafiek geeft een geloofwaardige weergaven van de talen die de twitter users spreken in verhouding met de wereld bevolking. Maar of <b>pt</b> (portugees) nu de gebruiker uit portugal of in brazille komt is nog niet duidelijk. "
     ]
    },
    {
     "cell_type": "heading",
     "level": 4,
     "metadata": {},
     "source": [
      "UTC offset"
     ]
    },
    {
     "cell_type": "code",
     "collapsed": false,
     "input": [
      "recordUTC = db['twitter-np'].aggregate(\n",
      "    [\n",
      "        {\n",
      "            \"$match\": {\n",
      "                \"tweet.user.lang\": \"pt\"\n",
      "            }\n",
      "        },\n",
      "        {\n",
      "            \"$project\": {\n",
      "                \"_id\": 0,\n",
      "                \"time\": \"$tweet.user.utc_offset\",\n",
      "            }\n",
      "        },\n",
      "        {\n",
      "            \"$group\": {\n",
      "                \"_id\": \"$time\",\n",
      "                \"count\": {\"$sum\": 1}\n",
      "            }\n",
      "        },\n",
      "        { \"$sort\": { \"count\": -1 } },\n",
      "        {\n",
      "            \"$project\": {\n",
      "                \"_id\": 0,\n",
      "                \"time\": \"$_id\",\n",
      "                \"count\": \"$count\"\n",
      "            }\n",
      "        }\n",
      "    ]\n",
      ")\n",
      "\n",
      "utcs =list(recordUTC['result'])"
     ],
     "language": "python",
     "metadata": {},
     "outputs": [],
     "prompt_number": 13
    },
    {
     "cell_type": "code",
     "collapsed": false,
     "input": [
      "countUTC=[]\n",
      "languageUTC=[]\n",
      "i = 0\n",
      "for u, utc in enumerate(utcs):\n",
      "    if i < 6:\n",
      "        countUTC.append(utc['count'])\n",
      "        languageUTC.append(utc['time'])\n",
      "    i = i + 1\n",
      "\n",
      "ind = np.arange(6)  # the x locations for the groups\n",
      "\n",
      "fig, ax = plt.subplots()\n",
      "rects1 = ax.bar(ind, countUTC)\n",
      "\n",
      "# add some text for labels, title and axes ticks\n",
      "ax.set_ylabel('Tweets')\n",
      "ax.set_title('Timezone UTC offset in sec '+today)\n",
      "ax.set_xticks(ind+.35)\n",
      "ax.set_xticklabels( languageUTC )\n",
      "\n",
      "plt.show()"
     ],
     "language": "python",
     "metadata": {},
     "outputs": [
      {
       "metadata": {},
       "output_type": "display_data",
       "png": "[encoded data removed]",
       "text": [
        "<matplotlib.figure.Figure at 0x7841b70>"
       ]
      }
     ],
     "prompt_number": 14
    },
    {
     "cell_type": "markdown",
     "metadata": {},
     "source": [
      "<p>Volgens utc offset van de gebruiker die portugees spreken wordt daarvan het meeste gepost in UTC +1. Dit betekend landen zoals Nederland, duitsland en frankrijk. Maar niet portugal of brazille. Bij testen van andere talen kwamen we vaak op dezelfde probleem uit dat de UTC offset niet overeen komt met de landen waarin het meest de des betreffende taal wordt gesproken.</p>\n",
      "<p>Mijn conclusie is om de comibinatie met language en utc offset niet toe te passen om de locatie te bepalen van de tweet.</p>"
     ]
    },
    {
     "cell_type": "heading",
     "level": 4,
     "metadata": {},
     "source": [
      "Time zone"
     ]
    },
    {
     "cell_type": "code",
     "collapsed": false,
     "input": [
      "recordTimeZone = db['twitter-np'].aggregate(\n",
      "    [\n",
      "        {\n",
      "            \"$match\": {\n",
      "                \"tweet.user.lang\": \"pt\"\n",
      "            }\n",
      "        },\n",
      "        {\n",
      "            \"$project\": {\n",
      "                \"_id\": 0,\n",
      "                \"time\": \"$tweet.user.time_zone\",\n",
      "            }\n",
      "        },\n",
      "        {\n",
      "            \"$group\": {\n",
      "                \"_id\": \"$time\",\n",
      "                \"count\": {\"$sum\": 1}\n",
      "            }\n",
      "        },\n",
      "        { \"$sort\": { \"count\": -1 } },\n",
      "        {\n",
      "            \"$project\": {\n",
      "                \"_id\": 0,\n",
      "                \"time\": \"$_id\",\n",
      "                \"count\": \"$count\"\n",
      "            }\n",
      "        }\n",
      "    ]\n",
      ")\n",
      "\n",
      "timeZones =list(recordTimeZone['result'])"
     ],
     "language": "python",
     "metadata": {},
     "outputs": [],
     "prompt_number": 15
    },
    {
     "cell_type": "code",
     "collapsed": false,
     "input": [
      "countTimeZone=[]\n",
      "languageTimeZone=[]\n",
      "i = 0\n",
      "for u, timeZone in enumerate(timeZones):\n",
      "    if i < 7:\n",
      "        countTimeZone.append(timeZone['count'])\n",
      "        languageTimeZone.append(timeZone['time'])\n",
      "    i = i + 1\n",
      "\n",
      "ind = np.arange(7)  # the x locations for the groups\n",
      "\n",
      "fig, ax = plt.subplots()\n",
      "rects1 = ax.bar(ind, countTimeZone)\n",
      "\n",
      "# add some text for labels, title and axes ticks\n",
      "ax.set_ylabel('Tweets')\n",
      "ax.set_title('Timezone '+today)\n",
      "ax.set_xticks(ind+.35)\n",
      "ax.set_xticklabels( languageTimeZone,rotation='vertical' )\n",
      "\n",
      "plt.show()"
     ],
     "language": "python",
     "metadata": {},
     "outputs": [
      {
       "metadata": {},
       "output_type": "display_data",
       "png": "[encoded data removed]",
       "text": [
        "<matplotlib.figure.Figure at 0x7598390>"
       ]
      }
     ],
     "prompt_number": 16
    },
    {
     "cell_type": "markdown",
     "metadata": {},
     "source": [
      "<p>Hierbij lijken de gegevens meer te kloppen en zullen we ook geen last hebben van winter en zomer tijd. Toch ben ik ook over deze data nog niet tevrede</p>"
     ]
    },
    {
     "cell_type": "heading",
     "level": 3,
     "metadata": {},
     "source": [
      "Locatie beschrijving"
     ]
    },
    {
     "cell_type": "code",
     "collapsed": false,
     "input": [
      "totaalRecords = db['twitter-np'].find().count()\n",
      "recordlocations = db['twitter-np'].aggregate([\n",
      "    {\n",
      "        \"$match\": {\n",
      "            \"tweet.user.location\": {\"$exists\": 1}\n",
      "        }\n",
      "    },\n",
      "    {\n",
      "        \"$group\": { \n",
      "            \"_id\": \"$tweet.user.location\",\n",
      "            \"count\": {\"$sum\": 1}\n",
      "        }\n",
      "    },\n",
      "    {\n",
      "        \"$sort\": {\"count\": -1}\n",
      "    }\n",
      "])\n",
      "\n",
      "locations =list(recordlocations['result'])\n",
      "emptyLoc = locations.pop(0)\n",
      "print(round((emptyLoc['count']/totaalRecords)*100,2),\"% van de tweets hebben geen locatie beschrijving\")"
     ],
     "language": "python",
     "metadata": {},
     "outputs": [
      {
       "output_type": "stream",
       "stream": "stdout",
       "text": [
        "22.41 % van de tweets hebben geen locatie beschrijving\n"
       ]
      }
     ],
     "prompt_number": 17
    },
    {
     "cell_type": "code",
     "collapsed": false,
     "input": [
      "countLoc = []\n",
      "languageLoc =[]\n",
      "i = 0\n",
      "for l, loc in enumerate(locations):\n",
      "    if i < 10:\n",
      "        countLoc.append(loc['count'])\n",
      "        languageLoc.append(loc['_id'])\n",
      "    i = i + 1\n",
      "\n",
      "ind = np.arange(10)  # the x locations for the groups\n",
      "\n",
      "fig, ax = plt.subplots()\n",
      "rects1 = ax.bar(ind, countLoc)\n",
      "\n",
      "# add some text for labels, title and axes ticks\n",
      "ax.set_ylabel('Tweets')\n",
      "ax.set_title('Timezone UTC offset in sec '+today)\n",
      "ax.set_xticks(ind+.35)\n",
      "ax.set_xticklabels( languageLoc,rotation='90')\n",
      "\n",
      "plt.show()"
     ],
     "language": "python",
     "metadata": {},
     "outputs": [
      {
       "metadata": {},
       "output_type": "display_data",
       "png": "[encoded data removed]",
       "text": [
        "<matplotlib.figure.Figure at 0x7f7e208>"
       ]
      }
     ],
     "prompt_number": 18
    },
    {
     "cell_type": "markdown",
     "metadata": {},
     "source": [
      "<b>Beschrijving op twitter API:</b> <br>\n",
      "\n",
      "The user-defined location for this account\u2019s profile. Not necessarily a location nor parseable. This field will occasionally be fuzzily interpreted by the Search service."
     ]
    },
    {
     "cell_type": "markdown",
     "metadata": {},
     "source": [
      "De beschrijving van Twitter geeft al aan dat deze veld door de gebruikers zelf ingevult kan worden waardoor er veel rotzooi tussen zit"
     ]
    },
    {
     "cell_type": "heading",
     "level": 4,
     "metadata": {},
     "source": [
      "Plugin finding location"
     ]
    },
    {
     "cell_type": "markdown",
     "metadata": {},
     "source": [
      "https://github.com/geopy/geopy   \n",
      "http://www.findlatitudeandlongitude.com/find-address-from-latitude-and-longitude/#.VR1fDfmUeg0"
     ]
    },
    {
     "cell_type": "code",
     "collapsed": false,
     "input": [
      "from geopy.geocoders import Nominatim\n",
      "geolocator = Nominatim()\n",
      "\n",
      "print('Locatie beschrijving: (LAT, LON)')\n",
      "for a in languageLoc:\n",
      "    l = geolocator.geocode(a)\n",
      "    if l == None:\n",
      "       print(a,': NO LOCATION')\n",
      "    else:\n",
      "       print(a,':',(l.latitude, l.longitude))"
     ],
     "language": "python",
     "metadata": {},
     "outputs": [
      {
       "output_type": "stream",
       "stream": "stdout",
       "text": [
        "Locatie beschrijving: (LAT, LON)\n",
        "Deerfield Beach, Florida"
       ]
      },
      {
       "output_type": "stream",
       "stream": "stdout",
       "text": [
        " : (26.318342, -80.0996306)\n",
        "Planet Earth"
       ]
      },
      {
       "output_type": "stream",
       "stream": "stdout",
       "text": [
        " : (12.8831063, 77.7501677)\n",
        "#LOF"
       ]
      },
      {
       "output_type": "stream",
       "stream": "stdout",
       "text": [
        " : (50.2359772, 7.4421489)\n",
        "London"
       ]
      },
      {
       "output_type": "stream",
       "stream": "stdout",
       "text": [
        " : (51.5073219, -0.1276474)\n",
        "Set your RaDiO.TO/KFKX Online!"
       ]
      },
      {
       "output_type": "stream",
       "stream": "stdout",
       "text": [
        " : NO LOCATION\n",
        "Philadelphia "
       ]
      },
      {
       "output_type": "stream",
       "stream": "stdout",
       "text": [
        " : (39.952335, -75.163789)\n",
        "Delaware"
       ]
      },
      {
       "output_type": "stream",
       "stream": "stdout",
       "text": [
        " : (38.6920451, -75.4013315)\n",
        "Indonesia"
       ]
      },
      {
       "output_type": "stream",
       "stream": "stdout",
       "text": [
        " : (-4.7993356, 114.5632032)\n",
        "BLC Basement"
       ]
      },
      {
       "output_type": "stream",
       "stream": "stdout",
       "text": [
        " : NO LOCATION\n",
        "USA"
       ]
      },
      {
       "output_type": "stream",
       "stream": "stdout",
       "text": [
        " : (39.7837304, -100.4458825)\n"
       ]
      }
     ],
     "prompt_number": 22
    },
    {
     "cell_type": "code",
     "collapsed": false,
     "input": [
      "print(\"8 uur #np tracken = 43000 tweets\")\n",
      "print(\"per dag #np tracken = -+125000 tweets\")"
     ],
     "language": "python",
     "metadata": {},
     "outputs": [
      {
       "output_type": "stream",
       "stream": "stdout",
       "text": [
        "8 uur #np tracken = 43000 tweets\n",
        "per dag #np tracken = -+125000 tweets\n"
       ]
      }
     ],
     "prompt_number": 24
    },
    {
     "cell_type": "heading",
     "level": 2,
     "metadata": {},
     "source": [
      "Conclusie"
     ]
    },
    {
     "cell_type": "code",
     "collapsed": false,
     "input": [],
     "language": "python",
     "metadata": {},
     "outputs": []
    }
   ],
   "metadata": {}
  }
 ]
}