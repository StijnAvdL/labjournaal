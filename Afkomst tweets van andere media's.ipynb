{
 "metadata": {
  "name": "",
  "signature": "sha256:d6ededdeae74487cb6f2e8cc60f8a00d8ccea962e77b9ce416b2ae486852a079"
 },
 "nbformat": 3,
 "nbformat_minor": 0,
 "worksheets": [
  {
   "cells": [
    {
     "cell_type": "heading",
     "level": 1,
     "metadata": {},
     "source": [
      "Afkomst tweets van andere media's"
     ]
    },
    {
     "cell_type": "markdown",
     "metadata": {},
     "source": [
      "Datum: 26-03-2015"
     ]
    },
    {
     "cell_type": "markdown",
     "metadata": {},
     "source": [
      "Url:"
     ]
    },
    {
     "cell_type": "markdown",
     "metadata": {},
     "source": [
      "Ik wil weten hoeveel % van de tweets met andere media's heeft te maken. Om te achterhalen hoe schoon de data is. Hiervoor neem ik de test data van 100000 records. "
     ]
    },
    {
     "cell_type": "code",
     "collapsed": false,
     "input": [
      "import pymongo\n",
      "\n",
      "# Connection to Mongo DB\n",
      "conn = pymongo.MongoClient('localhost', 27017)\n",
      "db = conn['app24236103']\n",
      "\n",
      "print('connected to database')"
     ],
     "language": "python",
     "metadata": {},
     "outputs": [
      {
       "output_type": "stream",
       "stream": "stdout",
       "text": [
        "connected to database\n"
       ]
      }
     ],
     "prompt_number": 2
    },
    {
     "cell_type": "heading",
     "level": 2,
     "metadata": {},
     "source": [
      "Tweets without location"
     ]
    },
    {
     "cell_type": "code",
     "collapsed": false,
     "input": [
      "tweetRecords = db.top40plays.aggregate([\n",
      "    {\n",
      "      \"$match\": {\"twitter_user_location.lon\": {\"$exists\": 0}}\n",
      "    },\n",
      "    { \"$limit\": 100000},\n",
      "    {\n",
      "        \"$project\": {\n",
      "            \"text\": {\"$toLower\": \"$tweet_text\"}\n",
      "        }\n",
      "    }\n",
      "])\n",
      "records = list(tweetRecords['result'])\n",
      "totaalTweets = len(records);\n",
      "print('Totaal aantal tweet record:', totaalTweets)"
     ],
     "language": "python",
     "metadata": {},
     "outputs": [
      {
       "output_type": "stream",
       "stream": "stdout",
       "text": [
        "Totaal aantal tweet record: 100000\n"
       ]
      }
     ],
     "prompt_number": 4
    },
    {
     "cell_type": "code",
     "collapsed": false,
     "input": [
      "youtube = 0\n",
      "lastfm = 0\n",
      "soundcould = 0\n",
      "spotify = 0\n",
      "\n",
      "for text in records:\n",
      "    if \"@youtube\" in text['text']:\n",
      "        youtube = youtube + 1\n",
      "    elif \"via #lastfm\" in text['text']:\n",
      "        lastfm = lastfm + 1\n",
      "    elif \"#soundcloud\" in text['text']:\n",
      "        soundcould = soundcould + 1\n",
      "    elif \"#spotify\" in text['text']:\n",
      "        spotify = spotify + 1\n",
      "\n",
      "print(round((youtube/totaalTweets)*100,2),\"% tweets from YouTube\")\n",
      "print(round((soundcould/totaalTweets)*100,2),\"% tweets from soundCloud\")\n",
      "print(round((spotify/totaalTweets)*100,2),\"% tweets from spotiy\")\n",
      "print(round((lastfm/totaalTweets)*100,2),\"% tweets from lastFM\")"
     ],
     "language": "python",
     "metadata": {},
     "outputs": [
      {
       "output_type": "stream",
       "stream": "stdout",
       "text": [
        "9.55 % tweets from YouTube\n",
        "0.73 % tweets from soundCloud\n",
        "0.26 % tweets from spotiy\n",
        "0.0 % tweets from lastFM\n"
       ]
      }
     ],
     "prompt_number": 8
    },
    {
     "cell_type": "heading",
     "level": 2,
     "metadata": {},
     "source": [
      "Tweets with location"
     ]
    },
    {
     "cell_type": "code",
     "collapsed": false,
     "input": [
      "tweetRecordsWithLoc = db.top40plays.aggregate([\n",
      "    {\n",
      "      \"$match\": {\"twitter_user_location.lon\": {\"$gt\": -160}}\n",
      "    },\n",
      "    { \"$limit\": 100000},\n",
      "    {\n",
      "        \"$project\": {\n",
      "            \"text\": {\"$toLower\": \"$tweet_text\"}\n",
      "        }\n",
      "    }\n",
      "])\n",
      "\n",
      "recordsLoc = list(tweetRecordsWithLoc['result'])\n",
      "totaalTweetsWithLoc = len(recordsLoc);\n",
      "print('Totaal aantal tweet record with location:', totaalTweetsWithLoc)"
     ],
     "language": "python",
     "metadata": {},
     "outputs": [
      {
       "output_type": "stream",
       "stream": "stdout",
       "text": [
        "Totaal aantal tweet record with location: 100000\n"
       ]
      }
     ],
     "prompt_number": 5
    },
    {
     "cell_type": "code",
     "collapsed": false,
     "input": [
      "youtube = 0\n",
      "lastfm = 0\n",
      "soundcould = 0\n",
      "spotify = 0\n",
      "\n",
      "for text in recordsLoc:\n",
      "    if \"@youtube\" in text['text']:\n",
      "        youtube = youtube + 1\n",
      "    elif \"via #lastfm\" in text['text']:\n",
      "        lastfm = lastfm + 1\n",
      "    elif \"#soundcloud\" in text['text']:\n",
      "        soundcould = soundcould + 1\n",
      "    elif \"#spotify\" in text['text']:\n",
      "        spotify = spotify + 1\n",
      "\n",
      "        \n",
      "print(round((youtube/totaalTweetsWithLoc)*100,2),\"% tweets from YouTube\")\n",
      "print(round((soundcould/totaalTweetsWithLoc)*100,2),\"% tweets from soundCloud\")\n",
      "print(round((spotify/totaalTweetsWithLoc)*100,2),\"% tweets from spotiy\")\n",
      "print(round((lastfm/totaalTweetsWithLoc)*100,2),\"% tweets from lastFM\")"
     ],
     "language": "python",
     "metadata": {},
     "outputs": [
      {
       "output_type": "stream",
       "stream": "stdout",
       "text": [
        "12.0 % tweets from YouTube\n",
        "1.85 % tweets from soundCloud\n",
        "0.34 % tweets from spotiy\n",
        "0.27 % tweets from lastFM\n"
       ]
      }
     ],
     "prompt_number": 6
    },
    {
     "cell_type": "markdown",
     "metadata": {},
     "source": [
      "Duidelijk te zien is dat tweets met locatie meer geshared worden vanuit andere media's "
     ]
    }
   ],
   "metadata": {}
  }
 ]
}