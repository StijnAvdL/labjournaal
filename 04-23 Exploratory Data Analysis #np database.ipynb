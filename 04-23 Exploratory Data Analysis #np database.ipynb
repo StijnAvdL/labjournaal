{
 "metadata": {
  "name": "",
  "signature": "sha256:eeda8f70d70677516304b68b0c1e172cdc80e2b41339d2d4586769a958dccb09"
 },
 "nbformat": 3,
 "nbformat_minor": 0,
 "worksheets": [
  {
   "cells": [
    {
     "cell_type": "heading",
     "level": 1,
     "metadata": {},
     "source": [
      "Exploratory Data Analysis #np database"
     ]
    },
    {
     "cell_type": "markdown",
     "metadata": {},
     "source": [
      "Datum: 23-04-2015 <br>\n",
      "URL: <br>\n",
      "Database: MongoDB - #np 5 mil rows"
     ]
    },
    {
     "cell_type": "markdown",
     "metadata": {},
     "source": [
      "Ik wil de pipeline van URL in het project namaken. Maar eerst moet ik bekijken hoe groot de data nu is hoe we dit het beste kunnen aanpakken."
     ]
    },
    {
     "cell_type": "code",
     "collapsed": false,
     "input": [
      "from IPython.display import Image"
     ],
     "language": "python",
     "metadata": {},
     "outputs": [],
     "prompt_number": 5
    },
    {
     "cell_type": "heading",
     "level": 2,
     "metadata": {},
     "source": [
      "Met hoeveel data kan ik werken met aggregation pipeline?"
     ]
    },
    {
     "cell_type": "markdown",
     "metadata": {},
     "source": [
      "De aggregate functie van mongoDB kan maar <b>16MB</b> aan data in de <b>cache</b> hebben en de totaal omvang van #np tabel is nu al meer dan <b>15GB</b> ..."
     ]
    },
    {
     "cell_type": "code",
     "collapsed": false,
     "input": [
      "mbCoordinatie = 15000/100*2\n",
      "print(mbCoordinatie, 'MB houden we over als we alleen werken met locatie die een co\u00f6rdinatie hebben.')"
     ],
     "language": "python",
     "metadata": {},
     "outputs": [
      {
       "output_type": "stream",
       "stream": "stdout",
       "text": [
        "300.0 MB houden we over als we alleen werken met locatie die een co\u00f6rdinatie hebben.\n"
       ]
      }
     ],
     "prompt_number": 3
    },
    {
     "cell_type": "code",
     "collapsed": false,
     "input": [
      "print(mbCoordinatie/100*30, 'MB houden we over als we alleen werken met locatie die een co\u00f6rdinatie hebben en waar een nummer aangekoppeld is.')"
     ],
     "language": "python",
     "metadata": {},
     "outputs": [
      {
       "output_type": "stream",
       "stream": "stdout",
       "text": [
        "90.0 MB houden we over als we alleen werken met locatie die een co\u00f6rdinatie hebben en waar een nummer aangekoppeld is.\n"
       ]
      }
     ],
     "prompt_number": 4
    },
    {
     "cell_type": "markdown",
     "metadata": {},
     "source": [
      "Dit is nog steeds te veel om een aggregation pipeline mee te maken. Dus moet ik een limit gooien op de aggregation."
     ]
    },
    {
     "cell_type": "code",
     "collapsed": false,
     "input": [
      "Image(filename='images/aggregation_test_location.png')"
     ],
     "language": "python",
     "metadata": {},
     "outputs": [
      {
       "metadata": {},
       "output_type": "pyout",
       "png": "[encoded data removed]",
       "prompt_number": 6,
       "text": [
        "<IPython.core.display.Image at 0x5234f60>"
       ]
      }
     ],
     "prompt_number": 6
    },
    {
     "cell_type": "markdown",
     "metadata": {},
     "source": [
      "Heb een nieuwe tabel gemaakt van 100.000 rows uit np-tracker tabel waar ik mij pipeline doorheen ga laten lopen."
     ]
    },
    {
     "cell_type": "heading",
     "level": 2,
     "metadata": {},
     "source": [
      "Aggregation pipeline"
     ]
    },
    {
     "cell_type": "markdown",
     "metadata": {},
     "source": [
      "Ik werk maar met relatief weinig data maar zo kan ik snel testen of mij aggregation pipeline waarbij we de nummer onder verdelen tussen muzieknummer en land snel bekijken."
     ]
    },
    {
     "cell_type": "markdown",
     "metadata": {},
     "source": [
      "Ik loop al snel tegen het probleem dat er geen date veld aanwezig is waardoor ik de tweets kan opdelen in dagen. Dus ga ik eerst van deze test tabel alle created_at converteren naar date veld."
     ]
    },
    {
     "cell_type": "code",
     "collapsed": false,
     "input": [
      "Image(filename='images/convert_string_to_date.png')"
     ],
     "language": "python",
     "metadata": {},
     "outputs": [
      {
       "metadata": {},
       "output_type": "pyout",
       "png": "[encoded data removed]",
       "prompt_number": 7,
       "text": [
        "<IPython.core.display.Image at 0x524f3c8>"
       ]
      }
     ],
     "prompt_number": 7
    },
    {
     "cell_type": "code",
     "collapsed": false,
     "input": [],
     "language": "python",
     "metadata": {},
     "outputs": []
    }
   ],
   "metadata": {}
  }
 ]
}