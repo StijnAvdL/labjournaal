{
 "metadata": {
  "name": "",
  "signature": "sha256:30a18a72d7ebf1301b9c22625ae5c790c95693e55209e6d8c0b72e4ccd163c14"
 },
 "nbformat": 3,
 "nbformat_minor": 0,
 "worksheets": [
  {
   "cells": [
    {
     "cell_type": "heading",
     "level": 1,
     "metadata": {},
     "source": [
      "Welke velden van een tweet kunnen gebruiken om locatie te bepalen?"
     ]
    },
    {
     "cell_type": "markdown",
     "metadata": {},
     "source": [
      "Datum: 02-04-2015<br>\n",
      "URL: http://nbviewer.ipython.org/github/StijnAvdL/labjournaal/blob/master/04-02%20%Tweets%20locatie%20velden.ipynb <br>\n",
      "Database: MongoDB - #NP tracker"
     ]
    },
    {
     "cell_type": "markdown",
     "metadata": {},
     "source": [
      "Met een nieuwe database waarin andere data wordt verzameld van twitter moeten we opnieuw bekijken hoe we de locatie gaan bepaal waar de tweet vandaan komt. Deze labjournaal kijk ik door al velden die iets kunnen zegen over locatie en bekijken of ik er verder iets mee kan."
     ]
    },
    {
     "cell_type": "heading",
     "level": 2,
     "metadata": {},
     "source": [
      "Welke velden kunnen iets zegen over location van een tweet?"
     ]
    },
    {
     "cell_type": "code",
     "collapsed": false,
     "input": [
      "%pylab inline"
     ],
     "language": "python",
     "metadata": {},
     "outputs": [
      {
       "output_type": "stream",
       "stream": "stdout",
       "text": [
        "Populating the interactive namespace from numpy and matplotlib\n"
       ]
      }
     ],
     "prompt_number": 2
    },
    {
     "cell_type": "code",
     "collapsed": false,
     "input": [
      "import pymongo\n",
      "\n",
      "# Connection to Mongo DB\n",
      "conn = pymongo.MongoClient('localhost', 27017)\n",
      "db = conn['mozart']\n",
      "\n",
      "print('connected to database')"
     ],
     "language": "python",
     "metadata": {},
     "outputs": [
      {
       "output_type": "stream",
       "stream": "stdout",
       "text": [
        "connected to database\n"
       ]
      }
     ],
     "prompt_number": 3
    },
    {
     "cell_type": "code",
     "collapsed": false,
     "input": [
      "from pprint import pprint\n",
      "\n",
      "record = db['twitter-np'].aggregate([\n",
      "    {\n",
      "        \"$match\": {\n",
      "            \"tweet.geo.type\": {\"$exists\": 1}\n",
      "        }\n",
      "    },\n",
      "    {\n",
      "        \"$limit\": 1\n",
      "    },\n",
      "    {\n",
      "        \"$project\": {\n",
      "            \"_id\": 0,\n",
      "            \"geo_enabled\": \"$tweet.user.geo_enabled\",\n",
      "            \"geo\": \"$tweet.geo\",\n",
      "            \"lang_user\": \"$tweet.user.lang\",\n",
      "            \"time_zone\": \"$tweet.user.time_zone\",\n",
      "            \"utc_offset\": \"$tweet.user.utc_offset\",\n",
      "            \"location\": \"$tweet.user.location\",\n",
      "            \"place\": \"$tweet.place\",\n",
      "            \"coordinates\": \"$tweet.coordinates\",\n",
      "            \"lang_tweet\": \"$tweet.lang\",\n",
      "            \"tweet\": \"$tweet.text\"\n",
      "        }\n",
      "    }\n",
      "])\n",
      "\n",
      "pprint(record['result'])"
     ],
     "language": "python",
     "metadata": {},
     "outputs": [
      {
       "output_type": "stream",
       "stream": "stdout",
       "text": [
        "[{'coordinates': {'coordinates': [25.212937, 54.682721], 'type': 'Point'},\n",
        "  'geo': {'coordinates': [54.682721, 25.212937], 'type': 'Point'},\n",
        "  'geo_enabled': True,\n",
        "  'lang_tweet': 'en',\n",
        "  'lang_user': 'en',\n",
        "  'location': 'Portugal',\n",
        "  'place': {'attributes': {},\n",
        "            'bounding_box': {'coordinates': [[[25.0245985, 54.5689032],\n",
        "                                              [25.0245985, 54.8322118],\n",
        "                                              [25.48146, 54.8322118],\n",
        "                                              [25.48146, 54.5689032]]],\n",
        "                             'type': 'Polygon'},\n",
        "            'country': 'Lietuva',\n",
        "            'country_code': 'LT',\n",
        "            'full_name': 'Vilnius, Lietuva',\n",
        "            'id': '01cce83d8638e5f7',\n",
        "            'name': 'Vilnius',\n",
        "            'place_type': 'city',\n",
        "            'url': 'https://api.twitter.com/1.1/geo/id/01cce83d8638e5f7.json'},\n",
        "  'time_zone': 'Lisbon',\n",
        "  'tweet': '#np Eminem- Like Toy Soldiers',\n",
        "  'utc_offset': 0}]\n"
       ]
      }
     ],
     "prompt_number": 23
    },
    {
     "cell_type": "markdown",
     "metadata": {},
     "source": [
      "<p>Hierbij kan <b>geo_enabled</b> direct uit de lijst want al staat deze op <b>true</b>, de <b>geo</b> veld weergeeft de location en dus heeft die geo_enabled <b>GEEN</b> toegevoegde waarde.</p>"
     ]
    },
    {
     "cell_type": "heading",
     "level": 2,
     "metadata": {},
     "source": [
      "Coordinates VS geo"
     ]
    },
    {
     "cell_type": "code",
     "collapsed": false,
     "input": [
      "recordGeo = db['twitter-np'].aggregate([\n",
      "    {\n",
      "        \"$match\": {\n",
      "            \"tweet.geo.type\": {\"$exists\": 1},\n",
      "            \"tweet.coordinates.type\": {\"$exists\": 0}\n",
      "        }\n",
      "    },\n",
      "    {\"$group\": {\"_id\": \"$_id\"} }\n",
      "])\n",
      "\n",
      "recordCoordinates = db['twitter-np'].aggregate([\n",
      "    {\n",
      "        \"$match\": {\n",
      "            \"tweet.geo.type\": {\"$exists\": 0},\n",
      "            \"tweet.coordinates.type\": {\"$exists\": 1}\n",
      "        }\n",
      "    },\n",
      "    {\"$group\": {\"_id\": \"$_id\"} }\n",
      "])\n",
      "\n",
      "recordBoth = db['twitter-np'].aggregate([\n",
      "    {\n",
      "        \"$match\": {\n",
      "            \"tweet.geo.type\": {\"$exists\": 1},\n",
      "            \"tweet.coordinates.type\": {\"$exists\": 1}\n",
      "        }\n",
      "    },\n",
      "    {\"$group\": {\"_id\": \"$_id\"} }\n",
      "])\n",
      "\n",
      "print('Totaal aantal met ALLEEN coorinates of geo obj:', (len(list(recordGeo['result']))+len(list(recordCoordinates['result']))))\n",
      "print('Totaal aantal met beide:', len(list(recordBoth['result'])))"
     ],
     "language": "python",
     "metadata": {},
     "outputs": [
      {
       "output_type": "stream",
       "stream": "stdout",
       "text": [
        "Totaal aantal met ALLEEN coorinates of geo obj: 0\n",
        "Totaal aantal met beide: 1054\n"
       ]
      }
     ],
     "prompt_number": 5
    },
    {
     "cell_type": "markdown",
     "metadata": {},
     "source": [
      "<p>Beide velden bestaan in een tweet of bestaan niet. Ik kies voor <b>Coordinates</b> omdat de lon bovenaan staat en zo worden de lon en lat ook uitgelezen door D3 worldmap API.</p>"
     ]
    },
    {
     "cell_type": "heading",
     "level": 2,
     "metadata": {},
     "source": [
      "Places & tweet location"
     ]
    },
    {
     "cell_type": "code",
     "collapsed": false,
     "input": [
      "totaalRecords = db['twitter-np'].find().count()\n",
      "\n",
      "record = db['twitter-np'].aggregate([\n",
      "    {\n",
      "        \"$match\": {\n",
      "            \"tweet.geo.type\": {\"$exists\": 0},\n",
      "            \"tweet.place.id\": {\"$exists\": 1}\n",
      "        }\n",
      "    },\n",
      "    {\"$group\": {\"_id\": \"$_id\"} }\n",
      "])\n",
      "\n",
      "record1 = db['twitter-np'].aggregate([\n",
      "    {\n",
      "        \"$match\": {\n",
      "            \"tweet.geo.type\": {\"$exists\": 1},\n",
      "            \"tweet.place.id\": {\"$exists\": 0}\n",
      "        }\n",
      "    },\n",
      "    {\"$group\": {\"_id\": \"$_id\"} }\n",
      "])\n",
      "\n",
      "recordGeo = db['twitter-np'].aggregate([\n",
      "    {\n",
      "        \"$match\": {\n",
      "            \"tweet.geo.type\": {\"$exists\": 1}\n",
      "        }\n",
      "    },\n",
      "    {\"$group\": {\"_id\": \"$_id\"} }\n",
      "])\n",
      "\n",
      "print('Totaal aantal tweet:', totaalRecords)\n",
      "print('Totaal aantal met tweet location:', len(list(recordGeo['result'])))\n",
      "print('Totaal aantal met WEL places field maar NIET geo:', len(list(record['result'])))\n",
      "print('Totaal aantal met NIET places field maar WEL geo:', len(list(record1['result'])))"
     ],
     "language": "python",
     "metadata": {},
     "outputs": [
      {
       "output_type": "stream",
       "stream": "stdout",
       "text": [
        "Totaal aantal tweet: 43715\n",
        "Totaal aantal met tweet location: 1057\n",
        "Totaal aantal met WEL places field maar NIET geo: 764\n",
        "Totaal aantal met NIET places field maar WEL geo: 0\n"
       ]
      }
     ],
     "prompt_number": 6
    },
    {
     "cell_type": "markdown",
     "metadata": {},
     "source": [
      "<p>Tweets met een tweet locatie maar zonder een place obj waarin ook locatie staan bestaan niet. Wel anders waarbij de tweet locatie niet bekend is maar er wel locatie uit de place obj gehaald kan worden. Mijn vervolg vraag hierop is hoe erg kan ik deze place co\u00f6rdinates vertrouwen.</p>"
     ]
    },
    {
     "cell_type": "heading",
     "level": 3,
     "metadata": {},
     "source": [
      "Liggen de place coorindaten dicht bij de tweet coordinaten?"
     ]
    },
    {
     "cell_type": "code",
     "collapsed": false,
     "input": [
      "records = db['twitter-np'].aggregate(\n",
      "    [\n",
      "        {\n",
      "            \"$match\": {\n",
      "                \"tweet.coordinates.type\": {\"$exists\": 1}\n",
      "            }\n",
      "        },\n",
      "        {\"$unwind\":\"$tweet.coordinates.coordinates\"},\n",
      "        {\n",
      "            \"$project\": {\n",
      "                \"user_location\": \"$tweet.coordinates.coordinates\",\n",
      "                \"place_locations\": \"$tweet.place.bounding_box.coordinates\"\n",
      "            }    \n",
      "        },\n",
      "        {\"$unwind\":\"$place_locations\"},\n",
      "        {\"$unwind\":\"$place_locations\"},\n",
      "        {\"$unwind\":\"$place_locations\"},\n",
      "        {\n",
      "            \"$group\": {\n",
      "                \"_id\": \"$_id\",\n",
      "                \"user\": {\"$first\": \"$user_location\"},\n",
      "                \"place\": {\"$first\": \"$place_locations\"}\n",
      "            }\n",
      "        },\n",
      "        {\n",
      "            \"$project\": {\n",
      "                \"_id\": 0,\n",
      "                \"user\": \"$user\",\n",
      "                \"place\": \"$place\",\n",
      "            }  \n",
      "        }\n",
      "    ]\n",
      ")\n",
      "\n",
      "listLocations = list(records['result'])"
     ],
     "language": "python",
     "metadata": {},
     "outputs": [],
     "prompt_number": 9
    },
    {
     "cell_type": "code",
     "collapsed": false,
     "input": [
      "loc_diff_big = 0\n",
      "loc_diff_small = 0\n",
      "loc_between = 0\n",
      "\n",
      "for location in listLocations:\n",
      "    loc_diff = location['user'] - location['place']\n",
      "    if loc_diff > 5 or loc_diff < -5:\n",
      "        loc_diff_big = loc_diff_big + 1\n",
      "    elif loc_diff > 1 or loc_diff < -1:\n",
      "        loc_between = loc_between + 1 \n",
      "    else:\n",
      "        loc_diff_small = loc_diff_small + 1\n",
      "print(round((loc_diff_small/len(listLocations))*100,2),\"%tweets hebben een kleiner verschil dan 1 lon dan de place\")\n",
      "print(round((loc_between/len(listLocations))*100,2),\"% tweets hebben een groter verschil dan 1 lon dan de place\")\n",
      "print(round((loc_diff_big/len(listLocations))*100,2),\"% tweets hebben een groter verschil dan 5 lon dan de place\")"
     ],
     "language": "python",
     "metadata": {},
     "outputs": [
      {
       "output_type": "stream",
       "stream": "stdout",
       "text": [
        "93.28 %tweets hebben een kleiner verschil dan 1 lon dan de place\n",
        "4.26 % tweets hebben een groter verschil dan 1 lon dan de place\n",
        "2.46 % tweets hebben een groter verschil dan 5 lon dan de place\n"
       ]
      }
     ],
     "prompt_number": 10
    },
    {
     "cell_type": "markdown",
     "metadata": {},
     "source": [
      "<p>Ver weg het grootste gedeelte van de tweet's user en place locatie vallen binnen een straal van 1 longitude. Over de rest valt ook iets te zeggen dat ze waarschijnlijk uit hetzelfde land komen. Want grote landen strekken over meerdere longitudes uit. Dus ik vertrouw als de place veld gevult is deze veld volledig</p>"
     ]
    },
    {
     "cell_type": "heading",
     "level": 2,
     "metadata": {},
     "source": [
      "Language"
     ]
    },
    {
     "cell_type": "markdown",
     "metadata": {},
     "source": [
      "Ik heb gekozen voor de user language object omdat deze door de gebruiker zelf ingevoerd is. De language object van de tweet wordt op basis van de tweet gebasseerd."
     ]
    },
    {
     "cell_type": "code",
     "collapsed": false,
     "input": [
      "recordLang = db['twitter-np'].aggregate(\n",
      "    [\n",
      "        {\n",
      "            \"$project\": {\n",
      "                \"_id\": 0,\n",
      "                \"lang\": \"$tweet.user.lang\"\n",
      "            }\n",
      "        },\n",
      "        {\n",
      "            \"$group\": {\n",
      "                \"_id\": \"$lang\",\n",
      "                \"count\": {\"$sum\": 1}\n",
      "            }\n",
      "        },\n",
      "        {\n",
      "            \"$sort\": {\"count\": -1}\n",
      "        },\n",
      "        {\n",
      "            \"$project\": {\n",
      "                \"_id\": 0,\n",
      "                \"lang\": \"$_id\",\n",
      "                \"count\": \"$count\"\n",
      "            }\n",
      "        }\n",
      "    ]\n",
      ")\n",
      "\n",
      "languages =list(recordLang['result'])\n",
      "print(\"Aantal verschillende talen:\", len(languages))"
     ],
     "language": "python",
     "metadata": {},
     "outputs": [
      {
       "output_type": "stream",
       "stream": "stdout",
       "text": [
        "Aantal verschillende talen: 42\n"
       ]
      }
     ],
     "prompt_number": 12
    },
    {
     "cell_type": "heading",
     "level": 3,
     "metadata": {},
     "source": [
      "Tabel top 10 language"
     ]
    },
    {
     "cell_type": "code",
     "collapsed": false,
     "input": [
      "import matplotlib.pyplot as plt\n",
      "import time\n",
      "\n",
      "today= time.strftime(\"%d/%m/%Y\")\n",
      "countTop10=[]\n",
      "languageTop10=[]\n",
      "i = 0\n",
      "for l, lang in enumerate(languages):\n",
      "    if i < 10:\n",
      "        countTop10.append(lang['count'])\n",
      "        languageTop10.append(lang['lang'])\n",
      "    i = i + 1"
     ],
     "language": "python",
     "metadata": {},
     "outputs": [],
     "prompt_number": 13
    },
    {
     "cell_type": "code",
     "collapsed": false,
     "input": [
      "ind = np.arange(10)  # the x locations for the groups\n",
      "\n",
      "fig, ax = plt.subplots()\n",
      "rects1 = ax.bar(ind, countTop10)\n",
      "\n",
      "# add some text for labels, title and axes ticks\n",
      "ax.set_ylabel('Tweets')\n",
      "ax.set_title('Tweets top 10 language '+today)\n",
      "ax.set_xticks(ind+.35)\n",
      "ax.set_xticklabels( languageTop10 )\n",
      "\n",
      "plt.show()"
     ],
     "language": "python",
     "metadata": {},
     "outputs": [
      {
       "metadata": {},
       "output_type": "display_data",
       "png": "[encoded data removed]",
       "text": [
        "<matplotlib.figure.Figure at 0x7da98d0>"
       ]
      }
     ],
     "prompt_number": 14
    },
    {
     "cell_type": "markdown",
     "metadata": {},
     "source": [
      "De default language is zeer waarschijnlijk <b>en</b> (engels) waardoor zo ontzettend hoog is. Daarna lijkt de data wel redelijk waarheidsgetrouw te zijn maar als je beter kijkt zie je dat bijvoorbeeld <b>us</b> er niet tussen staan. Net zoals Brazil die niet terug te vinden is en waarschijnlijk onder <b>pt</b> wordt geplaatst omdat daar portugees wordt gesproken. "
     ]
    },
    {
     "cell_type": "code",
     "collapsed": false,
     "input": [
      "count=[]\n",
      "language=[]\n",
      "i = 0\n",
      "for l, lang in enumerate(languages):\n",
      "    if i < 17 and i > 0:\n",
      "        count.append(lang['count'])\n",
      "        language.append(lang['lang'])\n",
      "    if lang['lang'] != 'und':\n",
      "        i = i + 1"
     ],
     "language": "python",
     "metadata": {},
     "outputs": [],
     "prompt_number": 11
    },
    {
     "cell_type": "code",
     "collapsed": false,
     "input": [
      "ind = np.arange(16)  # the x locations for the groups\n",
      "\n",
      "fig, ax = plt.subplots()\n",
      "rects1 = ax.bar(ind, count)\n",
      "\n",
      "# add some text for labels, title and axes ticks\n",
      "ax.set_ylabel('Tweets')\n",
      "ax.set_title('Tweets each language '+today)\n",
      "ax.set_xticks(ind+.35)\n",
      "ax.set_xticklabels( language )\n",
      "\n",
      "plt.show()"
     ],
     "language": "python",
     "metadata": {},
     "outputs": [
      {
       "metadata": {},
       "output_type": "display_data",
       "png": "[encoded data removed]",
       "text": [
        "<matplotlib.figure.Figure at 0x7247cf8>"
       ]
      }
     ],
     "prompt_number": 12
    },
    {
     "cell_type": "markdown",
     "metadata": {},
     "source": [
      "Deze grafiek geeft een geloofwaardige weergaven van de talen die de twitter users spreken in verhouding met de wereld bevolking. Maar of <b>pt</b> (portugees) nu de gebruiker uit portugal of in brazille komt is nog niet duidelijk. "
     ]
    },
    {
     "cell_type": "heading",
     "level": 2,
     "metadata": {},
     "source": [
      "UTC offset"
     ]
    },
    {
     "cell_type": "code",
     "collapsed": false,
     "input": [
      "recordUTC = db['twitter-np'].aggregate(\n",
      "    [\n",
      "        {\n",
      "            \"$match\": {\n",
      "                \"tweet.user.lang\": \"pt\"\n",
      "            }\n",
      "        },\n",
      "        {\n",
      "            \"$project\": {\n",
      "                \"_id\": 0,\n",
      "                \"time\": \"$tweet.user.utc_offset\",\n",
      "            }\n",
      "        },\n",
      "        {\n",
      "            \"$group\": {\n",
      "                \"_id\": \"$time\",\n",
      "                \"count\": {\"$sum\": 1}\n",
      "            }\n",
      "        },\n",
      "        { \"$sort\": { \"count\": -1 } },\n",
      "        {\n",
      "            \"$project\": {\n",
      "                \"_id\": 0,\n",
      "                \"time\": \"$_id\",\n",
      "                \"count\": \"$count\"\n",
      "            }\n",
      "        }\n",
      "    ]\n",
      ")\n",
      "\n",
      "utcs =list(recordUTC['result'])"
     ],
     "language": "python",
     "metadata": {},
     "outputs": [],
     "prompt_number": 15
    },
    {
     "cell_type": "code",
     "collapsed": false,
     "input": [
      "countUTC=[]\n",
      "languageUTC=[]\n",
      "i = 0\n",
      "for u, utc in enumerate(utcs):\n",
      "    if i < 6:\n",
      "        countUTC.append(utc['count'])\n",
      "        languageUTC.append(utc['time'])\n",
      "    i = i + 1\n",
      "\n",
      "ind = np.arange(6)  # the x locations for the groups\n",
      "\n",
      "fig, ax = plt.subplots()\n",
      "rects1 = ax.bar(ind, countUTC)\n",
      "\n",
      "# add some text for labels, title and axes ticks\n",
      "ax.set_ylabel('Tweets')\n",
      "ax.set_title('Timezone UTC offset in sec '+today)\n",
      "ax.set_xticks(ind+.35)\n",
      "ax.set_xticklabels( languageUTC )\n",
      "\n",
      "plt.show()"
     ],
     "language": "python",
     "metadata": {},
     "outputs": [
      {
       "metadata": {},
       "output_type": "display_data",
       "png": "[encoded data removed]",
       "text": [
        "<matplotlib.figure.Figure at 0x7c52160>"
       ]
      }
     ],
     "prompt_number": 16
    },
    {
     "cell_type": "markdown",
     "metadata": {},
     "source": [
      "<p>Volgens utc offset van de gebruiker die portugees spreken wordt daarvan het meeste gepost in UTC +1. Dit betekend landen zoals Nederland, duitsland en frankrijk. Maar niet portugal of brazille. Bij testen van andere talen kwamen we vaak op dezelfde probleem uit dat de UTC offset niet overeen komt met de landen waarin het meest de des betreffende taal wordt gesproken.</p>\n",
      "<p>Mijn conclusie is om de comibinatie met <b>language</b> en <b>utc offset</b> niet toe te passen om de locatie te bepalen van de tweet.</p>"
     ]
    },
    {
     "cell_type": "heading",
     "level": 2,
     "metadata": {},
     "source": [
      "Time zone"
     ]
    },
    {
     "cell_type": "code",
     "collapsed": false,
     "input": [
      "recordTimeZone = db['twitter-np'].aggregate(\n",
      "    [\n",
      "        {\n",
      "            \"$match\": {\n",
      "                \"tweet.user.lang\": \"pt\"\n",
      "            }\n",
      "        },\n",
      "        {\n",
      "            \"$project\": {\n",
      "                \"_id\": 0,\n",
      "                \"time\": \"$tweet.user.time_zone\",\n",
      "            }\n",
      "        },\n",
      "        {\n",
      "            \"$group\": {\n",
      "                \"_id\": \"$time\",\n",
      "                \"count\": {\"$sum\": 1}\n",
      "            }\n",
      "        },\n",
      "        { \"$sort\": { \"count\": -1 } },\n",
      "        {\n",
      "            \"$project\": {\n",
      "                \"_id\": 0,\n",
      "                \"time\": \"$_id\",\n",
      "                \"count\": \"$count\"\n",
      "            }\n",
      "        }\n",
      "    ]\n",
      ")\n",
      "\n",
      "timeZones =list(recordTimeZone['result'])"
     ],
     "language": "python",
     "metadata": {},
     "outputs": [],
     "prompt_number": 17
    },
    {
     "cell_type": "code",
     "collapsed": false,
     "input": [
      "countTimeZone=[]\n",
      "languageTimeZone=[]\n",
      "i = 0\n",
      "for u, timeZone in enumerate(timeZones):\n",
      "    if i < 7:\n",
      "        countTimeZone.append(timeZone['count'])\n",
      "        languageTimeZone.append(timeZone['time'])\n",
      "    i = i + 1\n",
      "\n",
      "ind = np.arange(7)  # the x locations for the groups\n",
      "\n",
      "fig, ax = plt.subplots()\n",
      "rects1 = ax.bar(ind, countTimeZone)\n",
      "\n",
      "# add some text for labels, title and axes ticks\n",
      "ax.set_ylabel('Tweets')\n",
      "ax.set_title('Timezone '+today)\n",
      "ax.set_xticks(ind+.35)\n",
      "ax.set_xticklabels( languageTimeZone,rotation='vertical' )\n",
      "\n",
      "plt.show()"
     ],
     "language": "python",
     "metadata": {},
     "outputs": [
      {
       "metadata": {},
       "output_type": "display_data",
       "png": "[encoded data removed]",
       "text": [
        "<matplotlib.figure.Figure at 0x7cc9b70>"
       ]
      }
     ],
     "prompt_number": 18
    },
    {
     "cell_type": "markdown",
     "metadata": {},
     "source": [
      "<p>Hierbij lijken de gegevens meer te kloppen en zullen we ook geen last hebben van winter en zomer tijd. Toch ben ik ook over deze data nog niet tevrede omdat nog steeds een groot deel verwijst naar steden waar de hoofd taal <b>geen</b> portugees is.</p>"
     ]
    },
    {
     "cell_type": "heading",
     "level": 2,
     "metadata": {},
     "source": [
      "Locatie beschrijving"
     ]
    },
    {
     "cell_type": "code",
     "collapsed": false,
     "input": [
      "totaalRecords = db['twitter-np'].find().count()\n",
      "recordlocations = db['twitter-np'].aggregate([\n",
      "    {\n",
      "        \"$match\": {\n",
      "            \"tweet.user.location\": {\"$exists\": 1}\n",
      "        }\n",
      "    },\n",
      "    {\n",
      "        \"$group\": { \n",
      "            \"_id\": \"$tweet.user.location\",\n",
      "            \"count\": {\"$sum\": 1}\n",
      "        }\n",
      "    },\n",
      "    {\n",
      "        \"$sort\": {\"count\": -1}\n",
      "    }\n",
      "])\n",
      "\n",
      "locations =list(recordlocations['result'])\n",
      "emptyLoc = locations.pop(0)\n",
      "print(round((emptyLoc['count']/totaalRecords)*100,2),\"% van de tweets hebben geen locatie beschrijving\")"
     ],
     "language": "python",
     "metadata": {},
     "outputs": [
      {
       "output_type": "stream",
       "stream": "stdout",
       "text": [
        "22.5 % van de tweets hebben geen locatie beschrijving\n"
       ]
      }
     ],
     "prompt_number": 19
    },
    {
     "cell_type": "code",
     "collapsed": false,
     "input": [
      "countLoc = []\n",
      "languageLoc =[]\n",
      "i = 0\n",
      "for l, loc in enumerate(locations):\n",
      "    if i < 10:\n",
      "        countLoc.append(loc['count'])\n",
      "        languageLoc.append(loc['_id'])\n",
      "    i = i + 1\n",
      "\n",
      "ind = np.arange(10)  # the x locations for the groups\n",
      "\n",
      "fig, ax = plt.subplots()\n",
      "rects1 = ax.bar(ind, countLoc)\n",
      "\n",
      "# add some text for labels, title and axes ticks\n",
      "ax.set_ylabel('Tweets')\n",
      "ax.set_title('Timezone UTC offset in sec '+today)\n",
      "ax.set_xticks(ind+.35)\n",
      "ax.set_xticklabels( languageLoc,rotation='90')\n",
      "\n",
      "plt.show()"
     ],
     "language": "python",
     "metadata": {},
     "outputs": [
      {
       "metadata": {},
       "output_type": "display_data",
       "png": "[encoded data removed]",
       "text": [
        "<matplotlib.figure.Figure at 0x818d550>"
       ]
      }
     ],
     "prompt_number": 20
    },
    {
     "cell_type": "markdown",
     "metadata": {},
     "source": [
      "<b>Beschrijving op twitter API:</b> <br>\n",
      "\n",
      "The user-defined location for this account\u2019s profile. Not necessarily a location nor parseable. This field will occasionally be fuzzily interpreted by the Search service."
     ]
    },
    {
     "cell_type": "markdown",
     "metadata": {},
     "source": [
      "De beschrijving van Twitter geeft al aan dat deze veld door de gebruikers zelf ingevult kan worden waardoor er veel rotzooi tussen zit"
     ]
    },
    {
     "cell_type": "heading",
     "level": 3,
     "metadata": {},
     "source": [
      "Plugin finding location"
     ]
    },
    {
     "cell_type": "markdown",
     "metadata": {},
     "source": [
      "https://github.com/geopy/geopy   \n",
      "http://www.findlatitudeandlongitude.com/find-address-from-latitude-and-longitude/#.VR1fDfmUeg0"
     ]
    },
    {
     "cell_type": "code",
     "collapsed": false,
     "input": [
      "from geopy.geocoders import Nominatim\n",
      "geolocator = Nominatim()\n",
      "\n",
      "print('Locatie beschrijving: (LAT, LON)')\n",
      "for a in languageLoc:\n",
      "    l = geolocator.geocode(a)\n",
      "    if l == None:\n",
      "       print(a,': NO LOCATION')\n",
      "    else:\n",
      "       print(a,':',(l.latitude, l.longitude))"
     ],
     "language": "python",
     "metadata": {},
     "outputs": [
      {
       "output_type": "stream",
       "stream": "stdout",
       "text": [
        "Locatie beschrijving: (LAT, LON)\n",
        "Deerfield Beach, Florida"
       ]
      },
      {
       "output_type": "stream",
       "stream": "stdout",
       "text": [
        " : (26.318342, -80.0996306)\n",
        "Planet Earth"
       ]
      },
      {
       "output_type": "stream",
       "stream": "stdout",
       "text": [
        " : (12.8831063, 77.7501677)\n",
        "#LOF"
       ]
      },
      {
       "output_type": "stream",
       "stream": "stdout",
       "text": [
        " : (50.2359772, 7.4421489)\n",
        "Set your RaDiO.TO/KFKX Online!"
       ]
      },
      {
       "output_type": "stream",
       "stream": "stdout",
       "text": [
        " : NO LOCATION\n",
        "London"
       ]
      },
      {
       "output_type": "stream",
       "stream": "stdout",
       "text": [
        " : (51.5073219, -0.1276474)\n",
        "Philadelphia "
       ]
      },
      {
       "output_type": "stream",
       "stream": "stdout",
       "text": [
        " : (39.952335, -75.163789)\n",
        "Delaware"
       ]
      },
      {
       "output_type": "stream",
       "stream": "stdout",
       "text": [
        " : (38.6920451, -75.4013315)\n",
        "Indonesia"
       ]
      },
      {
       "output_type": "stream",
       "stream": "stdout",
       "text": [
        " : (-4.7993356, 114.5632032)\n",
        "BLC Basement"
       ]
      },
      {
       "output_type": "stream",
       "stream": "stdout",
       "text": [
        " : NO LOCATION\n",
        "USA"
       ]
      },
      {
       "output_type": "stream",
       "stream": "stdout",
       "text": [
        " : (39.7837304, -100.4458825)\n"
       ]
      }
     ],
     "prompt_number": 21
    },
    {
     "cell_type": "markdown",
     "metadata": {},
     "source": [
      "Hoewel er veel rotzooi tussen zit zijn er ook veel locaties waarmee we wel iets kunnen. Hiervoor moet ik nog een oplossing bedenken."
     ]
    },
    {
     "cell_type": "heading",
     "level": 2,
     "metadata": {},
     "source": [
      "Detect language from tweet"
     ]
    },
    {
     "cell_type": "markdown",
     "metadata": {},
     "source": [
      "Deze command moest ik uitvoeren om deze plugin te kunnen gebruiken: <b>pip install langdetect</b>.<br><br>\n",
      "Eerst wil ik kijken of deze plugin werk naar behoren."
     ]
    },
    {
     "cell_type": "code",
     "collapsed": false,
     "input": [
      "from langdetect import detect\n",
      "print('en:',detect(\"War doesn't show who's right, just who's left.\"))\n",
      "print('de:',detect(\"Ein, zwei, drei, vier\"))\n",
      "print('nl:',detect(\"hallo mij naam is stijn\"))\n",
      "print('es:',detect(\"este n\u00famero es grasa roca\"))"
     ],
     "language": "python",
     "metadata": {},
     "outputs": [
      {
       "output_type": "stream",
       "stream": "stdout",
       "text": [
        "en: en\n",
        "de: de\n",
        "nl: nl\n",
        "es:"
       ]
      },
      {
       "output_type": "stream",
       "stream": "stdout",
       "text": [
        " es\n"
       ]
      }
     ],
     "prompt_number": 33
    },
    {
     "cell_type": "markdown",
     "metadata": {},
     "source": [
      "Zoals je kan zien worden de talen gevonden waarin ik mij tekst heb geschreven en vertrouw ik deze plugin."
     ]
    },
    {
     "cell_type": "code",
     "collapsed": false,
     "input": [
      "tweetsRecords = db['twitter-np'].aggregate([\n",
      "    {\n",
      "        \"$limit\": 10\n",
      "    },\n",
      "    {\n",
      "        \"$project\": {\n",
      "            \"_id\": 0,\n",
      "            \"tweet\": \"$tweet.text\",\n",
      "            \"artists\": \"$song.artists\",\n",
      "            \"releases\": \"$song.releases\",\n",
      "            \"title\": \"$song.title\"\n",
      "        }\n",
      "    }\n",
      "])\n",
      "tweets = list(tweetsRecords['result'])\n",
      "\n",
      "pprint(tweets)"
     ],
     "language": "python",
     "metadata": {},
     "outputs": [
      {
       "output_type": "stream",
       "stream": "stdout",
       "text": [
        "[{'artists': ['Born of Osiris'],\n",
        "  'releases': ['The Discovery'],\n",
        "  'title': 'Ascension',\n",
        "  'tweet': '#NP Born of Osiris - Machine #RADIO: http://t.co/QqbW4t8XkZ'},\n",
        " {'tweet': 'Kolmebaby... wutwut #np'},\n",
        " {'artists': ['Aerosmith'],\n",
        "  'releases': ['Pluggelectric'],\n",
        "  'title': 'Walk This Way',\n",
        "  'tweet': 'Aerosmith - Walk This Way http://t.co/4yBnVVPuyc #nowplaying '\n",
        "           '#listenlive'},\n",
        " {'artists': ['Lake Shore Drive'],\n",
        "  'releases': ['Adrift Among Sirens'],\n",
        "  'title': 'When the Leaves Failed Us Both',\n",
        "  'tweet': '#Spinning South Dat - Lake Shore Drive ... #TuneIn @ '\n",
        "           'http://t.co/kw0yWfrfFD'},\n",
        " {'artists': ['AMOM'],\n",
        "  'releases': ['World Made Us Crazy'],\n",
        "  'title': '36 Bottles of Blood on the Wall',\n",
        "  'tweet': 'Listen to 99 Bottles of Beer On the Wall by ESMG/DBlackVA #np '\n",
        "           'on #SoundCloud @mtvjams  https://t.co/K0fI1gyS99'},\n",
        " {'artists': ['\u0420\u0443\u0441\u0441\u043a\u0438\u0439 \u0420\u0430\u0437\u043c\u0435\u0440'],\n",
        "  'releases': ['650', '650.2'],\n",
        "  'title': '\u0410\u043d\u0433\u0435\u043b \u0434\u043d\u044f',\n",
        "  'tweet': '#np Ailee \u2013 SAKURA\\n\\n\u043f\u0435\u0441\u043d\u044f \u0434\u043d\u044f'},\n",
        " {'artists': ['Millenium'],\n",
        "  'releases': ['The Best of... And More (disc 2)'],\n",
        "  'title': 'On and On',\n",
        "  'tweet': '#NP Icey Hott - Millenium on http://t.co/tDOvTJ65el'},\n",
        " {'artists': ['Howlin\u2019 Wolf'],\n",
        "  'releases': ['The Sun Years'],\n",
        "  'title': 'Baby Ride With Me',\n",
        "  'tweet': \"Howlin' Wolf - Baby Ride With Me http://t.co/i8iTEnnom4 \"\n",
        "           '#nowplaying #listenlive'},\n",
        " {'artists': ['telingaberdarah'],\n",
        "  'releases': ['bercerita tentang akhir kisah sepasang kelinci yang sedang '\n",
        "               'memadu kasih'],\n",
        "  'title': 'rasa nyeri tak tertahankan mereka berlari kencang, pergi '\n",
        "           'menjauh dan menjauh sampai beberapa tahun setelah kejadian itu. '\n",
        "           'Suatu malam klub jazz ternama,',\n",
        "  'tweet': 'kalo sek bebas, masalah timbul jadi pergaduhan. Kerana sampai '\n",
        "           'kapanpun mereka takan mengerti, itu takdir. #np'},\n",
        " {'artists': ['The Stand by Me'],\n",
        "  'releases': [\"Don't Ever Change\"],\n",
        "  'title': 'Listen to the Music',\n",
        "  'tweet': \"Listen to SlickStrappo-That's Me Prod. By @SlickStrappo by \"\n",
        "           'SlickStrappo #np on #SoundCloud https://t.co/f6frhfeKNq \ud83d\ude08\ud83d\ude08\ud83d\ude08'}]\n"
       ]
      }
     ],
     "prompt_number": 40
    },
    {
     "cell_type": "code",
     "collapsed": false,
     "input": [
      "import re\n",
      "tweetStrings = []\n",
      "urlRE = '/https*:\\/\\/\\S*/gi'\n",
      "for tweet in tweets:\n",
      "    # remove url\n",
      "    newText = re.sub(r'(?i)\\b((?:https?://|www\\d{0,3}[.]|[a-z0-9.\\-]+[.][a-z]{2,4}/)(?:[^\\s()<>]+|\\(([^\\s()<>]+|(\\([^\\s()<>]+\\)))*\\))+(?:\\(([^\\s()<>]+|(\\([^\\s()<>]+\\)))*\\)|[^\\s`!()\\[\\]{};:\\'\".,<>?\u00ab\u00bb\u201c\u201d\u2018\u2019]))', '', tweet['tweet'])\n",
      "    # remove hashtag\n",
      "    newText = re.sub(r\"#(\\w+)\", '', newText)\n",
      "    # remove @ sign\n",
      "    newText = re.sub(r\"@\", '', newText)\n",
      "    # remove non charchaters\n",
      "    newText = re.sub(r'([^\\s\\w]|_)+', '', newText)\n",
      "    tweetStrings.append(tweet['tweet'])\n",
      "    tweetStrings.append(newText)\n",
      "    \n",
      "pprint(tweetStrings)"
     ],
     "language": "python",
     "metadata": {},
     "outputs": [
      {
       "output_type": "stream",
       "stream": "stdout",
       "text": [
        "['#NP Born of Osiris - Machine #RADIO: http://t.co/QqbW4t8XkZ',\n",
        " ' Born of Osiris  Machine  ',\n",
        " 'Kolmebaby... wutwut #np',\n",
        " 'Kolmebaby wutwut ',\n",
        " 'Aerosmith - Walk This Way http://t.co/4yBnVVPuyc #nowplaying #listenlive',\n",
        " 'Aerosmith  Walk This Way   ',\n",
        " '#Spinning South Dat - Lake Shore Drive ... #TuneIn @ http://t.co/kw0yWfrfFD',\n",
        " ' South Dat  Lake Shore Drive    ',\n",
        " 'Listen to 99 Bottles of Beer On the Wall by ESMG/DBlackVA #np on '\n",
        " '#SoundCloud @mtvjams  https://t.co/K0fI1gyS99',\n",
        " 'Listen to 99 Bottles of Beer On the Wall by ESMGDBlackVA  on  mtvjams  ',\n",
        " '#np Ailee \u2013 SAKURA\\n\\n\u043f\u0435\u0441\u043d\u044f \u0434\u043d\u044f',\n",
        " ' Ailee  SAKURA\\n\\n\u043f\u0435\u0441\u043d\u044f \u0434\u043d\u044f',\n",
        " '#NP Icey Hott - Millenium on http://t.co/tDOvTJ65el',\n",
        " ' Icey Hott  Millenium on ',\n",
        " \"Howlin' Wolf - Baby Ride With Me http://t.co/i8iTEnnom4 #nowplaying \"\n",
        " '#listenlive',\n",
        " 'Howlin Wolf  Baby Ride With Me   ',\n",
        " 'kalo sek bebas, masalah timbul jadi pergaduhan. Kerana sampai kapanpun '\n",
        " 'mereka takan mengerti, itu takdir. #np',\n",
        " 'kalo sek bebas masalah timbul jadi pergaduhan Kerana sampai kapanpun '\n",
        " 'mereka takan mengerti itu takdir ',\n",
        " \"Listen to SlickStrappo-That's Me Prod. By @SlickStrappo by SlickStrappo \"\n",
        " '#np on #SoundCloud https://t.co/f6frhfeKNq \ud83d\ude08\ud83d\ude08\ud83d\ude08',\n",
        " 'Listen to SlickStrappoThats Me Prod By SlickStrappo by SlickStrappo  on   ']\n"
       ]
      }
     ],
     "prompt_number": 67
    },
    {
     "cell_type": "markdown",
     "metadata": {},
     "source": [
      "Tijdens het uitwerken van deze methode om locatie te bepalen onderbrak mijn begeleider mij om te vertellen dat we het op deze manier in ieder geval niet gingen doen. Hij had hier weinig vertrouwen in."
     ]
    },
    {
     "cell_type": "heading",
     "level": 2,
     "metadata": {},
     "source": [
      "Conclusie"
     ]
    },
    {
     "cell_type": "markdown",
     "metadata": {},
     "source": [
      "Van de velden die iets zegen over de locatie is GEO coordinatie het handigst. Daarnaast vertrouw ik de place veld ook om de locatie te bepalen van de tweet. Heb tevens vertrouwen dat de locatie en time zone veld ons verder kunnen helpen met de locatie bepalen. Wel heb ik weer minder trouwen in de veld wat aangeeft welke taal de gebruiker spreek en wil ik niks doen met de UTC offset veld. Om een taal te bepalen aan de hand van een tweet tekst heeft voorlopig ook geen toekomst.<br><br>\n",
      "Ik mijn volgende labjournaal wil ik verder gaan met de volgende velden:\n",
      "<ul>\n",
      "<li>Locatie</li>\n",
      "<li>Time Zone</li>\n",
      "<li>coordinates</li>\n",
      "<li>place</li>\n",
      "</ul>"
     ]
    }
   ],
   "metadata": {}
  }
 ]
}