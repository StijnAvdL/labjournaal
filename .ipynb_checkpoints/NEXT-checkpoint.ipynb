{
 "metadata": {
  "name": "",
  "signature": "sha256:a9adf5a98ba6405c54b95681428bd4ad918ffb6c2f71999dd25f96728d2a3df9"
 },
 "nbformat": 3,
 "nbformat_minor": 0,
 "worksheets": []
}