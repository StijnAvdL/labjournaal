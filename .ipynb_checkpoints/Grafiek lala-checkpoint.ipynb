{
 "metadata": {
  "name": "",
  "signature": "sha256:8d7e247968f2cf097691810e2c7f06ba17fe7c7f7910757e7544253d8a7263ad"
 },
 "nbformat": 3,
 "nbformat_minor": 0,
 "worksheets": [
  {
   "cells": [
    {
     "cell_type": "code",
     "collapsed": false,
     "input": [
      "%pylab inline\n",
      "\n",
      "from pprint import pprint\n",
      "import pymongo\n",
      "import matplotlib.pyplot as plt\n",
      "import time\n",
      "import pandas as pd"
     ],
     "language": "python",
     "metadata": {},
     "outputs": [
      {
       "output_type": "stream",
       "stream": "stdout",
       "text": [
        "Populating the interactive namespace from numpy and matplotlib\n"
       ]
      }
     ],
     "prompt_number": 52
    },
    {
     "cell_type": "code",
     "collapsed": false,
     "input": [
      "# Connection to Mongo DB\n",
      "conn = pymongo.MongoClient('localhost', 27017)\n",
      "db = conn['mozart']\n",
      "\n",
      "print('connected to database')"
     ],
     "language": "python",
     "metadata": {},
     "outputs": [
      {
       "output_type": "stream",
       "stream": "stdout",
       "text": [
        "connected to database\n"
       ]
      }
     ],
     "prompt_number": 8
    },
    {
     "cell_type": "code",
     "collapsed": false,
     "input": [
      "tweetsRecords = db.testLocation.aggregate([\n",
      "    {\n",
      "        \"$match\": {'song.mb_id': {'$exists': 1} }\n",
      "    },\n",
      "    {\n",
      "        \"$project\": {\n",
      "            \"_id\": 0,\n",
      "            \"mb_id\": '$song.mb_id',\n",
      "            \"created_at\": '$tweet.created_at',\n",
      "            \"song\": '$song.title'\n",
      "        }\n",
      "    },\n",
      "    {\n",
      "        \"$group\": {\n",
      "           \"_id\": { \"day\": {\"$dayOfMonth\": \"$created_at\"}, \"month\": {\"$month\": \"$created_at\"}, \"year\": {\"$year\": \"$created_at\"}, \"mb_id\": \"$mb_id\"},\n",
      "           \"count\": { \"$sum\": 1 },\n",
      "           \"song\": {\"$first\": \"$song\"}\n",
      "        }\n",
      "    },\n",
      "    {\n",
      "        \"$sort\" : {'_id.mb_id': 1, \"_id.year\": 1, \"_id.month\": 1, \"_id.day\": 1}\n",
      "    },\n",
      "    { \n",
      "        \"$project\": {\n",
      "            \"_id\": 0,\n",
      "            \"mb_id\": \"$_id.mb_id\",\n",
      "            \"date\": \"$_id.day\",\n",
      "            \"count\": \"$count\",\n",
      "            \"song\": \"$song\"\n",
      "        }\n",
      "    },\n",
      "    { \n",
      "        \"$group\": {\n",
      "            \"_id\": {\"mb_id\": \"$mb_id\"},\n",
      "            \"plays\": { \"$push\": {\"date\": \"$date\", \"count\": \"$count\"}},\n",
      "            \"song\": {\"$first\": \"$song\"}\n",
      "        }\n",
      "    },\n",
      "    { \n",
      "        \"$project\": {\n",
      "            \"_id\": 0,\n",
      "            \"plays\": \"$plays\",\n",
      "            \"song\": \"$song\",\n",
      "            \"playsCount\": { \"$size\": \"$plays\" }\n",
      "        }\n",
      "    },\n",
      "    {\n",
      "        \"$sort\" : {'playsCount': -1}\n",
      "    },\n",
      "    { \"$limit\": 5 }\n",
      "])\n",
      "\n",
      "tweets = list(tweetsRecords['result'])\n",
      "print(\"get records\")"
     ],
     "language": "python",
     "metadata": {},
     "outputs": [
      {
       "output_type": "stream",
       "stream": "stdout",
       "text": [
        "get records\n"
       ]
      }
     ],
     "prompt_number": 37
    },
    {
     "cell_type": "code",
     "collapsed": false,
     "input": [
      "datum = [2,3,4,5,6,7,8,9,10,11,12,13,14]\n",
      "today= time.strftime(\"%d/%m/%Y\")"
     ],
     "language": "python",
     "metadata": {},
     "outputs": [],
     "prompt_number": 45
    },
    {
     "cell_type": "code",
     "collapsed": false,
     "input": [
      "pprint(tweets[0]['plays'][0]['date'])"
     ],
     "language": "python",
     "metadata": {},
     "outputs": [
      {
       "output_type": "stream",
       "stream": "stdout",
       "text": [
        "{'count': 2, 'date': 2}\n"
       ]
      }
     ],
     "prompt_number": 40
    },
    {
     "cell_type": "code",
     "collapsed": false,
     "input": [
      "i = 1\n",
      "tweet = tweets[i]\n",
      "songName = tweet['song']\n",
      "if i == 0:\n",
      "    songName = 'onzin'\n",
      "songCount = []\n",
      "for d in datum:\n",
      "    dd = 0\n",
      "    for dTweet in tweet['plays']:\n",
      "        if dTweet['date'] == d:\n",
      "            dd = dTweet['count']\n",
      "    songCount.append(dd)"
     ],
     "language": "python",
     "metadata": {},
     "outputs": [],
     "prompt_number": 60
    },
    {
     "cell_type": "code",
     "collapsed": false,
     "input": [
      "pprint(songCount)"
     ],
     "language": "python",
     "metadata": {},
     "outputs": [
      {
       "output_type": "stream",
       "stream": "stdout",
       "text": [
        "[2, 2, 0, 0, 0, 3, 1, 3, 3, 1, 0, 1, 1]\n"
       ]
      }
     ],
     "prompt_number": 47
    },
    {
     "cell_type": "code",
     "collapsed": false,
     "input": [
      "x=linspace(0,len(datum),len(datum))\n",
      "\n",
      "nlLine = plt.plot(x, songCount, 'r-', label='NL')\n",
      "plt.ylabel('count plays')\n",
      "plt.locator_params(nbins=10)\n",
      "plt.xticks(x,datum)\n",
      "plt.xlabel('datum in mei')\n",
      "plt.title(songName + ': created at ' + today)\n",
      "plt.legend()\n",
      "plt.show()"
     ],
     "language": "python",
     "metadata": {},
     "outputs": [
      {
       "metadata": {},
       "output_type": "display_data",
       "png": "[encoded data removed]",
       "text": [
        "<matplotlib.figure.Figure at 0x9f76470>"
       ]
      }
     ],
     "prompt_number": 61
    }
   ],
   "metadata": {}
  }
 ]
}