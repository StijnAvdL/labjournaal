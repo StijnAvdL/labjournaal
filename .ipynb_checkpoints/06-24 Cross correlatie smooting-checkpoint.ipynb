{
 "metadata": {
  "name": "",
  "signature": "sha256:1927d30ce1881a069622c11350d2b96bbb7539524f964664d24818ed94f9d452"
 },
 "nbformat": 3,
 "nbformat_minor": 0,
 "worksheets": [
  {
   "cells": [
    {
     "cell_type": "heading",
     "level": 1,
     "metadata": {},
     "source": [
      "Hoe ziet de nieuwe data eruit als er cross correlatie met smoothing over uitgevoerd wordt?"
     ]
    },
    {
     "cell_type": "markdown",
     "metadata": {},
     "source": [
      "Datum: 24-06-2015 <br>\n",
      "URL: http://nbviewer.ipython.org/github/StijnAvdL/labjournaal/blob/master/06-24%20Cross%20correlatie%20smooting.ipynb <br>\n",
      "Database: MongoDB - #NP"
     ]
    },
    {
     "cell_type": "markdown",
     "metadata": {},
     "source": [
      "Ik wil nu gaan bekijken of de correlatie met smoothing iets over de data kan vertellen. Daarbij wil ik de punten gaan plotten en bekijken of bijvoorbeeld muzieknummers die uit amerika komen ook verder voorlopen op Nederland dan nummers uit andere landen."
     ]
    },
    {
     "cell_type": "heading",
     "level": 2,
     "metadata": {},
     "source": [
      "Functies"
     ]
    },
    {
     "cell_type": "code",
     "collapsed": false,
     "input": [
      "%pylab inline\n",
      "\n",
      "import numpy as np\n",
      "import pymongo\n",
      "import matplotlib.pyplot as plt\n",
      "import scipy.stats as st\n",
      "import math"
     ],
     "language": "python",
     "metadata": {},
     "outputs": [
      {
       "output_type": "stream",
       "stream": "stdout",
       "text": [
        "Populating the interactive namespace from numpy and matplotlib\n"
       ]
      }
     ],
     "prompt_number": 1
    },
    {
     "cell_type": "code",
     "collapsed": false,
     "input": [
      "conn = pymongo.MongoClient('localhost', 27017)\n",
      "db = conn['mozart']\n",
      "days = [[126,132],[137,159]] "
     ],
     "language": "python",
     "metadata": {},
     "outputs": [],
     "prompt_number": 2
    },
    {
     "cell_type": "code",
     "collapsed": false,
     "input": [
      "def getCountryPlays(data, days):\n",
      "    arrayPlays = [];\n",
      "    for day in days:\n",
      "        dayIndexes = np.arange(day[0], day[1])\n",
      "        for dayIndex in dayIndexes:\n",
      "            arrayPlays.append(data['value']['counts'][dayIndex])\n",
      "    return arrayPlays"
     ],
     "language": "python",
     "metadata": {},
     "outputs": [],
     "prompt_number": 3
    },
    {
     "cell_type": "code",
     "collapsed": false,
     "input": [
      "def getNoiseSignal(songData):\n",
      "    # create linaire line with noise\n",
      "    xdata=np.arange(0,len(songData), 1)\n",
      "    increment, startValue = np.polyfit(xdata, songData, 1)\n",
      "    lineary=startValue+increment*xdata\n",
      "    \n",
      "    #so what is the noise when we do a linear fit?\n",
      "    yError=abs(songData-lineary)\n",
      "    stdnoise=std(yError)    \n",
      "    signaltonoiseratio=mean(songData)/stdnoise\n",
      "    \n",
      "    return signaltonoiseratio"
     ],
     "language": "python",
     "metadata": {},
     "outputs": [],
     "prompt_number": 4
    },
    {
     "cell_type": "code",
     "collapsed": false,
     "input": [
      "def smooth(x, window_len=10, window='hanning'):\n",
      "    if x.ndim != 1:\n",
      "        raise(ValueError, \"smooth only accepts 1 dimension arrays.\")\n",
      "\n",
      "    if x.size < window_len:\n",
      "        raise(ValueError, \"Input vector needs to be bigger than window size.\")\n",
      "\n",
      "    if window_len < 3:\n",
      "        return x\n",
      "\n",
      "    if not window in ['flat', 'hanning', 'hamming', 'bartlett', 'blackman']:\n",
      "        raise(ValueError, \"Window is on of 'flat', 'hanning', 'hamming', 'bartlett', 'blackman'\")\n",
      "\n",
      "    s=np.r_[2*x[0]-x[window_len:1:-1], x, 2*x[-1]-x[-1:-window_len:-1]]\n",
      "    #print(len(s))\n",
      "    \n",
      "    if window == 'flat': #moving average\n",
      "        w = np.ones(window_len,'d')\n",
      "    else:\n",
      "        w = getattr(np, window)(window_len)\n",
      "    y = np.convolve(w/w.sum(), s, mode='same')\n",
      "    return y[window_len-1:-window_len+1]"
     ],
     "language": "python",
     "metadata": {},
     "outputs": [],
     "prompt_number": 5
    },
    {
     "cell_type": "code",
     "collapsed": false,
     "input": [
      "def crossCorrelatieCountry(countryCodeOne, countryCodeTwo):\n",
      "    scoreArray = []\n",
      "    daysArray = []\n",
      "    mbIdArray = []\n",
      "    \n",
      "    # landen ophalen\n",
      "    query = db.npCountryTop500_3.aggregate([\n",
      "        { '$match': {'cc': countryCodeOne} },\n",
      "        { '$sort': {'value.total': -1}}\n",
      "    ])\n",
      "    countryOne = list(query['result'])\n",
      "\n",
      "    query = db.npCountryTop500_3.aggregate([\n",
      "        { '$match': {'cc': countryCodeTwo} },\n",
      "        { '$sort': {'value.total': -1}}\n",
      "    ])\n",
      "    countryTwo = list(query['result'])\n",
      "    \n",
      "    # land 1 doorlopen\n",
      "    for songsOne in countryOne:\n",
      "        # controleer of land 2 zong bezit\n",
      "        for songsTwo in countryTwo:\n",
      "            if songsOne['mbId'] == songsTwo['mbId']:\n",
      "                ccOne = smooth(numpy.array(getCountryPlays(songsOne,days)),4,window=\"hamming\")\n",
      "                ccTwo = smooth(numpy.array(getCountryPlays(songsTwo,days)),4,window=\"hamming\")   \n",
      "\n",
      "                if getNoiseSignal(ccOne) > 4 and getNoiseSignal(ccTwo) > 4:\n",
      "                    ccOne = (ccOne - mean(ccOne)) / (std(ccOne) * len(ccOne))\n",
      "                    ccTwo = (ccTwo - mean(ccTwo)) / (std(ccTwo))\n",
      "\n",
      "                    cc = np.correlate(ccOne, ccTwo, \"full\")\n",
      "                    x=linspace(-round(len(cc)/2),round(len(cc)/2),len(cc))\n",
      "\n",
      "                    scoreArray.append(max(cc))\n",
      "                    daysArray.append(x[np.argmax(cc)])\n",
      "                    mbIdArray.append(songsOne['mbId'])\n",
      "                break;\n",
      "    return scoreArray, daysArray, mbIdArray"
     ],
     "language": "python",
     "metadata": {},
     "outputs": [],
     "prompt_number": 12
    },
    {
     "cell_type": "code",
     "collapsed": false,
     "input": [
      "a,b,c = crossCorrelatieCountry('US', 'NL')\n",
      "plot(a,b,'*')"
     ],
     "language": "python",
     "metadata": {},
     "outputs": [
      {
       "metadata": {},
       "output_type": "pyout",
       "prompt_number": 13,
       "text": [
        "[<matplotlib.lines.Line2D at 0x7b07f28>]"
       ]
      },
      {
       "metadata": {},
       "output_type": "display_data",
       "png": "[encoded data removed]",
       "text": [
        "<matplotlib.figure.Figure at 0x87c4a90>"
       ]
      }
     ],
     "prompt_number": 13
    },
    {
     "cell_type": "code",
     "collapsed": false,
     "input": [
      "a,b,c = crossCorrelatieCountry('US', 'GB')\n",
      "plot(b,a,'*')"
     ],
     "language": "python",
     "metadata": {},
     "outputs": [
      {
       "metadata": {},
       "output_type": "pyout",
       "prompt_number": 49,
       "text": [
        "[<matplotlib.lines.Line2D at 0x7e9e358>]"
       ]
      },
      {
       "metadata": {},
       "output_type": "display_data",
       "png": "[encoded data removed]",
       "text": [
        "<matplotlib.figure.Figure at 0x83435f8>"
       ]
      }
     ],
     "prompt_number": 49
    },
    {
     "cell_type": "code",
     "collapsed": false,
     "input": [
      "a,b,c = crossCorrelatieCountry('FR', 'GB')\n",
      "plot(a,b,'*b')"
     ],
     "language": "python",
     "metadata": {},
     "outputs": [
      {
       "metadata": {},
       "output_type": "pyout",
       "prompt_number": 29,
       "text": [
        "[<matplotlib.lines.Line2D at 0x79ea828>]"
       ]
      },
      {
       "metadata": {},
       "output_type": "display_data",
       "png": "[encoded data removed]",
       "text": [
        "<matplotlib.figure.Figure at 0x8324ac8>"
       ]
      }
     ],
     "prompt_number": 29
    },
    {
     "cell_type": "markdown",
     "metadata": {},
     "source": [
      "In grote lijnen lijken de hoe hoger de score (en dus hoe beter de correlatie) des te dichter ze bij de 0 dagen verschil komen. Ik wil nu inzichtelijk maken of muzieknummers die uit des betreffende landen komen een andere positie krijgen dan gelever muzieknummer die uitgebracht zijn door artiesten die niet in een van de land zjin geboren."
     ]
    },
    {
     "cell_type": "heading",
     "level": 2,
     "metadata": {},
     "source": [
      "Plot Artisten"
     ]
    },
    {
     "cell_type": "code",
     "collapsed": false,
     "input": [
      "a,b,c = crossCorrelatieCountry('US', 'NL')\n",
      "c"
     ],
     "language": "python",
     "metadata": {},
     "outputs": [
      {
       "metadata": {},
       "output_type": "pyout",
       "prompt_number": 51,
       "text": [
        "['c6cf4924-75b7-40b3-8d66-f50ff8aec30e',\n",
        " '39fc36c2-fcc2-46f5-8e9c-46c2eb3296ed',\n",
        " 'f7629592-96df-4a35-8820-dd712837fc97',\n",
        " '83451080-bcfe-4825-bef7-ed953c7fa162',\n",
        " 'c2dc3c93-b409-4abc-8ffc-292847b0ce1f',\n",
        " '9a8b6c6a-707f-4fa5-ade7-5bbf2b5792d4',\n",
        " '9fef700c-c636-4b80-9baa-a30d29909de6',\n",
        " '40cacfcf-0d77-4c41-924d-b31c79dfe198',\n",
        " 'd6052cb5-4d8b-4ad6-9524-f9925ddd6fcb',\n",
        " '62444fca-757a-4118-8d44-eac9be684546',\n",
        " 'cb2cc207-8125-445c-9ef9-6ea44eee959a',\n",
        " 'c3888dd0-c1ce-45b3-9425-48375394fe7f',\n",
        " 'f4a5b10e-2f3a-47d0-b6f9-e8e17315d39e',\n",
        " '9f24c0f7-a644-4074-8fbd-a1dba03de129',\n",
        " '02aef9de-df3c-4224-a53e-eb8c97e7f4c2',\n",
        " 'e826cccd-355a-41db-bc56-5727490907b6',\n",
        " 'a5420580-a30f-412f-ac56-e383b862481d',\n",
        " '13cfe35f-5ce9-4056-8025-b440ea00c24b',\n",
        " '6544954d-27da-4e26-898a-fbe23862cf07',\n",
        " 'e4c0494d-5ab6-479a-a527-cfdc41f7c595',\n",
        " '303009ae-dbf9-437d-9f5f-d4cdc3bb1b7f',\n",
        " 'a9482f33-db63-455f-80bf-62360c5f8652',\n",
        " '2b48125b-3856-452e-95fd-9c550dd9cea7',\n",
        " '9dbd4c26-c4ad-4abe-ba3e-88bfe6750518',\n",
        " '98552b63-1577-4866-bf62-3982499f5c0e',\n",
        " '5d0ded70-d56e-4580-bdbb-5d8354d3c200',\n",
        " '9037fd5b-e74f-49c9-90aa-9c8d08ee160a',\n",
        " 'ef52d733-fa83-4cf5-975b-38fb27003faf',\n",
        " 'd8961897-a7c8-4e21-8047-cf7b7f7d0314',\n",
        " '922c5743-228d-4aba-ac80-d65e0417d708']"
       ]
      }
     ],
     "prompt_number": 51
    },
    {
     "cell_type": "code",
     "collapsed": false,
     "input": [
      "i = 0\n",
      "usSong = []\n",
      "notUsSong = []\n",
      "for mbId in c:\n",
      "    query = db.songInfo.find_one({'mbId': mbId})\n",
      "    us = False\n",
      "    for countryCC in query['artiestCC']:\n",
      "        if countryCC == 'GB':\n",
      "            us = True\n",
      "    if us:\n",
      "        plot(a[i], b[i],'+b')\n",
      "    else:\n",
      "        plot(a[i], b[i],'+r')\n",
      "        notUsSong.append({a[i], b[i]})\n",
      "    i += 1"
     ],
     "language": "python",
     "metadata": {},
     "outputs": [
      {
       "metadata": {},
       "output_type": "display_data",
       "png": "[encoded data removed]",
       "text": [
        "<matplotlib.figure.Figure at 0x870d5c0>"
       ]
      }
     ],
     "prompt_number": 54
    },
    {
     "cell_type": "code",
     "collapsed": false,
     "input": [
      "a,b,c = crossCorrelatieCountry('US', 'GB')\n",
      "c"
     ],
     "language": "python",
     "metadata": {},
     "outputs": [
      {
       "metadata": {},
       "output_type": "pyout",
       "prompt_number": 44,
       "text": [
        "['c6cf4924-75b7-40b3-8d66-f50ff8aec30e',\n",
        " '39fc36c2-fcc2-46f5-8e9c-46c2eb3296ed',\n",
        " '7ccb8e72-5296-4e1f-9c2e-f2262ed16dd3',\n",
        " 'c6e843b2-e94f-47b9-bd64-aee20b1bd044',\n",
        " '38e06968-af06-44ea-9eba-a1a275832767',\n",
        " 'f7629592-96df-4a35-8820-dd712837fc97',\n",
        " 'ba0aff15-7701-4c77-a6cd-6e0b151801c6',\n",
        " 'b1e1e0ee-67e3-440f-939e-83551039fdbe',\n",
        " '83451080-bcfe-4825-bef7-ed953c7fa162',\n",
        " 'a0d55631-bcb2-4bd7-8ad2-f981e2b081a7',\n",
        " '9fef700c-c636-4b80-9baa-a30d29909de6',\n",
        " '40cacfcf-0d77-4c41-924d-b31c79dfe198',\n",
        " 'c3888dd0-c1ce-45b3-9425-48375394fe7f',\n",
        " 'f9e6e723-0967-4608-84ca-314367d24bb9',\n",
        " '4cc8d0a7-b8b7-42af-b67b-dc2d60fe2dcf',\n",
        " '180b9f57-9424-4027-b6e2-fa4230a2db32',\n",
        " 'a19628b1-5ffd-4332-8558-755a7b497021',\n",
        " 'c113e0fe-1f65-45c0-a5b5-31e3ec9ab717',\n",
        " '8a4569f5-263c-467a-8d1f-9896f82b840a',\n",
        " '777a7dc2-bd4f-4f05-9bef-e8548d8d9e25',\n",
        " 'e826cccd-355a-41db-bc56-5727490907b6',\n",
        " '78a8d975-1257-4fc4-a634-50f89a62de47',\n",
        " 'cd48db8e-ba1f-43f8-9f97-e7da6d0ff30b',\n",
        " '6544954d-27da-4e26-898a-fbe23862cf07',\n",
        " 'd4a249a1-881e-4e81-aabf-7584c6099357',\n",
        " 'e4c0494d-5ab6-479a-a527-cfdc41f7c595',\n",
        " '97f979b0-0d61-4cb5-9946-b0ca6cfdb1ae',\n",
        " 'c3fe7791-0a91-4f0a-a89b-b056f38d3cde',\n",
        " 'a6ef09c1-dd20-4ce6-b253-16a31f0c6831',\n",
        " 'dde41471-adb3-48cb-81c5-abd916cdbd94',\n",
        " 'a9dbfdeb-50ed-4043-8769-9462aa0990a9',\n",
        " '574eafc0-6909-4278-94fa-083ea5aefc61',\n",
        " '3b629970-2996-41b0-be65-803f79862286',\n",
        " 'e282258b-1aaf-4ef8-84d7-d9b5255c7f38',\n",
        " 'fb87831d-3900-433b-8758-07879b2b5e8e',\n",
        " '7d5e3bdd-b0b1-47c4-9fb2-877a683f210c',\n",
        " '728f19fe-fe8b-45cc-9b3b-16352f20ff95',\n",
        " '1b1e4b65-9b1a-48cd-8e3a-b4824f15bf0c',\n",
        " '95abf287-fe32-4674-8e7c-d9365e3fa41d',\n",
        " '6f860ade-ef7d-4281-9803-cdb54a8812cb',\n",
        " '2b48125b-3856-452e-95fd-9c550dd9cea7',\n",
        " '316bc3ef-47a2-4408-aa03-06ddff5861a6',\n",
        " 'dfc35ee4-344c-490f-a1d2-a461293369a8',\n",
        " 'a05f146f-3bf7-43a4-8dac-81458f91946c',\n",
        " 'f2ca9ad8-0ba5-4522-a256-36ed50db43b2',\n",
        " '0237500a-7db3-4826-9124-052b46baed02',\n",
        " '5d0ded70-d56e-4580-bdbb-5d8354d3c200',\n",
        " '348ff4c3-5f78-4c3d-8df7-8983f8b91a0c',\n",
        " '316404fb-6cdb-4d63-abcb-78ee31f654c4',\n",
        " '31f919e9-acbf-42ec-bf3e-d4a78b29a205',\n",
        " 'bb89dc65-2f08-4500-9e8c-dffed6033361',\n",
        " 'ec0d851d-f491-4e97-84c7-affdbc5fad91',\n",
        " '95174099-7e40-420f-aa82-ee3cc36dbccf',\n",
        " 'e9e25a94-a69b-4c50-ad33-a6c00a5df865',\n",
        " '0ea869c5-e0d2-4f7c-a21c-9ebc64143d97',\n",
        " 'eb6e241f-fd71-4410-9667-f4d4c489d424']"
       ]
      }
     ],
     "prompt_number": 44
    },
    {
     "cell_type": "heading",
     "level": 2,
     "metadata": {},
     "source": [
      "Data opslaan in db"
     ]
    },
    {
     "cell_type": "code",
     "collapsed": false,
     "input": [
      "import requests, json\n",
      "import datetime\n",
      "import calendar\n",
      "\n",
      "data = requests.get('http://musicbrainz.org/ws/2/recording/c6cf4924-75b7-40b3-8d66-f50ff8aec30e?inc=artist-credits+releases&fmt=json').json()"
     ],
     "language": "python",
     "metadata": {},
     "outputs": [],
     "prompt_number": 134
    },
    {
     "cell_type": "code",
     "collapsed": false,
     "input": [
      "for d in data['releases']:\n",
      "    print(d['country'])\n",
      "    print(d['date'])\n",
      "    print(d['title'])\n",
      "    print(d['id'])\n",
      "    print()"
     ],
     "language": "python",
     "metadata": {},
     "outputs": [
      {
       "output_type": "stream",
       "stream": "stdout",
       "text": [
        "GB\n",
        "2015-03-16\n",
        "Furious 7: Original Motion Picture Soundtrack\n",
        "261062bf-e2bb-47f3-8eb2-6d1c69f02189\n",
        "\n",
        "US\n",
        "2015-03-17\n",
        "See You Again\n",
        "59563f7c-2913-4517-8c63-6d1da3ab5557\n",
        "\n",
        "US\n",
        "2015-03-17\n",
        "Furious 7\n",
        "82b4ec57-12b0-454d-af7f-29bbe3d380d7\n",
        "\n",
        "XW\n",
        "2015-05-17\n",
        "Furious 7: Original Motion Picture Soundtrack\n",
        "aaf79fbb-11af-4f4b-84ea-bb76183b20a1\n",
        "\n",
        "None\n",
        "2015-03-20\n",
        "Furious 7\n",
        "ef67b8e7-b1ba-4427-9f2c-88d2659353d7\n",
        "\n"
       ]
      }
     ],
     "prompt_number": 111
    },
    {
     "cell_type": "code",
     "collapsed": false,
     "input": [
      "data2 = requests.get('http://musicbrainz.org/ws/2/recording/39fc36c2-fcc2-46f5-8e9c-46c2eb3296ed?inc=artist-credits+releases&fmt=json').json()"
     ],
     "language": "python",
     "metadata": {},
     "outputs": [],
     "prompt_number": 101
    },
    {
     "cell_type": "code",
     "collapsed": false,
     "input": [
      "# doorloop alle releases\n",
      "releases = []\n",
      "for d in data2['releases']:\n",
      "    if d['title'] == 'Trap Queen':\n",
      "        datum = datetime.datetime.strptime(d['date'], \"%Y-%m-%d\")\n",
      "        releases.append({\n",
      "            'date': int(calendar.timegm(datum.utctimetuple())), \n",
      "            'id': d['id'], \n",
      "            'cc': d['country'], \n",
      "            'artiesten': d['artist-credit']})\n",
      "\n",
      "# select release met vroegste release datum\n",
      "minDate = 0\n",
      "i = 0\n",
      "selectedRelease = 0\n",
      "for release in releases:\n",
      "    if minDate == 0:\n",
      "        minDate = release['date']\n",
      "    elif minDate > release['date']:\n",
      "        minDate = release['date']\n",
      "        selectedRelease = i\n",
      "    i += 1\n",
      "release = releases[selectedRelease]"
     ],
     "language": "python",
     "metadata": {},
     "outputs": [],
     "prompt_number": 210
    },
    {
     "cell_type": "code",
     "collapsed": false,
     "input": [
      "# release gevonden\n",
      "release"
     ],
     "language": "python",
     "metadata": {},
     "outputs": [
      {
       "metadata": {},
       "output_type": "pyout",
       "prompt_number": 211,
       "text": [
        "{'cc': 'XW',\n",
        " 'date': 1398124800,\n",
        " 'id': '1e838c39-8805-41b6-8ab8-110341d1b420',\n",
        " 'artiesten': [{'joinphrase': '',\n",
        "   'name': 'Fetty Wap',\n",
        "   'artist': {'name': 'Fetty Wap',\n",
        "    'disambiguation': '',\n",
        "    'id': 'e3492ea0-5997-4241-a7bf-2fd7fb1bfad1',\n",
        "    'sort-name': 'Fetty Wap'}}]}"
       ]
      }
     ],
     "prompt_number": 211
    },
    {
     "cell_type": "code",
     "collapsed": false,
     "input": [
      "releaseData = requests.get('http://musicbrainz.org/ws/2/release/'+release['id']+'?inc=artist-credits+labels+recordings&fmt=json').json()\n",
      "if releaseData['label-info'][0] and releaseData['label-info'][0]['label']:\n",
      "    labelId = releaseData['label-info'][0]['label']['id']\n",
      "    labelData = requests.get('http://musicbrainz.org/ws/2/label/'+labelId+'?fmt=json').json()\n",
      "    label = {'cc': labelData['country'], 'name': labelData['sort-name'], 'id': labelData['id']}\n",
      "    label # deze is toevallig Null"
     ],
     "language": "python",
     "metadata": {},
     "outputs": [],
     "prompt_number": 278
    },
    {
     "cell_type": "code",
     "collapsed": false,
     "input": [
      "label"
     ],
     "language": "python",
     "metadata": {},
     "outputs": [
      {
       "metadata": {},
       "output_type": "pyout",
       "prompt_number": 279,
       "text": [
        "{'cc': None,\n",
        " 'name': 'Goodfella4life Entertainment',\n",
        " 'id': '5b0e031b-900a-46a0-a610-0b92f6713138'}"
       ]
      }
     ],
     "prompt_number": 279
    },
    {
     "cell_type": "heading",
     "level": 3,
     "metadata": {},
     "source": [
      "Artiesten"
     ]
    },
    {
     "cell_type": "code",
     "collapsed": false,
     "input": [
      "artiesten = []\n",
      "for artiest in release['artiesten']:\n",
      "    artiestData = requests.get('http://musicbrainz.org/ws/2/artist/'+artiest['artist']['id']+'?fmt=json').json()\n",
      "    artiesten.append({'cc': artiestData['country'], 'name': artiestData['sort-name'], 'id': artiestData['id']})"
     ],
     "language": "python",
     "metadata": {},
     "outputs": [],
     "prompt_number": 217
    },
    {
     "cell_type": "code",
     "collapsed": false,
     "input": [
      "print(artiesten)\n",
      "print(release)\n",
      "print(label)"
     ],
     "language": "python",
     "metadata": {},
     "outputs": [
      {
       "output_type": "stream",
       "stream": "stdout",
       "text": [
        "[{'cc': 'US', 'name': 'Fetty Wap', 'id': 'e3492ea0-5997-4241-a7bf-2fd7fb1bfad1'}]\n",
        "{'cc': 'XW', 'date': 1398124800, 'id': '1e838c39-8805-41b6-8ab8-110341d1b420', 'artiesten': [{'joinphrase': '', 'name': 'Fetty Wap', 'artist': {'name': 'Fetty Wap', 'disambiguation': '', 'id': 'e3492ea0-5997-4241-a7bf-2fd7fb1bfad1', 'sort-name': 'Fetty Wap'}}]}\n",
        "{'cc': None, 'name': 'Goodfella4life Entertainment', 'id': '5b0e031b-900a-46a0-a610-0b92f6713138'}\n"
       ]
      }
     ],
     "prompt_number": 218
    },
    {
     "cell_type": "code",
     "collapsed": false,
     "input": [
      "db.mbSong.insert({'title': 'Trap Queen', \n",
      "    'mbId': '39fc36c2-fcc2-46f5-8e9c-46c2eb3296ed', \n",
      "    'date': release['date'],\n",
      "    'releaseCountry': release['cc'],\n",
      "    'label':{\n",
      "        'name': label['name'],\n",
      "        'id': label['id'],\n",
      "        'cc': label['cc']\n",
      "    },\n",
      "    'artists': [] \n",
      "})"
     ],
     "language": "python",
     "metadata": {},
     "outputs": [
      {
       "metadata": {},
       "output_type": "pyout",
       "prompt_number": 220,
       "text": [
        "ObjectId('558aa8a65044091210c4d3be')"
       ]
      }
     ],
     "prompt_number": 220
    },
    {
     "cell_type": "code",
     "collapsed": false,
     "input": [
      "for artiest in artiesten:\n",
      "    db.mbSong.update({'mbId': '39fc36c2-fcc2-46f5-8e9c-46c2eb3296ed'},\n",
      "                     { '$push': { 'artists': {\n",
      "                        'name': artiest['name'],\n",
      "                        'cc': artiest['cc'],\n",
      "                        'id': artiest['id']\n",
      "                     } } } )"
     ],
     "language": "python",
     "metadata": {},
     "outputs": [],
     "prompt_number": 221
    },
    {
     "cell_type": "code",
     "collapsed": false,
     "input": [
      "import time\n",
      "time.sleep(2)\n",
      "print('apa')"
     ],
     "language": "python",
     "metadata": {},
     "outputs": [
      {
       "output_type": "stream",
       "stream": "stdout",
       "text": [
        "apa\n"
       ]
      }
     ],
     "prompt_number": 222
    },
    {
     "cell_type": "heading",
     "level": 2,
     "metadata": {},
     "source": [
      "Functie invoeren mbId "
     ]
    },
    {
     "cell_type": "code",
     "collapsed": false,
     "input": [
      "def getJson(url):\n",
      "    time.sleep(2)\n",
      "    return requests.get(url).json()"
     ],
     "language": "python",
     "metadata": {},
     "outputs": [],
     "prompt_number": 223
    },
    {
     "cell_type": "code",
     "collapsed": false,
     "input": [
      "def getTimestamp(date):\n",
      "    if(len(date) == 0):\n",
      "        return None\n",
      "    elif(len(date) == 4):\n",
      "        dateObj = datetime.datetime.strptime(date, \"%Y\")\n",
      "    else:\n",
      "        dateObj = datetime.datetime.strptime(date, \"%Y-%m-%d\")\n",
      "    return int(calendar.timegm(dateObj.utctimetuple()))"
     ],
     "language": "python",
     "metadata": {},
     "outputs": [],
     "prompt_number": 320
    },
    {
     "cell_type": "code",
     "collapsed": false,
     "input": [
      "def getRelease(releasesJson):\n",
      "    # doorloop alle releases\n",
      "    releases = []\n",
      "    for release in releasesJson:\n",
      "        if release['title'] == title:\n",
      "            releases.append({\n",
      "                'date': getTimestamp(release['date']), \n",
      "                'id': release['id'], \n",
      "                'cc': release['country'], \n",
      "                'artiesten': release['artist-credit']})\n",
      "    # als er geen release is gevonden met zelfde song\n",
      "    if len(releases) == 0:\n",
      "        for release in releasesJson:\n",
      "            if release.get('date') != None and len(releases) == 0:\n",
      "                releases.append({\n",
      "                    'date': getTimestamp(release['date']), \n",
      "                    'id': release['id'], \n",
      "                    'cc': release['country'], \n",
      "                    'artiesten': release['artist-credit']})\n",
      "   \n",
      "    # select release met vroegste release datum\n",
      "    minDate = 0\n",
      "    i = 0\n",
      "    selectedRelease = 0\n",
      "    for release in releases:\n",
      "        if minDate == 0:\n",
      "            minDate = release['date']\n",
      "        elif minDate > release['date']:\n",
      "            minDate = release['date']\n",
      "            selectedRelease = i\n",
      "        i += 1\n",
      "    return releases[selectedRelease]"
     ],
     "language": "python",
     "metadata": {},
     "outputs": [],
     "prompt_number": 429
    },
    {
     "cell_type": "code",
     "collapsed": false,
     "input": [
      "def getLabel(releaseId):\n",
      "    label = {'cc': None, 'name': None, 'id': None}\n",
      "    labelId = None\n",
      "    releaseJson = getJson('http://musicbrainz.org/ws/2/release/'+releaseId+'?inc=artist-credits+labels+recordings&fmt=json')\n",
      "\n",
      "    if len(releaseJson['label-info']) > 0:\n",
      "        i = 0\n",
      "        while i < len(releaseJson['label-info']) and labelId == None:\n",
      "            if aa['label-info'][i]['label'] != None:\n",
      "                labelId = releaseJson['label-info'][i]['label']['id']  \n",
      "                labelJson = getJson('http://musicbrainz.org/ws/2/label/'+labelId+'?fmt=json')\n",
      "                label = {'cc': labelJson['country'], 'name': labelJson['sort-name'], 'id': labelJson['id']}\n",
      "            i += 1\n",
      "    return label"
     ],
     "language": "python",
     "metadata": {},
     "outputs": [],
     "prompt_number": 379
    },
    {
     "cell_type": "code",
     "collapsed": false,
     "input": [
      "def getArtist(artistId):\n",
      "    artiestJson = getJson('http://musicbrainz.org/ws/2/artist/'+artistId+'?fmt=json')\n",
      "    return {'cc': artiestJson['country'], 'name': artiestJson['sort-name'], 'id': artiestJson['id']}"
     ],
     "language": "python",
     "metadata": {},
     "outputs": [],
     "prompt_number": 284
    },
    {
     "cell_type": "code",
     "collapsed": false,
     "input": [
      "def saveMbInfo(release, label, artists, mbId, title):\n",
      "    db.mbSong.insert({'title': title, \n",
      "        'mbId': mbId, \n",
      "        'date': release['date'],\n",
      "        'releaseCountry': release['cc'],\n",
      "        'label':{\n",
      "            'name': label['name'],\n",
      "            'id': label['id'],\n",
      "            'cc': label['cc']\n",
      "        },\n",
      "        'artists': [] \n",
      "    })\n",
      "\n",
      "    for artist in artists:\n",
      "        db.mbSong.update({'mbId': mbId},\n",
      "        { '$push': { 'artists': {\n",
      "        'name': artist['name'],\n",
      "        'cc': artist['cc'],\n",
      "        'id': artist['id']\n",
      "        } } } )"
     ],
     "language": "python",
     "metadata": {},
     "outputs": [],
     "prompt_number": 294
    },
    {
     "cell_type": "code",
     "collapsed": false,
     "input": [
      "def createMbInfo(mbId):\n",
      "    # check if song is already in db\n",
      "    if db.mbSong.find({'mbId': mbId}).count() == 0:\n",
      "        # get title of song\n",
      "        title = db.npCountryTop500_3.find_one({'mbId': mbId})\n",
      "        title = title['title']\n",
      "        artists = []\n",
      "        \n",
      "        # get record \n",
      "        recordJson = getJson('http://musicbrainz.org/ws/2/recording/'+mbId+'?inc=artist-credits+releases&fmt=json')\n",
      "        \n",
      "        if len(recordJson) > 1:\n",
      "            # get release\n",
      "            release = getRelease(recordJson['releases'])\n",
      "\n",
      "            # get label\n",
      "            label = getLabel(release['id'])\n",
      "\n",
      "            # get artists\n",
      "            for artist in release['artiesten']:\n",
      "                artists.append(getArtist(artist['artist']['id']))\n",
      "\n",
      "            # insert data\n",
      "            saveMbInfo(release, label, artists, mbId, title)\n",
      "            print('insert:', mbId)\n",
      "        else:\n",
      "            print('not find:', mbId)"
     ],
     "language": "python",
     "metadata": {},
     "outputs": [],
     "prompt_number": 330
    },
    {
     "cell_type": "code",
     "collapsed": false,
     "input": [
      "createMbInfo('7b2c014a-9bbe-473f-9cd9-557e8de146cd')"
     ],
     "language": "python",
     "metadata": {},
     "outputs": [
      {
       "output_type": "stream",
       "stream": "stdout",
       "text": [
        "insert Go On, Kill Me\n"
       ]
      }
     ],
     "prompt_number": 296
    },
    {
     "cell_type": "code",
     "collapsed": false,
     "input": [
      "createMbInfo('c6cf4924-75b7-40b3-8d66-f50ff8aec30e')"
     ],
     "language": "python",
     "metadata": {},
     "outputs": [
      {
       "output_type": "stream",
       "stream": "stdout",
       "text": [
        "insert See You Again\n"
       ]
      }
     ],
     "prompt_number": 298
    },
    {
     "cell_type": "code",
     "collapsed": false,
     "input": [
      "data = getJson('http://musicbrainz.org/ws/2/recording/eb6e241f-fd71-4410-9667-f4d4c489d424?inc=artist-credits+isrcs+releases&fmt=json')"
     ],
     "language": "python",
     "metadata": {},
     "outputs": [],
     "prompt_number": 384
    },
    {
     "cell_type": "code",
     "collapsed": false,
     "input": [
      "data['releases'][0]['da']"
     ],
     "language": "python",
     "metadata": {},
     "outputs": [
      {
       "metadata": {},
       "output_type": "pyout",
       "prompt_number": 412,
       "text": [
        "{'packaging': None,\n",
        " 'text-representation': {'language': None, 'script': None},\n",
        " 'disambiguation': '',\n",
        " 'title': 'Rebel Heart',\n",
        " 'barcode': None,\n",
        " 'quality': 'normal',\n",
        " 'status': 'Official',\n",
        " 'artist-credit': [{'joinphrase': '',\n",
        "   'name': 'Madonna',\n",
        "   'artist': {'name': 'Madonna',\n",
        "    'disambiguation': '',\n",
        "    'id': '79239441-bfd5-4981-a70c-55c3f15c1287',\n",
        "    'sort-name': 'Madonna'}}],\n",
        " 'id': '0911931a-3770-4cb7-ba67-3d2fda24d2e8'}"
       ]
      }
     ],
     "prompt_number": 412
    },
    {
     "cell_type": "code",
     "collapsed": false,
     "input": [
      "try:\n",
      "    data['releases'][0]['date']\n",
      "except NameError:\n",
      "    myVar = None"
     ],
     "language": "python",
     "metadata": {},
     "outputs": [
      {
       "ename": "KeyError",
       "evalue": "'date'",
       "output_type": "pyerr",
       "traceback": [
        "\u001b[1;31m---------------------------------------------------------------------------\u001b[0m\n\u001b[1;31mKeyError\u001b[0m                                  Traceback (most recent call last)",
        "\u001b[1;32m<ipython-input-399-1f2afd010b26>\u001b[0m in \u001b[0;36m<module>\u001b[1;34m()\u001b[0m\n\u001b[0;32m      1\u001b[0m \u001b[1;32mtry\u001b[0m\u001b[1;33m:\u001b[0m\u001b[1;33m\u001b[0m\u001b[0m\n\u001b[1;32m----> 2\u001b[1;33m     \u001b[0mdata\u001b[0m\u001b[1;33m[\u001b[0m\u001b[1;34m'releases'\u001b[0m\u001b[1;33m]\u001b[0m\u001b[1;33m[\u001b[0m\u001b[1;36m0\u001b[0m\u001b[1;33m]\u001b[0m\u001b[1;33m[\u001b[0m\u001b[1;34m'date'\u001b[0m\u001b[1;33m]\u001b[0m\u001b[1;33m\u001b[0m\u001b[0m\n\u001b[0m\u001b[0;32m      3\u001b[0m \u001b[1;32mexcept\u001b[0m \u001b[0mNameError\u001b[0m\u001b[1;33m:\u001b[0m\u001b[1;33m\u001b[0m\u001b[0m\n\u001b[0;32m      4\u001b[0m     \u001b[0mmyVar\u001b[0m \u001b[1;33m=\u001b[0m \u001b[1;32mNone\u001b[0m\u001b[1;33m\u001b[0m\u001b[0m\n",
        "\u001b[1;31mKeyError\u001b[0m: 'date'"
       ]
      }
     ],
     "prompt_number": 399
    },
    {
     "cell_type": "code",
     "collapsed": false,
     "input": [
      "for d in data['releases']: \n",
      "#     print(d.get('date'))\n",
      "#     d.get('date', 'null')\n",
      "    if d.get('date') != None:\n",
      "        print(d['date'])\n",
      "#     print()\n",
      "# #     print(\"to_id:\", d.get('date', 'null'))"
     ],
     "language": "python",
     "metadata": {},
     "outputs": [
      {
       "output_type": "stream",
       "stream": "stdout",
       "text": [
        "2015-03-05\n",
        "2015-02-22\n",
        "2015-03-05\n",
        "2015-03-09\n",
        "2015-03-05\n",
        "2015-03-06\n",
        "2015-03-06\n"
       ]
      }
     ],
     "prompt_number": 424
    },
    {
     "cell_type": "code",
     "collapsed": false,
     "input": [
      "aa['label-info'][3]"
     ],
     "language": "python",
     "metadata": {},
     "outputs": [
      {
       "ename": "IndexError",
       "evalue": "list index out of range",
       "output_type": "pyerr",
       "traceback": [
        "\u001b[1;31m---------------------------------------------------------------------------\u001b[0m\n\u001b[1;31mIndexError\u001b[0m                                Traceback (most recent call last)",
        "\u001b[1;32m<ipython-input-382-72f652f79aaf>\u001b[0m in \u001b[0;36m<module>\u001b[1;34m()\u001b[0m\n\u001b[1;32m----> 1\u001b[1;33m \u001b[0maa\u001b[0m\u001b[1;33m[\u001b[0m\u001b[1;34m'label-info'\u001b[0m\u001b[1;33m]\u001b[0m\u001b[1;33m[\u001b[0m\u001b[1;36m3\u001b[0m\u001b[1;33m]\u001b[0m\u001b[1;33m\u001b[0m\u001b[0m\n\u001b[0m",
        "\u001b[1;31mIndexError\u001b[0m: list index out of range"
       ]
      }
     ],
     "prompt_number": 382
    },
    {
     "cell_type": "code",
     "collapsed": false,
     "input": [
      "aa['label-info'][0]['label']\n"
     ],
     "language": "python",
     "metadata": {},
     "outputs": [],
     "prompt_number": 378
    },
    {
     "cell_type": "heading",
     "level": 2,
     "metadata": {},
     "source": [
      "Alle data van GB en US invoeren"
     ]
    },
    {
     "cell_type": "code",
     "collapsed": false,
     "input": [
      "a,b,mbIds = crossCorrelatieCountry('US', 'GB')"
     ],
     "language": "python",
     "metadata": {},
     "outputs": [],
     "prompt_number": 301
    },
    {
     "cell_type": "code",
     "collapsed": false,
     "input": [
      "for mbId in mbIds:\n",
      "    createMbInfo(mbId)"
     ],
     "language": "python",
     "metadata": {},
     "outputs": [
      {
       "output_type": "stream",
       "stream": "stdout",
       "text": [
        "not find: 2b48125b-3856-452e-95fd-9c550dd9cea7\n",
        "insert:"
       ]
      },
      {
       "output_type": "stream",
       "stream": "stdout",
       "text": [
        " eb6e241f-fd71-4410-9667-f4d4c489d424\n"
       ]
      }
     ],
     "prompt_number": 430
    },
    {
     "cell_type": "code",
     "collapsed": false,
     "input": [
      "mbIds"
     ],
     "language": "python",
     "metadata": {},
     "outputs": [
      {
       "metadata": {},
       "output_type": "pyout",
       "prompt_number": 303,
       "text": [
        "['c6cf4924-75b7-40b3-8d66-f50ff8aec30e',\n",
        " '39fc36c2-fcc2-46f5-8e9c-46c2eb3296ed',\n",
        " '7ccb8e72-5296-4e1f-9c2e-f2262ed16dd3',\n",
        " 'c6e843b2-e94f-47b9-bd64-aee20b1bd044',\n",
        " '38e06968-af06-44ea-9eba-a1a275832767',\n",
        " 'f7629592-96df-4a35-8820-dd712837fc97',\n",
        " 'ba0aff15-7701-4c77-a6cd-6e0b151801c6',\n",
        " 'b1e1e0ee-67e3-440f-939e-83551039fdbe',\n",
        " '83451080-bcfe-4825-bef7-ed953c7fa162',\n",
        " 'a0d55631-bcb2-4bd7-8ad2-f981e2b081a7',\n",
        " '9fef700c-c636-4b80-9baa-a30d29909de6',\n",
        " '40cacfcf-0d77-4c41-924d-b31c79dfe198',\n",
        " 'c3888dd0-c1ce-45b3-9425-48375394fe7f',\n",
        " 'f9e6e723-0967-4608-84ca-314367d24bb9',\n",
        " '4cc8d0a7-b8b7-42af-b67b-dc2d60fe2dcf',\n",
        " '180b9f57-9424-4027-b6e2-fa4230a2db32',\n",
        " 'a19628b1-5ffd-4332-8558-755a7b497021',\n",
        " 'c113e0fe-1f65-45c0-a5b5-31e3ec9ab717',\n",
        " '8a4569f5-263c-467a-8d1f-9896f82b840a',\n",
        " '777a7dc2-bd4f-4f05-9bef-e8548d8d9e25',\n",
        " 'e826cccd-355a-41db-bc56-5727490907b6',\n",
        " '78a8d975-1257-4fc4-a634-50f89a62de47',\n",
        " 'cd48db8e-ba1f-43f8-9f97-e7da6d0ff30b',\n",
        " '6544954d-27da-4e26-898a-fbe23862cf07',\n",
        " 'd4a249a1-881e-4e81-aabf-7584c6099357',\n",
        " 'e4c0494d-5ab6-479a-a527-cfdc41f7c595',\n",
        " '97f979b0-0d61-4cb5-9946-b0ca6cfdb1ae',\n",
        " 'c3fe7791-0a91-4f0a-a89b-b056f38d3cde',\n",
        " 'a6ef09c1-dd20-4ce6-b253-16a31f0c6831',\n",
        " 'dde41471-adb3-48cb-81c5-abd916cdbd94',\n",
        " 'a9dbfdeb-50ed-4043-8769-9462aa0990a9',\n",
        " '574eafc0-6909-4278-94fa-083ea5aefc61',\n",
        " '3b629970-2996-41b0-be65-803f79862286',\n",
        " 'e282258b-1aaf-4ef8-84d7-d9b5255c7f38',\n",
        " 'fb87831d-3900-433b-8758-07879b2b5e8e',\n",
        " '7d5e3bdd-b0b1-47c4-9fb2-877a683f210c',\n",
        " '728f19fe-fe8b-45cc-9b3b-16352f20ff95',\n",
        " '1b1e4b65-9b1a-48cd-8e3a-b4824f15bf0c',\n",
        " '95abf287-fe32-4674-8e7c-d9365e3fa41d',\n",
        " '6f860ade-ef7d-4281-9803-cdb54a8812cb',\n",
        " '2b48125b-3856-452e-95fd-9c550dd9cea7',\n",
        " '316bc3ef-47a2-4408-aa03-06ddff5861a6',\n",
        " 'dfc35ee4-344c-490f-a1d2-a461293369a8',\n",
        " 'a05f146f-3bf7-43a4-8dac-81458f91946c',\n",
        " 'f2ca9ad8-0ba5-4522-a256-36ed50db43b2',\n",
        " '0237500a-7db3-4826-9124-052b46baed02',\n",
        " '5d0ded70-d56e-4580-bdbb-5d8354d3c200',\n",
        " '348ff4c3-5f78-4c3d-8df7-8983f8b91a0c',\n",
        " '316404fb-6cdb-4d63-abcb-78ee31f654c4',\n",
        " '31f919e9-acbf-42ec-bf3e-d4a78b29a205',\n",
        " 'bb89dc65-2f08-4500-9e8c-dffed6033361',\n",
        " 'ec0d851d-f491-4e97-84c7-affdbc5fad91',\n",
        " '95174099-7e40-420f-aa82-ee3cc36dbccf',\n",
        " 'e9e25a94-a69b-4c50-ad33-a6c00a5df865',\n",
        " '0ea869c5-e0d2-4f7c-a21c-9ebc64143d97',\n",
        " 'eb6e241f-fd71-4410-9667-f4d4c489d424']"
       ]
      }
     ],
     "prompt_number": 303
    }
   ],
   "metadata": {}
  }
 ]
}