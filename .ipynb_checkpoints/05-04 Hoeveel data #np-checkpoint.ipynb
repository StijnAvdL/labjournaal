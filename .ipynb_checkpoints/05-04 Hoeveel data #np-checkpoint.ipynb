{
 "metadata": {
  "name": "",
  "signature": "sha256:bdbc56c1771c0eea137e12b96570f270abbc4def119173ebdedbf6cccddd0abc"
 },
 "nbformat": 3,
 "nbformat_minor": 0,
 "worksheets": [
  {
   "cells": [
    {
     "cell_type": "heading",
     "level": 1,
     "metadata": {},
     "source": [
      "Hoeveel data krijgen we nu binnen per song?"
     ]
    },
    {
     "cell_type": "markdown",
     "metadata": {},
     "source": [
      "Datum: 04-05-2015 <br>\n",
      "URL: http://nbviewer.ipython.org/github/StijnAvdL/labjournaal/blob/master/05-04%20Hoeveel%20data%20%23np.ipynb<br>\n",
      "Database: MongoDB #NP"
     ]
    },
    {
     "cell_type": "markdown",
     "metadata": {},
     "source": [
      "Omdat we nu voortaan ons richten op #np tracker willen we meer over deze data te weten komen. Het is belangrijk dat genoeg records binnen krijgen. Mijn eerste vraag is dan ook hoeveel songs we binnen krijgen per dag van populaire nummers? Hierbij moet gemeld worden dat dit maar een set is van 100.000 records."
     ]
    },
    {
     "cell_type": "code",
     "collapsed": false,
     "input": [
      "%pylab inline\n",
      "\n",
      "from pprint import pprint\n",
      "import pymongo\n",
      "import matplotlib.pyplot as plt\n",
      "import time\n",
      "import pandas as pd"
     ],
     "language": "python",
     "metadata": {},
     "outputs": [
      {
       "output_type": "stream",
       "stream": "stdout",
       "text": [
        "Populating the interactive namespace from numpy and matplotlib\n"
       ]
      }
     ],
     "prompt_number": 2
    },
    {
     "cell_type": "code",
     "collapsed": false,
     "input": [
      "# Connection to Mongo DB\n",
      "conn = pymongo.MongoClient('localhost', 27017)\n",
      "db = conn['mozart']\n",
      "\n",
      "print('connected to database')"
     ],
     "language": "python",
     "metadata": {},
     "outputs": [
      {
       "output_type": "stream",
       "stream": "stdout",
       "text": [
        "connected to database\n"
       ]
      }
     ],
     "prompt_number": 3
    },
    {
     "cell_type": "heading",
     "level": 2,
     "metadata": {},
     "source": [
      "Top 5 tweets graphic"
     ]
    },
    {
     "cell_type": "markdown",
     "metadata": {},
     "source": [
      "Eerst wil ik van de 5 meest afgespeeld song een weergaven maken omdat ik verwacht dat de data erg schaars is."
     ]
    },
    {
     "cell_type": "code",
     "collapsed": false,
     "input": [
      "tweetsRecords = db.testLocation.aggregate([\n",
      "    {\n",
      "        \"$match\": {'song.mb_id': {'$exists': 1} }\n",
      "    },\n",
      "    {\n",
      "        \"$project\": {\n",
      "            \"_id\": 0,\n",
      "            \"mb_id\": '$song.mb_id',\n",
      "            \"created_at\": '$tweet.created_at',\n",
      "            \"song\": '$song.title'\n",
      "        }\n",
      "    },\n",
      "    {\n",
      "        \"$group\": {\n",
      "           \"_id\": { \"day\": {\"$dayOfMonth\": \"$created_at\"}, \"month\": {\"$month\": \"$created_at\"}, \"year\": {\"$year\": \"$created_at\"}, \"mb_id\": \"$mb_id\"},\n",
      "           \"count\": { \"$sum\": 1 },\n",
      "           \"song\": {\"$first\": \"$song\"}\n",
      "        }\n",
      "    },\n",
      "    {\n",
      "        \"$sort\" : {'_id.mb_id': 1, \"_id.year\": 1, \"_id.month\": 1, \"_id.day\": 1}\n",
      "    },\n",
      "    { \n",
      "        \"$project\": {\n",
      "            \"_id\": 0,\n",
      "            \"mb_id\": \"$_id.mb_id\",\n",
      "            \"date\": \"$_id.day\",\n",
      "            \"count\": \"$count\",\n",
      "            \"song\": \"$song\"\n",
      "        }\n",
      "    },\n",
      "    { \n",
      "        \"$group\": {\n",
      "            \"_id\": {\"mb_id\": \"$mb_id\"},\n",
      "            \"plays\": { \"$push\": {\"date\": \"$date\", \"count\": \"$count\"}},\n",
      "            \"song\": {\"$first\": \"$song\"}\n",
      "        }\n",
      "    },\n",
      "    { \n",
      "        \"$project\": {\n",
      "            \"_id\": 0,\n",
      "            \"plays\": \"$plays\",\n",
      "            \"song\": \"$song\",\n",
      "            \"playsCount\": { \"$size\": \"$plays\" }\n",
      "        }\n",
      "    },\n",
      "    {\n",
      "        \"$sort\" : {'playsCount': -1}\n",
      "    },\n",
      "    { \"$limit\": 5 }\n",
      "])\n",
      "\n",
      "tweets = list(tweetsRecords['result'])\n",
      "print(\"get records\")"
     ],
     "language": "python",
     "metadata": {},
     "outputs": [
      {
       "output_type": "stream",
       "stream": "stdout",
       "text": [
        "get records\n"
       ]
      }
     ],
     "prompt_number": 4
    },
    {
     "cell_type": "code",
     "collapsed": false,
     "input": [
      "datum = [2,3,4,5,6,7,8,9,10,11,12,13,14]\n",
      "today= time.strftime(\"%d/%m/%Y\")"
     ],
     "language": "python",
     "metadata": {},
     "outputs": [],
     "prompt_number": 5
    },
    {
     "cell_type": "code",
     "collapsed": false,
     "input": [
      "def createGrafic():\n",
      "    i = 0\n",
      "    while i < len(tweets):\n",
      "        tweet = tweets[i]\n",
      "        songName = tweet['song']\n",
      "        if i == 0:\n",
      "            songName = 'onzin'\n",
      "        songCount = []\n",
      "        for d in datum:\n",
      "            dd = 0\n",
      "            for dTweet in tweet['plays']:\n",
      "                if dTweet['date'] == d:\n",
      "                    dd = dTweet['count']\n",
      "            songCount.append(dd)\n",
      "\n",
      "        # create grafic\n",
      "        x=linspace(0,len(datum),len(datum))\n",
      "\n",
      "        nlLine = plt.plot(x, songCount, 'r-', label='Song')\n",
      "        plt.ylabel('count plays')\n",
      "        plt.locator_params(nbins=10)\n",
      "        plt.xticks(x,datum)\n",
      "        plt.xlabel('dagen in april')\n",
      "        plt.title(songName + ': created at ' + today)\n",
      "        plt.legend()\n",
      "        plt.show()\n",
      "        \n",
      "        i += 1"
     ],
     "language": "python",
     "metadata": {},
     "outputs": [],
     "prompt_number": 6
    },
    {
     "cell_type": "code",
     "collapsed": false,
     "input": [
      "createGrafic()"
     ],
     "language": "python",
     "metadata": {},
     "outputs": [
      {
       "metadata": {},
       "output_type": "display_data",
       "png": "[encoded data removed]",
       "text": [
        "<matplotlib.figure.Figure at 0x8c8c7b8>"
       ]
      },
      {
       "metadata": {},
       "output_type": "display_data",
       "png": "[encoded data removed]",
       "text": [
        "<matplotlib.figure.Figure at 0x9347c88>"
       ]
      },
      {
       "metadata": {},
       "output_type": "display_data",
       "png": "[encoded data removed]",
       "text": [
        "<matplotlib.figure.Figure at 0x961fda0>"
       ]
      },
      {
       "metadata": {},
       "output_type": "display_data",
       "png": "[encoded data removed]",
       "text": [
        "<matplotlib.figure.Figure at 0x9675d68>"
       ]
      },
      {
       "metadata": {},
       "output_type": "display_data",
       "png": "[encoded data removed]",
       "text": [
        "<matplotlib.figure.Figure at 0x9711b70>"
       ]
      }
     ],
     "prompt_number": 7
    },
    {
     "cell_type": "markdown",
     "metadata": {},
     "source": [
      "Bij 3 van de 5 grafieken zien je een flinke daling van 4 mei ten opzichten van begin mei. Bij alle grafieken zijn er geen nummer getrackt op 4 t/m 6 mei. Ik vraag mij nu af of dit toevallig bij deze nummers is of alle dat de aantal numers per dag echt flink gedaald is sinds 4 mei. "
     ]
    },
    {
     "cell_type": "heading",
     "level": 2,
     "metadata": {},
     "source": [
      "5 songs meeste afgespeeld in \u00e9\u00e9n dag"
     ]
    },
    {
     "cell_type": "code",
     "collapsed": false,
     "input": [
      "tweetsMaxDay = db.testLocation.aggregate([\n",
      "    {\n",
      "        \"$match\": {'song.mb_id': {'$exists': 1} }\n",
      "    },\n",
      "    {\n",
      "        \"$project\": {\n",
      "            \"_id\": 0,\n",
      "            \"mb_id\": '$song.mb_id',\n",
      "            \"created_at\": '$tweet.created_at',\n",
      "            \"song\": '$song.title'\n",
      "        }\n",
      "    },\n",
      "    {\n",
      "        \"$group\": {\n",
      "           \"_id\": { \"day\": {\"$dayOfMonth\": \"$created_at\"}, \"month\": {\"$month\": \"$created_at\"}, \"year\": {\"$year\": \"$created_at\"}, \"mb_id\": \"$mb_id\"},\n",
      "           \"count\": { \"$sum\": 1 },\n",
      "           \"song\": {\"$first\": \"$song\"}\n",
      "        }\n",
      "    },\n",
      "    {\n",
      "        \"$sort\" : {'count': -1}\n",
      "    },\n",
      "    { \n",
      "        \"$project\": {\n",
      "            \"_id\": 0,\n",
      "            \"date\": \"$_id.day\",\n",
      "            \"count\": \"$count\",\n",
      "            \"song\": \"$song\"\n",
      "        }\n",
      "    },\n",
      "    { \"$limit\": 5 }\n",
      "])\n",
      "\n",
      "tweetsMaxDays = list(tweetsMaxDay['result'])\n",
      "print(\"get records\")"
     ],
     "language": "python",
     "metadata": {},
     "outputs": [
      {
       "output_type": "stream",
       "stream": "stdout",
       "text": [
        "get records\n"
       ]
      }
     ],
     "prompt_number": 8
    },
    {
     "cell_type": "code",
     "collapsed": false,
     "input": [
      "for tweetsMaxDay in tweetsMaxDays:\n",
      "    pprint(tweetsMaxDay)"
     ],
     "language": "python",
     "metadata": {},
     "outputs": [
      {
       "output_type": "stream",
       "stream": "stdout",
       "text": [
        "{'count': 1100, 'date': 2, 'song': 'Angels We Have Heard on High'}\n",
        "{'count': 597, 'date': 2, 'song': 'Listen to the Music'}\n",
        "{'count': 437, 'date': 3, 'song': 'Angels We Have Heard on High'}\n",
        "{'count': 406, 'date': 3, 'song': 'Listen to the Music'}\n",
        "{'count': 156, 'date': 2, 'song': \"You Don't Listen to Me\"}\n"
       ]
      }
     ],
     "prompt_number": 9
    },
    {
     "cell_type": "markdown",
     "metadata": {},
     "source": [
      "De meeste plays per dag per song valt alleen op 2 & 3 mei. Met allemaal boven de 100 keer. Hoe zit het met de rest van de dagen?"
     ]
    },
    {
     "cell_type": "heading",
     "level": 3,
     "metadata": {},
     "source": [
      "5 songs meest afspeeld buiten 2 & 3 mei"
     ]
    },
    {
     "cell_type": "code",
     "collapsed": false,
     "input": [
      "tweetsMaxDay = db.testLocation.aggregate([\n",
      "    {\n",
      "        \"$match\": {'song.mb_id': {'$exists': 1} }\n",
      "    },\n",
      "    {\n",
      "        \"$project\": {\n",
      "            \"_id\": 0,\n",
      "            \"mb_id\": '$song.mb_id',\n",
      "            \"created_at\": '$tweet.created_at',\n",
      "            \"song\": '$song.title'\n",
      "        }\n",
      "    },\n",
      "    {\n",
      "        \"$group\": {\n",
      "           \"_id\": { \"day\": {\"$dayOfMonth\": \"$created_at\"}, \"month\": {\"$month\": \"$created_at\"}, \"year\": {\"$year\": \"$created_at\"}, \"mb_id\": \"$mb_id\"},\n",
      "           \"count\": { \"$sum\": 1 },\n",
      "           \"song\": {\"$first\": \"$song\"},\n",
      "           \"mb_id\": {\"$first\": \"$mb_id\"}\n",
      "        }\n",
      "    },\n",
      "    {\n",
      "        \"$sort\" : {'count': -1}\n",
      "    },\n",
      "    { \n",
      "        \"$project\": {\n",
      "            \"_id\": 0,\n",
      "            \"date\": \"$_id.day\",\n",
      "            \"count\": \"$count\",\n",
      "            \"song\": \"$song\"\n",
      "        }\n",
      "    },\n",
      "    {\n",
      "        \"$match\": {\n",
      "            \"date\": {\"$gt\": 3}\n",
      "        }\n",
      "    },\n",
      "    { \"$limit\": 5 }\n",
      "])\n",
      "\n",
      "tweetsMaxDays = list(tweetsMaxDay['result'])\n",
      "print(\"get records\")"
     ],
     "language": "python",
     "metadata": {},
     "outputs": [
      {
       "output_type": "stream",
       "stream": "stdout",
       "text": [
        "get records\n"
       ]
      }
     ],
     "prompt_number": 17
    },
    {
     "cell_type": "code",
     "collapsed": false,
     "input": [
      "for tweetsMaxDay in tweetsMaxDays:\n",
      "    pprint(tweetsMaxDay)"
     ],
     "language": "python",
     "metadata": {},
     "outputs": [
      {
       "output_type": "stream",
       "stream": "stdout",
       "text": [
        "{'count': 12, 'date': 9, 'song': 'See You Again'}\n",
        "{'count': 10, 'date': 10, 'song': 'See You Again'}\n",
        "{'count': 9, 'date': 11, 'song': 'See You Again'}\n",
        "{'count': 8, 'date': 13, 'song': 'See You Again'}\n",
        "{'count': 8, 'date': 8, 'song': 'See You Again'}\n"
       ]
      }
     ],
     "prompt_number": 18
    },
    {
     "cell_type": "markdown",
     "metadata": {},
     "source": [
      "Als je 2 & 3 mei eruit filter hou je erg scharse data over ... Omdat er het maar 2 keer voor komt dat songs vanaf 6 mei meer dan 10 keer worden afgespeeld wil ik kijken of dit bij de 2 mei & 3 mei veel meer voor komt"
     ]
    },
    {
     "cell_type": "heading",
     "level": 2,
     "metadata": {},
     "source": [
      "Aantal songs meer dan 10 keer getweet op \u00e9\u00e9n dag"
     ]
    },
    {
     "cell_type": "code",
     "collapsed": false,
     "input": [
      "tweetsMaxDay = db.testLocation.aggregate([\n",
      "    {\n",
      "        \"$match\": {'song.mb_id': {'$exists': 1} }\n",
      "    },\n",
      "    {\n",
      "        \"$project\": {\n",
      "            \"_id\": 0,\n",
      "            \"mb_id\": '$song.mb_id',\n",
      "            \"created_at\": '$tweet.created_at',\n",
      "            \"song\": '$song.title'\n",
      "        }\n",
      "    },\n",
      "    {\n",
      "        \"$group\": {\n",
      "           \"_id\": { \"day\": {\"$dayOfMonth\": \"$created_at\"}, \"month\": {\"$month\": \"$created_at\"}, \"year\": {\"$year\": \"$created_at\"}, \"mb_id\": \"$mb_id\"},\n",
      "           \"count\": { \"$sum\": 1 },\n",
      "           \"song\": {\"$first\": \"$song\"}\n",
      "        }\n",
      "    },\n",
      "    {\n",
      "        \"$sort\" : {'count': -1}\n",
      "    },\n",
      "    { \n",
      "        \"$project\": {\n",
      "            \"_id\": 0,\n",
      "            \"date\": \"$_id.day\",\n",
      "            \"count\": \"$count\",\n",
      "            \"song\": \"$song\"\n",
      "        }\n",
      "    },\n",
      "    {\n",
      "        \"$match\": {'count': {'$gt': 10} }\n",
      "    }\n",
      "])\n",
      "tweetsMaxDays = list(tweetsMaxDay['result'])\n",
      "print(\"records met meer dan 10 count a day\", len(tweetsMaxDays))"
     ],
     "language": "python",
     "metadata": {},
     "outputs": [
      {
       "output_type": "stream",
       "stream": "stdout",
       "text": [
        "records met meer dan 10 count a day 248\n"
       ]
      }
     ],
     "prompt_number": 20
    },
    {
     "cell_type": "heading",
     "level": 2,
     "metadata": {},
     "source": [
      "Aantal records per dag"
     ]
    },
    {
     "cell_type": "code",
     "collapsed": false,
     "input": [
      "tweetsEachDay = db.testLocation.aggregate([\n",
      "    {\n",
      "        \"$match\": {'song.mb_id': {'$exists': 1} }\n",
      "    },\n",
      "    {\n",
      "        \"$project\": {\n",
      "            \"_id\": 0,\n",
      "            \"created_at\": '$tweet.created_at'\n",
      "        }\n",
      "    },\n",
      "    {\n",
      "        \"$group\": {\n",
      "           \"_id\": { \"day\": {\"$dayOfMonth\": \"$created_at\"} },\n",
      "           \"count\": { \"$sum\": 1 }\n",
      "        }\n",
      "    },\n",
      "    {\n",
      "        \"$sort\" : {'_id.day': 1}\n",
      "    },\n",
      "    { \n",
      "        \"$project\": {\n",
      "            \"_id\": 0,\n",
      "            \"count\": \"$count\",\n",
      "            \"day\": \"$_id.day\"\n",
      "        }\n",
      "    }\n",
      "])\n",
      "tweetsEachDay = list(tweetsEachDay['result'])\n",
      "print(\"get records\")"
     ],
     "language": "python",
     "metadata": {},
     "outputs": [
      {
       "output_type": "stream",
       "stream": "stdout",
       "text": [
        "get records\n"
       ]
      }
     ],
     "prompt_number": 4
    },
    {
     "cell_type": "code",
     "collapsed": false,
     "input": [
      "for tweetDay in tweetsEachDay:\n",
      "    print(tweetDay['day'], 'april:', tweetDay['count'], 'records' )"
     ],
     "language": "python",
     "metadata": {},
     "outputs": [
      {
       "output_type": "stream",
       "stream": "stdout",
       "text": [
        "2 april: 42218 records\n",
        "3 april: 27882 records\n",
        "7 april: 363 records\n",
        "8 april: 1319 records\n",
        "9 april: 1376 records\n",
        "10 april: 1150 records\n",
        "11 april: 930 records\n",
        "12 april: 1260 records\n",
        "13 april: 1278 records\n",
        "14 april: 566 records\n",
        "26 april: 73 records\n"
       ]
      }
     ],
     "prompt_number": 5
    },
    {
     "cell_type": "markdown",
     "metadata": {},
     "source": [
      "Je ziet duidelijk dat de eerste 2 dagen flink meer tweets hebben binnen gekregen. Hierdoor zijn de grafieken te verklaren. Ik heb ene aggregation gebruikt om een gedeelte van de database te controleren. Dit bleek ook het probleem te zijn dat ik een gedeelte had te pakken. Want toen ik deze bovenstaande uitkomste aan het projectgroep voorlegt en er meer mensen naar gingen kijken bleek er geen foute te zijn ontstaan in april. "
     ]
    },
    {
     "cell_type": "heading",
     "level": 1,
     "metadata": {},
     "source": [
      "Conclusie"
     ]
    },
    {
     "cell_type": "markdown",
     "metadata": {},
     "source": [
      "Doordat ik mijn aggregation over een selectie van 100.000 rows deed van de gehele database kwammen niet betrouwbare cijfers naar voren. De dagen 2 en 3 april tonen veel belovende gegevens en deze zijn ook doorgezet tot begin mei maar, zitten niet bij dezde aggregation. <br><br>Nadat er meer mensen op dit probleem gingen zitten kwamen we er achter dat na we onze pipelines van indentificatie en locatie wel problemen veroorzaakte en dit heeft Andres opgelost. Deze controle heeft uiteindelijk wel ons laten inzien dat de pipelines nog niet naar behoren werkte en om een goede weergaven te maken moet ik veel meer data verzamelen. Daarom ga ik van alle tweets in mijn database met terugwerkende kracht de locatie bepalen. Dit zijn er ongeveer 5 miljoen over een wat langere periode."
     ]
    }
   ],
   "metadata": {}
  }
 ]
}