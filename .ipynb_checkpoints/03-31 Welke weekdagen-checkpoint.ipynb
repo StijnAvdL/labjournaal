{
 "metadata": {
  "name": "",
  "signature": "sha256:be9300871b1324a2a7783e565936dc7cd404951b48f9b80ab5ed3fcebfb9df01"
 },
 "nbformat": 3,
 "nbformat_minor": 0,
 "worksheets": [
  {
   "cells": [
    {
     "cell_type": "heading",
     "level": 1,
     "metadata": {},
     "source": [
      "Hoeveel wordt er gemiddeld per weekdag getweet?"
     ]
    },
    {
     "cell_type": "markdown",
     "metadata": {},
     "source": [
      "Datum: 31-03-2015<br>\n",
      "URL: http://nbviewer.ipython.org/github/StijnAvdL/labjournaal/blob/master/03-31%20Welke%20weekdagen.ipynb"
     ]
    },
    {
     "cell_type": "code",
     "collapsed": false,
     "input": [
      "%pylab inline"
     ],
     "language": "python",
     "metadata": {},
     "outputs": [
      {
       "output_type": "stream",
       "stream": "stdout",
       "text": [
        "Populating the interactive namespace from numpy and matplotlib\n"
       ]
      }
     ],
     "prompt_number": 1
    },
    {
     "cell_type": "code",
     "collapsed": false,
     "input": [
      "import pymongo\n",
      "\n",
      "# Connection to Mongo DB\n",
      "conn = pymongo.MongoClient('localhost', 27017)\n",
      "db = conn['app24236103']\n",
      "\n",
      "print('connected to database')"
     ],
     "language": "python",
     "metadata": {},
     "outputs": [
      {
       "output_type": "stream",
       "stream": "stdout",
       "text": [
        "connected to database\n"
       ]
      }
     ],
     "prompt_number": 2
    },
    {
     "cell_type": "heading",
     "level": 2,
     "metadata": {},
     "source": [
      "The world"
     ]
    },
    {
     "cell_type": "code",
     "collapsed": false,
     "input": [
      "tweetEachWeekDay = db.top40plays.aggregate([\n",
      "    {\n",
      "        \"$project\": {\n",
      "            \"dayWeek\": {\"$dayOfWeek\": \"$created_at\"}\n",
      "        }\n",
      "    },\n",
      "    {\n",
      "        \"$group\": {\n",
      "             \"_id\": { \"dayWeek\": \"$dayWeek\"},\n",
      "             \"count\": {\"$sum\":1},\n",
      "        }\n",
      "        \n",
      "    },\n",
      "    {\n",
      "        \"$project\": {\n",
      "            \"_id\": 0,\n",
      "            \"dayWeek\": \"$_id.dayWeek\",\n",
      "            \"count\": \"$count\"\n",
      "        }\n",
      "    },\n",
      "    {\n",
      "        \"$sort\": { \"dayWeek\": 1}\n",
      "    }\n",
      "])\n",
      "\n",
      "days = list(tweetEachWeekDay['result'])\n",
      "print('Succesed')"
     ],
     "language": "python",
     "metadata": {},
     "outputs": [
      {
       "output_type": "stream",
       "stream": "stdout",
       "text": [
        "Succesed\n"
       ]
      }
     ],
     "prompt_number": 3
    },
    {
     "cell_type": "code",
     "collapsed": false,
     "input": [
      "import matplotlib.pyplot as plt\n",
      "import time\n",
      "\n",
      "today= time.strftime(\"%d/%m/%Y\")\n",
      "count=[]\n",
      "for d, day in enumerate(days):\n",
      "    count.append(day['count'])\n",
      "\n",
      "daysOfWeek = ['sun', 'mon', 'tue', 'wen', 'thu', 'fri', 'sat']"
     ],
     "language": "python",
     "metadata": {},
     "outputs": [],
     "prompt_number": 4
    },
    {
     "cell_type": "code",
     "collapsed": false,
     "input": [
      "ind = np.arange(7)  # the x locations for the groups\n",
      "\n",
      "fig, ax = plt.subplots()\n",
      "rects1 = ax.bar(ind, count)\n",
      "\n",
      "# add some text for labels, title and axes ticks\n",
      "ax.set_ylabel('Tweets')\n",
      "ax.set_title('Tweets post each day of week')\n",
      "ax.set_xticks(ind+.35)\n",
      "ax.set_xticklabels( daysOfWeek )\n",
      "\n",
      "plt.show()"
     ],
     "language": "python",
     "metadata": {},
     "outputs": [
      {
       "metadata": {},
       "output_type": "display_data",
       "png": "[encoded data removed]",
       "text": [
        "<matplotlib.figure.Figure at 0x6df5668>"
       ]
      }
     ],
     "prompt_number": 5
    },
    {
     "cell_type": "heading",
     "level": 2,
     "metadata": {},
     "source": [
      "NL, UK & US"
     ]
    },
    {
     "cell_type": "code",
     "collapsed": false,
     "input": [
      "tweetEachWeekDayCountry = db.countrySongs.aggregate([\n",
      "    {\n",
      "        \"$match\": {\n",
      "            \"$or\": [{\"country_id\": 840}, {\"country_id\": 528}, {\"country_id\": 826}]\n",
      "        }\n",
      "    },\n",
      "    { \"$unwind\": \"$plays\"},\n",
      "    { \"$project\": \n",
      "        {\n",
      "            \"_id\": 0,\n",
      "            \"dayWeek\": {\"$dayOfWeek\": \"$plays.datum\"},\n",
      "            \"count\": \"$plays.count\",\n",
      "            \"countryId\" : \"$country_id\"\n",
      "        }\n",
      "    },\n",
      "    {\n",
      "        \"$group\": {\n",
      "            \"_id\": {\"dayWeek\": \"$dayWeek\", \"countryId\": \"$countryId\"},\n",
      "            \"count\": {\"$sum\": \"$count\"}\n",
      "        }\n",
      "    },\n",
      "    {\n",
      "        \"$project\": {\n",
      "            \"_id\": 0,\n",
      "            \"countryId\": \"$_id.countryId\",\n",
      "            \"dayWeek\": \"$_id.dayWeek\",\n",
      "            \"count\": \"$count\"\n",
      "        }\n",
      "    },\n",
      "    {\n",
      "        \"$sort\": {\"countryId\": 1, \"dayWeek\": 1}\n",
      "    }\n",
      "])\n",
      "\n",
      "daysC = list(tweetEachWeekDayCountry['result'])\n",
      "print('Succesed')"
     ],
     "language": "python",
     "metadata": {},
     "outputs": [
      {
       "output_type": "stream",
       "stream": "stdout",
       "text": [
        "Succesed\n"
       ]
      }
     ],
     "prompt_number": 7
    },
    {
     "cell_type": "code",
     "collapsed": false,
     "input": [
      "today= time.strftime(\"%d/%m/%Y\")\n",
      "countC=[[], [], []]\n",
      "for d, dayC in enumerate(daysC):\n",
      "    if dayC['countryId'] == 826:\n",
      "        countC[0].append(dayC['count'])\n",
      "    elif  dayC['countryId'] == 840:\n",
      "        countC[1].append(dayC['count'])\n",
      "    elif   dayC['countryId'] == 528:\n",
      "        countC[2].append(dayC['count'])"
     ],
     "language": "python",
     "metadata": {},
     "outputs": [],
     "prompt_number": 9
    },
    {
     "cell_type": "code",
     "collapsed": false,
     "input": [
      "print(countC)"
     ],
     "language": "python",
     "metadata": {},
     "outputs": [
      {
       "output_type": "stream",
       "stream": "stdout",
       "text": [
        "[[459, 460, 152, 128, 139, 226, 185], [574, 439, 370, 305, 505, 766, 478], [176, 170, 132, 16, 62, 273, 212]]\n"
       ]
      }
     ],
     "prompt_number": 10
    },
    {
     "cell_type": "code",
     "collapsed": false,
     "input": [
      "ind = np.arange(7)  # the x locations for the groups\n",
      "\n",
      "width = .3\n",
      "fig, ax = plt.subplots()\n",
      "rects1 = ax.bar(ind+width, countC[0], width, label=\"UK\")\n",
      "rects2 = ax.bar(ind+(width*2), countC[1], width, color='r', label=\"US\")\n",
      "rects2 = ax.bar(ind, countC[2], width, color='g', label=\"NL\")\n",
      "\n",
      "# add some text for labels, title and axes ticks\n",
      "ax.set_ylabel('Tweets')\n",
      "ax.set_title('Tweets post each day of week')\n",
      "ax.set_xticks(ind+(width*1.5))\n",
      "ax.set_xticklabels( daysOfWeek )\n",
      "\n",
      "plt.legend(loc='center left', bbox_to_anchor=(1, 0.5))\n",
      "\n",
      "plt.show()"
     ],
     "language": "python",
     "metadata": {},
     "outputs": [
      {
       "metadata": {},
       "output_type": "display_data",
       "png": "[encoded data removed]",
       "text": [
        "<matplotlib.figure.Figure at 0x6e7c588>"
       ]
      }
     ],
     "prompt_number": 25
    }
   ],
   "metadata": {}
  }
 ]
}