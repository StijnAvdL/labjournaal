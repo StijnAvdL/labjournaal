{
 "metadata": {
  "name": "",
  "signature": "sha256:9cf90b7e5478574c58887dd7bb6bd287d5e084ff481b3755775a296644b158ca"
 },
 "nbformat": 3,
 "nbformat_minor": 0,
 "worksheets": [
  {
   "cells": [
    {
     "cell_type": "heading",
     "level": 1,
     "metadata": {},
     "source": [
      "Hoeveel spam tweets zijn er?"
     ]
    },
    {
     "cell_type": "markdown",
     "metadata": {},
     "source": [
      "Datum: 25-03-2015 <br>\n",
      "URL: http://nbviewer.ipython.org/github/StijnAvdL/labjournaal/blob/master/03-25%20Hoeveel%20spam%20tweets.ipynb <br>\n",
      "Database: MongoDB - Mozart Top 40"
     ]
    },
    {
     "cell_type": "markdown",
     "metadata": {},
     "source": [
      "Het is belangrijk om te weten hoe betrouwbaar de data is die we binnen krijgen voor de Mozart Top 40 database. We hebben al gekeken naar de locaties van deze tweets maar ik vraag mij ook af hoe groot het aandeel spam is in de verzamelde tweets. <br><br>\n",
      "In deze labjournaal wordt er met de gegevens gewerkt die tussen de periode van nov 2014 tot maart 2015 verzameld zijn. Er zullen grote gaten tussen de datums zitten omdat er in die tijd veel data verloren is gegaan. Dit komt doordat de database te vol kwam te zitten en oude data eruit gooide. Ik heb zo veel mogelijk gerepareerd door backup terug te merges. "
     ]
    },
    {
     "cell_type": "code",
     "collapsed": false,
     "input": [
      "%pylab inline"
     ],
     "language": "python",
     "metadata": {},
     "outputs": [
      {
       "output_type": "stream",
       "stream": "stdout",
       "text": [
        "Populating the interactive namespace from numpy and matplotlib\n"
       ]
      }
     ],
     "prompt_number": 1
    },
    {
     "cell_type": "heading",
     "level": 2,
     "metadata": {},
     "source": [
      "Hoe groot is het aandeel van de spam tweets?"
     ]
    },
    {
     "cell_type": "code",
     "collapsed": false,
     "input": [
      "import pymongo\n",
      "\n",
      "# Connection to Mongo DB\n",
      "conn = pymongo.MongoClient('localhost', 27017)\n",
      "db = conn['app24236103']\n",
      "\n",
      "twitterUsers = db.top40plays.aggregate([\n",
      "    {\n",
      "        \"$limit\":500000\n",
      "    },\n",
      "    {\n",
      "        \"$group\": {\n",
      "            \"_id\": \"$twitter_user_id\",\n",
      "            \"count\": {\"$sum\": 1}\n",
      "        }\n",
      "    },\n",
      "    {\n",
      "        \"$sort\": {\"count\": -1}\n",
      "    }\n",
      "])\n",
      "\n",
      "countTwitterUsers = list(twitterUsers['result'])\n",
      "\n",
      "c = str(len(countTwitterUsers))\n",
      "\n",
      "print(\"Aantal verschillende gebruikers: \" + c)"
     ],
     "language": "python",
     "metadata": {},
     "outputs": [
      {
       "output_type": "stream",
       "stream": "stdout",
       "text": [
        "Aantal verschillende gebruikers: 308463\n"
       ]
      }
     ],
     "prompt_number": 2
    },
    {
     "cell_type": "code",
     "collapsed": false,
     "input": [
      "import matplotlib as plt\n",
      "import time\n",
      "\n",
      "today= time.strftime(\"%d/%m/%Y\")\n",
      "count=[]\n",
      "for t, twitterUser in enumerate(countTwitterUsers):\n",
      "    count.append(twitterUser['count'])\n",
      "\n",
      "minCount = min(count)\n",
      "maxCount = max(count)"
     ],
     "language": "python",
     "metadata": {},
     "outputs": [],
     "prompt_number": 3
    },
    {
     "cell_type": "code",
     "collapsed": false,
     "input": [
      "rangeCount = maxCount/10\n",
      "rangeC = [0,0,0,0,0,0,0,0,0,0]\n",
      "for c in count:\n",
      "    i = 0\n",
      "    r = rangeCount\n",
      "    while c > r:\n",
      "        i = i + 1\n",
      "        r = (rangeCount*(i+1))\n",
      "    rangeC[i] = rangeC[i] + c\n",
      "\n",
      "print(rangeC)"
     ],
     "language": "python",
     "metadata": {},
     "outputs": [
      {
       "output_type": "stream",
       "stream": "stdout",
       "text": [
        "[448794, 22276, 11494, 8743, 1161, 4778, 0, 0, 0, 2754]\n"
       ]
      }
     ],
     "prompt_number": 4
    },
    {
     "cell_type": "code",
     "collapsed": false,
     "input": [
      "fig = plt.pyplot.figure()\n",
      "ax = fig.add_subplot(111)\n",
      "ax.hist(count, bins = 9, range = (minCount,maxCount))\n",
      "plt.pyplot.title('Tweet each user posted: ' + today)\n",
      "plt.pyplot.xlabel('Tweets')\n",
      "plt.pyplot.ylabel('Users')\n",
      "plt.pyplot.show()\n",
      "print(\"Tweet each user posted\")\n"
     ],
     "language": "python",
     "metadata": {},
     "outputs": [
      {
       "metadata": {},
       "output_type": "display_data",
       "png": "[encoded data removed]",
       "text": [
        "<matplotlib.figure.Figure at 0x6f89780>"
       ]
      },
      {
       "output_type": "stream",
       "stream": "stdout",
       "text": [
        "Tweet each user posted\n"
       ]
      }
     ],
     "prompt_number": 5
    },
    {
     "cell_type": "markdown",
     "metadata": {},
     "source": [
      "Deze weergaven laat zien dat de mensen die tussen 1 a 300 tweets hebben gepost in de periode nov 2014 tot maart 2015. Het lijkt erop dat de spam aandeel erg klein is. Daarom wil ik de verhouding zien in aandeel."
     ]
    },
    {
     "cell_type": "heading",
     "level": 2,
     "metadata": {},
     "source": [
      "Hoe groot is het aandeel van de spammers en niet spammers?"
     ]
    },
    {
     "cell_type": "code",
     "collapsed": false,
     "input": [
      "x=linspace(1,len(rangeC),len(rangeC))\n",
      "\n",
      "nlLine = plt.pyplot.plot(x, rangeC, 'r-', label='Aandeel tweets')\n",
      "plt.pyplot.ylabel('sum tweet user group: ' + today)\n",
      "ax.set_yscale(\"log\", nonposy='clip')\n",
      "plt.pyplot.xlabel('amount tweet')\n",
      "plt.pyplot.title('Tweets % each twitter group')\n",
      "plt.pyplot.legend()\n",
      "plt.pyplot.show()"
     ],
     "language": "python",
     "metadata": {},
     "outputs": [
      {
       "metadata": {},
       "output_type": "display_data",
       "png": "[encoded data removed]",
       "text": [
        "<matplotlib.figure.Figure at 0x76d0198>"
       ]
      }
     ],
     "prompt_number": 6
    },
    {
     "cell_type": "markdown",
     "metadata": {},
     "source": [
      "Ook in verhouding word door deze grafiek duidelijk dat de niet spammers een veel grotere aandeel hebben in de verzamelde tweets dan de mensen die wel spammen. <br><br>\n",
      "Ik wil graag nog wel verder inzoemen op de groep die relatief weinig tweets hebben gepost om te kijken hoe daar de verdelingen zijn."
     ]
    },
    {
     "cell_type": "heading",
     "level": 2,
     "metadata": {},
     "source": [
      "Hoe is de groep met minder dan 100 tweets verdeeld?"
     ]
    },
    {
     "cell_type": "code",
     "collapsed": false,
     "input": [
      "fig = plt.pyplot.figure()\n",
      "ax = fig.add_subplot(111)\n",
      "ax.hist(count, bins = 9, range = (minCount,100))\n",
      "plt.pyplot.yscale('log')\n",
      "plt.pyplot.title('Tweet each user posted: ' + today)\n",
      "plt.pyplot.xlabel('Tweets')\n",
      "plt.pyplot.ylabel('Users')\n",
      "plt.pyplot.show()\n",
      "print(\"Tweet each user posted\")"
     ],
     "language": "python",
     "metadata": {},
     "outputs": [
      {
       "metadata": {},
       "output_type": "display_data",
       "png": "[encoded data removed]",
       "text": [
        "<matplotlib.figure.Figure at 0x77a5f60>"
       ]
      },
      {
       "output_type": "stream",
       "stream": "stdout",
       "text": [
        "Tweet each user posted\n"
       ]
      }
     ],
     "prompt_number": 7
    },
    {
     "cell_type": "markdown",
     "metadata": {},
     "source": [
      "Deze tabel weergeeft een aannamelijk verhouding van hoeveel tweets iedereen post. De spammers hebben maar een klein aandeel, als ze bijvoorbeeld 1000 keer over dezelfde nummer tweets kan dit wel grote gevolgen hebben voor mijn onderzoek. Dit wil ik nog achterhalen."
     ]
    },
    {
     "cell_type": "heading",
     "level": 1,
     "metadata": {},
     "source": [
      "Hoeveel tweets van dezelfde persoon gaan over hetzelfde nummer?"
     ]
    },
    {
     "cell_type": "code",
     "collapsed": false,
     "input": [
      "twitterUsersSameSong = db.top40plays.aggregate([\n",
      "    {\n",
      "        \"$limit\":500000\n",
      "    },\n",
      "    {\n",
      "        \"$group\": {\n",
      "            \"_id\": {\"twitter_user_id\": \"$twitter_user_id\", \"title\": \"$title\"},\n",
      "            \"count\": {\"$sum\": 1}\n",
      "        }\n",
      "    },\n",
      "    {\n",
      "        \"$sort\": {\"count\": -1}\n",
      "    },\n",
      "    {\n",
      "        \"$match\": {\n",
      "            \"count\": {\"$gt\": 1}\n",
      "        }\n",
      "    }\n",
      "])\n",
      "\n",
      "UsersSong = list(twitterUsersSameSong['result'])\n",
      "\n",
      "c = str(len(UsersSong))\n",
      "\n",
      "print(\"Aantal rijen zelfde twitter users over hetzelfde nummer: \" + c)"
     ],
     "language": "python",
     "metadata": {},
     "outputs": [
      {
       "output_type": "stream",
       "stream": "stdout",
       "text": [
        "Aantal rijen zelfde twitter users over hetzelfde nummer: 34224\n"
       ]
      }
     ],
     "prompt_number": 8
    },
    {
     "cell_type": "code",
     "collapsed": false,
     "input": [
      "i = 0\n",
      "for User in UsersSong:\n",
      "    if i < 5:\n",
      "        print('UserId',User['_id']['twitter_user_id'],'posted',User['count'],'about',User['_id']['title'])\n",
      "    i += 1"
     ],
     "language": "python",
     "metadata": {},
     "outputs": [
      {
       "output_type": "stream",
       "stream": "stdout",
       "text": [
        "UserId 306223997 posted 2754 about wish you were mine\n",
        "UserId 2598063952 posted 767 about blame\n",
        "UserId 76831873 posted 533 about take me to church\n",
        "UserId 2263165106 posted 451 about love me like you do\n",
        "UserId 743280769 posted 349 about uptown funk!\n"
       ]
      }
     ],
     "prompt_number": 17
    },
    {
     "cell_type": "markdown",
     "metadata": {},
     "source": [
      "Deze getallen zijn wel interresant en moet iets gedaan mee worden als we onder data conclusie bij het einde van het project betrouwbaar willen houden. "
     ]
    },
    {
     "cell_type": "markdown",
     "metadata": {},
     "source": [
      "Bij handmatige steekproeven van 30 twitter users om te controleren hoeveel radio stations tussen zitten kwam het volgende eruit:\n",
      "\n",
      "- Bij 2 keer over zelfde zong is +- 16% radiostation\n",
      "- Bij 5 keer over zelfde zong is +- 43% radiostation (de rest is ook meer spam zoals het aantal pornografie pagina's ligt ook een stuk hoger)"
     ]
    },
    {
     "cell_type": "heading",
     "level": 2,
     "metadata": {},
     "source": [
      "Conclusie"
     ]
    },
    {
     "cell_type": "markdown",
     "metadata": {},
     "source": [
      "Het aandeel dat de spam twitteraars\\* is relatief erg weinig met alle tweets die we binnen halen. Dit levert dan ook niet direct problemen op. Wel zijn er een aatnal gevallen waarbij gebruikers heel vaak over dezelfde nummer tweet en dit kan wel grote gevolgen hebben later in het project. Dit moet dan ook worden opgelost voordat deze data bruikbaar is. <br><br>\\*Mensen die meer dan 80 tweets posted in een periode van 5 maanden (zelf gekozen grens) "
     ]
    }
   ],
   "metadata": {}
  }
 ]
}