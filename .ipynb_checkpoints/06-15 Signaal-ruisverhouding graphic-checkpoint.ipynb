{
 "metadata": {
  "name": "",
  "signature": "sha256:750608c40acb5413fcb3f2b48086d9106c9478a4db24ecf4e03bb79e92511604"
 },
 "nbformat": 3,
 "nbformat_minor": 0,
 "worksheets": [
  {
   "cells": [
    {
     "cell_type": "code",
     "collapsed": false,
     "input": [
      "%pylab inline\n",
      "\n",
      "import numpy as np\n",
      "import pymongo\n",
      "import matplotlib.pyplot as plt\n",
      "import scipy.stats as st\n",
      "import math"
     ],
     "language": "python",
     "metadata": {},
     "outputs": [
      {
       "output_type": "stream",
       "stream": "stdout",
       "text": [
        "Populating the interactive namespace from numpy and matplotlib\n"
       ]
      }
     ],
     "prompt_number": 22
    },
    {
     "cell_type": "code",
     "collapsed": false,
     "input": [
      "days = [[104,111],[126,132],[137,159]] # DE UITIENDELIJK DAGEN DIE GEBRUIKT WORDEN!!!!!!\n",
      "\n",
      "# Connection to Mongo DB\n",
      "conn = pymongo.MongoClient('localhost', 27017)\n",
      "db = conn['mozart']\n",
      "\n",
      "print('connected to database')"
     ],
     "language": "python",
     "metadata": {},
     "outputs": [
      {
       "output_type": "stream",
       "stream": "stdout",
       "text": [
        "connected to database\n"
       ]
      }
     ],
     "prompt_number": 16
    },
    {
     "cell_type": "code",
     "collapsed": false,
     "input": [
      "def getCountryPlays(data, days):\n",
      "    arrayPlays = [];\n",
      "    for day in days:\n",
      "        dayIndexes = np.arange(day[0], day[1])\n",
      "        for dayIndex in dayIndexes:\n",
      "            arrayPlays.append(data['value']['counts'][dayIndex])\n",
      "    return arrayPlays"
     ],
     "language": "python",
     "metadata": {},
     "outputs": [],
     "prompt_number": 4
    },
    {
     "cell_type": "code",
     "collapsed": false,
     "input": [
      "def getNoiseSignal(songData):\n",
      "    # create linaire line with noise\n",
      "    xdata=np.arange(0,len(songData), 1)\n",
      "    increment, startValue = np.polyfit(xdata, songData, 1)\n",
      "    lineary=startValue+increment*xdata\n",
      "    \n",
      "    #so what is the noise when we do a linear fit?\n",
      "    yError=abs(songData-lineary)\n",
      "    stdnoise=std(yError)    \n",
      "    signaltonoiseratio=mean(songData)/stdnoise\n",
      "    \n",
      "    return signaltonoiseratio"
     ],
     "language": "python",
     "metadata": {},
     "outputs": [],
     "prompt_number": 5
    },
    {
     "cell_type": "code",
     "collapsed": false,
     "input": [
      "def getNoiseCountry(countryCode):\n",
      "    # get data\n",
      "    query = db.npCountryTop500_2.aggregate([\n",
      "        { '$match': {'cc': countryCode} },\n",
      "        { '$sort': {'value.total': -1}}\n",
      "    ])\n",
      "    countryData = list(query['result'])\n",
      "    \n",
      "    # edit data\n",
      "    arrayNoise = []\n",
      "    for data in countryData:\n",
      "        songData = getCountryPlays(data,days)\n",
      "        arrayNoise.append(getNoiseSignal(songData))\n",
      "    \n",
      "    return arrayNoise"
     ],
     "language": "python",
     "metadata": {},
     "outputs": [],
     "prompt_number": 11
    },
    {
     "cell_type": "code",
     "collapsed": false,
     "input": [
      "plot(getNoiseCountry('NL'))"
     ],
     "language": "python",
     "metadata": {},
     "outputs": [
      {
       "metadata": {},
       "output_type": "pyout",
       "prompt_number": 17,
       "text": [
        "[<matplotlib.lines.Line2D at 0x8b88fd0>]"
       ]
      },
      {
       "metadata": {},
       "output_type": "display_data",
       "png": "[encoded data removed]",
       "text": [
        "<matplotlib.figure.Figure at 0x811a048>"
       ]
      }
     ],
     "prompt_number": 17
    },
    {
     "cell_type": "code",
     "collapsed": false,
     "input": [
      "noiseScoreNL = getNoiseCountry('NL')"
     ],
     "language": "python",
     "metadata": {},
     "outputs": [],
     "prompt_number": 134
    },
    {
     "cell_type": "code",
     "collapsed": false,
     "input": [
      "len(noiseScoreNL)"
     ],
     "language": "python",
     "metadata": {},
     "outputs": [
      {
       "metadata": {},
       "output_type": "pyout",
       "prompt_number": 114,
       "text": [
        "155"
       ]
      }
     ],
     "prompt_number": 114
    },
    {
     "cell_type": "code",
     "collapsed": false,
     "input": [
      "noiseMinNL = min(noiseScoreNL)\n",
      "noiseMaxNL = max(noiseScoreNL)\n",
      "print(noiseMinNL, noiseMaxNL)"
     ],
     "language": "python",
     "metadata": {},
     "outputs": [
      {
       "output_type": "stream",
       "stream": "stdout",
       "text": [
        "0.181892438788 3.55329654169\n"
       ]
      }
     ],
     "prompt_number": 122
    },
    {
     "cell_type": "code",
     "collapsed": false,
     "input": [
      "maxRoundUp = math.ceil(noiseMaxNL)\n",
      "maxRoundUp"
     ],
     "language": "python",
     "metadata": {},
     "outputs": [
      {
       "metadata": {},
       "output_type": "pyout",
       "prompt_number": 51,
       "text": [
        "8"
       ]
      }
     ],
     "prompt_number": 51
    },
    {
     "cell_type": "code",
     "collapsed": false,
     "input": [
      "def getBarData(minIndex, maxIndex, data):\n",
      "    i = 0\n",
      "    minAmount = 0\n",
      "    maxAmountData = math.ceil(max(data))\n",
      "    arrayCount = []\n",
      "    while i < 5:\n",
      "        maxAmount = maxAmountData / 5 * (i +1) \n",
      "        amount = 0\n",
      "        indexArray = 0\n",
      "\n",
      "        for point in data:\n",
      "            if math.isnan(point) == False:\n",
      "                if point <= maxAmount and point >= minAmount and indexArray < maxIndex and indexArray >= minIndex:\n",
      "                    amount += 1\n",
      "                indexArray += 1\n",
      "        minAmount = maxAmount\n",
      "        arrayCount.append(amount)\n",
      "        i += 1\n",
      "    return arrayCount"
     ],
     "language": "python",
     "metadata": {},
     "outputs": [],
     "prompt_number": 119
    },
    {
     "cell_type": "code",
     "collapsed": false,
     "input": [
      "def createBarPlot(cc):\n",
      "    data = getNoiseCountry(cc)\n",
      "    width = 0.2  \n",
      "    maxValue = math.ceil(max(data))\n",
      "    ind = np.arange(0, maxValue, (maxValue/5))\n",
      "\n",
      "    fig, ax = plt.subplots()\n",
      "    rects1 = ax.bar(ind, getBarData(0, 50, data), width, color='#b20000')\n",
      "    rects2 = ax.bar(ind + width, getBarData(50, 100, data), width, color='#ff0000')\n",
      "    rects3 = ax.bar(ind + (width*2), getBarData(100, 150, data), width, color='#ff4c4c')\n",
      "    rects4 = ax.bar(ind + (width*3), getBarData(150, 200, data), width, color='#ffb2b2')\n",
      "\n",
      "    plt.legend([rects1, rects2, rects3, rects4], [\"1 - 50\", \"51-100\", \"101-150\", \"151-200\"])\n",
      "\n",
      "    ax.set_xticks(ind)\n",
      "    plt.title(cc)\n",
      "\n",
      "    plt.show()"
     ],
     "language": "python",
     "metadata": {},
     "outputs": [],
     "prompt_number": 150
    },
    {
     "cell_type": "code",
     "collapsed": false,
     "input": [
      "createBarPlot('US')"
     ],
     "language": "python",
     "metadata": {},
     "outputs": [
      {
       "metadata": {},
       "output_type": "display_data",
       "png": "[encoded data removed]",
       "text": [
        "<matplotlib.figure.Figure at 0x85d00b8>"
       ]
      }
     ],
     "prompt_number": 152
    },
    {
     "cell_type": "code",
     "collapsed": false,
     "input": [
      "createBarPlot('NL')"
     ],
     "language": "python",
     "metadata": {},
     "outputs": [
      {
       "metadata": {},
       "output_type": "display_data",
       "png": "[encoded data removed]",
       "text": [
        "<matplotlib.figure.Figure at 0x856d1d0>"
       ]
      }
     ],
     "prompt_number": 153
    },
    {
     "cell_type": "code",
     "collapsed": false,
     "input": [
      "createBarPlot('FR')"
     ],
     "language": "python",
     "metadata": {},
     "outputs": [
      {
       "metadata": {},
       "output_type": "display_data",
       "png": "[encoded data removed]",
       "text": [
        "<matplotlib.figure.Figure at 0x8568c50>"
       ]
      }
     ],
     "prompt_number": 154
    },
    {
     "cell_type": "code",
     "collapsed": false,
     "input": [
      "createBarPlot('GB')"
     ],
     "language": "python",
     "metadata": {},
     "outputs": [
      {
       "metadata": {},
       "output_type": "display_data",
       "png": "[encoded data removed]",
       "text": [
        "<matplotlib.figure.Figure at 0x820b748>"
       ]
      }
     ],
     "prompt_number": 155
    }
   ],
   "metadata": {}
  }
 ]
}