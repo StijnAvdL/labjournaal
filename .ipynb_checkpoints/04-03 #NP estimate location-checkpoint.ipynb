{
 "metadata": {
  "name": "",
  "signature": "sha256:3f811a8fa62e392ed8f7b7cf07530d9aaab56f5666003425a3e67d5d31b3230b"
 },
 "nbformat": 3,
 "nbformat_minor": 0,
 "worksheets": [
  {
   "cells": [
    {
     "cell_type": "heading",
     "level": 1,
     "metadata": {},
     "source": [
      "#NP locatie bepalen"
     ]
    },
    {
     "cell_type": "markdown",
     "metadata": {},
     "source": [
      "Datum: 03-04-2015<br>\n",
      "URL: http://nbviewer.ipython.org/github/StijnAvdL/labjournaal/blob/master/04-03%20%23NP%20estimate%20location.ipynb <br>\n",
      "Database: MongoDB - #NP tracker"
     ]
    },
    {
     "cell_type": "markdown",
     "metadata": {},
     "source": [
      "Aan de hand van mijn labjournaal <a href=\"http://nbviewer.ipython.org/github/StijnAvdL/labjournaal/blob/master/04-02%20%23np%20tweets%20location%20fields.ipynb\">#np tweets locatie fields</a> wil ik met de 4 velden die ik het meest vertrouwende de locatie gaan bepalen."
     ]
    },
    {
     "cell_type": "code",
     "collapsed": false,
     "input": [
      "from geopy.geocoders import Nominatim\n",
      "from pygeocoder import Geocoder\n",
      "from pygeolib import GeocoderError"
     ],
     "language": "python",
     "metadata": {},
     "outputs": [],
     "prompt_number": 3
    },
    {
     "cell_type": "code",
     "collapsed": false,
     "input": [
      "import pymongo\n",
      "\n",
      "# Connection to Mongo DB\n",
      "conn = pymongo.MongoClient('localhost', 27017)\n",
      "db = conn['mozart']\n",
      "\n",
      "print('connected to database')"
     ],
     "language": "python",
     "metadata": {},
     "outputs": [
      {
       "output_type": "stream",
       "stream": "stdout",
       "text": [
        "connected to database\n"
       ]
      }
     ],
     "prompt_number": 4
    },
    {
     "cell_type": "heading",
     "level": 2,
     "metadata": {},
     "source": [
      "Test data maken en verzamelen"
     ]
    },
    {
     "cell_type": "code",
     "collapsed": false,
     "input": [
      "from pprint import pprint\n",
      "\n",
      "tweetsRecords = db.testNp.aggregate(\n",
      "    {\n",
      "        \"$project\": {\n",
      "            \"_id\": 0,\n",
      "            \"tweetId\": \"$tweet.id_str\",\n",
      "            \"geo\": \"$tweet.geo\",\n",
      "            \"lang_user\": \"$tweet.user.lang\",\n",
      "            \"time_zone\": \"$tweet.user.time_zone\",\n",
      "            \"utc_offset\": \"$tweet.user.utc_offset\",\n",
      "            \"location\": \"$tweet.user.location\",\n",
      "            \"place\": \"$tweet.place\",\n",
      "            \"coordinates\": \"$tweet.coordinates\",\n",
      "            \"tweet\": \"$tweet.text\",\n",
      "            \"friends\": \"$tweet.user.friends_count\"\n",
      "        }\n",
      "    }\n",
      ")\n",
      "\n",
      "\n",
      "tweets = list(tweetsRecords['result'])\n",
      "print(\"get records\")"
     ],
     "language": "python",
     "metadata": {},
     "outputs": [
      {
       "output_type": "stream",
       "stream": "stdout",
       "text": [
        "get records\n"
       ]
      }
     ],
     "prompt_number": 5
    },
    {
     "cell_type": "markdown",
     "metadata": {},
     "source": [
      "Om te controleren of mij functie de juiste locatie terug sturen heb ik een train set gemaakt van 50 tweets uit de database waarbij ik de locatie door de twitter account te doorzoeken heb bepaald. "
     ]
    },
    {
     "cell_type": "code",
     "collapsed": false,
     "input": [
      "import json\n",
      "from pprint import pprint\n",
      "\n",
      "with open('json/npTestTweets2.json') as data_file:    \n",
      "    data = json.load(data_file)\n",
      "\n",
      "print('Load test json')"
     ],
     "language": "python",
     "metadata": {},
     "outputs": [
      {
       "output_type": "stream",
       "stream": "stdout",
       "text": [
        "Load test json\n"
       ]
      }
     ],
     "prompt_number": 6
    },
    {
     "cell_type": "heading",
     "level": 2,
     "metadata": {},
     "source": [
      "Locatie bepalen adhv Locatie field"
     ]
    },
    {
     "cell_type": "code",
     "collapsed": false,
     "input": [
      "def checkLocation(locationData, field):\n",
      "    succes = 0\n",
      "    failed = 0\n",
      "    null = 0\n",
      "    for jsonData in data:\n",
      "        for location in locationData:\n",
      "            if jsonData['tweetId'] == location['tweetId']:\n",
      "                if jsonData['lon'] == None:\n",
      "                    if  location['lon'] == 'null':\n",
      "                        null = null + 1\n",
      "                    else:\n",
      "                       failed = failed + 1 \n",
      "                else:\n",
      "                    minLon = jsonData['lon'] - 1\n",
      "                    maxLon = jsonData['lon'] + 1\n",
      "                    minLat = jsonData['lat'] - 1\n",
      "                    maxLat = jsonData['lat'] + 1\n",
      "                    if location['lon'] == 'null':\n",
      "                        print(jsonData['index'],'null') \n",
      "                        null = null + 1\n",
      "                    elif location['lon'] > minLon and location['lon'] < maxLon and location['lat'] > minLat and location['lat'] < maxLat:\n",
      "                        print(jsonData['index'],'succes')\n",
      "                        succes = succes + 1   \n",
      "                    else:\n",
      "                        print(jsonData['index'],'failed')\n",
      "                        #print('lon:', jsonData['lon'], location['lon'], '\\n lat:', jsonData['lat'], location['lat'], '\\n ',field,':', location[field], '\\n')\n",
      "                        failed = failed + 1\n",
      "    print(round((succes/len(data))*100,2),'% succes')\n",
      "    print(round((failed/len(data))*100,2),'% failed')\n",
      "    print(round((null/len(data))*100,2),'% null')"
     ],
     "language": "python",
     "metadata": {},
     "outputs": [],
     "prompt_number": 7
    },
    {
     "cell_type": "code",
     "collapsed": false,
     "input": [
      "from time import sleep\n",
      "\n",
      "def getLocation(field):\n",
      "    i = 0\n",
      "    locations = []\n",
      "    for tweet in tweets:\n",
      "        (lat,lon) = ('null','null')\n",
      "        \n",
      "        if tweet[field] != None or tweet[field] != \"\":\n",
      "            if field == 'time_zone':\n",
      "                if tweet[field] == 'Pacific Time (US & Canada)':\n",
      "                    tweet[field] = 'San Franscisco'\n",
      "                elif tweet[field] == 'Central Time (US & Canada)':\n",
      "                    tweet[field] = 'Dallas'\n",
      "                elif tweet[field] == 'Eastern Time (US & Canada)':\n",
      "                    tweet[field] = 'New York'\n",
      "                elif tweet[field] == 'Mountain  Time (US & Canada)':\n",
      "                    tweet[field] = 'Billings'\n",
      "            try:\n",
      "                results  = Geocoder.geocode(tweet[field])\n",
      "                sleep(0.2)\n",
      "                (lat, lon) = results[0].coordinates\n",
      "            except GeocoderError:\n",
      "                (lat, lon) = ('null', 'null')\n",
      "            locations.append({'tweetId':tweet['tweetId'], field: tweet[field], 'lon': lon, 'lat': lat})\n",
      "        i += 1\n",
      "    return locations"
     ],
     "language": "python",
     "metadata": {},
     "outputs": [],
     "prompt_number": 8
    },
    {
     "cell_type": "code",
     "collapsed": false,
     "input": [
      "rowsLocation = getLocation('location')\n",
      "checkLocation(rowsLocation, 'location')"
     ],
     "language": "python",
     "metadata": {},
     "outputs": [
      {
       "output_type": "stream",
       "stream": "stdout",
       "text": [
        "0 failed\n",
        "1 failed\n",
        "2 succes\n",
        "3 succes\n",
        "4 succes\n",
        "5 null\n",
        "6 succes\n",
        "7 failed\n",
        "8 failed\n",
        "9 failed\n",
        "10 succes\n",
        "11 succes\n",
        "12 succes\n",
        "13 failed\n",
        "14 null\n",
        "15 failed\n",
        "16 null\n",
        "17 failed\n",
        "18 succes\n",
        "19 null\n",
        "20 failed\n",
        "21 null\n",
        "22 failed\n",
        "23 succes\n",
        "24 failed\n",
        "25 succes\n",
        "26 succes\n",
        "27 null\n",
        "28 succes\n",
        "29 failed\n",
        "30 succes\n",
        "31 null\n",
        "32 failed\n",
        "33 null\n",
        "34 null\n",
        "35 failed\n",
        "36 succes\n",
        "37 failed\n",
        "38 null\n",
        "39 succes\n",
        "40 failed\n",
        "41 null\n",
        "42 succes\n",
        "43 null\n",
        "44 succes\n",
        "45 failed\n",
        "46 succes\n",
        "48 null\n",
        "49 succes\n",
        "38.0 % succes\n",
        "34.0 % failed\n",
        "26.0 % null\n"
       ]
      }
     ],
     "prompt_number": 9
    },
    {
     "cell_type": "markdown",
     "metadata": {},
     "source": [
      "38% wordt goed bepaald maar wat erg vervelend is dat ook 34% verkeerd bepaald word... Laten we dit ook testen op Time Zone."
     ]
    },
    {
     "cell_type": "heading",
     "level": 2,
     "metadata": {},
     "source": [
      "Locatie bepalen adhv Time zone"
     ]
    },
    {
     "cell_type": "code",
     "collapsed": false,
     "input": [
      "rowsTimeZone = getLocation('time_zone')\n",
      "checkLocation(rowsTimeZone, 'time_zone')"
     ],
     "language": "python",
     "metadata": {},
     "outputs": [
      {
       "output_type": "stream",
       "stream": "stdout",
       "text": [
        "0 succes\n",
        "1 failed\n",
        "2 failed\n",
        "3 failed\n",
        "4 failed\n",
        "5 failed\n",
        "6 null\n",
        "7 null\n",
        "8 failed\n",
        "9 failed\n",
        "10 failed\n",
        "11 succes\n",
        "12 failed\n",
        "13 failed\n",
        "14 failed\n",
        "15 null\n",
        "16 succes\n",
        "17 failed\n",
        "18 failed\n",
        "19 failed\n",
        "20 succes\n",
        "21 failed\n",
        "22 null\n",
        "23 null\n",
        "24 failed\n",
        "25 failed\n",
        "26 succes\n",
        "27 failed\n",
        "28 null\n",
        "29 failed\n",
        "30 failed\n",
        "31 failed\n",
        "32 succes\n",
        "33 succes\n",
        "34 null\n",
        "35 succes\n",
        "36 succes\n",
        "37 succes\n",
        "38 failed\n",
        "39 null\n",
        "40 null\n",
        "41 failed\n",
        "42 failed\n",
        "43 null\n",
        "44 succes\n",
        "45 succes\n",
        "46 null\n",
        "48 null\n",
        "49 null\n",
        "24.0 % succes\n",
        "48.0 % failed\n",
        "26.0 % null\n"
       ]
      }
     ],
     "prompt_number": 10
    },
    {
     "cell_type": "markdown",
     "metadata": {},
     "source": [
      "Hier gaan 24% van de locatie goed maar ook weer een flink deel gaat fout en hebben we niks aan om deze locaties te bepalen aan elke de locatie of time zone. Mij idee om te kijken of beide velden bij elkaar in de buurt liggen."
     ]
    },
    {
     "cell_type": "heading",
     "level": 2,
     "metadata": {},
     "source": [
      "Combi Location & Time zone"
     ]
    },
    {
     "cell_type": "markdown",
     "metadata": {},
     "source": [
      "Het verschil van de locatie en time zone longitude mag maar max 9 longitude zijn in de radius. Want dat betekend dat ze in de time zone valt."
     ]
    },
    {
     "cell_type": "code",
     "collapsed": false,
     "input": [
      "def checkLocationByTimeZone(LocationArray, TimeZoneArray, pipelineTweets):\n",
      "    i = 0\n",
      "    succes = 0\n",
      "    for location in LocationArray:\n",
      "        # pipeline\n",
      "        if pipelineTweets != 'null' and pipelineTweets[i]['lon'] != 'null':\n",
      "            succes = succes + 1\n",
      "        elif rowsTimeZone[i]['lon'] != 'null' and location['lon'] != 'null':\n",
      "            timeZoneLon = float(TimeZoneArray[i]['lon'])\n",
      "            locationLon = float(location['lon'])      \n",
      "            if locationLon < (timeZoneLon + 9) and locationLon > (timeZoneLon - 9):\n",
      "                if pipelineTweets == 'null':\n",
      "                    print(data[i]['index'],'V',location['location'])\n",
      "                succes = succes + 1\n",
      "                # pipeline\n",
      "                if pipelineTweets != 'null':\n",
      "                    pipelineTweets[i]['lon'] = location['lon']\n",
      "                    pipelineTweets[i]['lat'] = location['lat']\n",
      "            else:\n",
      "                if pipelineTweets == 'null':\n",
      "                    print(data[i]['index'],'X',location['location'])\n",
      "        else:\n",
      "            if pipelineTweets == 'null':\n",
      "                print(data[i]['index'],'-',location['location'])\n",
      "        i = i + 1\n",
      "    if pipelineTweets == 'null':\n",
      "        print('\\n succes:', round((succes/len(data))*100,2),'%')"
     ],
     "language": "python",
     "metadata": {},
     "outputs": [],
     "prompt_number": 11
    },
    {
     "cell_type": "code",
     "collapsed": false,
     "input": [
      "checkLocationByTimeZone(rowsLocation,rowsTimeZone, 'null')"
     ],
     "language": "python",
     "metadata": {},
     "outputs": [
      {
       "output_type": "stream",
       "stream": "stdout",
       "text": [
        "0 V LatinAmerica\n",
        "1 X Sun\n",
        "2 V Deerfield Beach, Florida\n",
        "3 V Chicago (USA) & Worldwide\n",
        "4 V Virginia\n",
        "5 - \n",
        "6 - Houston Tx\n",
        "7 - The #BLUES Planet Earth\n",
        "8 X Rimba Aceh\n",
        "9 V Wide Awake\n",
        "10 V Naples,florida.\n",
        "11 V SE London\n",
        "12 V MANILA, PHILIPPINES\n",
        "13 V Portugal\n",
        "14 - \n",
        "15 - Houston/Austin MOFO TEXAS\n",
        "16 - \n",
        "17 V Poland\n",
        "18 X Delaware\n",
        "19 - BLC Basement\n",
        "20 V Virginia\n",
        "21 - \n",
        "22 - Global \n",
        "23 - Tacoma,WA\n",
        "24 V Wide Awake\n",
        "25 V Burlington, ON Canada\n",
        "26 V Tokyo\n",
        "27 - EVERYWHERE YOU'RE NOT\n",
        "28 - Silver Spring\n",
        "29 V Boogerville, Texas\n",
        "30 V South Carolina\n",
        "31 - \n",
        "32 X 202km to k\n",
        "33 - \n",
        "34 - \n",
        "35 V Wide Awake\n",
        "36 V Sintra, Portugal\n",
        "37 V Virginia\n",
        "38 - I'm from \u00b7o. MARS\n",
        "39 - Poland\n",
        "40 - Land of 10,000 lakes \n",
        "41 - contato@457fm.com\n",
        "42 X Texas nigga!!:))\n",
        "43 - Dans le jus d'orange\n",
        "44 V Athens, Greece\n",
        "45 X 221B Baker Street. London\n",
        "46 - Philadelphia PA\n",
        "47 V Leitrim Ireland\n",
        "48 - \n",
        "49 - Barcelona\n",
        "\n",
        " succes: 42.0 %\n"
       ]
      }
     ],
     "prompt_number": 12
    },
    {
     "cell_type": "heading",
     "level": 1,
     "metadata": {},
     "source": [
      "Pipeline V0.1"
     ]
    },
    {
     "cell_type": "markdown",
     "metadata": {},
     "source": [
      "We gaan een pipeline maken waarbij de tweet de volgende stappen zullen doorlopen om te achterhalen waar ze vandaan komen:\n",
      "\n",
      "<ul>\n",
      "<li>Get COORDINATES location</li>\n",
      "<ul>\n",
      "<li>Succes: Done</li>\n",
      "</ul>\n",
      "<li>Failed: Continue</li>\n",
      "<li>Get PLACE location</li>\n",
      "<ul>\n",
      "<li>Succes: Done</li>\n",
      "</ul>\n",
      "<li>Get location by LOCATION & TIME_ZONE fields</li>\n",
      "<ul>\n",
      "<li>Succes: Done</li>\n",
      "</ul>\n",
      "<li>Failed: Continue</li>\n",
      "<li>Get location by TWITTER FRIENDS</li>\n",
      "<ul>\n",
      "<li>Succes: Done</li>\n",
      "</ul>\n",
      "<li>Failed: NO LOCATION</li>\n",
      "</ul>"
     ]
    },
    {
     "cell_type": "code",
     "collapsed": false,
     "input": [
      "def getSuccesRated(tweets):\n",
      "    succes = 0\n",
      "    for tweet in tweets:\n",
      "        if tweet['lon'] != 'null':\n",
      "            succes += 1\n",
      "    print('\\n succes:', round((succes/len(tweets))*100,2),'%')"
     ],
     "language": "python",
     "metadata": {},
     "outputs": [],
     "prompt_number": 13
    },
    {
     "cell_type": "heading",
     "level": 2,
     "metadata": {},
     "source": [
      "1: Coordinates"
     ]
    },
    {
     "cell_type": "code",
     "collapsed": false,
     "input": [
      "def getLocationByCoordinates(tweet):\n",
      "    if tweet['coordinates'] != None:\n",
      "        geoPoints = (tweet['coordinates']['coordinates'])\n",
      "        i = 0\n",
      "        for geoPoint in geoPoints:\n",
      "            if i == 0:\n",
      "                i = i + 1\n",
      "                tweet['lon'] = geoPoint\n",
      "            else:\n",
      "                tweet['lat'] = geoPoint"
     ],
     "language": "python",
     "metadata": {},
     "outputs": [],
     "prompt_number": 14
    },
    {
     "cell_type": "code",
     "collapsed": false,
     "input": [
      "tweetsWithGeo = tweets\n",
      "for tweet in tweetsWithGeo:\n",
      "    tweet['lon'] = 'null'\n",
      "    tweet['lat'] = 'null'\n",
      "    getLocationByCoordinates(tweet)\n",
      "\n",
      "getSuccesRated(tweetsWithGeo)"
     ],
     "language": "python",
     "metadata": {},
     "outputs": [
      {
       "output_type": "stream",
       "stream": "stdout",
       "text": [
        "\n",
        " succes: 2.0 %\n"
       ]
      }
     ],
     "prompt_number": 15
    },
    {
     "cell_type": "heading",
     "level": 2,
     "metadata": {},
     "source": [
      "2: Place"
     ]
    },
    {
     "cell_type": "code",
     "collapsed": false,
     "input": [
      "def getLocationByPlace(tweet):\n",
      "    if tweet['place'] != None and tweet['lon'] == 'null':\n",
      "        geoPoints = (tweet['place']['bounding_box']['coordinates'][0])\n",
      "        i = 0\n",
      "        lon = 0\n",
      "        lat = 0\n",
      "        for geoPoint in geoPoints:\n",
      "            i += 1\n",
      "            j = 0\n",
      "            for lonLat in geoPoint:\n",
      "                if j == 0:\n",
      "                    j += 1\n",
      "                    lon += lonLat\n",
      "                else:\n",
      "                    lat += lonLat\n",
      "        tweet['lon'] = lon/i\n",
      "        tweet['lat'] = lat/i"
     ],
     "language": "python",
     "metadata": {},
     "outputs": [],
     "prompt_number": 16
    },
    {
     "cell_type": "code",
     "collapsed": false,
     "input": [
      "for tweet in tweetsWithGeo:\n",
      "    getLocationByPlace(tweet)\n",
      "getSuccesRated(tweetsWithGeo)"
     ],
     "language": "python",
     "metadata": {},
     "outputs": [
      {
       "output_type": "stream",
       "stream": "stdout",
       "text": [
        "\n",
        " succes: 2.0 %\n"
       ]
      }
     ],
     "prompt_number": 17
    },
    {
     "cell_type": "heading",
     "level": 2,
     "metadata": {},
     "source": [
      "3: Location & Time Zone"
     ]
    },
    {
     "cell_type": "code",
     "collapsed": false,
     "input": [
      "checkLocationByTimeZone(rowsLocation,rowsTimeZone, tweetsWithGeo)\n",
      "getSuccesRated(tweetsWithGeo)"
     ],
     "language": "python",
     "metadata": {},
     "outputs": [
      {
       "output_type": "stream",
       "stream": "stdout",
       "text": [
        "\n",
        " succes: 42.0 %\n"
       ]
      }
     ],
     "prompt_number": 18
    },
    {
     "cell_type": "markdown",
     "metadata": {},
     "source": [
      "Ik heb nog niet genoeg locatie bepaald dus moet ik nog een nieuwe methode erbij verzinnen."
     ]
    },
    {
     "cell_type": "heading",
     "level": 2,
     "metadata": {},
     "source": [
      "Twitter users friends location"
     ]
    },
    {
     "cell_type": "markdown",
     "metadata": {},
     "source": [
      "Ik ga nu de vrienden ophalen van de twitteraar. Want de meeste mensen voegen vrienden toe die ze kennen en dus vaak bij hun in de buurt wonen. Je kan online wel stellen dat jij je vrienden bent en hiermee willen we de locatie achterhalen."
     ]
    },
    {
     "cell_type": "markdown",
     "metadata": {},
     "source": [
      "https://dev.twitter.com/rest/reference/get/friends/ids\n",
      "\n",
      "https://dev.twitter.com/rest/reference/get/users/lookup\n"
     ]
    },
    {
     "cell_type": "code",
     "collapsed": false,
     "input": [
      "import tweepy\n",
      "\n",
      "consumer_key=\"FjlMjJXaZuDCN7nT2M7Y7WOX0\"\n",
      "consumer_secret=\"Lvcqw5mAuezz5EQsLhrTQijqURAxNfwv8qFblBDjyCywlz108K\"\n",
      "access_token=\"73969502-jKZC5Cq8q2CJ7bRR3uIBNKY2YaiGPv8CXyBnpdySJ\"\n",
      "access_token_secret=\"bVBYB03mPyR5sbI7vnjwDXUvm1aCMN8HXLesoU3xZOwic\"\n",
      "\n",
      "auth = tweepy.OAuthHandler(consumer_key, consumer_secret)\n",
      "auth.secure = True\n",
      "auth.set_access_token(access_token, access_token_secret)\n",
      "\n",
      "api = tweepy.API(auth)\n",
      "\n",
      "# If the authentication was successful, you should\n",
      "# see the name of the account print out\n",
      "print(api.me().name)"
     ],
     "language": "python",
     "metadata": {},
     "outputs": [
      {
       "output_type": "stream",
       "stream": "stdout",
       "text": [
        "Andres Lamont\n"
       ]
      }
     ],
     "prompt_number": 19
    },
    {
     "cell_type": "code",
     "collapsed": false,
     "input": [
      "def getFriendsLocationDescription(twitterUserId):\n",
      "    print(twitterUserId)\n",
      "    friendsIdString = []\n",
      "    friends = []\n",
      "    locactionFriends = []\n",
      "    i = 0\n",
      "    \n",
      "    # API max 15 calls in 15 min\n",
      "    # https://dev.twitter.com/rest/reference/get/friends/ids\n",
      "    twitterFriendIds = api.friends_ids(twitterUserId)\n",
      "    for friendId in twitterFriendIds:\n",
      "        i += 1\n",
      "        friendsIdString.append(friendId)\n",
      "        if i == 100:\n",
      "            friends = api.lookup_users(friendsIdString)\n",
      "    if i < 100 and i > 0:\n",
      "        friends = api.lookup_users(friendsIdString)\n",
      "    \n",
      "    for friend in friends:        \n",
      "        if friend.location != '':\n",
      "            locactionFriends.append(friend.location)\n",
      "    return locactionFriends"
     ],
     "language": "python",
     "metadata": {},
     "outputs": [],
     "prompt_number": 20
    },
    {
     "cell_type": "heading",
     "level": 3,
     "metadata": {},
     "source": [
      "Opvragen welke location beschrijving het meeste voor komt"
     ]
    },
    {
     "cell_type": "code",
     "collapsed": false,
     "input": [
      "from collections import Counter\n",
      "locactionFriends = getFriendsLocationDescription(968459389)\n",
      "Counter(locactionFriends)"
     ],
     "language": "python",
     "metadata": {},
     "outputs": [
      {
       "output_type": "stream",
       "stream": "stdout",
       "text": [
        "968459389\n"
       ]
      },
      {
       "metadata": {},
       "output_type": "pyout",
       "prompt_number": 21,
       "text": [
        "Counter({'Houston': 2, 'Houston, Texas': 2, 'Houston, TX': 2, 'Worldwide': 2, 'Houston,TX': 2, 'San Francisco, CA': 2, 'Houston, Tx': 2, 'A.T.X/EVERYWHERE YA NOT': 1, 'United States': 1, 'Houston Tx.': 1, 'Austin, Tx': 1, 'From Mo. City 2 Yo City ': 1, 'Houston Texas': 1, '512 - 409': 1, 'Bat Cave, Houston': 1, '3rd Coast, Texas': 1, 'Houston, TX /THRETURNAB4A': 1, 'Missouri City, Tx': 1, 'SCREWSTON,TEXAS\u0e4f[-\u0e34_\u2022\u0e34]\u0e4f': 1, 'Home of the Dome': 1, 'San Antonio Tx. (Cloud 9)': 1, 'Bend, OR': 1, '5TH WARD HOUSTON,TEXAS': 1, 'Los Angeles . Miami . Houston ': 1, 'HOUSTON & ATLANTA': 1, '16 Bars away from Success...': 1, \"Martha's Vineyard via Texas\": 1, 'Leader Of The Mutants': 1, 'At Whataburger': 1, 'my own universe ': 1, 'Undergravity, Htown,tx, Everywhere': 1, 'Los Angeles': 1, 'Dollaz,Tx ': 1, 'HustleTown TX': 1, 'compton': 1, 'HOUSTON': 1, 'San Francisco, California': 1, 'H O U S T O N': 1, 'houston texas': 1, '2nd Ward, South East, H-Town': 1, 'H-Town, Texas': 1, 'Houston \u00b7 Phoenix': 1, 'BootsieLand': 1, 'Fayetteville 26': 1, 'Houston TEXAS': 1, 'cy@cyfyremusic.com': 1, 'Zooston, TX 8900': 1, 'Nawf Mania': 1, 'SOuth Houston, TX': 1, 'the space-time continuum': 1, 'Between Success & a Pennacle': 1, 'Fayetteville, AR': 1, 'Houston [Space City], Texas': 1, 'Austin, Texas': 1, 'aspiring to inspire!': 1, 'Trinity Garden Texas': 1, 'St. Martinville, Louisiana': 1, 'San Antonio, Texas': 1, 'H-town': 1, ' KAB Route': 1, 'HOUSTON, TEXAS': 1, 'Screwston, TX': 1, 'Dj Screw House': 1, 'HOUSTON,TX': 1, 'HOUSTON,TEXAS': 1, 'Austin': 1, 'HOU.TX / BC.CA': 1, 'southside of the map': 1, 'Southside, Houston ': 1, 'Austin Texas': 1, 'Contact: mail@willied.com ': 1, '781 / Germany': 1, 'IG: KyMeyerTunedIn ': 1, 'all over': 1, 'Houston, Tx.': 1, 'Troup County, GA/Nashville, TN': 1, 'New York, NY': 1, 'Houston, TX ': 1})"
       ]
      }
     ],
     "prompt_number": 21
    },
    {
     "cell_type": "markdown",
     "metadata": {},
     "source": [
      "Door de kleine verschillen is er bij de eerste 100 friends geen \u00e9\u00e9n locatie die meer dan 2 keer voorkomt. Wel zien we veel Houston terug komen dus wil ik proberen Houston naar voren te krijgen door te tellen welke woord het meeste voorkomt"
     ]
    },
    {
     "cell_type": "heading",
     "level": 3,
     "metadata": {},
     "source": [
      "Welke locatie woorden komen het meeste voor"
     ]
    },
    {
     "cell_type": "markdown",
     "metadata": {},
     "source": [
      "Om een nog hoger uitkomst te krijgen voor bepaalde worden convert ik de string op het volgende:\n",
      "- Alle NON char wordt vervangen door een spatie\n",
      "- Alle string worden lower-case\n",
      "- ik splits vervolgens alle string waarbij overbodige spatie onmiddelijk verdwijnen"
     ]
    },
    {
     "cell_type": "code",
     "collapsed": false,
     "input": [
      "import re\n",
      "def countLocationWords(locactionFriends):\n",
      "    words = []\n",
      "    for locationFriend in locactionFriends: \n",
      "        locationFriend = re.sub(r'\\W+', ' ', locationFriend.lower())\n",
      "        words.extend(locationFriend.split())\n",
      "    wordsCount = Counter(words)\n",
      "\n",
      "    # print % of 5 most use words\n",
      "    for word in wordsCount.most_common(2):\n",
      "        print(word[0], ':', round((word[1]/len(locactionFriends))*100,2),'%')\n",
      "    return wordsCount"
     ],
     "language": "python",
     "metadata": {},
     "outputs": [],
     "prompt_number": 22
    },
    {
     "cell_type": "code",
     "collapsed": false,
     "input": [
      "wordsCount = countLocationWords(locactionFriends)"
     ],
     "language": "python",
     "metadata": {},
     "outputs": [
      {
       "output_type": "stream",
       "stream": "stdout",
       "text": [
        "houston : 34.12 %\n",
        "tx : 24.71 %\n"
       ]
      }
     ],
     "prompt_number": 23
    },
    {
     "cell_type": "markdown",
     "metadata": {},
     "source": [
      "Nu springen de woorden 'houston' en 'tx' zoals ik hoopte er goed uit. Mij idee is nu om met de 2 woorden die het meest voorkomen de locatie op te vragen"
     ]
    },
    {
     "cell_type": "heading",
     "level": 3,
     "metadata": {},
     "source": [
      "Vraag op locatie adhv van 2 meest voorkomende woorden"
     ]
    },
    {
     "cell_type": "code",
     "collapsed": false,
     "input": [
      "def getLocationByFriendsLocations(friendLocations, testId):\n",
      "    locationString = []\n",
      "    if len(friendLocations) > 2:\n",
      "        locArray = friendLocations.most_common(2)[0][0], friendLocations.most_common(2)[1][0]\n",
      "        locationString = ' '.join(locArray)\n",
      "        print(locationString)\n",
      "        try:\n",
      "            results  = Geocoder.geocode(locationString)\n",
      "            sleep(0.2)\n",
      "            (lat, lon) = results[0].coordinates\n",
      "        except GeocoderError:\n",
      "            (lat, lon) = ('null', 'null')\n",
      "        \n",
      "        if lon != 'null' and data[testId]['lon'] != None:\n",
      "            if lon > (data[testId]['lon'] - 2) and lon < (data[testId]['lon'] + 2) and lat > (data[testId]['lat'] - 2) and lon < (data[testId]['lat'] + 2):\n",
      "                print(testId,'SUCCESED:', data[testId]['lon'], data[testId]['lat'], '<<TEST - FRIENDS>>:',lon,lat)\n",
      "            else:\n",
      "                print(testId,'FAILED:', data[testId]['lon'], data[testId]['lat'], '<<TEST - FRIENDS>>',lon,lat)\n",
      "        else:\n",
      "            print(testId,'NONE:', data[testId]['lon'], data[testId]['lat'], '<<TEST - FRIENDS>>:',lon,lat)\n",
      "    else:\n",
      "        print(testId,'No friends :O')"
     ],
     "language": "python",
     "metadata": {},
     "outputs": [],
     "prompt_number": 24
    },
    {
     "cell_type": "code",
     "collapsed": false,
     "input": [
      "getLocationByFriendsLocations(wordsCount,6)"
     ],
     "language": "python",
     "metadata": {},
     "outputs": [
      {
       "output_type": "stream",
       "stream": "stdout",
       "text": [
        "houston tx\n",
        "6"
       ]
      },
      {
       "output_type": "stream",
       "stream": "stdout",
       "text": [
        " SUCCESED: -95.4021585102112 29.675779 <<TEST - FRIENDS>>: -95.3698028 29.7604267\n"
       ]
      }
     ],
     "prompt_number": 25
    },
    {
     "cell_type": "markdown",
     "metadata": {},
     "source": [
      "Het is succesvol dus nu wil ik het voor 10 andere gebruikers proberen. Ik doe niet alle test data waarbij de locatie nog niet bepaalde is omdat twitter API een limit heeft van hoeveel request we opsturen"
     ]
    },
    {
     "cell_type": "heading",
     "level": 3,
     "metadata": {},
     "source": [
      "10 meer locatie bepalen adhv friends"
     ]
    },
    {
     "cell_type": "code",
     "collapsed": false,
     "input": [
      "userIdList = [[5, 2540752582],\n",
      "    [7, 1541125507],\n",
      "    [8, 2261140970],\n",
      "    [14, 318753478],\n",
      "    [15, 403794270],\n",
      "    [16, 2685291049],\n",
      "    [18, 88568934],\n",
      "    [19, 65086276],\n",
      "    [21, 1663193906]\n",
      "    ]"
     ],
     "language": "python",
     "metadata": {},
     "outputs": [],
     "prompt_number": 26
    },
    {
     "cell_type": "code",
     "collapsed": false,
     "input": [
      "userLocationArray = []\n",
      "# get friends location desciptions\n",
      "for userId in userIdList:\n",
      "    userLocationArray.append(getFriendsLocationDescription(userId[1]))"
     ],
     "language": "python",
     "metadata": {},
     "outputs": [
      {
       "output_type": "stream",
       "stream": "stdout",
       "text": [
        "2540752582\n",
        "1541125507"
       ]
      },
      {
       "output_type": "stream",
       "stream": "stdout",
       "text": [
        "\n",
        "2261140970"
       ]
      },
      {
       "output_type": "stream",
       "stream": "stdout",
       "text": [
        "\n",
        "318753478"
       ]
      },
      {
       "output_type": "stream",
       "stream": "stdout",
       "text": [
        "\n",
        "403794270"
       ]
      },
      {
       "output_type": "stream",
       "stream": "stdout",
       "text": [
        "\n",
        "2685291049"
       ]
      },
      {
       "output_type": "stream",
       "stream": "stdout",
       "text": [
        "\n",
        "88568934"
       ]
      },
      {
       "output_type": "stream",
       "stream": "stdout",
       "text": [
        "\n",
        "65086276"
       ]
      },
      {
       "output_type": "stream",
       "stream": "stdout",
       "text": [
        "\n",
        "1663193906"
       ]
      },
      {
       "output_type": "stream",
       "stream": "stdout",
       "text": [
        "\n"
       ]
      }
     ],
     "prompt_number": 27
    },
    {
     "cell_type": "code",
     "collapsed": false,
     "input": [
      "i = 0\n",
      "for userLocation in userLocationArray:\n",
      "    getLocationByFriendsLocations(countLocationWords(userLocation),userIdList[i][0])\n",
      "    print('--------------------')\n",
      "    i += 1"
     ],
     "language": "python",
     "metadata": {},
     "outputs": [
      {
       "output_type": "stream",
       "stream": "stdout",
       "text": [
        "ukraine : 8.7 %\n",
        "\u0431\u0435\u043b\u0430\u0440\u0443\u0441\u044c : 8.7 %\n",
        "ukraine \u0431\u0435\u043b\u0430\u0440\u0443\u0441\u044c\n",
        "5"
       ]
      },
      {
       "output_type": "stream",
       "stream": "stdout",
       "text": [
        " SUCCESED: 30.5037868 50.4467311 <<TEST - FRIENDS>>: 30.5037868 50.4467311\n",
        "--------------------\n",
        "south : 5.48 %\n",
        "africa : 5.48 %\n",
        "south africa\n",
        "7"
       ]
      },
      {
       "output_type": "stream",
       "stream": "stdout",
       "text": [
        " FAILED: -74.21793260000001 43.2994285 <<TEST - FRIENDS>> 22.937506 -30.559482\n",
        "--------------------\n",
        "8 No friends :O\n",
        "--------------------\n",
        "14 No friends :O\n",
        "--------------------\n",
        "houston : 22.35 %\n",
        "tx : 14.12 %\n",
        "houston tx\n",
        "15"
       ]
      },
      {
       "output_type": "stream",
       "stream": "stdout",
       "text": [
        " SUCCESED: -95.501984 29.715444 <<TEST - FRIENDS>>: -95.3698028 29.7604267\n",
        "--------------------\n",
        "russia : 9.26 %\n",
        "\u043c\u043e\u0441\u043a\u0432\u0430 : 7.41 %\n",
        "russia \u043c\u043e\u0441\u043a\u0432\u0430\n",
        "16"
       ]
      },
      {
       "output_type": "stream",
       "stream": "stdout",
       "text": [
        " SUCCESED: 37.6173 55.755826 <<TEST - FRIENDS>>: 37.6173 55.755826\n",
        "--------------------\n",
        "jamaica : 24.69 %\n",
        "kingston : 7.41 %\n",
        "jamaica kingston\n",
        "18"
       ]
      },
      {
       "output_type": "stream",
       "stream": "stdout",
       "text": [
        " FAILED: -75.524368 39.158168 <<TEST - FRIENDS>> -76.8 17.983333\n",
        "--------------------\n",
        "jersey : 16.22 %\n",
        "new : 16.22 %\n",
        "jersey new\n",
        "19"
       ]
      },
      {
       "output_type": "stream",
       "stream": "stdout",
       "text": [
        " SUCCESED: -74.741221 40.280965 <<TEST - FRIENDS>>: -74.4056612 40.0583238\n",
        "--------------------\n",
        "viseu : 71.43 %\n",
        "portugal : 10.71 %\n",
        "viseu portugal\n",
        "21"
       ]
      },
      {
       "output_type": "stream",
       "stream": "stdout",
       "text": [
        " SUCCESED: -7.9124712 40.6565861 <<TEST - FRIENDS>>: -7.9124712 40.6565861\n",
        "--------------------\n"
       ]
      }
     ],
     "prompt_number": 28
    },
    {
     "cell_type": "markdown",
     "metadata": {},
     "source": [
      "<p>Het valt op dat nu veel locatie niet overeen komen met ik heb ingevult bij de test data. Maar omdat ik veel locatie global heb ingevult dus op niveau van land van plaats een bepaalde stad of provincie kloppen de locatie bepalen niet.</p>\n",
      "<p>Daarom wil ik nu de locatie opnieuw bekijken en bepalen of de locatie van de vrienden toch beter is</p>"
     ]
    },
    {
     "cell_type": "markdown",
     "metadata": {},
     "source": [
      "<table>\n",
      "    <tr>\n",
      "        <th>Index Id</th>\n",
      "        <th>Amount Friends</th>\n",
      "        <th>Amount Following</th>\n",
      "        <th>Avg. Top 2 location field</th>\n",
      "        <th>Status</th>\n",
      "        <th>Friend loc. <> test loc.</th>\n",
      "    </tr>\n",
      "    <tr>\n",
      "        <td>5</td>\n",
      "        <td>38</td>\n",
      "        <td>53</td>\n",
      "        <td>8.7%</td>\n",
      "        <td>SUCCES</td>\n",
      "        <td>SAME</td>\n",
      "    </tr>\n",
      "    <tr>\n",
      "        <td>7</td>\n",
      "        <td>1733</td>\n",
      "        <td>2775</td>\n",
      "        <td>5.48%</td>\n",
      "        <td>FAILED</td>\n",
      "        <td>SAME</td>\n",
      "    </tr>\n",
      "    <tr>\n",
      "        <td>8</td>\n",
      "        <td>2</td>\n",
      "        <td>98</td>\n",
      "        <td>50%</td>\n",
      "        <td>FAILED</td>\n",
      "        <td>DOWN</td>\n",
      "    </tr>\n",
      "    <tr>\n",
      "        <td>14</td>\n",
      "        <td>0</td>\n",
      "        <td>226</td>\n",
      "        <td>-</td>\n",
      "        <td>NONE</td>\n",
      "        <td>DOWN</td>\n",
      "    </tr>\n",
      "    <tr>\n",
      "        <td>15</td>\n",
      "        <td>2165</td>\n",
      "        <td>3029</td>\n",
      "        <td>18%</td>\n",
      "        <td>SUCCES</td>\n",
      "        <td>SAME</td>\n",
      "    </tr>\n",
      "    <tr>\n",
      "        <td>16</td>\n",
      "        <td>990</td>\n",
      "        <td>959</td>\n",
      "        <td>8%</td>\n",
      "        <td>SUCCES</td>\n",
      "        <td>UP</td>\n",
      "    </tr>\n",
      "    <tr>\n",
      "        <td>18</td>\n",
      "        <td>855</td>\n",
      "        <td>1184</td>\n",
      "        <td>16%</td>\n",
      "        <td>FAILED</td>\n",
      "        <td>SAME</td>\n",
      "    </tr>\n",
      "    <tr>\n",
      "        <td>19</td>\n",
      "        <td>182</td>\n",
      "        <td>607</td>\n",
      "        <td>15%</td>\n",
      "        <td>SUCCES</td>\n",
      "        <td>SAME</td>\n",
      "    </tr>\n",
      "    <tr>\n",
      "        <td>21</td>\n",
      "        <td>101</td>\n",
      "        <td>447</td>\n",
      "        <td>41%</td>\n",
      "        <td>SUCCES</td>\n",
      "        <td>UP</td>\n",
      "    </tr>\n",
      "</table>\n",
      "<p>Date check: 15-04-2015</p>"
     ]
    },
    {
     "cell_type": "markdown",
     "metadata": {},
     "source": [
      "Dit geeft mij nog geen duidelijk beeld dus ga ik er nog meer rijen aantoevoegen"
     ]
    },
    {
     "cell_type": "heading",
     "level": 3,
     "metadata": {},
     "source": [
      "All test rows check friend location"
     ]
    },
    {
     "cell_type": "code",
     "collapsed": false,
     "input": [
      "userIdList2 = [[23, 2354960106],\n",
      "[27, 281699791],\n",
      "[28, 2523814903],\n",
      "[31, 361351971],\n",
      "[32, 2706452066],\n",
      "[33, 1028175007],\n",
      "[34, 2917032234],\n",
      "[38, 2397735163],\n",
      "[39, 2873637485],\n",
      "[40, 353937547],\n",
      "[41, 25368824],\n",
      "[42, 474184091],\n",
      "[43, 274579593],\n",
      "[45, 888673332],\n",
      "[46, 2591935236]]\n"
     ],
     "language": "python",
     "metadata": {},
     "outputs": [],
     "prompt_number": 29
    },
    {
     "cell_type": "code",
     "collapsed": false,
     "input": [
      "userIdListTotaal =  [[5, 2540752582],\n",
      "    [7, 1541125507],\n",
      "    [8, 2261140970],\n",
      "    [14, 318753478],\n",
      "    [15, 403794270],\n",
      "    [16, 2685291049],\n",
      "    [18, 88568934],\n",
      "    [19, 65086276],\n",
      "    [21, 1663193906],\n",
      "    #[22, 3115056857]\n",
      "    [23, 2354960106],\n",
      "    [27, 281699791],\n",
      "    [28, 2523814903],\n",
      "    [31, 361351971],\n",
      "    [32, 2706452066],\n",
      "    [33, 1028175007],\n",
      "    [34, 2917032234],\n",
      "    [38, 2397735163],\n",
      "    [39, 2873637485],\n",
      "    [40, 353937547],\n",
      "    [41, 25368824],\n",
      "    [42, 474184091],\n",
      "    [43, 274579593],\n",
      "    [45, 888673332],\n",
      "    [46, 2591935236]\n",
      "]"
     ],
     "language": "python",
     "metadata": {},
     "outputs": [],
     "prompt_number": 30
    },
    {
     "cell_type": "code",
     "collapsed": false,
     "input": [
      "# get friends location desciptions\n",
      "for userId in userIdList2:\n",
      "    userLocationArray.append(getFriendsLocationDescription(userId[1]))"
     ],
     "language": "python",
     "metadata": {},
     "outputs": [
      {
       "output_type": "stream",
       "stream": "stdout",
       "text": [
        "2354960106\n",
        "281699791"
       ]
      },
      {
       "output_type": "stream",
       "stream": "stdout",
       "text": [
        "\n",
        "2523814903"
       ]
      },
      {
       "output_type": "stream",
       "stream": "stdout",
       "text": [
        "\n",
        "361351971"
       ]
      },
      {
       "output_type": "stream",
       "stream": "stdout",
       "text": [
        "\n",
        "2706452066"
       ]
      },
      {
       "output_type": "stream",
       "stream": "stdout",
       "text": [
        "\n",
        "1028175007"
       ]
      },
      {
       "output_type": "stream",
       "stream": "stdout",
       "text": [
        "\n"
       ]
      },
      {
       "ename": "TweepError",
       "evalue": "Twitter error response: status code = 429",
       "output_type": "pyerr",
       "traceback": [
        "\u001b[1;31m---------------------------------------------------------------------------\u001b[0m\n\u001b[1;31mTweepError\u001b[0m                                Traceback (most recent call last)",
        "\u001b[1;32m<ipython-input-31-f903a8e2b46e>\u001b[0m in \u001b[0;36m<module>\u001b[1;34m()\u001b[0m\n\u001b[0;32m      1\u001b[0m \u001b[1;31m# get friends location desciptions\u001b[0m\u001b[1;33m\u001b[0m\u001b[1;33m\u001b[0m\u001b[0m\n\u001b[0;32m      2\u001b[0m \u001b[1;32mfor\u001b[0m \u001b[0muserId\u001b[0m \u001b[1;32min\u001b[0m \u001b[0muserIdList2\u001b[0m\u001b[1;33m:\u001b[0m\u001b[1;33m\u001b[0m\u001b[0m\n\u001b[1;32m----> 3\u001b[1;33m     \u001b[0muserLocationArray\u001b[0m\u001b[1;33m.\u001b[0m\u001b[0mappend\u001b[0m\u001b[1;33m(\u001b[0m\u001b[0mgetFriendsLocationDescription\u001b[0m\u001b[1;33m(\u001b[0m\u001b[0muserId\u001b[0m\u001b[1;33m[\u001b[0m\u001b[1;36m1\u001b[0m\u001b[1;33m]\u001b[0m\u001b[1;33m)\u001b[0m\u001b[1;33m)\u001b[0m\u001b[1;33m\u001b[0m\u001b[0m\n\u001b[0m",
        "\u001b[1;32m<ipython-input-20-4b2a5125651b>\u001b[0m in \u001b[0;36mgetFriendsLocationDescription\u001b[1;34m(twitterUserId)\u001b[0m\n\u001b[0;32m      8\u001b[0m     \u001b[1;31m# API max 15 calls in 15 min\u001b[0m\u001b[1;33m\u001b[0m\u001b[1;33m\u001b[0m\u001b[0m\n\u001b[0;32m      9\u001b[0m     \u001b[1;31m# https://dev.twitter.com/rest/reference/get/friends/ids\u001b[0m\u001b[1;33m\u001b[0m\u001b[1;33m\u001b[0m\u001b[0m\n\u001b[1;32m---> 10\u001b[1;33m     \u001b[0mtwitterFriendIds\u001b[0m \u001b[1;33m=\u001b[0m \u001b[0mapi\u001b[0m\u001b[1;33m.\u001b[0m\u001b[0mfriends_ids\u001b[0m\u001b[1;33m(\u001b[0m\u001b[0mtwitterUserId\u001b[0m\u001b[1;33m)\u001b[0m\u001b[1;33m\u001b[0m\u001b[0m\n\u001b[0m\u001b[0;32m     11\u001b[0m     \u001b[1;32mfor\u001b[0m \u001b[0mfriendId\u001b[0m \u001b[1;32min\u001b[0m \u001b[0mtwitterFriendIds\u001b[0m\u001b[1;33m:\u001b[0m\u001b[1;33m\u001b[0m\u001b[0m\n\u001b[0;32m     12\u001b[0m         \u001b[0mi\u001b[0m \u001b[1;33m+=\u001b[0m \u001b[1;36m1\u001b[0m\u001b[1;33m\u001b[0m\u001b[0m\n",
        "\u001b[1;32mC:\\Users\\Stijn\\Anaconda3\\lib\\site-packages\\tweepy\\binder.py\u001b[0m in \u001b[0;36m_call\u001b[1;34m(*args, **kwargs)\u001b[0m\n\u001b[0;32m    237\u001b[0m             \u001b[1;32mreturn\u001b[0m \u001b[0mmethod\u001b[0m\u001b[1;33m\u001b[0m\u001b[0m\n\u001b[0;32m    238\u001b[0m         \u001b[1;32melse\u001b[0m\u001b[1;33m:\u001b[0m\u001b[1;33m\u001b[0m\u001b[0m\n\u001b[1;32m--> 239\u001b[1;33m             \u001b[1;32mreturn\u001b[0m \u001b[0mmethod\u001b[0m\u001b[1;33m.\u001b[0m\u001b[0mexecute\u001b[0m\u001b[1;33m(\u001b[0m\u001b[1;33m)\u001b[0m\u001b[1;33m\u001b[0m\u001b[0m\n\u001b[0m\u001b[0;32m    240\u001b[0m \u001b[1;33m\u001b[0m\u001b[0m\n\u001b[0;32m    241\u001b[0m     \u001b[1;31m# Set pagination mode\u001b[0m\u001b[1;33m\u001b[0m\u001b[1;33m\u001b[0m\u001b[0m\n",
        "\u001b[1;32mC:\\Users\\Stijn\\Anaconda3\\lib\\site-packages\\tweepy\\binder.py\u001b[0m in \u001b[0;36mexecute\u001b[1;34m(self)\u001b[0m\n\u001b[0;32m    221\u001b[0m                 \u001b[1;32mexcept\u001b[0m \u001b[0mException\u001b[0m\u001b[1;33m:\u001b[0m\u001b[1;33m\u001b[0m\u001b[0m\n\u001b[0;32m    222\u001b[0m                     \u001b[0merror_msg\u001b[0m \u001b[1;33m=\u001b[0m \u001b[1;34m\"Twitter error response: status code = %s\"\u001b[0m \u001b[1;33m%\u001b[0m \u001b[0mresp\u001b[0m\u001b[1;33m.\u001b[0m\u001b[0mstatus_code\u001b[0m\u001b[1;33m\u001b[0m\u001b[0m\n\u001b[1;32m--> 223\u001b[1;33m                 \u001b[1;32mraise\u001b[0m \u001b[0mTweepError\u001b[0m\u001b[1;33m(\u001b[0m\u001b[0merror_msg\u001b[0m\u001b[1;33m,\u001b[0m \u001b[0mresp\u001b[0m\u001b[1;33m)\u001b[0m\u001b[1;33m\u001b[0m\u001b[0m\n\u001b[0m\u001b[0;32m    224\u001b[0m \u001b[1;33m\u001b[0m\u001b[0m\n\u001b[0;32m    225\u001b[0m             \u001b[1;31m# Parse the response payload\u001b[0m\u001b[1;33m\u001b[0m\u001b[1;33m\u001b[0m\u001b[0m\n",
        "\u001b[1;31mTweepError\u001b[0m: Twitter error response: status code = 429"
       ]
      }
     ],
     "prompt_number": 31
    },
    {
     "cell_type": "markdown",
     "metadata": {},
     "source": [
      "Deze error is ontstaat bij het opnieuw uitvoeren van de code. Je mag maar maximal 15 keer de vrienden opvragen van een twitteraar per 15 min. <br> Ik heb de code al eens eerder helemaal succesvol uitgevoerd en laat deze error staan. "
     ]
    },
    {
     "cell_type": "code",
     "collapsed": false,
     "input": [
      "i = 0\n",
      "for userLocation in userLocationArray:\n",
      "    getLocationByFriendsLocations(countLocationWords(userLocation),userIdListTotaal[i][0])\n",
      "    print('--------------------')\n",
      "    i += 1"
     ],
     "language": "python",
     "metadata": {},
     "outputs": []
    },
    {
     "cell_type": "markdown",
     "metadata": {},
     "source": [
      "<table>\n",
      "    <tr>\n",
      "        <th>Index Id</th>\n",
      "        <th>Amount Friends</th>\n",
      "        <th>Amount Following</th>\n",
      "        <th>Avg. Top 2 location field</th>\n",
      "        <th>Status</th>\n",
      "        <th>Friend loc. <> test loc.</th>\n",
      "    </tr>\n",
      "    <tr>\n",
      "        <td>5</td>\n",
      "        <td>38</td>\n",
      "        <td>53</td>\n",
      "        <td>8.7%</td>\n",
      "        <td>FAIL</td>\n",
      "        <td>SAME</td>\n",
      "    </tr>\n",
      "    <tr>\n",
      "        <td>7</td>\n",
      "        <td>1733</td>\n",
      "        <td>2775</td>\n",
      "        <td>5.48%</td>\n",
      "        <td>FAIL</td>\n",
      "        <td>SAME</td>\n",
      "    </tr>\n",
      "    <tr>\n",
      "        <td>8</td>\n",
      "        <td>2</td>\n",
      "        <td>98</td>\n",
      "        <td>50%</td>\n",
      "        <td>FAIL</td>\n",
      "        <td>DOWN</td>\n",
      "    </tr>\n",
      "    <tr>\n",
      "        <td>14</td>\n",
      "        <td>0</td>\n",
      "        <td>226</td>\n",
      "        <td>-</td>\n",
      "        <td>NONE</td>\n",
      "        <td>SAME</td>\n",
      "    </tr>\n",
      "    <tr>\n",
      "        <td>15</td>\n",
      "        <td>2165</td>\n",
      "        <td>3029</td>\n",
      "        <td>18%</td>\n",
      "        <td>SUCCES</td>\n",
      "        <td>SAME</td>\n",
      "    </tr>\n",
      "    <tr>\n",
      "        <td>16</td>\n",
      "        <td>990</td>\n",
      "        <td>959</td>\n",
      "        <td>8%</td>\n",
      "        <td>SUCCES</td>\n",
      "        <td>UP</td>\n",
      "    </tr>\n",
      "    <tr>\n",
      "        <td>18</td>\n",
      "        <td>855</td>\n",
      "        <td>1184</td>\n",
      "        <td>16%</td>\n",
      "        <td>FAIL</td>\n",
      "        <td>SAME</td>\n",
      "    </tr>\n",
      "    <tr>\n",
      "        <td>19</td>\n",
      "        <td>182</td>\n",
      "        <td>607</td>\n",
      "        <td>15%</td>\n",
      "        <td>SUCCES</td>\n",
      "        <td>SAME</td>\n",
      "    </tr>\n",
      "    <tr>\n",
      "        <td>21</td>\n",
      "        <td>101</td>\n",
      "        <td>447</td>\n",
      "        <td>41%</td>\n",
      "        <td>FAIL</td>\n",
      "        <td>UP</td>\n",
      "    </tr>\n",
      "    <tr>\n",
      "        <td>23</td>\n",
      "        <td>163</td>\n",
      "        <td>64</td>\n",
      "        <td>17%</td>\n",
      "        <td>SUCCES</td>\n",
      "        <td>SAME</td>\n",
      "    </tr>\n",
      "    <tr>\n",
      "        <td>27</td>\n",
      "        <td>524</td>\n",
      "        <td>612</td>\n",
      "        <td>13%</td>\n",
      "        <td>FAIL</td>\n",
      "        <td>UP</td>\n",
      "    </tr>\n",
      "    <tr>\n",
      "        <td>28</td>\n",
      "        <td>135</td>\n",
      "        <td>136</td>\n",
      "        <td>12%</td>\n",
      "        <td>SUCCES</td>\n",
      "        <td>SAME</td>\n",
      "    </tr>\n",
      "    <tr>\n",
      "        <td>31</td>\n",
      "        <td>368</td>\n",
      "        <td>538</td>\n",
      "        <td>5%</td>\n",
      "        <td>FAIL</td>\n",
      "        <td>DOWN</td>\n",
      "    </tr>\n",
      "    <tr>\n",
      "        <td>32</td>\n",
      "        <td>3714</td>\n",
      "        <td>3383</td>\n",
      "        <td>19%</td>\n",
      "        <td>FAIL</td>\n",
      "        <td>SAME</td>\n",
      "    </tr>\n",
      "    <tr>\n",
      "        <td>33</td>\n",
      "        <td>94</td>\n",
      "        <td>277</td>\n",
      "        <td>19%</td>\n",
      "        <td>SUCCES</td>\n",
      "        <td>SAME</td>\n",
      "    </tr>\n",
      "    <tr>\n",
      "        <td>34</td>\n",
      "        <td>792</td>\n",
      "        <td>302</td>\n",
      "        <td>7%</td>\n",
      "        <td>NONE</td>\n",
      "        <td>UP</td>\n",
      "    </tr>\n",
      "    <tr>\n",
      "        <td>38</td>\n",
      "        <td>40</td>\n",
      "        <td>58</td>\n",
      "        <td>33%</td>\n",
      "        <td>FAIL</td>\n",
      "        <td>DOWN</td>\n",
      "    </tr>\n",
      "    <tr>\n",
      "        <td>39</td>\n",
      "        <td>36</td>\n",
      "        <td>5</td>\n",
      "        <td>13%</td>\n",
      "        <td>FAIL</td>\n",
      "        <td>SAME</td>\n",
      "    </tr>\n",
      "    <tr>\n",
      "        <td>40</td>\n",
      "        <td>232</td>\n",
      "        <td>219</td>\n",
      "        <td>9%</td>\n",
      "        <td>FAIL</td>\n",
      "        <td>DOWN</td>\n",
      "    </tr>\n",
      "    <tr>\n",
      "        <td>41</td>\n",
      "        <td>861</td>\n",
      "        <td>2426</td>\n",
      "        <td>17%</td>\n",
      "        <td>FAIL</td>\n",
      "        <td>UP</td>\n",
      "    </tr>\n",
      "    <tr>\n",
      "        <td>42</td>\n",
      "        <td>3594</td>\n",
      "        <td>3544</td>\n",
      "        <td>10%</td>\n",
      "        <td>FAIL</td>\n",
      "        <td>DOWN</td>\n",
      "    </tr>\n",
      "    <tr>\n",
      "        <td>43</td>\n",
      "        <td>660</td>\n",
      "        <td>192</td>\n",
      "        <td>14%</td>\n",
      "        <td>SUCCES</td>\n",
      "        <td>UP</td>\n",
      "    </tr>\n",
      "    <tr>\n",
      "        <td>45</td>\n",
      "        <td>2157</td>\n",
      "        <td>6147</td>\n",
      "        <td>8%</td>\n",
      "        <td>FAIL</td>\n",
      "        <td>DOWN</td>\n",
      "    </tr>\n",
      "    <tr>\n",
      "        <td>46</td>\n",
      "        <td>12697</td>\n",
      "        <td>9130</td>\n",
      "        <td>7%</td>\n",
      "        <td>SUCCES</td>\n",
      "        <td>SAME</td>\n",
      "    </tr>\n",
      "</table>\n",
      "<p>Date check: 15-04-2015</p>"
     ]
    },
    {
     "cell_type": "markdown",
     "metadata": {},
     "source": [
      "Ik kan geen echte lijn trekken wanneer we de vrienden wel of niet moeten gebruiken om de locatie te bepalen dus wil ik de gegeven anders weergeven dan in een tabel."
     ]
    },
    {
     "cell_type": "heading",
     "level": 3,
     "metadata": {},
     "source": [
      "Conclusie trekken uit locatie vrienden"
     ]
    },
    {
     "cell_type": "code",
     "collapsed": false,
     "input": [
      "OutCome = [[5,38,53,9,'FAIL','SAME'],\n",
      "[7,1733,2775,5,'FAIL','SAME'],\n",
      "[8,2,98,50,'FAIL','DOWN'],\n",
      "[14,0,226,0,'NONE','SAME'],\n",
      "[15,2165,3029,18,'SUCCES','SAME'],\n",
      "[16,990,959,8,'SUCCES','UP'],\n",
      "[18,855,1184,16,'FAIL','SAME'],\n",
      "[19,182,607,15,'SUCCES','SAME'],\n",
      "[21,101,447,41,'FAIL','UP'],\n",
      "[23,163,64,17,'SUCCES','SAME'],\n",
      "[27,524,612,13,'FAIL','UP'],\n",
      "[28,135,136,12,'SUCCES','SAME'],\n",
      "[31,368,538,5,'FAIL','DOWN'],\n",
      "[32,3714,3383,19,'FAIL','SAME'],\n",
      "[33,94,277,19,'SUCCES','SAME'],\n",
      "[34,792,302,7,'NONE','UP'],\n",
      "[38,40,58,33,'FAIL','DOWN'],\n",
      "[39,36,5,13,'FAIL','SAME'],\n",
      "[40,232,219,9,'FAIL','DOWN'],\n",
      "[41,861,2426,17,'FAIL','UP'],\n",
      "[42,3594,3544,10,'FAIL','DOWN'],\n",
      "[43,660,192,14,'SUCCES','UP'],\n",
      "[45,2157,6147,8,'FAIL','DOWN'],\n",
      "[46,12697,9130,7,'SUCCES','SAME']]"
     ],
     "language": "python",
     "metadata": {},
     "outputs": [],
     "prompt_number": 32
    },
    {
     "cell_type": "code",
     "collapsed": false,
     "input": [
      "same = 0\n",
      "up = 0\n",
      "down = 0\n",
      "avgSamePrec = 0\n",
      "avgUpPrec = 0\n",
      "avgDownPrec = 0\n",
      "avgSameFriends = 0\n",
      "avgUpFriends = 0\n",
      "avgDownFriends = 0\n",
      "for row in OutCome:\n",
      "    if row[5] == 'UP':\n",
      "        up += 1\n",
      "        avgUpPrec += row[3]\n",
      "        avgUpFriends += row[1]\n",
      "    elif row[5] == 'SAME':\n",
      "        same += 1\n",
      "        avgSamePrec += row[3]\n",
      "        avgSameFriends += row[1]\n",
      "    elif row[5] == 'DOWN':\n",
      "        down += 1\n",
      "        avgDownPrec += row[3]\n",
      "        avgDownFriends += row[1]\n",
      "\n",
      "print('Amount of status')\n",
      "print('UP:', round((up/len(OutCome))*100,2),'%')\n",
      "print('SAME:', round((same/len(OutCome))*100,2),'%')\n",
      "print('DOWN:', round((down/len(OutCome))*100,2),'%')\n",
      "\n",
      "print('\\nAVG. % search words are find by friends')\n",
      "print('UP:', round((avgUpPrec/up),2),'%')\n",
      "print('SAME:', round((avgSamePrec/same),2),'%')\n",
      "print('DOWN:', round((avgDownPrec/down),2),'%')\n",
      "\n",
      "print('\\nAVG. Friends')\n",
      "print('UP:', round((avgUpFriends/up)))\n",
      "print('SAME:', round((avgSameFriends/same)))\n",
      "print('DOWN:', round((avgDownFriends/down)))"
     ],
     "language": "python",
     "metadata": {},
     "outputs": [
      {
       "output_type": "stream",
       "stream": "stdout",
       "text": [
        "Amount of status\n",
        "UP: 25.0 %\n",
        "SAME: 50.0 %\n",
        "DOWN: 25.0 %\n",
        "\n",
        "AVG. % search words are find by friends\n",
        "UP: 16.67 %\n",
        "SAME: 12.5 %\n",
        "DOWN: 19.17 %\n",
        "\n",
        "AVG. Friends\n",
        "UP: 655\n",
        "SAME: 1818\n",
        "DOWN: 1066\n"
       ]
      }
     ],
     "prompt_number": 33
    },
    {
     "cell_type": "markdown",
     "metadata": {},
     "source": [
      "Aan de hand van deze gegevens kan ik nog steeds niet echt een conclusie trekken of ik gebruik moet maken van de twitter friends. "
     ]
    },
    {
     "cell_type": "heading",
     "level": 2,
     "metadata": {},
     "source": [
      "Conclusie"
     ]
    },
    {
     "cell_type": "markdown",
     "metadata": {},
     "source": [
      "De pipeline die ik heb gemaakt tijdens deze labjournaal om een locatie te bepalen is nog niet goed genoeg. Het is wel een mooi begin. <br><br>\n",
      "Daarnaast heb ik nog een goede conclusie kunnen trekken wat te doen met de locatie van vrienden. Daar wil ik de volgende labjournaal dieper op in gaan. Om vervolgens ook mijn locatie pipeline te verbeteren."
     ]
    }
   ],
   "metadata": {}
  }
 ]
}