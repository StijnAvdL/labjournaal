{
 "metadata": {
  "name": "",
  "signature": "sha256:cc7c802c3c51e38a1d58a5f58c68d1aadbbfa088ab4a416bd53c9c6cd9837263"
 },
 "nbformat": 3,
 "nbformat_minor": 0,
 "worksheets": [
  {
   "cells": [
    {
     "cell_type": "heading",
     "level": 1,
     "metadata": {},
     "source": [
      "Wat is de signaal-ruisverhouding van de muzieknummers?"
     ]
    },
    {
     "cell_type": "markdown",
     "metadata": {},
     "source": [
      "Datum: 12-06-2015<br>\n",
      "URL: http://nbviewer.ipython.org/github/StijnAvdL/labjournaal/blob/master/06-12%20Signaal-ruisverhouding.ipynb<br>\n",
      "Database: MongoDB #NP"
     ]
    },
    {
     "cell_type": "markdown",
     "metadata": {},
     "source": [
      "We willen de signaal-ruisverhouding van muzieknummers in onze database achterhalen. De signala-ruisverhouding geeft van een signaal terug hoever de alle signaal punten van het gemiddeld af zitten. Een hoge signaal-ruisverhouding betekend dat een signaal verder van het gemiddeld afwijkt en dus een sterker ontwikkelding heeft. Deze nummers zijn het meest interresant om te gebruiken voor dit onderzoek. \n",
      "\n",
      "http://en.wikipedia.org/wiki/Signal-to-noise_ratio"
     ]
    },
    {
     "cell_type": "code",
     "collapsed": false,
     "input": [
      "%pylab inline\n",
      "\n",
      "import numpy as np\n",
      "import pymongo\n",
      "import matplotlib.pyplot as plt\n",
      "import scipy.stats as st"
     ],
     "language": "python",
     "metadata": {},
     "outputs": [
      {
       "output_type": "stream",
       "stream": "stdout",
       "text": [
        "Populating the interactive namespace from numpy and matplotlib\n"
       ]
      }
     ],
     "prompt_number": 1
    },
    {
     "cell_type": "code",
     "collapsed": false,
     "input": [
      "days = [[104,111],[126,132],[137,139]] # DE UITIENDELIJK DAGEN DIE GEBRUIKT WORDEN!!!!!!\n",
      "\n",
      "# Connection to Mongo DB\n",
      "conn = pymongo.MongoClient('localhost', 27017)\n",
      "db = conn['mozart']\n",
      "\n",
      "print('connected to database')"
     ],
     "language": "python",
     "metadata": {},
     "outputs": [
      {
       "output_type": "stream",
       "stream": "stdout",
       "text": [
        "connected to database\n"
       ]
      }
     ],
     "prompt_number": 2
    },
    {
     "cell_type": "code",
     "collapsed": false,
     "input": [
      "query = db.npCountryTopCC.find({'cc': 'US'})\n",
      "usData = list(query)"
     ],
     "language": "python",
     "metadata": {},
     "outputs": [],
     "prompt_number": 3
    },
    {
     "cell_type": "code",
     "collapsed": false,
     "input": [
      "def getCountryPlays(data, days):\n",
      "    arrayPlays = [];\n",
      "    for day in days:\n",
      "        dayIndexes = np.arange(day[0], day[1])\n",
      "        for dayIndex in dayIndexes:\n",
      "            arrayPlays.append(data['value']['counts'][dayIndex])\n",
      "    return arrayPlays"
     ],
     "language": "python",
     "metadata": {},
     "outputs": [],
     "prompt_number": 4
    },
    {
     "cell_type": "code",
     "collapsed": false,
     "input": [
      "usFirstSong = getCountryPlays(usData[0],days)\n",
      "plot(usFirstSong)"
     ],
     "language": "python",
     "metadata": {},
     "outputs": [
      {
       "metadata": {},
       "output_type": "pyout",
       "prompt_number": 5,
       "text": [
        "[<matplotlib.lines.Line2D at 0x794dc18>]"
       ]
      },
      {
       "metadata": {},
       "output_type": "display_data",
       "png": "[encoded data removed]",
       "text": [
        "<matplotlib.figure.Figure at 0x78f80f0>"
       ]
      }
     ],
     "prompt_number": 5
    },
    {
     "cell_type": "markdown",
     "metadata": {},
     "source": [
      "Dit is een muzieknummer populairiteit <b>met ruis</b>."
     ]
    },
    {
     "cell_type": "code",
     "collapsed": false,
     "input": [
      "xdata=np.arange(0,len(usFirstSong), 1)\n",
      "ydata = usFirstSong\n",
      "regression = np.polyfit(xdata, ydata, 1)\n",
      "regression"
     ],
     "language": "python",
     "metadata": {},
     "outputs": [
      {
       "metadata": {},
       "output_type": "pyout",
       "prompt_number": 6,
       "text": [
        "array([ 2.00357143,  6.30833333])"
       ]
      }
     ],
     "prompt_number": 6
    },
    {
     "cell_type": "markdown",
     "metadata": {},
     "source": [
      "<b>Regression</b> variable heeft 2 variable in zich die aan de hand van de muzieksignaal zijn bepaald. De eerste waarde is het met welke hoeveelheid de signaal per punt groeit. Het 2de cijfer is waar de signaal zonder ruis begint. Hieronder staat de plot van dit signaal"
     ]
    },
    {
     "cell_type": "code",
     "collapsed": false,
     "input": [
      "lineary=regression[1]+regression[0]*xdata\n",
      "plot(lineary)"
     ],
     "language": "python",
     "metadata": {},
     "outputs": [
      {
       "metadata": {},
       "output_type": "pyout",
       "prompt_number": 7,
       "text": [
        "[<matplotlib.lines.Line2D at 0x7e2fe48>]"
       ]
      },
      {
       "metadata": {},
       "output_type": "display_data",
       "png": "[encoded data removed]",
       "text": [
        "<matplotlib.figure.Figure at 0x799b470>"
       ]
      }
     ],
     "prompt_number": 7
    },
    {
     "cell_type": "markdown",
     "metadata": {},
     "source": [
      "Dit is een muzieknummer populairiteit <b>zonder ruis</b>."
     ]
    },
    {
     "cell_type": "code",
     "collapsed": false,
     "input": [
      "yError=abs(usFirstSong-lineary)\n",
      "yError"
     ],
     "language": "python",
     "metadata": {},
     "outputs": [
      {
       "metadata": {},
       "output_type": "pyout",
       "prompt_number": 8,
       "text": [
        "array([ 4.69166667,  8.68809524,  0.31547619,  3.31904762,  6.32261905,\n",
        "        9.32619048,  8.3297619 ,  3.66666667,  4.66309524,  6.65952381,\n",
        "        2.34404762,  0.34761905,  0.35119048,  0.3547619 ,  2.64166667])"
       ]
      }
     ],
     "prompt_number": 8
    },
    {
     "cell_type": "markdown",
     "metadata": {},
     "source": [
      "Deze array bevat de afstand van de muziek signaal tussen met en zonder ruis. Je kan bijvoorbeeld zien dat het 3de punt dicht bij elkaar zit. Als we dit plot is dit ook het geval."
     ]
    },
    {
     "cell_type": "code",
     "collapsed": false,
     "input": [
      "plot(lineary)\n",
      "plot(usFirstSong)"
     ],
     "language": "python",
     "metadata": {},
     "outputs": [
      {
       "metadata": {},
       "output_type": "pyout",
       "prompt_number": 9,
       "text": [
        "[<matplotlib.lines.Line2D at 0x7e46a58>]"
       ]
      },
      {
       "metadata": {},
       "output_type": "display_data",
       "png": "[encoded data removed]",
       "text": [
        "<matplotlib.figure.Figure at 0x7e465c0>"
       ]
      }
     ],
     "prompt_number": 9
    },
    {
     "cell_type": "markdown",
     "metadata": {},
     "source": [
      "Van de array met afstand tussen signal met en zonder ruis wordt de sigma gepakt. Waardan wordt het gemiddeld van de signaal met ruis gedeeld door dit getal. Dit heeft de signaal-ruisverhouding terug."
     ]
    },
    {
     "cell_type": "code",
     "collapsed": false,
     "input": [
      "stdnoise=std(yError)    \n",
      "signaltonoiseratio=mean(usFirstSong)/stdnoise\n",
      "signaltonoiseratio"
     ],
     "language": "python",
     "metadata": {},
     "outputs": [
      {
       "metadata": {},
       "output_type": "pyout",
       "prompt_number": 10,
       "text": [
        "6.6346865670388011"
       ]
      }
     ],
     "prompt_number": 10
    },
    {
     "cell_type": "markdown",
     "metadata": {},
     "source": [
      "Signaal ruis verhouding van deze zong is erg hoog met 6.6 en dit is positief omdat we hier ook op hadden gehoopt omdat deze muzieknummer een duidelijk positieve ontwikkeling laat zien."
     ]
    },
    {
     "cell_type": "code",
     "collapsed": false,
     "input": [
      "plot(lineary)\n",
      "plot(usFirstSong)\n",
      "plot([mean(usFirstSong)]*15)"
     ],
     "language": "python",
     "metadata": {},
     "outputs": [
      {
       "metadata": {},
       "output_type": "pyout",
       "prompt_number": 11,
       "text": [
        "[<matplotlib.lines.Line2D at 0x7f06978>]"
       ]
      },
      {
       "metadata": {},
       "output_type": "display_data",
       "png": "[encoded data removed]",
       "text": [
        "<matplotlib.figure.Figure at 0x7ea5400>"
       ]
      }
     ],
     "prompt_number": 11
    },
    {
     "cell_type": "markdown",
     "metadata": {},
     "source": [
      "Een fucntie die aan de hand van een muzieknummer populariteit signaal de signaal-ruisverhouding uitrekend."
     ]
    },
    {
     "cell_type": "code",
     "collapsed": false,
     "input": [
      "def getNoiseSignal(songData):\n",
      "    # create linaire line with noise\n",
      "    xdata=np.arange(0,len(songData), 1)\n",
      "    increment, startValue = np.polyfit(xdata, songData, 1)\n",
      "    lineary=startValue+(increment*xdata)\n",
      "    \n",
      "    #so what is the noise when we do a linear fit?\n",
      "    yError=abs(songData-lineary)\n",
      "    stdnoise=std(yError)    \n",
      "    signaltonoiseratio=mean(songData)/stdnoise\n",
      "    \n",
      "    return signaltonoiseratio"
     ],
     "language": "python",
     "metadata": {},
     "outputs": [],
     "prompt_number": 12
    },
    {
     "cell_type": "code",
     "collapsed": false,
     "input": [
      "getNoiseSignal(usFirstSong)"
     ],
     "language": "python",
     "metadata": {},
     "outputs": [
      {
       "metadata": {},
       "output_type": "pyout",
       "prompt_number": 13,
       "text": [
        "6.6346865670388011"
       ]
      }
     ],
     "prompt_number": 13
    },
    {
     "cell_type": "heading",
     "level": 2,
     "metadata": {},
     "source": [
      "Signaal-ruisverhouding van meerdere muzieknummer per land"
     ]
    },
    {
     "cell_type": "markdown",
     "metadata": {},
     "source": [
      "Nu we de signaal-ruisverhouding van een muzieknummer kunnen uitrekenen ben ik benieuwd hoe het bij meerdere muzieknummer zit in verschillend landen. \n",
      "\n",
      "Hierbij wil ik kijken of muzieknummers met meer gegevens een hogere signaal-ruisverhouding hebben in vergelijking met muzieknummer met minder gegevens. "
     ]
    },
    {
     "cell_type": "code",
     "collapsed": false,
     "input": [
      "def getNoiseCountry(countryCode):\n",
      "    # get data\n",
      "    query = db.npCountryTop500.aggregate([\n",
      "        { '$match': {'cc': countryCode} },\n",
      "        { '$sort': {'value.total': -1}}\n",
      "    ])\n",
      "    countryData = list(query['result'])\n",
      "    \n",
      "    # edit data\n",
      "    arrayNoise = []\n",
      "    for data in countryData:\n",
      "        songData = getCountryPlays(data,days)\n",
      "        arrayNoise.append(getNoiseSignal(songData))\n",
      "    \n",
      "    return arrayNoise"
     ],
     "language": "python",
     "metadata": {},
     "outputs": [],
     "prompt_number": 14
    },
    {
     "cell_type": "code",
     "collapsed": false,
     "input": [
      "plot(getNoiseCountry('US'))\n",
      "plt.title('US')"
     ],
     "language": "python",
     "metadata": {},
     "outputs": [
      {
       "output_type": "stream",
       "stream": "stderr",
       "text": [
        "-c:10: RuntimeWarning: invalid value encountered in double_scalars\n"
       ]
      },
      {
       "metadata": {},
       "output_type": "pyout",
       "prompt_number": 15,
       "text": [
        "<matplotlib.text.Text at 0x7f46588>"
       ]
      },
      {
       "metadata": {},
       "output_type": "display_data",
       "png": "[encoded data removed]",
       "text": [
        "<matplotlib.figure.Figure at 0x7eda320>"
       ]
      }
     ],
     "prompt_number": 15
    },
    {
     "cell_type": "code",
     "collapsed": false,
     "input": [
      "plot(getNoiseCountry('NL'))\n",
      "plt.title('NL')"
     ],
     "language": "python",
     "metadata": {},
     "outputs": [
      {
       "metadata": {},
       "output_type": "pyout",
       "prompt_number": 16,
       "text": [
        "<matplotlib.text.Text at 0x87a6080>"
       ]
      },
      {
       "metadata": {},
       "output_type": "display_data",
       "png": "[encoded data removed]",
       "text": [
        "<matplotlib.figure.Figure at 0x7f42898>"
       ]
      }
     ],
     "prompt_number": 16
    },
    {
     "cell_type": "code",
     "collapsed": false,
     "input": [
      "plot(getNoiseCountry('JO'))\n",
      "plt.title('JO')"
     ],
     "language": "python",
     "metadata": {},
     "outputs": [
      {
       "metadata": {},
       "output_type": "pyout",
       "prompt_number": 17,
       "text": [
        "<matplotlib.text.Text at 0x8085390>"
       ]
      },
      {
       "metadata": {},
       "output_type": "display_data",
       "png": "[encoded data removed]",
       "text": [
        "<matplotlib.figure.Figure at 0x80628d0>"
       ]
      }
     ],
     "prompt_number": 17
    },
    {
     "cell_type": "code",
     "collapsed": false,
     "input": [
      "plot(getNoiseCountry('GB'))\n",
      "plt.title('GB')"
     ],
     "language": "python",
     "metadata": {},
     "outputs": [
      {
       "metadata": {},
       "output_type": "pyout",
       "prompt_number": 18,
       "text": [
        "<matplotlib.text.Text at 0x8767d30>"
       ]
      },
      {
       "metadata": {},
       "output_type": "display_data",
       "png": "[encoded data removed]",
       "text": [
        "<matplotlib.figure.Figure at 0x8803c50>"
       ]
      }
     ],
     "prompt_number": 18
    },
    {
     "cell_type": "markdown",
     "metadata": {},
     "source": [
      "Dit is erg positief! Bij alle landen is duidelijk te zien dat bij de populairdere muzieknummer die links op de x-as staan verder een hogere correlatie score hebben over het algemeen. Hoe minder gegevens er van zijn verzameld des de dichter de signaal-ruisverhouding rond de 2.4 gaat zitten."
     ]
    },
    {
     "cell_type": "heading",
     "level": 2,
     "metadata": {},
     "source": [
      "Muzieknummer signaal bekijken met bijbehoorde signaal-ruisverhouding"
     ]
    },
    {
     "cell_type": "markdown",
     "metadata": {},
     "source": [
      "Ik ben nu benieuwd of de muzieknummers met een hoge signaal-ruisverhouding ook inderdaad een duidelijker ontwikkeling laten zien dat muzieknummer met een lage signaal-ruisverhouding."
     ]
    },
    {
     "cell_type": "code",
     "collapsed": false,
     "input": [
      "noiseValue = getNoiseCountry('US')"
     ],
     "language": "python",
     "metadata": {},
     "outputs": [],
     "prompt_number": 19
    },
    {
     "cell_type": "code",
     "collapsed": false,
     "input": [
      "i = 0\n",
      "for n in noiseValue:\n",
      "    print(i, n)\n",
      "    i += 1"
     ],
     "language": "python",
     "metadata": {},
     "outputs": [
      {
       "output_type": "stream",
       "stream": "stdout",
       "text": [
        "0 5.44935637613\n",
        "1 1.41160610086\n",
        "2 0.685983178678\n",
        "3 7.9986970421\n",
        "4 3.88933030668\n",
        "5 7.06046204073\n",
        "6 11.0375531202\n",
        "7 11.9590107277\n",
        "8 13.1270824006\n",
        "9 7.3960060452\n",
        "10 6.71220293055\n",
        "11 9.25070739093\n",
        "12 7.28186620779\n",
        "13 13.7247526033\n",
        "14 12.5234463135\n",
        "15 8.0459567005\n",
        "16 8.25882361692\n",
        "17 6.06522081801\n",
        "18 6.63468656704\n",
        "19 7.68958135636\n",
        "20 6.84393339001\n",
        "21 7.60172824013\n",
        "22 14.4898430953\n",
        "23 10.1774789759\n",
        "24 7.40510499522\n",
        "25 13.5958225065\n",
        "26 10.6005005954\n",
        "27 7.55087622447\n",
        "28 9.46066957704\n",
        "29 9.68778818525\n",
        "30 7.73840038567\n",
        "31 6.02993001869\n",
        "32 8.45397437015\n",
        "33 12.0889450446\n",
        "34 12.024510416\n",
        "35 6.63492850192\n",
        "36 6.47798830473\n",
        "37 6.9873398788\n",
        "38 6.62074579248\n",
        "39 10.1185358149\n",
        "40 7.86492978478\n",
        "41 8.24874464899\n",
        "42 11.6575259902\n",
        "43 9.26706571699\n",
        "44 9.88658548153\n",
        "45 8.83959169098\n",
        "46 10.3066132833\n",
        "47 8.94740460778\n",
        "48 6.12290725573\n",
        "49 7.82245121145\n",
        "50 7.9728840847\n",
        "51 7.85155585545\n",
        "52 10.8154838498\n",
        "53 7.94951538153\n",
        "54 1.68550468134\n",
        "55 4.75855585905\n",
        "56 6.68796328096\n",
        "57 5.42332244344\n",
        "58 7.63836577709\n",
        "59 6.29503315119\n",
        "60 nan\n",
        "61 8.63682071068\n",
        "62 9.26186836704\n",
        "63 11.2198772147\n",
        "64 7.46716776426\n",
        "65 6.85953398291\n",
        "66 8.88227431452\n",
        "67 1.28446679833\n",
        "68 3.08843831817\n",
        "69 9.26757853561\n",
        "70 7.19389936444\n",
        "71 4.66773379666\n",
        "72 3.33609926532\n",
        "73 9.76828496224\n",
        "74 5.6630929009\n",
        "75 1.51198758229\n",
        "76 7.68373694273\n",
        "77 8.146593541\n",
        "78 7.77227238865\n",
        "79 7.92110427948\n",
        "80 7.59907479801\n",
        "81 1.57117277415\n",
        "82 6.54325762843\n",
        "83 5.20148211522\n",
        "84 13.6289528249\n",
        "85 5.23798939694\n",
        "86 6.60251544467\n",
        "87 8.19761105976\n",
        "88 7.28989588842\n",
        "89 6.4213388039\n",
        "90 9.29715308749\n",
        "91 9.47164359144\n",
        "92 10.0880646458\n",
        "93 6.13057573124\n",
        "94 8.40332614446\n",
        "95 6.66757558365\n",
        "96 7.70155987195\n",
        "97 5.96275275714\n",
        "98 6.28994784683\n",
        "99 4.23267664519\n",
        "100 6.44466274159\n",
        "101 6.06395002896\n",
        "102 6.65104186717\n",
        "103 6.79146708339\n",
        "104 8.8553577294\n",
        "105 6.60207323705\n",
        "106 10.519541955\n",
        "107 2.79101505118\n",
        "108 9.0801579653\n",
        "109 7.45406041288\n",
        "110 7.32688914087\n",
        "111 7.83586130233\n",
        "112 12.7575972434\n",
        "113 4.16595524025\n",
        "114 3.02157546563\n",
        "115 10.8060852559\n",
        "116 6.68526502036\n",
        "117 7.18238647666\n",
        "118 4.78822658145\n",
        "119 10.6919270228\n",
        "120 8.1277119604\n",
        "121 10.991444658\n",
        "122 9.68453772807\n",
        "123 7.19248898999\n",
        "124 9.42184917993\n",
        "125 8.30853842603\n",
        "126 7.01002726768\n",
        "127 6.97860999914\n",
        "128 12.0214208795\n",
        "129 7.89619333434\n",
        "130 8.35468124103\n",
        "131 3.30809484557\n",
        "132 11.9553182576\n",
        "133 11.5537428477\n",
        "134 8.96542345302\n",
        "135 7.69175169162\n",
        "136 8.21530955106\n",
        "137 4.98381031241\n",
        "138 5.94279161754\n",
        "139 3.31326026228\n",
        "140 6.07038254833\n",
        "141 4.68746389709\n",
        "142 5.71295948742\n",
        "143 5.63439851048\n",
        "144 7.08929437893\n",
        "145 6.09544044268\n",
        "146 3.97297120438\n",
        "147 10.1358671023\n",
        "148 9.14303223594\n",
        "149 5.65187896635\n",
        "150 9.21939408252\n",
        "151 6.17365162036\n",
        "152 6.97468227467\n",
        "153 6.62581782496\n",
        "154 7.07424582162\n",
        "155 4.54188705788\n",
        "156 6.60516765468\n",
        "157 5.93376105823\n",
        "158 2.97005841216\n",
        "159 4.85083546603\n",
        "160 8.20325527677\n",
        "161 9.83375879019\n",
        "162 3.14653625756\n",
        "163 4.34157753867\n",
        "164 4.89525704477\n",
        "165 4.25617653666\n",
        "166 6.98364008018\n",
        "167 6.32871311692\n",
        "168 6.02450690923\n",
        "169 6.13669275367\n",
        "170 3.20797530096\n",
        "171 7.25710724608\n",
        "172 3.10869805208\n",
        "173 7.53640424355\n",
        "174 4.91716436289\n",
        "175 5.68540895533\n",
        "176 4.6769333992\n",
        "177 8.84509222346\n",
        "178 2.99830430103\n",
        "179 3.7004028674\n",
        "180 4.35631835379\n",
        "181 4.80586094916\n",
        "182 6.1885246796\n",
        "183 2.29500948693\n",
        "184 7.57037769899\n",
        "185 0.575288491133\n",
        "186 6.16814571616\n",
        "187 4.19534286355\n",
        "188 4.99649045404\n",
        "189 3.24350409993\n",
        "190 6.69111923502\n",
        "191 4.86731809109\n",
        "192 7.29702923098\n",
        "193 3.11478024229\n",
        "194 5.14095683211\n",
        "195 6.80840985618\n",
        "196 3.4707482957\n",
        "197 3.20161900563\n",
        "198 3.11478024229\n",
        "199 8.72963942969\n",
        "200 4.06093856193\n",
        "201 8.37810300426\n",
        "202 7.27899470061\n",
        "203 8.08806081459\n",
        "204 7.09465461912\n",
        "205 8.37895149743\n",
        "206 3.40057873867\n",
        "207 3.03431488141\n",
        "208 3.21963667651\n",
        "209 6.02030052418\n",
        "210 3.33743004745\n",
        "211 7.12403183653\n",
        "212 4.34293678294\n",
        "213 6.95661288382\n",
        "214 0.768893490994\n",
        "215 9.83180513465\n",
        "216 11.7865471839\n",
        "217 5.58555470825\n",
        "218 5.71218768157\n",
        "219 7.7416331125\n",
        "220 8.55421445314\n",
        "221 4.65758422975\n",
        "222 3.08703270715\n",
        "223 8.24062621214\n",
        "224 5.87083486913\n",
        "225 5.18227779391\n",
        "226 5.78360383341\n",
        "227 5.7470386933\n",
        "228 5.78524467116\n",
        "229 5.76205271474\n",
        "230 6.25580546107\n",
        "231 5.50406129993\n",
        "232 6.65943817564\n",
        "233 6.26094577881\n",
        "234 3.79373159612\n",
        "235 8.97117149748\n",
        "236 5.46370881057\n",
        "237 5.58322178305\n",
        "238 5.09482157087\n",
        "239 5.55482815867\n",
        "240 7.86092499564\n",
        "241 8.74167542762\n",
        "242 6.28840262749\n",
        "243 4.88010729561\n",
        "244 4.91686451962\n",
        "245 8.26984428829\n",
        "246 4.49975115583\n",
        "247 5.28139492021\n",
        "248 5.91808405468\n",
        "249 5.20641147618\n",
        "250 8.77031338795\n",
        "251 6.05231967984\n",
        "252 3.52692102178\n",
        "253 3.95928554917\n",
        "254 6.08076436533\n",
        "255 5.69640475428\n",
        "256 4.97750589725\n",
        "257 3.17321640692\n",
        "258 7.44701231907\n",
        "259 5.19666569336\n",
        "260 7.24218942061\n",
        "261 8.54915579984\n",
        "262 8.02478039131\n",
        "263 2.65105438704\n",
        "264 5.75632663713\n",
        "265 4.47804360866\n",
        "266 5.82284743485\n",
        "267 3.68119572303\n",
        "268 7.53383204859\n",
        "269 6.75437686136\n",
        "270 5.00996875842\n",
        "271 5.3982417977\n",
        "272 7.25291579173\n",
        "273 7.22501099404\n",
        "274 5.52716790956\n",
        "275 7.00705721704\n",
        "276 6.69100492569\n",
        "277 6.93761812018\n",
        "278 10.4707098601\n",
        "279 5.20367398164\n",
        "280 4.94556053976\n",
        "281 7.37252424601\n",
        "282 3.97803324235\n",
        "283 4.31789346017\n",
        "284 5.44085595781\n",
        "285 4.64928206091\n",
        "286 5.04919917439\n",
        "287 3.39898873186\n",
        "288 5.45628390815\n",
        "289 3.62668231548\n",
        "290 10.8046788313\n",
        "291 4.45446116633\n",
        "292 8.04624713573\n",
        "293 4.20466467837\n",
        "294 5.34447193665\n",
        "295 7.26262944135\n",
        "296 7.60408649267\n",
        "297 5.0987662727\n",
        "298 3.82056342256\n",
        "299 7.5322523899\n",
        "300 4.80701239482\n",
        "301 7.07050668281\n",
        "302 7.52697733821\n",
        "303 4.90069749674\n",
        "304 4.92949583443\n",
        "305 5.64043633317\n",
        "306 6.27193300081\n",
        "307 6.10631672362\n",
        "308 5.50455406268\n",
        "309 5.5144651053\n",
        "310 9.4523753924\n",
        "311 7.22944727351\n",
        "312 6.02120079494\n",
        "313 4.87627101268\n",
        "314 7.21322550718\n",
        "315 4.74444178091\n",
        "316 3.45054684525\n",
        "317 5.71530071479\n",
        "318 3.97706283131\n",
        "319 3.6321774875\n",
        "320 4.39679988269\n",
        "321 2.87421818168\n",
        "322 5.93439256141\n",
        "323 5.32548510526\n",
        "324 6.7495916544\n",
        "325 3.99600498522\n",
        "326 4.63172683815\n",
        "327 6.37753135978\n",
        "328 3.38313356292\n",
        "329 4.65983079448\n",
        "330 5.32243541895\n",
        "331 4.62318165769\n",
        "332 4.75741888522\n",
        "333 3.46632835081\n",
        "334 7.18633024782\n",
        "335 2.05313918208\n",
        "336 2.82569421874\n",
        "337 3.94072382342\n",
        "338 4.11156753159\n",
        "339 7.0184795429\n",
        "340 5.5959061712\n",
        "341 5.305201982\n",
        "342 5.60996557181\n",
        "343 4.06558684625\n",
        "344 3.37342652712\n",
        "345 2.58979675626\n",
        "346 5.62177485491\n",
        "347 7.22524576289\n",
        "348 4.67189065828\n",
        "349 4.48013151786\n",
        "350 3.73957184353\n",
        "351 5.01237195489\n",
        "352 1.98675654259\n",
        "353 2.02647617153\n",
        "354 2.68933440172\n",
        "355 5.8244816593\n",
        "356 3.01358721521\n",
        "357 5.44423830435\n",
        "358 3.46321098609\n",
        "359 5.35018281383\n",
        "360 2.98423930452\n",
        "361 4.05891883386\n",
        "362 3.14963594482\n",
        "363 5.58784670604\n",
        "364 6.07427274169\n",
        "365 12.1416577014\n",
        "366 6.05554342612\n",
        "367 3.14159461306\n",
        "368 1.39888194285\n",
        "369 3.32564914079\n",
        "370 2.63276965059\n",
        "371 3.26125782814\n",
        "372 3.10616167209\n",
        "373 3.16884905659\n",
        "374 3.88749360588\n",
        "375 4.41942787378\n",
        "376 4.15354080634\n",
        "377 4.06513757596\n",
        "378 2.12473942968\n",
        "379 4.12568498504\n",
        "380 3.66113006732\n",
        "381 3.21473994718\n",
        "382 3.011135097\n",
        "383 4.41660128086\n",
        "384 2.94763838503\n",
        "385 2.95077658464\n",
        "386 1.27492289978\n",
        "387 3.19497495163\n",
        "388 3.3019741468\n",
        "389 1.81431689799\n",
        "390 3.62357285499\n",
        "391 3.00783495719\n",
        "392 2.06198790873\n",
        "393 3.40305669651\n",
        "394 5.15763668711\n",
        "395 2.04028287563\n",
        "396 3.28206460204\n",
        "397 3.66780572785\n",
        "398 3.90520918155\n",
        "399 1.31442930578\n",
        "400 2.04152373006\n",
        "401 2.59444133251\n",
        "402 1.42750247361\n",
        "403 2.62541025241\n",
        "404 4.0333610758\n",
        "405 1.45675351125\n",
        "406 3.93245468633\n",
        "407 2.38458023326\n",
        "408 4.26841067593\n",
        "409 3.16841221339\n",
        "410 2.09652033444\n",
        "411 2.54584709368\n",
        "412 1.80449146604\n",
        "413 1.54583976969\n",
        "414 3.81758043888\n",
        "415 1.7305000588\n",
        "416 3.02023199638\n",
        "417 1.67099246116\n",
        "418 2.98635780043\n",
        "419 2.31299517187\n",
        "420 0.66833730601\n",
        "421 2.84384893934\n",
        "422 2.76843888682\n",
        "423 2.20853708114\n",
        "424 1.79631218071\n",
        "425 2.82780377992\n",
        "426 2.23487231125\n",
        "427 2.03576628205\n",
        "428 1.73748318928\n",
        "429 1.84062156559\n",
        "430 2.00269819415\n",
        "431 2.46997783671\n",
        "432 2.42177273898\n",
        "433 2.50827808114\n",
        "434 1.50414016484\n",
        "435 2.41109353413\n",
        "436 1.80078589304\n",
        "437 2.12672881347\n",
        "438 1.91657701181\n",
        "439 2.19387713015\n",
        "440 1.45233763943\n",
        "441 0.446404282498\n",
        "442 1.11746036709\n",
        "443 1.26729035402\n",
        "444 0.733343705813\n",
        "445 1.03857046019\n",
        "446 0.833333333333\n",
        "447 1.28416650351\n",
        "448 0.353666686335\n",
        "449 1.28416650351\n",
        "450 0.535639673325\n",
        "451 0.378912942438\n",
        "452 0.335289937204\n",
        "453 0.535639673325\n",
        "454 0.312975280962\n",
        "455 0.534862186741\n",
        "456 0.321771163356\n",
        "457 0.378912942438\n",
        "458 0.312975280962\n",
        "459 0.321771163356\n",
        "460 nan\n",
        "461 0.308774369154\n",
        "462 nan\n"
       ]
      }
     ],
     "prompt_number": 22
    },
    {
     "cell_type": "code",
     "collapsed": false,
     "input": [
      "# get data\n",
      "query = db.npCountryTop500.find({'cc': 'US'})\n",
      "countryData = list(query)\n",
      "plot(getCountryPlays(countryData[0],days))\n",
      "plt.title(noiseValue[0])"
     ],
     "language": "python",
     "metadata": {},
     "outputs": [
      {
       "metadata": {},
       "output_type": "pyout",
       "prompt_number": 23,
       "text": [
        "<matplotlib.text.Text at 0x868bb38>"
       ]
      },
      {
       "metadata": {},
       "output_type": "display_data",
       "png": "[encoded data removed]",
       "text": [
        "<matplotlib.figure.Figure at 0x875e7b8>"
       ]
      }
     ],
     "prompt_number": 23
    },
    {
     "cell_type": "code",
     "collapsed": false,
     "input": [
      "plot(getCountryPlays(countryData[0],days))\n",
      "plt.title(noiseValue[0])"
     ],
     "language": "python",
     "metadata": {},
     "outputs": [
      {
       "metadata": {},
       "output_type": "pyout",
       "prompt_number": 24,
       "text": [
        "<matplotlib.text.Text at 0x9a22ac8>"
       ]
      },
      {
       "metadata": {},
       "output_type": "display_data",
       "png": "[encoded data removed]",
       "text": [
        "<matplotlib.figure.Figure at 0x87630f0>"
       ]
      }
     ],
     "prompt_number": 24
    },
    {
     "cell_type": "code",
     "collapsed": false,
     "input": [
      "plot(getCountryPlays(countryData[38],days))\n",
      "plt.title(noiseValue[38])"
     ],
     "language": "python",
     "metadata": {},
     "outputs": [
      {
       "metadata": {},
       "output_type": "pyout",
       "prompt_number": 25,
       "text": [
        "<matplotlib.text.Text at 0x9a895c0>"
       ]
      },
      {
       "metadata": {},
       "output_type": "display_data",
       "png": "[encoded data removed]",
       "text": [
        "<matplotlib.figure.Figure at 0x9a61e10>"
       ]
      }
     ],
     "prompt_number": 25
    },
    {
     "cell_type": "code",
     "collapsed": false,
     "input": [
      "plot(getCountryPlays(countryData[49],days))\n",
      "plt.title(noiseValue[49])"
     ],
     "language": "python",
     "metadata": {},
     "outputs": [
      {
       "metadata": {},
       "output_type": "pyout",
       "prompt_number": 26,
       "text": [
        "<matplotlib.text.Text at 0x9a738d0>"
       ]
      },
      {
       "metadata": {},
       "output_type": "display_data",
       "png": "[encoded data removed]",
       "text": [
        "<matplotlib.figure.Figure at 0x9ae6be0>"
       ]
      }
     ],
     "prompt_number": 26
    },
    {
     "cell_type": "code",
     "collapsed": false,
     "input": [
      "plot(getCountryPlays(countryData[170],days))\n",
      "plt.title(noiseValue[170])"
     ],
     "language": "python",
     "metadata": {},
     "outputs": [
      {
       "metadata": {},
       "output_type": "pyout",
       "prompt_number": 27,
       "text": [
        "<matplotlib.text.Text at 0x9b5bef0>"
       ]
      },
      {
       "metadata": {},
       "output_type": "display_data",
       "png": "[encoded data removed]",
       "text": [
        "<matplotlib.figure.Figure at 0x9b31be0>"
       ]
      }
     ],
     "prompt_number": 27
    },
    {
     "cell_type": "markdown",
     "metadata": {},
     "source": [
      "Zoals we hoopte hebben signalen met een hoge signaal-ruisverhouding een duidelijker ontwikkelingen en zijn dus nuttiger om te gebruiken voor correlaties."
     ]
    },
    {
     "cell_type": "heading",
     "level": 1,
     "metadata": {},
     "source": [
      "Conclusie"
     ]
    },
    {
     "cell_type": "markdown",
     "metadata": {},
     "source": [
      "Mij conclusie is dat de signaal-ruisverhouding duidelijk laat zien dat muzieknummers met veel gegevens een veel betere te gebruiken zijn voor correlatie functies dan muzieknummers met minder gegevens. Deze zegen duidelijk minder over het verloop en laten geen duidelijk positieve of negatieve ontwikkeling zien. Dit is goed te gebruiken voor de onderbouwing waarom er alleen voor de top 50 muzieknummers is gekozen bij de corrletie functies kruiscorrelatie en Pearson-r."
     ]
    }
   ],
   "metadata": {}
  }
 ]
}