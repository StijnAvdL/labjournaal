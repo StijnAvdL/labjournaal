{
 "metadata": {
  "name": "",
  "signature": "sha256:ff9724e940b8b7973c5d2cd23aae8592198c54d8dc1a6ef7022eb92d64d66a45"
 },
 "nbformat": 3,
 "nbformat_minor": 0,
 "worksheets": [
  {
   "cells": [
    {
     "cell_type": "heading",
     "level": 1,
     "metadata": {},
     "source": [
      "Wat is de signaal-ruisverhouding van de muzieknummers?"
     ]
    },
    {
     "cell_type": "markdown",
     "metadata": {},
     "source": [
      "Datum: 12-06-2015<br>\n",
      "URL: http://nbviewer.ipython.org/github/StijnAvdL/labjournaal/blob/master/06-12%20Signaal-ruisverhouding.ipynb<br>\n",
      "Database: MongoDB #NP"
     ]
    },
    {
     "cell_type": "markdown",
     "metadata": {},
     "source": [
      "We willen de signaal-ruisverhouding van muzieknummers in onze database achterhalen. De signala-ruisverhouding geeft van een signaal terug hoever de alle signaal punten van het gemiddeld af zitten. Een hoge signaal-ruisverhouding betekend dat een signaal verder van het gemiddeld afwijkt en dus een sterker ontwikkelding heeft. Deze nummers zijn het meest interresant om te gebruiken voor dit onderzoek. \n",
      "\n",
      "http://en.wikipedia.org/wiki/Signal-to-noise_ratio"
     ]
    },
    {
     "cell_type": "code",
     "collapsed": false,
     "input": [
      "%pylab inline\n",
      "\n",
      "import numpy as np\n",
      "import pymongo\n",
      "import matplotlib.pyplot as plt\n",
      "import scipy.stats as st"
     ],
     "language": "python",
     "metadata": {},
     "outputs": [
      {
       "output_type": "stream",
       "stream": "stdout",
       "text": [
        "Populating the interactive namespace from numpy and matplotlib\n"
       ]
      }
     ],
     "prompt_number": 1
    },
    {
     "cell_type": "code",
     "collapsed": false,
     "input": [
      "days = [[104,111],[126,132],[137,139]] # DE UITIENDELIJK DAGEN DIE GEBRUIKT WORDEN!!!!!!\n",
      "\n",
      "# Connection to Mongo DB\n",
      "conn = pymongo.MongoClient('localhost', 27017)\n",
      "db = conn['mozart']\n",
      "\n",
      "print('connected to database')"
     ],
     "language": "python",
     "metadata": {},
     "outputs": [
      {
       "output_type": "stream",
       "stream": "stdout",
       "text": [
        "connected to database\n"
       ]
      }
     ],
     "prompt_number": 4
    },
    {
     "cell_type": "code",
     "collapsed": false,
     "input": [
      "query = db.npCountryTopCC.find({'cc': 'US'})\n",
      "usData = list(query)"
     ],
     "language": "python",
     "metadata": {},
     "outputs": [],
     "prompt_number": 5
    },
    {
     "cell_type": "code",
     "collapsed": false,
     "input": [
      "def getCountryPlays(data, days):\n",
      "    arrayPlays = [];\n",
      "    for day in days:\n",
      "        dayIndexes = np.arange(day[0], day[1])\n",
      "        for dayIndex in dayIndexes:\n",
      "            arrayPlays.append(data['value']['counts'][dayIndex])\n",
      "    return arrayPlays"
     ],
     "language": "python",
     "metadata": {},
     "outputs": [],
     "prompt_number": 6
    },
    {
     "cell_type": "code",
     "collapsed": false,
     "input": [
      "usFirstSong = getCountryPlays(usData[0],days)\n",
      "plot(usFirstSong)"
     ],
     "language": "python",
     "metadata": {},
     "outputs": [
      {
       "metadata": {},
       "output_type": "pyout",
       "prompt_number": 7,
       "text": [
        "[<matplotlib.lines.Line2D at 0x7c27208>]"
       ]
      },
      {
       "metadata": {},
       "output_type": "display_data",
       "png": "[encoded data removed]",
       "text": [
        "<matplotlib.figure.Figure at 0x7bc06d8>"
       ]
      }
     ],
     "prompt_number": 7
    },
    {
     "cell_type": "markdown",
     "metadata": {},
     "source": [
      "Dit is een muzieknummer populairiteit <b>met ruis</b>."
     ]
    },
    {
     "cell_type": "code",
     "collapsed": false,
     "input": [
      "xdata=np.arange(0,len(usFirstSong), 1)\n",
      "ydata = usFirstSong\n",
      "regression = np.polyfit(xdata, ydata, 1)\n",
      "regression"
     ],
     "language": "python",
     "metadata": {},
     "outputs": [
      {
       "metadata": {},
       "output_type": "pyout",
       "prompt_number": 10,
       "text": [
        "array([ 2.00357143,  6.30833333])"
       ]
      }
     ],
     "prompt_number": 10
    },
    {
     "cell_type": "markdown",
     "metadata": {},
     "source": [
      "<b>Regression</b> variable heeft 2 variable in zich die aan de hand van de muzieksignaal zijn bepaald. De eerste waarde is het met welke hoeveelheid de signaal per punt groeit. Het 2de cijfer is waar de signaal zonder ruis begint. Hieronder staat de plot van dit signaal"
     ]
    },
    {
     "cell_type": "code",
     "collapsed": false,
     "input": [
      "lineary=regression[1]+regression[0]*xdata\n",
      "plot(lineary)"
     ],
     "language": "python",
     "metadata": {},
     "outputs": [
      {
       "metadata": {},
       "output_type": "pyout",
       "prompt_number": 11,
       "text": [
        "[<matplotlib.lines.Line2D at 0x79a3160>]"
       ]
      },
      {
       "metadata": {},
       "output_type": "display_data",
       "png": "[encoded data removed]",
       "text": [
        "<matplotlib.figure.Figure at 0x7bec940>"
       ]
      }
     ],
     "prompt_number": 11
    },
    {
     "cell_type": "markdown",
     "metadata": {},
     "source": [
      "Dit is een muzieknummer populairiteit <b>zonder ruis</b>."
     ]
    },
    {
     "cell_type": "code",
     "collapsed": false,
     "input": [
      "yError=abs(usFirstSong-lineary)\n",
      "yError"
     ],
     "language": "python",
     "metadata": {},
     "outputs": [
      {
       "metadata": {},
       "output_type": "pyout",
       "prompt_number": 15,
       "text": [
        "array([ 4.69166667,  8.68809524,  0.31547619,  3.31904762,  6.32261905,\n",
        "        9.32619048,  8.3297619 ,  3.66666667,  4.66309524,  6.65952381,\n",
        "        2.34404762,  0.34761905,  0.35119048,  0.3547619 ,  2.64166667])"
       ]
      }
     ],
     "prompt_number": 15
    },
    {
     "cell_type": "markdown",
     "metadata": {},
     "source": [
      "Deze array bevat de afstand van de muziek signaal tussen met en zonder ruis. Je kan bijvoorbeeld zien dat het 3de punt dicht bij elkaar zit. Als we dit plot is dit ook het geval."
     ]
    },
    {
     "cell_type": "code",
     "collapsed": false,
     "input": [
      "plot(lineary)\n",
      "plot(usFirstSong)"
     ],
     "language": "python",
     "metadata": {},
     "outputs": [
      {
       "metadata": {},
       "output_type": "pyout",
       "prompt_number": 13,
       "text": [
        "[<matplotlib.lines.Line2D at 0x7bf06a0>]"
       ]
      },
      {
       "metadata": {},
       "output_type": "display_data",
       "png": "[encoded data removed]",
       "text": [
        "<matplotlib.figure.Figure at 0x7bf0400>"
       ]
      }
     ],
     "prompt_number": 13
    },
    {
     "cell_type": "markdown",
     "metadata": {},
     "source": [
      "Van de array met afstand tussen signal met en zonder ruis wordt de sigma gepakt. Waardan wordt het gemiddeld van de signaal met ruis gedeeld door dit getal. Dit heeft de signaal-ruisverhouding terug."
     ]
    },
    {
     "cell_type": "code",
     "collapsed": false,
     "input": [
      "stdnoise=std(yError)    \n",
      "signaltonoiseratio=mean(usFirstSong)/stdnoise\n",
      "signaltonoiseratio"
     ],
     "language": "python",
     "metadata": {},
     "outputs": [
      {
       "metadata": {},
       "output_type": "pyout",
       "prompt_number": 17,
       "text": [
        "6.6346865670388011"
       ]
      }
     ],
     "prompt_number": 17
    },
    {
     "cell_type": "markdown",
     "metadata": {},
     "source": [
      "Signaal ruis verhouding van deze zong is erg hoog met 6.6 en dit is positief omdat we hier ook op hadden gehoopt omdat deze muzieknummer een duidelijk positieve ontwikkeling laat zien."
     ]
    },
    {
     "cell_type": "code",
     "collapsed": false,
     "input": [
      "plot(lineary)\n",
      "plot(usFirstSong)\n",
      "plot([mean(usFirstSong)]*15)"
     ],
     "language": "python",
     "metadata": {},
     "outputs": [
      {
       "metadata": {},
       "output_type": "pyout",
       "prompt_number": 18,
       "text": [
        "[<matplotlib.lines.Line2D at 0x7a69be0>]"
       ]
      },
      {
       "metadata": {},
       "output_type": "display_data",
       "png": "[encoded data removed]",
       "text": [
        "<matplotlib.figure.Figure at 0x7a0b630>"
       ]
      }
     ],
     "prompt_number": 18
    },
    {
     "cell_type": "markdown",
     "metadata": {},
     "source": [
      "Een fucntie die aan de hand van een muzieknummer populariteit signaal de signaal-ruisverhouding uitrekend."
     ]
    },
    {
     "cell_type": "code",
     "collapsed": false,
     "input": [
      "def getNoiseSignal(songData):\n",
      "    # create linaire line with noise\n",
      "    xdata=np.arange(0,len(songData), 1)\n",
      "    increment, startValue = np.polyfit(xdata, songData, 1)\n",
      "    lineary=regression[1]+regression[0]*xdata\n",
      "    \n",
      "    #so what is the noise when we do a linear fit?\n",
      "    yError=abs(songData-lineary)\n",
      "    stdnoise=std(yError)    \n",
      "    signaltonoiseratio=mean(usFirstSong)/stdnoise\n",
      "    \n",
      "    return signaltonoiseratio"
     ],
     "language": "python",
     "metadata": {},
     "outputs": [],
     "prompt_number": 20
    },
    {
     "cell_type": "code",
     "collapsed": false,
     "input": [
      "getNoiseSignal(usFirstSong)"
     ],
     "language": "python",
     "metadata": {},
     "outputs": [
      {
       "metadata": {},
       "output_type": "pyout",
       "prompt_number": 21,
       "text": [
        "6.6346865670388011"
       ]
      }
     ],
     "prompt_number": 21
    },
    {
     "cell_type": "heading",
     "level": 2,
     "metadata": {},
     "source": [
      "Signaal-ruisverhouding van meerdere muzieknummer per land"
     ]
    },
    {
     "cell_type": "markdown",
     "metadata": {},
     "source": [
      "Nu we de signaal-ruisverhouding van een muzieknummer kunnen uitrekenen ben ik benieuwd hoe het bij meerdere muzieknummer zit in verschillend landen. \n",
      "\n",
      "Hierbij wil ik kijken of muzieknummers met meer gegevens een hogere signaal-ruisverhouding hebben in vergelijking met muzieknummer met minder gegevens. "
     ]
    },
    {
     "cell_type": "code",
     "collapsed": false,
     "input": [
      "def getNoiseCountry(countryCode):\n",
      "    # get data\n",
      "    query = db.npCountryTop500.aggregate([\n",
      "        { '$match': {'cc': countryCode} },\n",
      "        { '$sort': {'value.total': -1}}\n",
      "    ])\n",
      "    countryData = list(query['result'])\n",
      "    \n",
      "    # edit data\n",
      "    arrayNoise = []\n",
      "    for data in countryData:\n",
      "        songData = getCountryPlays(data,days)\n",
      "        arrayNoise.append(getNoiseSignal(songData))\n",
      "    \n",
      "    return arrayNoise"
     ],
     "language": "python",
     "metadata": {},
     "outputs": [],
     "prompt_number": 25
    },
    {
     "cell_type": "code",
     "collapsed": false,
     "input": [
      "plot(getNoiseCountry('US'))\n",
      "plt.title('US')"
     ],
     "language": "python",
     "metadata": {},
     "outputs": [
      {
       "metadata": {},
       "output_type": "pyout",
       "prompt_number": 26,
       "text": [
        "<matplotlib.text.Text at 0x7f12a20>"
       ]
      },
      {
       "metadata": {},
       "output_type": "display_data",
       "png": "[encoded data removed]",
       "text": [
        "<matplotlib.figure.Figure at 0x7bff0b8>"
       ]
      }
     ],
     "prompt_number": 26
    },
    {
     "cell_type": "code",
     "collapsed": false,
     "input": [
      "plot(getNoiseCountry('NL'))\n",
      "plt.title('NL')"
     ],
     "language": "python",
     "metadata": {},
     "outputs": [
      {
       "metadata": {},
       "output_type": "pyout",
       "prompt_number": 27,
       "text": [
        "<matplotlib.text.Text at 0x7f61320>"
       ]
      },
      {
       "metadata": {},
       "output_type": "display_data",
       "png": "[encoded data removed]",
       "text": [
        "<matplotlib.figure.Figure at 0x7c7e9e8>"
       ]
      }
     ],
     "prompt_number": 27
    },
    {
     "cell_type": "code",
     "collapsed": false,
     "input": [
      "plot(getNoiseCountry('JO'))\n",
      "plt.title('JO')"
     ],
     "language": "python",
     "metadata": {},
     "outputs": [
      {
       "metadata": {},
       "output_type": "pyout",
       "prompt_number": 28,
       "text": [
        "<matplotlib.text.Text at 0x827a748>"
       ]
      },
      {
       "metadata": {},
       "output_type": "display_data",
       "png": "[encoded data removed]",
       "text": [
        "<matplotlib.figure.Figure at 0x7f3d518>"
       ]
      }
     ],
     "prompt_number": 28
    },
    {
     "cell_type": "code",
     "collapsed": false,
     "input": [
      "plot(getNoiseCountry('GB'))\n",
      "plt.title('GB')"
     ],
     "language": "python",
     "metadata": {},
     "outputs": [
      {
       "metadata": {},
       "output_type": "pyout",
       "prompt_number": 29,
       "text": [
        "<matplotlib.text.Text at 0x9b4e1d0>"
       ]
      },
      {
       "metadata": {},
       "output_type": "display_data",
       "png": "[encoded data removed]",
       "text": [
        "<matplotlib.figure.Figure at 0x7f63dd8>"
       ]
      }
     ],
     "prompt_number": 29
    },
    {
     "cell_type": "markdown",
     "metadata": {},
     "source": [
      "Dit is erg positief! Bij alle landen is duidelijk te zien dat bij de populairdere muzieknummer die links op de x-as staan verder een hogere correlatie score hebben over het algemeen. Hoe minder gegevens er van zijn verzameld des de dichter de signaal-ruisverhouding rond de 2.4 gaat zitten."
     ]
    },
    {
     "cell_type": "heading",
     "level": 2,
     "metadata": {},
     "source": [
      "Muzieknummer signaal bekijken met bijbehoorde signaal-ruisverhouding"
     ]
    },
    {
     "cell_type": "markdown",
     "metadata": {},
     "source": [
      "Ik ben nu benieuwd of de muzieknummers met een hoge signaal-ruisverhouding ook inderdaad een duidelijker ontwikkeling laten zien dat muzieknummer met een lage signaal-ruisverhouding."
     ]
    },
    {
     "cell_type": "code",
     "collapsed": false,
     "input": [
      "noiseValue = getNoiseCountry('US')\n",
      "i = 0\n",
      "for d in noiseValue:\n",
      "    print(i, d)\n",
      "    i += 1"
     ],
     "language": "python",
     "metadata": {},
     "outputs": [
      {
       "output_type": "stream",
       "stream": "stdout",
       "text": [
        "0 0.845423637935\n",
        "1 0.59545798294\n",
        "2 0.335151763414\n",
        "3 2.31669315827\n",
        "4 2.01089828129\n",
        "5 2.65934354183\n",
        "6 3.91504496496\n",
        "7 4.2645651357\n",
        "8 4.02993731138\n",
        "9 4.48427394451\n",
        "10 3.42523289805\n",
        "11 4.33177573081\n",
        "12 5.90733055602\n",
        "13 5.81025381406\n",
        "14 5.83065218995\n",
        "15 5.55143499279\n",
        "16 5.36066177688\n",
        "17 4.25584811747\n",
        "18 6.63468656704\n",
        "19 4.40560719964\n",
        "20 3.68442671697\n",
        "21 4.79313390853\n",
        "22 3.22257560798\n",
        "23 6.0713200667\n",
        "24 4.39917751411\n",
        "25 4.85589452228\n",
        "26 4.36750782885\n",
        "27 5.22392624902\n",
        "28 4.66223939614\n",
        "29 4.02688201451\n",
        "30 3.67788224335\n",
        "31 3.50421299139\n",
        "32 3.91805725464\n",
        "33 4.42781846882\n",
        "34 4.65021816326\n",
        "35 5.26303893314\n",
        "36 3.14101896591\n",
        "37 3.65272232917\n",
        "38 3.03400480842\n",
        "39 4.04293374603\n",
        "40 3.78180215649\n",
        "41 3.61917467696\n",
        "42 3.78632873911\n",
        "43 3.96392893869\n",
        "44 2.694892697\n",
        "45 3.22315693549\n",
        "46 3.56541352607\n",
        "47 2.73242328502\n",
        "48 3.06044429544\n",
        "49 2.99776540635\n",
        "50 3.14546497802\n",
        "51 3.44906393071\n",
        "52 2.44726394732\n",
        "53 2.68758540035\n",
        "54 1.80941077667\n",
        "55 2.85540398525\n",
        "56 2.58463485922\n",
        "57 2.25910740183\n",
        "58 2.3769033099\n",
        "59 2.5914967732\n",
        "60 2.34893156627\n",
        "61 3.0655388782\n",
        "62 2.68035313452\n",
        "63 3.13696197591\n",
        "64 3.03524239997\n",
        "65 2.64271603598\n",
        "66 3.13669890768\n",
        "67 1.915666767\n",
        "68 1.78801122631\n",
        "69 3.67601799988\n",
        "70 2.7977943638\n",
        "71 2.60624692498\n",
        "72 2.78814341878\n",
        "73 2.43884276593\n",
        "74 2.429431552\n",
        "75 1.97157406768\n",
        "76 2.14626823668\n",
        "77 2.11155192553\n",
        "78 2.79633672594\n",
        "79 3.17711103566\n",
        "80 2.12454174875\n",
        "81 1.93061456405\n",
        "82 2.17136377055\n",
        "83 2.676100258\n",
        "84 2.54160022538\n",
        "85 2.68242260735\n",
        "86 1.98457461686\n",
        "87 2.13660108355\n",
        "88 2.05022920948\n",
        "89 2.52707569033\n",
        "90 3.67030126181\n",
        "91 3.66046072412\n",
        "92 2.55050478183\n",
        "93 3.74076779099\n",
        "94 2.5071768227\n",
        "95 2.04102395629\n",
        "96 2.53169430636\n",
        "97 2.27599566091\n",
        "98 2.34174491472\n",
        "99 2.42324115898\n",
        "100 2.48262129027\n",
        "101 2.24444593813\n",
        "102 2.58829486787\n",
        "103 2.71742381673\n",
        "104 1.95889600823\n",
        "105 2.59733886709\n",
        "106 2.4521096947\n",
        "107 2.76824720358\n",
        "108 2.50355433927\n",
        "109 2.90378144439\n",
        "110 2.64056656031\n",
        "111 2.50218941258\n",
        "112 2.44944042686\n",
        "113 1.99015818093\n",
        "114 2.0512466403\n",
        "115 2.29571245106\n",
        "116 2.41316675312\n",
        "117 2.52065039681\n",
        "118 2.58031640864\n",
        "119 2.63275871164\n",
        "120 2.54098456184\n",
        "121 2.83337115649\n",
        "122 2.52149318506\n",
        "123 2.72351799224\n",
        "124 2.5294675012\n",
        "125 2.87342173945\n",
        "126 2.51480802926\n",
        "127 2.74901302733\n",
        "128 2.48752762303\n",
        "129 2.29508734484\n",
        "130 2.62816834475\n",
        "131 2.42628563774\n",
        "132 3.26955737646\n",
        "133 2.35256822108\n",
        "134 2.45530283523\n",
        "135 2.36668240313\n",
        "136 2.41475766018\n",
        "137 2.8591204806\n",
        "138 2.33464095896\n",
        "139 1.68957434723\n",
        "140 2.26510280532\n",
        "141 3.2436223575\n",
        "142 2.53572893171\n",
        "143 1.86627509414\n",
        "144 2.47777600833\n",
        "145 2.42322427541\n",
        "146 3.55181962055\n",
        "147 4.11022445185\n",
        "148 2.29507342106\n",
        "149 2.4285490332\n",
        "150 2.30246966176\n",
        "151 2.399300394\n",
        "152 2.77901135066\n",
        "153 2.23903854778\n",
        "154 2.47467484872\n",
        "155 2.38421272017\n",
        "156 2.1607715536\n",
        "157 2.3195752074\n",
        "158 2.58774595841\n",
        "159 2.52980629051\n",
        "160 2.36282014377\n",
        "161 2.19494178568\n",
        "162 1.72139017303\n",
        "163 4.0663116867\n",
        "164 2.33289642203\n",
        "165 2.87724646041\n",
        "166 2.5049711608\n",
        "167 2.48295268056\n",
        "168 2.30061065438\n",
        "169 2.48604608447\n",
        "170 1.65268705211\n",
        "171 2.50882723462\n",
        "172 1.60482625853\n",
        "173 2.31048411592\n",
        "174 2.27862840015\n",
        "175 2.18710840583\n",
        "176 2.32266916026\n",
        "177 2.78312384955\n",
        "178 1.87008969017\n",
        "179 2.43058005082\n",
        "180 1.98540616302\n",
        "181 2.49055919233\n",
        "182 2.3433465519\n",
        "183 1.83887511902\n",
        "184 2.47220866836\n",
        "185 2.31440070848\n",
        "186 2.10069441375\n",
        "187 2.25495385787\n",
        "188 2.07976405841\n",
        "189 1.61224262734\n",
        "190 2.4425485588\n",
        "191 2.30264965771\n",
        "192 2.55113552553\n",
        "193 1.61750328377\n",
        "194 2.32338387251\n",
        "195 2.51195151761\n",
        "196 2.14069577296\n",
        "197 1.61613781517\n",
        "198 1.61750328377\n",
        "199 2.25699698288\n",
        "200 2.86921737112\n",
        "201 2.38799054192\n",
        "202 2.38717844037\n",
        "203 2.52933081739\n",
        "204 2.14880110905\n",
        "205 2.46639063444\n",
        "206 1.61341722032\n",
        "207 1.61427853868\n",
        "208 1.89618833131\n",
        "209 2.34761411742\n",
        "210 3.43293455315\n",
        "211 2.49600690704\n",
        "212 2.31468272004\n",
        "213 2.61749028597\n",
        "214 1.85060080683\n",
        "215 2.36207235522\n",
        "216 2.38654674179\n",
        "217 2.27369106911\n",
        "218 2.35222492336\n",
        "219 2.34231706363\n",
        "220 2.41249849176\n",
        "221 2.19119211886\n",
        "222 3.85635390999\n",
        "223 2.51378284848\n",
        "224 2.40889214437\n",
        "225 2.51743160316\n",
        "226 2.07381323609\n",
        "227 2.27543497639\n",
        "228 2.51551051351\n",
        "229 2.55609012244\n",
        "230 2.5277760467\n",
        "231 2.36408868128\n",
        "232 2.40570271542\n",
        "233 2.79094058383\n",
        "234 1.90403723933\n",
        "235 2.40942897775\n",
        "236 2.23345061406\n",
        "237 2.44232861449\n",
        "238 2.64812401425\n",
        "239 2.32055255201\n",
        "240 2.56127364895\n",
        "241 2.50712236923\n",
        "242 2.46983660564\n",
        "243 2.31932816584\n",
        "244 2.23654136173\n",
        "245 2.55280727386\n",
        "246 2.42568637427\n",
        "247 2.43708420632\n",
        "248 2.2954877716\n",
        "249 2.30533747421\n",
        "250 2.46395772873\n",
        "251 2.75238099419\n",
        "252 2.2478443288\n",
        "253 2.44227726411\n",
        "254 2.44016872607\n",
        "255 2.37570124909\n",
        "256 2.34526809484\n",
        "257 1.68844114883\n",
        "258 2.43080946776\n",
        "259 2.42131732557\n",
        "260 2.40135015832\n",
        "261 2.44878802727\n",
        "262 2.39911247321\n",
        "263 1.66693106288\n",
        "264 2.43330026691\n",
        "265 2.15224277644\n",
        "266 2.15194563991\n",
        "267 4.33920794702\n",
        "268 2.55863614628\n",
        "269 2.52932149884\n",
        "270 2.50923958892\n",
        "271 2.47372410351\n",
        "272 2.49598004214\n",
        "273 2.65656989401\n",
        "274 2.87542837295\n",
        "275 2.40164792601\n",
        "276 2.21725998401\n",
        "277 2.31891155447\n",
        "278 2.3856939617\n",
        "279 2.00057051742\n",
        "280 2.28538508439\n",
        "281 2.4741949779\n",
        "282 2.35014408518\n",
        "283 2.25601541935\n",
        "284 2.17814977038\n",
        "285 1.889792805\n",
        "286 2.34305254237\n",
        "287 2.00574459457\n",
        "288 2.29079346559\n",
        "289 2.62157914927\n",
        "290 2.43170328669\n",
        "291 2.19675653003\n",
        "292 2.39230534349\n",
        "293 2.27747763889\n",
        "294 2.42085957486\n",
        "295 2.40882774847\n",
        "296 2.34340818985\n",
        "297 2.40213469559\n",
        "298 2.1877474512\n",
        "299 2.44169861782\n",
        "300 2.18050887052\n",
        "301 2.49315214719\n",
        "302 2.39008496232\n",
        "303 1.86294957458\n",
        "304 2.43132246551\n",
        "305 2.3434156009\n",
        "306 3.67107978123\n",
        "307 2.49199575272\n",
        "308 2.35741105775\n",
        "309 2.43312881387\n",
        "310 2.50268426814\n",
        "311 2.74622972805\n",
        "312 2.21934656019\n",
        "313 2.24046233559\n",
        "314 2.27806518568\n",
        "315 2.2566130603\n",
        "316 2.8670450959\n",
        "317 2.67631579764\n",
        "318 2.48962853658\n",
        "319 2.30926336613\n",
        "320 2.68952780378\n",
        "321 2.49617707152\n",
        "322 2.15912440015\n",
        "323 2.48126119254\n",
        "324 2.71013430046\n",
        "325 2.31584894343\n",
        "326 2.41112504247\n",
        "327 2.50458514691\n",
        "328 2.10162393563\n",
        "329 2.28923738821\n",
        "330 2.36408868128\n",
        "331 2.2029301026\n",
        "332 2.16435440372\n",
        "333 2.10071166789\n",
        "334 2.31456254719\n",
        "335 2.31996153988\n",
        "336 2.52389391354\n",
        "337 2.38357770247\n",
        "338 2.33973357919\n",
        "339 2.45677029568\n",
        "340 2.35556729698\n",
        "341 2.36067207379\n",
        "342 2.52416554394\n",
        "343 2.26485061787\n",
        "344 2.07813238095\n",
        "345 2.49716291876\n",
        "346 2.33608843675\n",
        "347 2.22013177722\n",
        "348 2.57135408944\n",
        "349 2.52251858852\n",
        "350 2.46688326811\n",
        "351 2.21054189995\n",
        "352 2.49220966839\n",
        "353 2.36644844855\n",
        "354 2.76903754472\n",
        "355 2.30883797818\n",
        "356 2.18325697779\n",
        "357 2.42204787802\n",
        "358 2.11839763802\n",
        "359 2.19544311807\n",
        "360 2.2258824484\n",
        "361 2.24083159256\n",
        "362 2.22333374172\n",
        "363 2.36418506723\n",
        "364 2.32328276204\n",
        "365 2.32692382136\n",
        "366 2.45591395745\n",
        "367 2.37570124909\n",
        "368 2.62656334567\n",
        "369 2.32860897539\n",
        "370 2.41860769546\n",
        "371 2.42714520665\n",
        "372 2.21056056188\n",
        "373 2.30451240621\n",
        "374 2.37351903801\n",
        "375 2.3450848758\n",
        "376 2.47091897123\n",
        "377 2.27350381511\n",
        "378 1.84597959534\n",
        "379 2.32898718486\n",
        "380 2.44063743828\n",
        "381 2.36703122142\n",
        "382 1.98091403328\n",
        "383 2.3431241528\n",
        "384 2.4038767204\n",
        "385 2.04050144416\n",
        "386 2.47372410351\n",
        "387 2.22404294921\n",
        "388 2.24737231194\n",
        "389 2.23359645597\n",
        "390 2.47955041612\n",
        "391 2.32939469352\n",
        "392 2.88956078972\n",
        "393 2.6754367584\n",
        "394 2.29152765137\n",
        "395 2.43827152981\n",
        "396 2.24749434029\n",
        "397 2.3013122091\n",
        "398 2.35176786324\n",
        "399 2.14914289778\n",
        "400 2.76860155121\n",
        "401 2.32385830502\n",
        "402 2.23143058621\n",
        "403 2.29052121133\n",
        "404 2.4147009009\n",
        "405 2.29277600069\n",
        "406 2.3117613486\n",
        "407 2.27615448941\n",
        "408 2.25042243395\n",
        "409 2.2989575258\n",
        "410 2.08331489985\n",
        "411 2.31643090792\n",
        "412 2.32451865911\n",
        "413 2.84059774245\n",
        "414 2.29478224958\n",
        "415 2.24738538545\n",
        "416 2.34519381167\n",
        "417 2.84753529742\n",
        "418 2.31242568262\n",
        "419 2.60869461088\n",
        "420 2.16926391702\n",
        "421 2.41106046734\n",
        "422 2.34380107214\n",
        "423 2.30883797818\n",
        "424 2.34021810022\n",
        "425 2.47773220792\n",
        "426 2.30816256722\n",
        "427 2.32733750725\n",
        "428 2.3959854446\n",
        "429 2.41699879284\n",
        "430 2.20357066056\n",
        "431 2.37131979204\n",
        "432 2.30975758392\n",
        "433 2.15283571884\n",
        "434 2.31376320394\n",
        "435 2.36701594676\n",
        "436 2.29542508377\n",
        "437 2.36830004922\n",
        "438 2.33101228169\n",
        "439 2.32651760787\n",
        "440 2.39226592113\n",
        "441 2.24773191679\n",
        "442 2.24369465954\n",
        "443 2.29269271393\n",
        "444 2.2723272049\n",
        "445 2.28622188464\n",
        "446 2.34642782694\n",
        "447 2.33757534205\n",
        "448 2.37345743743\n",
        "449 2.35425869574\n",
        "450 2.33468986092\n",
        "451 2.40563857497\n",
        "452 2.32732298822\n",
        "453 2.33468986092\n",
        "454 2.36060389266\n",
        "455 2.34712250688\n",
        "456 2.36486517678\n",
        "457 2.3192204\n",
        "458 2.36060389266\n",
        "459 2.33140625889\n",
        "460 2.34893156627\n",
        "461 2.34378624281\n",
        "462 2.34893156627\n"
       ]
      }
     ],
     "prompt_number": 30
    },
    {
     "cell_type": "code",
     "collapsed": false,
     "input": [
      "# get data\n",
      "query = db.npCountryTop500.find({'cc': 'US'})\n",
      "countryData = list(query)\n",
      "plot(getCountryPlays(countryData[27],days))\n",
      "plt.title(noiseValue[27])"
     ],
     "language": "python",
     "metadata": {},
     "outputs": [
      {
       "metadata": {},
       "output_type": "pyout",
       "prompt_number": 48,
       "text": [
        "<matplotlib.text.Text at 0xb1b5438>"
       ]
      },
      {
       "metadata": {},
       "output_type": "display_data",
       "png": "[encoded data removed]",
       "text": [
        "<matplotlib.figure.Figure at 0x80bc6a0>"
       ]
      }
     ],
     "prompt_number": 48
    },
    {
     "cell_type": "code",
     "collapsed": false,
     "input": [
      "plot(getCountryPlays(countryData[9],days))\n",
      "plt.title(noiseValue[9])"
     ],
     "language": "python",
     "metadata": {},
     "outputs": [
      {
       "metadata": {},
       "output_type": "pyout",
       "prompt_number": 40,
       "text": [
        "<matplotlib.text.Text at 0x97c6630>"
       ]
      },
      {
       "metadata": {},
       "output_type": "display_data",
       "png": "[encoded data removed]",
       "text": [
        "<matplotlib.figure.Figure at 0x979bda0>"
       ]
      }
     ],
     "prompt_number": 40
    },
    {
     "cell_type": "code",
     "collapsed": false,
     "input": [
      "plot(getCountryPlays(countryData[38],days))\n",
      "plt.title(noiseValue[38])"
     ],
     "language": "python",
     "metadata": {},
     "outputs": [
      {
       "metadata": {},
       "output_type": "pyout",
       "prompt_number": 42,
       "text": [
        "<matplotlib.text.Text at 0x9915cf8>"
       ]
      },
      {
       "metadata": {},
       "output_type": "display_data",
       "png": "[encoded data removed]",
       "text": [
        "<matplotlib.figure.Figure at 0x82be8d0>"
       ]
      }
     ],
     "prompt_number": 42
    },
    {
     "cell_type": "code",
     "collapsed": false,
     "input": [
      "plot(getCountryPlays(countryData[49],days))\n",
      "plt.title(noiseValue[49])"
     ],
     "language": "python",
     "metadata": {},
     "outputs": [
      {
       "metadata": {},
       "output_type": "pyout",
       "prompt_number": 51,
       "text": [
        "<matplotlib.text.Text at 0x984d4e0>"
       ]
      },
      {
       "metadata": {},
       "output_type": "display_data",
       "png": "[encoded data removed]",
       "text": [
        "<matplotlib.figure.Figure at 0x9836a90>"
       ]
      }
     ],
     "prompt_number": 51
    },
    {
     "cell_type": "code",
     "collapsed": false,
     "input": [
      "plot(getCountryPlays(countryData[170],days))\n",
      "plt.title(noiseValue[170])"
     ],
     "language": "python",
     "metadata": {},
     "outputs": [
      {
       "metadata": {},
       "output_type": "pyout",
       "prompt_number": 53,
       "text": [
        "<matplotlib.text.Text at 0x83d74e0>"
       ]
      },
      {
       "metadata": {},
       "output_type": "display_data",
       "png": "[encoded data removed]",
       "text": [
        "<matplotlib.figure.Figure at 0x9dfcc50>"
       ]
      }
     ],
     "prompt_number": 53
    },
    {
     "cell_type": "markdown",
     "metadata": {},
     "source": [
      "Zoals we hoopte hebben signalen met een hoge signaal-ruisverhouding een duidelijker ontwikkelingen en zijn dus nuttiger om te gebruiken voor correlaties."
     ]
    },
    {
     "cell_type": "heading",
     "level": 1,
     "metadata": {},
     "source": [
      "Conclusie"
     ]
    },
    {
     "cell_type": "markdown",
     "metadata": {},
     "source": [
      "Mij conclusie is dat de signaal-ruisverhouding duidelijk laat zien dat muzieknummers met veel gegevens een veel betere te gebruiken zijn voor correlatie functies dan muzieknummers met minder gegevens. Deze zegen duidelijk minder over het verloop en laten geen duidelijk positieve of negatieve ontwikkeling zien. Dit is goed te gebruiken voor de onderbouwing waarom er alleen voor de top 50 muzieknummers is gekozen bij de corrletie functies kruiscorrelatie en Pearson-r."
     ]
    }
   ],
   "metadata": {}
  }
 ]
}