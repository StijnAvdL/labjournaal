{
 "metadata": {
  "name": "",
  "signature": "sha256:e94dec5f17974cdc8665dcb37a4a3864ca3bfdb7821c2b393abcc74b57793bf4"
 },
 "nbformat": 3,
 "nbformat_minor": 0,
 "worksheets": [
  {
   "cells": [
    {
     "cell_type": "heading",
     "level": 1,
     "metadata": {},
     "source": [
      "Wat is de uitkomst van de final location pipeline #NP?"
     ]
    },
    {
     "cell_type": "markdown",
     "metadata": {},
     "source": [
      "Datum: 28-04-2015<br>\n",
      "URL: http://nbviewer.ipython.org/github/StijnAvdL/labjournaal/blob/master/04-28%20Uiteindelijke%20pipeline%20%23NP.ipynb<br>\n",
      "Database: MongoDB - #np-tracker"
     ]
    },
    {
     "cell_type": "markdown",
     "metadata": {},
     "source": [
      "We hebben een uiteindelijke een andere pipeline gemaakt in het Mozart project om locatie te bepalen. Met mijn eigen training set wil ik kijken hoeveel % goed gaat. De uiteindelijke pipeline bestaat uit de volgende stappen:\n",
      "<ul>\n",
      "<li>Coordinates</li>\n",
      "<li>Place</li>\n",
      "<li>Locatie & UTC offset</li>\n",
      "</ul>"
     ]
    },
    {
     "cell_type": "heading",
     "level": 2,
     "metadata": {},
     "source": [
      "0: Voorbereiden pipeline"
     ]
    },
    {
     "cell_type": "heading",
     "level": 3,
     "metadata": {},
     "source": [
      "Data"
     ]
    },
    {
     "cell_type": "code",
     "collapsed": false,
     "input": [
      "import json\n",
      "from pprint import pprint\n",
      "import pymongo\n",
      "import datetime\n",
      "import requests\n",
      "import pytz\n",
      "from datetime import datetime, timedelta"
     ],
     "language": "python",
     "metadata": {},
     "outputs": [],
     "prompt_number": 138
    },
    {
     "cell_type": "code",
     "collapsed": false,
     "input": [
      "# Connection to Mongo DB\n",
      "conn = pymongo.MongoClient('localhost', 27017)\n",
      "db = conn['mozart']\n",
      "\n",
      "print('connected to database')"
     ],
     "language": "python",
     "metadata": {},
     "outputs": [
      {
       "output_type": "stream",
       "stream": "stdout",
       "text": [
        "connected to database\n"
       ]
      }
     ],
     "prompt_number": 9
    },
    {
     "cell_type": "code",
     "collapsed": false,
     "input": [
      "tweetsRecords = db.testNp.aggregate(\n",
      "    {\n",
      "        \"$project\": {\n",
      "            \"_id\": 0,\n",
      "            \"utc_offset\": \"$tweet.user.utc_offset\",\n",
      "            \"location\": \"$tweet.user.location\",\n",
      "            \"place\": \"$tweet.place\",\n",
      "            \"coordinates\": \"$tweet.coordinates\",\n",
      "            \"created_at\": \"$tweet.created_at\"\n",
      "        }\n",
      "    }\n",
      ")\n",
      "\n",
      "\n",
      "tweets = list(tweetsRecords['result'])\n",
      "print(\"get records\")"
     ],
     "language": "python",
     "metadata": {},
     "outputs": [
      {
       "output_type": "stream",
       "stream": "stdout",
       "text": [
        "get records\n"
       ]
      }
     ],
     "prompt_number": 170
    },
    {
     "cell_type": "code",
     "collapsed": false,
     "input": [
      "with open('json/zones.json') as data_file:    \n",
      "    zones = json.load(data_file)\n",
      "\n",
      "print('Load zone json')"
     ],
     "language": "python",
     "metadata": {},
     "outputs": [
      {
       "output_type": "stream",
       "stream": "stdout",
       "text": [
        "Load zone json\n"
       ]
      }
     ],
     "prompt_number": 172
    },
    {
     "cell_type": "heading",
     "level": 3,
     "metadata": {},
     "source": [
      "Functions"
     ]
    },
    {
     "cell_type": "code",
     "collapsed": false,
     "input": [
      "def getSuccesRated(tweets):\n",
      "    succes = 0\n",
      "    for tweet in tweets:\n",
      "        if tweet['lon'] != 'null':\n",
      "            succes += 1\n",
      "    print('\\n succes:', round((succes/len(tweets))*100,2),'%')"
     ],
     "language": "python",
     "metadata": {},
     "outputs": [],
     "prompt_number": 173
    },
    {
     "cell_type": "code",
     "collapsed": false,
     "input": [
      "def getLocationByCoordinates(tweet):\n",
      "    if tweet['coordinates'] != None:\n",
      "        geoPoints = (tweet['coordinates']['coordinates'])\n",
      "        i = 0\n",
      "        for geoPoint in geoPoints:\n",
      "            if i == 0:\n",
      "                i = i + 1\n",
      "                tweet['lon'] = geoPoint\n",
      "            else:\n",
      "                tweet['lat'] = geoPoint"
     ],
     "language": "python",
     "metadata": {},
     "outputs": [],
     "prompt_number": 174
    },
    {
     "cell_type": "code",
     "collapsed": false,
     "input": [
      "def getLocationByPlace(tweet):\n",
      "    if tweet['place'] != None and tweet['lon'] == 'null':\n",
      "        geoPoints = (tweet['place']['bounding_box']['coordinates'][0])\n",
      "        i = 0\n",
      "        lon = 0\n",
      "        lat = 0\n",
      "        for geoPoint in geoPoints:\n",
      "            i += 1\n",
      "            j = 0\n",
      "            for lonLat in geoPoint:\n",
      "                if j == 0:\n",
      "                    j += 1\n",
      "                    lon += lonLat\n",
      "                else:\n",
      "                    lat += lonLat\n",
      "        tweet['lon'] = lon/i\n",
      "        tweet['lat'] = lat/i"
     ],
     "language": "python",
     "metadata": {},
     "outputs": [],
     "prompt_number": 175
    },
    {
     "cell_type": "code",
     "collapsed": false,
     "input": [
      "def getLocationByLocationAndUTC(tweet):\n",
      "    succes = False\n",
      "    # ask location\n",
      "    if tweet['utc_offset'] != None and tweet['lon'] == 'null':\n",
      "        # create data of summer or winter time\n",
      "        d = datetime.strptime(tweet['created_at'],'%a %b %d %H:%M:%S %z %Y')\n",
      "        dateTweet = datetime(int(d.strftime('%Y')), int(d.strftime('%m')), int(d.strftime('%d')))\n",
      "        \n",
      "        jsonReturn = requests.get(''.join(['http://twofishes.orikami.eu:8081/?query=', tweet['location']])).json()\n",
      "        # look if there is a location found\n",
      "        if len(jsonReturn['interpretations']) > 0:\n",
      "            lon = jsonReturn['interpretations'][0]['feature']['geometry']['center']['lng']\n",
      "            lat = jsonReturn['interpretations'][0]['feature']['geometry']['center']['lat']\n",
      "            cc = jsonReturn['interpretations'][0]['feature']['cc']\n",
      "            # look through the timeZone \n",
      "            for timeZone in zones[0]['cc'][cc]:\n",
      "                #check if timezone is same as timeZome of user \n",
      "                tz = timezone(timeZone)\n",
      "                utc_seconds = tz.utcoffset(dateTweet, is_dst=True).seconds\n",
      "                if utc_seconds == tweet['utc_offset'] or (utc_seconds - 86400) == tweet['utc_offset']:\n",
      "                    print('Succes', tweet['location'], tweet['utc_offset'])\n",
      "                    succes = True\n",
      "                    break\n",
      "            if succes == False:\n",
      "                print('Failed', tweet['location'], tweet['utc_offset'])\n",
      "    return succes"
     ],
     "language": "python",
     "metadata": {},
     "outputs": [],
     "prompt_number": 178
    },
    {
     "cell_type": "heading",
     "level": 2,
     "metadata": {},
     "source": [
      "1: Coordinates"
     ]
    },
    {
     "cell_type": "code",
     "collapsed": false,
     "input": [
      "tweetsWithGeo = tweets\n",
      "for tweet in tweetsWithGeo:\n",
      "    tweet['lon'] = 'null'\n",
      "    tweet['lat'] = 'null'\n",
      "    getLocationByCoordinates(tweet)\n",
      "\n",
      "getSuccesRated(tweetsWithGeo)"
     ],
     "language": "python",
     "metadata": {},
     "outputs": [
      {
       "output_type": "stream",
       "stream": "stdout",
       "text": [
        "\n",
        " succes: 2.0 %\n"
       ]
      }
     ],
     "prompt_number": 176
    },
    {
     "cell_type": "heading",
     "level": 2,
     "metadata": {},
     "source": [
      "2: Place"
     ]
    },
    {
     "cell_type": "code",
     "collapsed": false,
     "input": [
      "for tweet in tweetsWithGeo:\n",
      "    getLocationByPlace(tweet)\n",
      "getSuccesRated(tweetsWithGeo)"
     ],
     "language": "python",
     "metadata": {},
     "outputs": [
      {
       "output_type": "stream",
       "stream": "stdout",
       "text": [
        "\n",
        " succes: 2.0 %\n"
       ]
      }
     ],
     "prompt_number": 177
    },
    {
     "cell_type": "heading",
     "level": 2,
     "metadata": {},
     "source": [
      "3: Location & UTC offset"
     ]
    },
    {
     "cell_type": "markdown",
     "metadata": {},
     "source": [
      "De location & time_zone is vervangen voor location & UTC offset. Deze functie haalt de land op waarin de location veld ligt. Van het gevonden land worden de UTC offset opgevraagd en vervolgens gecontroleerd of deze overeenkomt met de UTC offset van de tweet object. Indien die kloppen wordt de locatie vertrouwend. "
     ]
    },
    {
     "cell_type": "code",
     "collapsed": false,
     "input": [
      "succesRated = 0\n",
      "for tweet in tweetsWithGeo:\n",
      "    s = getLocationByLocationAndUTC(tweet)\n",
      "    if s:\n",
      "        succesRated += 1"
     ],
     "language": "python",
     "metadata": {},
     "outputs": [
      {
       "output_type": "stream",
       "stream": "stdout",
       "text": [
        "Failed Sun 28800\n",
        "Succes"
       ]
      },
      {
       "output_type": "stream",
       "stream": "stdout",
       "text": [
        " Deerfield Beach, Florida -14400\n",
        "Succes"
       ]
      },
      {
       "output_type": "stream",
       "stream": "stdout",
       "text": [
        " Chicago (USA) & Worldwide -18000\n",
        "Succes Virginia -14400\n",
        "Succes"
       ]
      },
      {
       "output_type": "stream",
       "stream": "stdout",
       "text": [
        " Rimba Aceh 25200\n",
        "Succes Wide Awake -14400\n",
        "Succes"
       ]
      },
      {
       "output_type": "stream",
       "stream": "stdout",
       "text": [
        " Naples,florida. -18000\n",
        "Succes SE London 0\n",
        "Succes"
       ]
      },
      {
       "output_type": "stream",
       "stream": "stdout",
       "text": [
        " MANILA, PHILIPPINES 28800\n",
        "Succes"
       ]
      },
      {
       "output_type": "stream",
       "stream": "stdout",
       "text": [
        " Poland 7200\n",
        "Succes Delaware -18000\n",
        "Succes"
       ]
      },
      {
       "output_type": "stream",
       "stream": "stdout",
       "text": [
        " Virginia -14400\n",
        "Succes"
       ]
      },
      {
       "output_type": "stream",
       "stream": "stdout",
       "text": [
        " Wide Awake -14400\n",
        "Succes"
       ]
      },
      {
       "output_type": "stream",
       "stream": "stdout",
       "text": [
        " Burlington, ON Canada -14400\n",
        "Succes Tokyo 32400\n",
        "Succes"
       ]
      },
      {
       "output_type": "stream",
       "stream": "stdout",
       "text": [
        " EVERYWHERE YOU'RE NOT -18000\n",
        "Succes Boogerville, Texas -18000\n",
        "Succes"
       ]
      },
      {
       "output_type": "stream",
       "stream": "stdout",
       "text": [
        " South Carolina -14400\n",
        "Succes"
       ]
      },
      {
       "output_type": "stream",
       "stream": "stdout",
       "text": [
        " Wide Awake -14400\n",
        "Succes"
       ]
      },
      {
       "output_type": "stream",
       "stream": "stdout",
       "text": [
        " Sintra, Portugal 0\n",
        "Succes"
       ]
      },
      {
       "output_type": "stream",
       "stream": "stdout",
       "text": [
        " Virginia -14400\n",
        "Succes"
       ]
      },
      {
       "output_type": "stream",
       "stream": "stdout",
       "text": [
        " Athens, Greece 7200\n",
        "Failed 221B Baker Street. London 10800\n",
        "Succes"
       ]
      },
      {
       "output_type": "stream",
       "stream": "stdout",
       "text": [
        " Leitrim Ireland 0\n"
       ]
      }
     ],
     "prompt_number": 179
    },
    {
     "cell_type": "code",
     "collapsed": false,
     "input": [
      "succes = 0\n",
      "for tweet in tweetsWithGeo:\n",
      "    if tweet['lon'] != 'null':\n",
      "        succes += 1\n",
      "succes += succesRated\n",
      "print('\\n succes:', round((succes/len(tweetsWithGeo))*100,2),'%')"
     ],
     "language": "python",
     "metadata": {},
     "outputs": [
      {
       "output_type": "stream",
       "stream": "stdout",
       "text": [
        "\n",
        " succes: 46.0 %\n"
       ]
      }
     ],
     "prompt_number": 180
    },
    {
     "cell_type": "heading",
     "level": 1,
     "metadata": {},
     "source": [
      "Conclusie"
     ]
    },
    {
     "cell_type": "markdown",
     "metadata": {},
     "source": [
      "Deze pipeline zal ongeveer 46% van de tweets locatie bepalen. Dit is erg goed. Tevens hebben we het probleem van de twitter api omzeilt door de locatie niet te bepalen adhv van de friends. Wel vind ik de resultaat <b>EVERYWHERE YOU'RE NOT</b> en 2 keer <b>Wide Awake</b> waar de locatie van goed gekeurd is niet kloppen. Maar voor nu accpteren wij deze fout margin omdat dit vrijwel onmogelijk is om volledig 100% goed te doen. "
     ]
    }
   ],
   "metadata": {}
  }
 ]
}