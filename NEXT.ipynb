{
 "metadata": {
  "name": "",
  "signature": "sha256:aec87d19b72a8f0713c692569c54d2bcd39fe7de6053731c15b78818e4b1f6cc"
 },
 "nbformat": 3,
 "nbformat_minor": 0,
 "worksheets": [
  {
   "cells": [
    {
     "cell_type": "code",
     "collapsed": false,
     "input": [
      "def plotBarNoiseCountry(countryCode, top50):\n",
      "    # get data\n",
      "    query = db.npCountryTop500.find({'cc': countryCode}).sort({'value.total': -1})\n",
      "    countryData = list(query)\n",
      "    \n",
      "    # get noise data\n",
      "    arrayNoise = []\n",
      "    for data in countryData:\n",
      "        if data['top50'] == top50:\n",
      "            songData = getCountryPlays(data,days)\n",
      "            arrayNoise.append(getNoiseSignal(songData))\n",
      "    \n",
      "    # edit data\n",
      "    return arrayNoise"
     ],
     "language": "python",
     "metadata": {},
     "outputs": [],
     "prompt_number": 1
    },
    {
     "cell_type": "code",
     "collapsed": false,
     "input": [
      "def cluster(data):\n",
      "    numberFloorArray = []\n",
      "    arrayCluster = []\n",
      "    i = 0\n",
      "    \n",
      "    # floor all numbers\n",
      "    for d in data:\n",
      "        numberFloorArray.append(floor(d))\n",
      "    \n",
      "    # count numbers\n",
      "    maxNumber = max(numberFloorArray)\n",
      "    while i <= maxNumber:\n",
      "        arrayCluster.append(numberFloorArray.count(i))\n",
      "        i += 1\n",
      "    return arrayCluster"
     ],
     "language": "python",
     "metadata": {},
     "outputs": []
    },
    {
     "cell_type": "code",
     "collapsed": false,
     "input": [
      "top50 = plotBarNoiseCountry('NL', 1)\n",
      "top50 = sort(top50)\n",
      "maxTop = max(top50)\n",
      "minTop = min(top50)"
     ],
     "language": "python",
     "metadata": {},
     "outputs": []
    },
    {
     "cell_type": "code",
     "collapsed": false,
     "input": [
      "i = 0\n",
      "minAmount = minTop\n",
      "arrayONzin = []\n",
      "meanWhileData = top50\n",
      "while i < 8:\n",
      "    maxAmount = (maxTop - minAmount) / 8 * i + minAmount\n",
      "    print(maxAmount)\n",
      "    amount = 0\n",
      "    indexArray = 0\n",
      "    \n",
      "    for point in meanWhileData:\n",
      "        if point <= maxAmount and point >= minAmount:\n",
      "            amount += 1\n",
      "        indexArray += 1\n",
      "    minAmount = maxAmount\n",
      "    arrayONzin.append(amount)\n",
      "    i += 1"
     ],
     "language": "python",
     "metadata": {},
     "outputs": []
    },
    {
     "cell_type": "code",
     "collapsed": false,
     "input": [
      "yNumbers = []\n",
      "i = 0\n",
      "while i < 8:\n",
      "   # yNumbers.append(round((maxTop - minTop) / 8 * i + minTop, 2))\n",
      "    newV = round((maxTop - minTop) / 8 * i + minTop, 2)\n",
      "    a = str(newV)\n",
      "    yNumbers.append(a)\n",
      "    i += 1\n",
      "# yNumbers"
     ],
     "language": "python",
     "metadata": {},
     "outputs": []
    },
    {
     "cell_type": "code",
     "collapsed": false,
     "input": [
      "width = 0.35  \n",
      "ind = np.arange(len(arrayONzin))\n",
      "\n",
      "fig, ax = plt.subplots()\n",
      "rects1 = ax.bar(ind, arrayONzin, width, color='r')\n",
      "\n",
      "ax.set_xticks(ind+width)\n",
      "ax.set_xticklabels( (yNumbers) )\n",
      "\n",
      "plt.show()"
     ],
     "language": "python",
     "metadata": {},
     "outputs": []
    },
    {
     "cell_type": "code",
     "collapsed": false,
     "input": [
      "width = 0.35  \n",
      "ind = np.arange(len(arrayONzin))\n",
      "\n",
      "fig, ax = plt.subplots()\n",
      "rects1 = ax.bar(ind, arrayONzin, width, color='r')\n",
      "\n",
      "ax.set_xticks(ind+width)\n",
      "ax.set_xticklabels( (yNumbers) )\n",
      "\n",
      "plt.show()"
     ],
     "language": "python",
     "metadata": {},
     "outputs": []
    },
    {
     "cell_type": "code",
     "collapsed": false,
     "input": [
      "width = 0.35  \n",
      "ind = np.arange(len(arrayONzin))\n",
      "\n",
      "fig, ax = plt.subplots()\n",
      "rects1 = ax.bar(ind, arrayONzin, width, color='r')\n",
      "\n",
      "plt.show()"
     ],
     "language": "python",
     "metadata": {},
     "outputs": []
    },
    {
     "cell_type": "code",
     "collapsed": false,
     "input": [
      "width = 0.35  \n",
      "ind = np.arange(len(top50))\n",
      "\n",
      "fig, ax = plt.subplots()\n",
      "rects1 = ax.bar(ind, top50, width, color='r')\n",
      "\n",
      "plt.show()"
     ],
     "language": "python",
     "metadata": {},
     "outputs": []
    },
    {
     "cell_type": "code",
     "collapsed": false,
     "input": [
      "N = 7\n",
      "menMeans = (20, 35, 30, 35, 27)\n",
      "# menStd =   (2, 3, 4, 1, 2)\n",
      "\n",
      "ind = np.arange(N)  # the x locations for the groups\n",
      "width = 0.35       # the width of the bars\n",
      "\n",
      "fig, ax = plt.subplots()\n",
      "rects1 = ax.bar(ind, top50, width, color='r')\n",
      "\n",
      "womenMeans = (25, 32, 34, 20, 25)\n",
      "rects2 = ax.bar(ind+width, top500, width, color='y')\n",
      "\n",
      "# add some text for labels, title and axes ticks\n",
      "ax.set_ylabel('Amount Noise')\n",
      "ax.set_title('Noise score for Top 500 songs')\n",
      "ax.set_xticks(ind+width)\n",
      "# ax.set_xticklabels( ('G1', 'G2', 'G3', 'G4', 'G5') )\n",
      "\n",
      "ax.legend( (rects1[0], rects2[0]), ('Top 50', 'Top 500') )\n",
      "\n",
      "plt.show()"
     ],
     "language": "python",
     "metadata": {},
     "outputs": []
    }
   ],
   "metadata": {}
  }
 ]
}