{
 "metadata": {
  "name": "",
  "signature": "sha256:eb9cdaaebe70e2e8e1f4367dc766b8d990e48db51fac7e9768ad7d8370ba002c"
 },
 "nbformat": 3,
 "nbformat_minor": 0,
 "worksheets": [
  {
   "cells": [
    {
     "cell_type": "heading",
     "level": 1,
     "metadata": {},
     "source": [
      "Hoe goed werkt locatie bepalen adhv van vrienden op Twitter?"
     ]
    },
    {
     "cell_type": "markdown",
     "metadata": {},
     "source": [
      "Datum: 16-04-2015 t/m 20-04-2015<br>\n",
      "URL: http://nbviewer.ipython.org/github/StijnAvdL/labjournaal/blob/master/04-16%20Pipeline%20locatie%20tweet.ipynb <br>\n",
      "Database: MongoDB - #NP tracker"
     ]
    },
    {
     "cell_type": "markdown",
     "metadata": {},
     "source": [
      "Bij mij vorige labjournaal <a href=\"http://nbviewer.ipython.org/github/StijnAvdL/labjournaal/blob/master/04-03%20Test%20estimate%20location%20functions.ipynb\">Test estimate location functions</a>, ben ik begonnen met het uitzoeken of de locatie van vrienden gebruikt kan worden om de locatie van de tweet te achterhalen. Tijdens deze labjournaal ga ik verder onderzoeken of dit bruikbaar is om vervolgens een eerste versie van de pipeline te maken."
     ]
    },
    {
     "cell_type": "heading",
     "level": 2,
     "metadata": {},
     "source": [
      "Tweet data en train set ophalen"
     ]
    },
    {
     "cell_type": "markdown",
     "metadata": {},
     "source": [
      "Voor ik aan de slag ga met de locatie bepalen adhv de vrienden locatie zet ik eerste mijn training set tweet en database gegeven in deze labjournaal om ermee te kunnen werken."
     ]
    },
    {
     "cell_type": "code",
     "collapsed": false,
     "input": [
      "import json\n",
      "from pprint import pprint\n",
      "import pymongo\n",
      "import tweepy\n",
      "import datetime\n",
      "from collections import Counter\n",
      "import re\n",
      "from geopy.geocoders import Nominatim\n",
      "from pygeocoder import Geocoder\n",
      "from pygeolib import GeocoderError\n",
      "from time import sleep"
     ],
     "language": "python",
     "metadata": {},
     "outputs": [],
     "prompt_number": 1
    },
    {
     "cell_type": "code",
     "collapsed": false,
     "input": [
      "# Connection to Mongo DB\n",
      "conn = pymongo.MongoClient('localhost', 27017)\n",
      "db = conn['mozart']\n",
      "\n",
      "print('connected to database')"
     ],
     "language": "python",
     "metadata": {},
     "outputs": [
      {
       "output_type": "stream",
       "stream": "stdout",
       "text": [
        "connected to database\n"
       ]
      }
     ],
     "prompt_number": 2
    },
    {
     "cell_type": "code",
     "collapsed": false,
     "input": [
      "tweetsRecords = db.testNp.aggregate(\n",
      "    {\n",
      "        \"$project\": {\n",
      "            \"_id\": 0,\n",
      "            \"userId\": \"$tweet.user.id\",\n",
      "            \"tweetId\": \"$tweet.id_str\",\n",
      "            \"geo\": \"$tweet.geo\",\n",
      "            \"lang_user\": \"$tweet.user.lang\",\n",
      "            \"time_zone\": \"$tweet.user.time_zone\",\n",
      "            \"utc_offset\": \"$tweet.user.utc_offset\",\n",
      "            \"location\": \"$tweet.user.location\",\n",
      "            \"place\": \"$tweet.place\",\n",
      "            \"coordinates\": \"$tweet.coordinates\",\n",
      "            \"tweet\": \"$tweet.text\",\n",
      "            \"friends\": \"$tweet.user.friends_count\",\n",
      "            \"followers\": \"$tweet.user.followers_count\"\n",
      "        }\n",
      "    }\n",
      ")\n",
      "\n",
      "\n",
      "tweets = list(tweetsRecords['result'])\n",
      "print(\"get records\")"
     ],
     "language": "python",
     "metadata": {},
     "outputs": [
      {
       "output_type": "stream",
       "stream": "stdout",
       "text": [
        "get records\n"
       ]
      }
     ],
     "prompt_number": 3
    },
    {
     "cell_type": "code",
     "collapsed": false,
     "input": [
      "with open('json/npTestTweets2.json') as data_file:    \n",
      "    data = json.load(data_file)\n",
      "\n",
      "print('Load test json')"
     ],
     "language": "python",
     "metadata": {},
     "outputs": [
      {
       "output_type": "stream",
       "stream": "stdout",
       "text": [
        "Load test json\n"
       ]
      }
     ],
     "prompt_number": 4
    },
    {
     "cell_type": "code",
     "collapsed": false,
     "input": [
      "consumer_key=\"\"\n",
      "consumer_secret=\"\"\n",
      "access_token=\"\"\n",
      "access_token_secret=\"\"\n",
      "\n",
      "auth = tweepy.OAuthHandler(consumer_key, consumer_secret)\n",
      "auth.secure = True\n",
      "auth.set_access_token(access_token, access_token_secret)\n",
      "\n",
      "api = tweepy.API(auth)\n",
      "\n",
      "# If the authentication was successful, you should\n",
      "# see the name of the account print out\n",
      "print(api.me().name)"
     ],
     "language": "python",
     "metadata": {},
     "outputs": [
      {
       "output_type": "stream",
       "stream": "stdout",
       "text": [
        "Andres Lamont\n"
       ]
      }
     ],
     "prompt_number": 4
    },
    {
     "cell_type": "heading",
     "level": 2,
     "metadata": {},
     "source": [
      "Functies vrienden toevoegen in database"
     ]
    },
    {
     "cell_type": "markdown",
     "metadata": {},
     "source": [
      "Om de vrienden gegevens die ik ophaal van twitter herbruikbaar te maken wil ik ze opslaan in een database. Deze functie hieronder zullen hiervoor zorgen."
     ]
    },
    {
     "cell_type": "code",
     "collapsed": false,
     "input": [
      "def insertTwitterUserFriends(userId, friendsId):\n",
      "    if db.twitterUserFriends.find({'id': userId}).count() == 0:\n",
      "        db.twitterUserFriends.insert({'id': userId, 'friends': friendsId})\n",
      "    else:\n",
      "        db.twitterUserFriends.update({'id': userId}, {'$push': {'friends': { '$each': friendsId}}})"
     ],
     "language": "python",
     "metadata": {},
     "outputs": [],
     "prompt_number": 5
    },
    {
     "cell_type": "code",
     "collapsed": false,
     "input": [
      "def insertTwitterUser(user):\n",
      "    if 'status' not in user:\n",
      "        db.twitterUser.insert({\n",
      "            'id': user['id'],\n",
      "            'time_zone': user['time_zone'],\n",
      "            'location': user['location'],\n",
      "            'listed_count': user['listed_count'],\n",
      "            'favourites_count': user['favourites_count'],\n",
      "            'screen_name': user['screen_name'],\n",
      "            'lang': user['lang'],\n",
      "            'statuses_count': user['statuses_count'],\n",
      "            'entities': user['entities'],\n",
      "            'friends_count': user['friends_count'],\n",
      "            'name': user['name'],\n",
      "            'description': user['description'],\n",
      "            'followers_count': user['followers_count'],\n",
      "            'created_at': user['created_at'],\n",
      "            'url': user['url'],\n",
      "            'time_retrieved': datetime.datetime.now()\n",
      "        })\n",
      "    else:\n",
      "        db.twitterUser.insert({\n",
      "            'id': user['id'],\n",
      "            'time_zone': user['time_zone'],\n",
      "            'location': user['location'],\n",
      "            'status_coordinates': user['status']['coordinates'],\n",
      "            'status_place': user['status']['place'],\n",
      "            'status_entities': user['status']['entities'],\n",
      "            'listed_count': user['listed_count'],\n",
      "            'favourites_count': user['favourites_count'],\n",
      "            'screen_name': user['screen_name'],\n",
      "            'lang': user['lang'],\n",
      "            'statuses_count': user['statuses_count'],\n",
      "            'entities': user['entities'],\n",
      "            'friends_count': user['friends_count'],\n",
      "            'name': user['name'],\n",
      "            'description': user['description'],\n",
      "            'followers_count': user['followers_count'],\n",
      "            'created_at': user['created_at'],\n",
      "            'url': user['url'],\n",
      "            'time_retrieved': datetime.datetime.now()\n",
      "        })"
     ],
     "language": "python",
     "metadata": {},
     "outputs": [],
     "prompt_number": 6
    },
    {
     "cell_type": "code",
     "collapsed": false,
     "input": [
      "def insertTwitterFriends(userId, friends):\n",
      "    i = 0\n",
      "    friendsIdString = []\n",
      "    friends = []\n",
      "    twitterFriendIds = []\n",
      "    \n",
      "    # getting friendsId from Twitter API and add new Twitter user in db\n",
      "    if db.twitterUserFriends.find({'id': userId}).count() == 0: \n",
      "        try:\n",
      "            if friends == True:\n",
      "                twitterFriendIds = api.friends_ids(userId)\n",
      "            else:\n",
      "                twitterFriendIds = api.followers_ids(userId)\n",
      "        except Exception:\n",
      "            print('user doesnt exsist or to many request')\n",
      "            twitterFriendIds = []\n",
      "        for friendId in twitterFriendIds:\n",
      "            if i < 400 and db.twitterUser.find({'id': friendId}).count() == 0:\n",
      "                i += 1\n",
      "                friendsIdString.append(friendId)\n",
      "                if i % 100 == 0 and i <= 400:\n",
      "                    friends.extend(api.lookup_users(friendsIdString))\n",
      "                    insertTwitterUserFriends(userId, friendsIdString)\n",
      "                    friendsIdString = []\n",
      "\n",
      "        if i % 100 != 0:\n",
      "            friends.extend(api.lookup_users(friendsIdString))\n",
      "            insertTwitterUserFriends(userId, friendsIdString)\n",
      "        # insert new twitter users\n",
      "        for friend in friends:\n",
      "            insertTwitterUser(friend._json)\n",
      "    print('done insert friends:', userId)"
     ],
     "language": "python",
     "metadata": {},
     "outputs": [],
     "prompt_number": 7
    },
    {
     "cell_type": "code",
     "collapsed": false,
     "input": [
      "insertTwitterFriends(1541125507, True)"
     ],
     "language": "python",
     "metadata": {},
     "outputs": [
      {
       "output_type": "stream",
       "stream": "stdout",
       "text": [
        "done insert friends: 1541125507\n"
       ]
      }
     ],
     "prompt_number": 9
    },
    {
     "cell_type": "heading",
     "level": 2,
     "metadata": {},
     "source": [
      "Functies locaties ophalen van vrienden"
     ]
    },
    {
     "cell_type": "markdown",
     "metadata": {},
     "source": [
      "Deze funtie halen van de vrienden de 3 meest gebruikte worden in de locatie veld op."
     ]
    },
    {
     "cell_type": "code",
     "collapsed": false,
     "input": [
      "def getTwitterUserFriendsLocation(userId):\n",
      "    friends = []\n",
      "    # get friendsIds\n",
      "    row = db.twitterUserFriends.aggregate([\n",
      "        { '$match': {'id': userId } },\n",
      "        { '$project': {'_id': 0, 'friends': '$friends'} }\n",
      "    ])\n",
      "    if len(row['result']) > 0:\n",
      "        friendsIds = row['result'][0]['friends']\n",
      "\n",
      "        for friendsId in friendsIds:\n",
      "            # get friendsLocation\n",
      "            f = db.twitterUser.aggregate([\n",
      "                { '$match': {'id': friendsId } },\n",
      "                { '$project': {'_id': 0, 'location': '$location'} }\n",
      "            ])\n",
      "            # check if user exsist\n",
      "            if len(f['result']) > 0:\n",
      "                friends.append(f['result'][0])\n",
      "    return friends"
     ],
     "language": "python",
     "metadata": {},
     "outputs": [],
     "prompt_number": 8
    },
    {
     "cell_type": "code",
     "collapsed": false,
     "input": [
      "locationFriends = getTwitterUserFriendsLocation(1541125507)"
     ],
     "language": "python",
     "metadata": {},
     "outputs": [],
     "prompt_number": 11
    },
    {
     "cell_type": "code",
     "collapsed": false,
     "input": [
      "def countLocationWords(locactionFriends):\n",
      "    words = []\n",
      "    for locationFriend in locactionFriends:\n",
      "        if isinstance(locationFriend, str):\n",
      "            locationFriend = re.sub(r'\\W+', ' ', locationFriend.lower())\n",
      "            words.extend(locationFriend.split())\n",
      "    wordsCount = Counter(words)\n",
      "\n",
      "    # print % of 3 most use words\n",
      "    for word in wordsCount.most_common(5):\n",
      "        print(word[0], ':', round((word[1]/len(locactionFriends))*100,2),'%')\n",
      "    return wordsCount"
     ],
     "language": "python",
     "metadata": {},
     "outputs": [],
     "prompt_number": 9
    },
    {
     "cell_type": "code",
     "collapsed": false,
     "input": [
      "locationArray = []\n",
      "for locationFriend in locationFriends:\n",
      "    locationArray.append(locationFriend['location'])\n",
      "countLocationWords(locationArray)\n",
      "print('done')"
     ],
     "language": "python",
     "metadata": {},
     "outputs": [
      {
       "output_type": "stream",
       "stream": "stdout",
       "text": [
        "ca : 5.25 %\n",
        "new : 5.0 %\n",
        "york : 3.75 %\n",
        "usa : 3.5 %\n",
        "canada : 3.5 %\n",
        "done\n"
       ]
      }
     ],
     "prompt_number": 13
    },
    {
     "cell_type": "heading",
     "level": 2,
     "metadata": {},
     "source": [
      "1ste test groep klaar zetten"
     ]
    },
    {
     "cell_type": "code",
     "collapsed": false,
     "input": [
      "twitterUsers = [[5, 2540752582, True],\n",
      "[7, 1541125507, True],\n",
      "[15, 403794270, True],\n",
      "[16, 2685291049, True],\n",
      "[18, 88568934, True],\n",
      "[19, 65086276, True],\n",
      "[21, 1663193906, True],\n",
      "[41, 25368824, True],\n",
      "[42, 474184091, True],\n",
      "[43, 274579593, True],\n",
      "[45, 888673332, True],\n",
      "[46, 2591935236, True],\n",
      "[48, 2653651861, True],\n",
      "[49, 406474436, True]]\n",
      "for user in twitterUsers:\n",
      "    insertTwitterFriends(user[1], user[2])"
     ],
     "language": "python",
     "metadata": {},
     "outputs": [
      {
       "output_type": "stream",
       "stream": "stdout",
       "text": [
        "done insert friends: 2540752582\n",
        "done insert friends: 1541125507\n",
        "done insert friends: 403794270\n",
        "done insert friends: 2685291049\n",
        "done insert friends: 88568934\n",
        "done insert friends: 65086276\n",
        "done insert friends: 1663193906\n",
        "done insert friends: 25368824\n",
        "done insert friends: 474184091\n",
        "done insert friends: 274579593\n",
        "done insert friends: 888673332\n",
        "done insert friends: 2591935236\n",
        "done insert friends: 2653651861\n",
        "done insert friends: 406474436\n"
       ]
      }
     ],
     "prompt_number": 28
    },
    {
     "cell_type": "heading",
     "level": 2,
     "metadata": {},
     "source": [
      "Locatie bepalen adhv vrienden locatie"
     ]
    },
    {
     "cell_type": "markdown",
     "metadata": {},
     "source": [
      "Met deze functie bepaal ik de locatie van de tweet adhv van de vrienden locaties. Vervolgens controleer ik of de locatie in de buurt ligt van de locatie die ik heb bepaald tijdens mij research op twitter."
     ]
    },
    {
     "cell_type": "code",
     "collapsed": false,
     "input": [
      "def getLocationByFriendsLocations(friendLocations, indexId, amountSearchWords, pipeline, data):\n",
      "    locationString = []\n",
      "    (lat, lon) = ('null', 'null')\n",
      "    if len(friendLocations) > amountSearchWords:       \n",
      "        while amountSearchWords >= 2 and lat == 'null':\n",
      "            locationString = getSearchLocation(friendLocations, amountSearchWords)\n",
      "            print(locationString)\n",
      "            try:\n",
      "                results  = Geocoder.geocode(locationString)\n",
      "                sleep(0.2)\n",
      "                (lat, lon) = results[0].coordinates\n",
      "            except GeocoderError:\n",
      "                (lat, lon) = ('null', 'null')\n",
      "                amountSearchWords -= 1\n",
      "        \n",
      "        if lon != 'null' and data[indexId]['lon'] != None:\n",
      "            if lon >= (data[indexId]['lon'] - 5) and lon <= (data[indexId]['lon'] + 5) and lat >= (data[indexId]['lat'] - 5) and lat <= (data[indexId]['lat'] + 5):\n",
      "                print(indexId,'SUCCESED:', data[indexId]['lon'], data[indexId]['lat'], '<<TEST - FRIENDS>>:',lon,lat)\n",
      "            else:\n",
      "                print(indexId,'FAILED:', data[indexId]['lon'], data[indexId]['lat'], '<<TEST - FRIENDS>>',lon,lat)\n",
      "                (lat, lon) = ('null', 'null')\n",
      "        else:\n",
      "            print(indexId,'NONE:', data[indexId]['lon'], data[indexId]['lat'], '<<TEST - FRIENDS>>:',lon,lat)\n",
      "    else:\n",
      "        print(indexId,'No friends :O')\n",
      "    if pipeline == True:\n",
      "        return (lon,lat)"
     ],
     "language": "python",
     "metadata": {},
     "outputs": [],
     "prompt_number": 27
    },
    {
     "cell_type": "code",
     "collapsed": false,
     "input": [
      "def getSearchLocation(friendLocations, amount):\n",
      "    searchString = ''\n",
      "    locArray = []\n",
      "    i = 0\n",
      "    while i < amount:\n",
      "        locArray.append(friendLocations.most_common(amount)[i][0])\n",
      "        i += 1\n",
      "    locationString = ' '.join(locArray)\n",
      "    return locationString"
     ],
     "language": "python",
     "metadata": {},
     "outputs": [],
     "prompt_number": 11
    },
    {
     "cell_type": "code",
     "collapsed": false,
     "input": [
      "for twitterUser in twitterUsers:\n",
      "    locationArray = []\n",
      "    locationFriends = getTwitterUserFriendsLocation(twitterUser[1])\n",
      "    for locationFriend in locationFriends:\n",
      "        locationArray.append(locationFriend['location'])\n",
      "    getLocationByFriendsLocations(countLocationWords(locationArray),twitterUser[0], 3, False)\n",
      "    print('--------------------')"
     ],
     "language": "python",
     "metadata": {},
     "outputs": [
      {
       "output_type": "stream",
       "stream": "stdout",
       "text": [
        "\u0431\u0435\u043b\u0430\u0440\u0443\u0441\u044c : 5.0 %\n",
        "ukraine : 5.0 %\n",
        "only : 2.5 %\n",
        "kaitea : 2.5 %\n",
        "\u0432\u0441\u0435 : 2.5 %\n",
        "\u0431\u0435\u043b\u0430\u0440\u0443\u0441\u044c ukraine only\n",
        "\u0431\u0435\u043b\u0430\u0440\u0443\u0441\u044c ukraine"
       ]
      },
      {
       "output_type": "stream",
       "stream": "stdout",
       "text": [
        "\n",
        "5"
       ]
      },
      {
       "output_type": "stream",
       "stream": "stdout",
       "text": [
        " SUCCESED: 30.5037868 50.4467311 <<TEST - FRIENDS>>: 30.5037868 50.4467311\n",
        "--------------------\n",
        "ca"
       ]
      },
      {
       "output_type": "stream",
       "stream": "stdout",
       "text": [
        " : 5.25 %\n",
        "new : 5.0 %\n",
        "york : 3.75 %\n",
        "usa : 3.5 %\n",
        "canada : 3.5 %\n",
        "ca new york\n",
        "7"
       ]
      },
      {
       "output_type": "stream",
       "stream": "stdout",
       "text": [
        " SUCCESED: -74.21793260000001 43.2994285 <<TEST - FRIENDS>>: -74.21793260000001 43.2994285\n",
        "--------------------\n",
        "houston"
       ]
      },
      {
       "output_type": "stream",
       "stream": "stdout",
       "text": [
        " : 12.0 %\n",
        "tx : 8.5 %\n",
        "in : 5.75 %\n",
        "the : 4.75 %\n",
        "atl : 4.5 %\n",
        "houston tx in\n",
        "15"
       ]
      },
      {
       "output_type": "stream",
       "stream": "stdout",
       "text": [
        " SUCCESED: -95.501984 29.715444 <<TEST - FRIENDS>>: -95.3698028 29.7604267\n",
        "--------------------\n",
        "\u043c\u043e\u0441\u043a\u0432\u0430"
       ]
      },
      {
       "output_type": "stream",
       "stream": "stdout",
       "text": [
        " : 4.0 %\n",
        "russia : 3.0 %\n",
        "ukraine : 2.75 %\n",
        "\u043c\u0430\u043d\u0441\u0438\u0439\u0441\u043a : 2.25 %\n",
        "\u0445\u0430\u043d\u0442\u044b : 2.25 %\n",
        "\u043c\u043e\u0441\u043a\u0432\u0430 russia ukraine\n",
        "16"
       ]
      },
      {
       "output_type": "stream",
       "stream": "stdout",
       "text": [
        " SUCCESED: 37.6173 55.755826 <<TEST - FRIENDS>>: 37.566 55.75300000000001\n",
        "--------------------\n",
        "jamaica"
       ]
      },
      {
       "output_type": "stream",
       "stream": "stdout",
       "text": [
        " : 15.25 %\n",
        "kingston : 5.5 %\n",
        "london : 4.25 %\n",
        "ca : 3.25 %\n",
        "usa : 3.25 %\n",
        "jamaica kingston london\n",
        "18"
       ]
      },
      {
       "output_type": "stream",
       "stream": "stdout",
       "text": [
        " FAILED: -75.524368 39.158168 <<TEST - FRIENDS>> -76.8686785 17.9812473\n",
        "--------------------\n",
        "new"
       ]
      },
      {
       "output_type": "stream",
       "stream": "stdout",
       "text": [
        " : 6.63 %\n",
        "jersey : 6.08 %\n",
        "nj : 3.87 %\n",
        "uk : 3.87 %\n",
        "lawrenceville : 2.76 %\n",
        "new jersey nj\n",
        "19"
       ]
      },
      {
       "output_type": "stream",
       "stream": "stdout",
       "text": [
        " SUCCESED: -74.741221 40.280965 <<TEST - FRIENDS>>: -74.4056612 40.0583238\n",
        "--------------------\n",
        "viseu"
       ]
      },
      {
       "output_type": "stream",
       "stream": "stdout",
       "text": [
        " : 40.0 %\n",
        "portugal : 5.71 %\n",
        "visa : 3.81 %\n",
        "city : 1.9 %\n",
        "coimbra : 1.9 %\n",
        "viseu portugal visa\n",
        "21"
       ]
      },
      {
       "output_type": "stream",
       "stream": "stdout",
       "text": [
        " SUCCESED: -7.9124712 40.6565861 <<TEST - FRIENDS>>: -7.9124712 40.6565861\n",
        "--------------------\n",
        "22 No friends :O\n",
        "--------------------\n",
        "london"
       ]
      },
      {
       "output_type": "stream",
       "stream": "stdout",
       "text": [
        " : 5.25 %\n",
        "uk : 3.5 %\n",
        "worldwide : 3.25 %\n",
        "ny : 3.0 %\n",
        "ca : 2.75 %\n",
        "london uk worldwide\n",
        "46"
       ]
      },
      {
       "output_type": "stream",
       "stream": "stdout",
       "text": [
        " FAILED: -75.165222 39.952584 <<TEST - FRIENDS>> -0.0987733 51.4257374\n",
        "--------------------\n",
        "portugal"
       ]
      },
      {
       "output_type": "stream",
       "stream": "stdout",
       "text": [
        " : 4.75 %\n",
        "brasil : 3.5 %\n",
        "lisboa : 2.0 %\n",
        "com : 2.0 %\n",
        "brazil : 1.75 %\n",
        "portugal brasil lisboa\n",
        "48"
       ]
      },
      {
       "output_type": "stream",
       "stream": "stdout",
       "text": [
        " SUCCESED: -8.224454 39.399872 <<TEST - FRIENDS>>: -9.2214843 38.8077435\n",
        "--------------------\n",
        "barcelona"
       ]
      },
      {
       "output_type": "stream",
       "stream": "stdout",
       "text": [
        " : 8.04 %\n",
        "de : 5.8 %\n",
        "en : 3.12 %\n",
        "california : 3.12 %\n",
        "y : 3.12 %\n",
        "barcelona de en\n",
        "49"
       ]
      },
      {
       "output_type": "stream",
       "stream": "stdout",
       "text": [
        " SUCCESED: 2.173403 41.385064 <<TEST - FRIENDS>>: 2.1734035 41.3850639\n",
        "--------------------\n"
       ]
      }
     ],
     "prompt_number": 17
    },
    {
     "cell_type": "markdown",
     "metadata": {},
     "source": [
      "Veel van deze locatie vind ik beter dan mij eigen geschaten waarden en ga ze daarom ook vervangen. Hierdoor valt de score nog beter uit. Ik heb gekeken naar tweet ID 18 & 46 die alsnog fout gingen. Bij tweet ID 18 komt van een radiostation af uit Amerika die reggae muziek draait waarbij de meeste luisteraars komen uit Jamaica Kingston. Deze tweet hebben we ook goed gekeurt omdat de invloed van dat radio station de meeste invloed heeft in Jamaica Kingston. Deze sitatie geld ook voor tweet ID 46. "
     ]
    },
    {
     "cell_type": "heading",
     "level": 1,
     "metadata": {},
     "source": [
      "EERSTE PIPELINE"
     ]
    },
    {
     "cell_type": "markdown",
     "metadata": {},
     "source": [
      "Om zo veel mogelijk locaties te bepalen van de tweets ga ik een uitbreiding maken van pipeline uit de vorige labjournaal, waar ik nu ook de locatie van vrienden eraan toevoeg."
     ]
    },
    {
     "cell_type": "heading",
     "level": 2,
     "metadata": {},
     "source": [
      "0: Prepare pipeline"
     ]
    },
    {
     "cell_type": "markdown",
     "metadata": {},
     "source": [
      "Voor dat we echt aan de pipeline beginnen wil ik wat voorbereidend werk doen. Ik weet van mij vorige pipeline welke tweets eruit komen waarvan de locatie nog niet bepaald is en dus bepaald moet worden door de locatie van vrienden. Deze vrienden wil ik alvast van Twitter ophalen en opslaan in mijn database."
     ]
    },
    {
     "cell_type": "code",
     "collapsed": false,
     "input": [
      "def getSuccesRated(tweets):\n",
      "    succes = 0\n",
      "    for tweet in tweets:\n",
      "        if tweet['lon'] != 'null':\n",
      "            succes += 1\n",
      "    print('\\n succes:', round((succes/len(tweets))*100,2),'%')"
     ],
     "language": "python",
     "metadata": {},
     "outputs": [],
     "prompt_number": 12
    },
    {
     "cell_type": "code",
     "collapsed": false,
     "input": [
      "twitterUsers2 = [[1, 128875157, True],\n",
      "[6, 968459389, True],\n",
      "[23, 2354960106, True],\n",
      "[27, 281699791, True],\n",
      "[28, 2523814903, True],\n",
      "[31, 361351971, True],\n",
      "[32, 2706452066, True],\n",
      "[33, 1028175007, True],\n",
      "[34, 2917032234, True],\n",
      "[38, 2397735163, True],\n",
      "[39, 2873637485, True],\n",
      "[40, 353937547, True]]\n",
      "for user in twitterUsers2:\n",
      "    insertTwitterFriends(user[1], user[2])"
     ],
     "language": "python",
     "metadata": {},
     "outputs": [
      {
       "output_type": "stream",
       "stream": "stdout",
       "text": [
        "done insert friends: 128875157\n",
        "done insert friends: 968459389\n",
        "done insert friends: 2354960106\n",
        "done insert friends: 281699791\n",
        "done insert friends: 2523814903\n",
        "done insert friends: 361351971\n",
        "done insert friends: 2706452066\n",
        "done insert friends: 1028175007\n",
        "done insert friends: 2917032234\n",
        "done insert friends: 2397735163\n",
        "done insert friends: 2873637485\n",
        "done insert friends: 353937547\n"
       ]
      }
     ],
     "prompt_number": 29
    },
    {
     "cell_type": "heading",
     "level": 2,
     "metadata": {},
     "source": [
      "1: Coordinates"
     ]
    },
    {
     "cell_type": "markdown",
     "metadata": {},
     "source": [
      "De locatie pipeline begint met eeste de locatie bepalen adhv van de co\u00f6rdinaten veld. Dit effecient en erg eenvoudig. "
     ]
    },
    {
     "cell_type": "code",
     "collapsed": false,
     "input": [
      "def getLocationByCoordinates(tweet):\n",
      "    if tweet['coordinates'] != None:\n",
      "        geoPoints = (tweet['coordinates']['coordinates'])\n",
      "        i = 0\n",
      "        for geoPoint in geoPoints:\n",
      "            if i == 0:\n",
      "                i = i + 1\n",
      "                tweet['lon'] = geoPoint\n",
      "            else:\n",
      "                tweet['lat'] = geoPoint"
     ],
     "language": "python",
     "metadata": {},
     "outputs": [],
     "prompt_number": 13
    },
    {
     "cell_type": "code",
     "collapsed": false,
     "input": [
      "tweetsWithGeo = tweets\n",
      "for tweet in tweetsWithGeo:\n",
      "    tweet['lon'] = 'null'\n",
      "    tweet['lat'] = 'null'\n",
      "    getLocationByCoordinates(tweet)\n",
      "\n",
      "getSuccesRated(tweetsWithGeo)"
     ],
     "language": "python",
     "metadata": {},
     "outputs": [
      {
       "output_type": "stream",
       "stream": "stdout",
       "text": [
        "\n",
        " succes: 2.0 %\n"
       ]
      }
     ],
     "prompt_number": 20
    },
    {
     "cell_type": "markdown",
     "metadata": {},
     "source": [
      "Deze 2% is vrij gemakkelijk bepaald maar is nog veel te weinig dus gaan we verder met place."
     ]
    },
    {
     "cell_type": "heading",
     "level": 2,
     "metadata": {},
     "source": [
      "2: Place"
     ]
    },
    {
     "cell_type": "markdown",
     "metadata": {},
     "source": [
      "Ik heb lace als 2de in de pipieline gekozen omdat het net als de co\u00f6rdinaten veld makkelijk op te halen is maar wel iets midner nauwkeurig is. Wel heb ik geconcludeerd dan 94% van de place co\u00f6rdinaten binnen een straal van 100 km ligt ten opzichten van de co\u00f6rdinaten veld. "
     ]
    },
    {
     "cell_type": "code",
     "collapsed": false,
     "input": [
      "def getLocationByPlace(tweet):\n",
      "    if tweet['place'] != None and tweet['lon'] == 'null':\n",
      "        geoPoints = (tweet['place']['bounding_box']['coordinates'][0])\n",
      "        i = 0\n",
      "        lon = 0\n",
      "        lat = 0\n",
      "        for geoPoint in geoPoints:\n",
      "            i += 1\n",
      "            j = 0\n",
      "            for lonLat in geoPoint:\n",
      "                if j == 0:\n",
      "                    j += 1\n",
      "                    lon += lonLat\n",
      "                else:\n",
      "                    lat += lonLat\n",
      "        tweet['lon'] = lon/i\n",
      "        tweet['lat'] = lat/i"
     ],
     "language": "python",
     "metadata": {},
     "outputs": [],
     "prompt_number": 14
    },
    {
     "cell_type": "code",
     "collapsed": false,
     "input": [
      "for tweet in tweetsWithGeo:\n",
      "    getLocationByPlace(tweet)\n",
      "getSuccesRated(tweetsWithGeo)"
     ],
     "language": "python",
     "metadata": {},
     "outputs": [
      {
       "output_type": "stream",
       "stream": "stdout",
       "text": [
        "\n",
        " succes: 2.0 %\n"
       ]
      }
     ],
     "prompt_number": 22
    },
    {
     "cell_type": "markdown",
     "metadata": {},
     "source": [
      "De uitslag is nog steeds 2% omdat in mijn train set geen place veld gevult is maar over het algemeen zal tijdens deze fase van de pipelin 4% van de tweets bepaald zijn. Al een verdubeling, maar nog steeds niet genoeg."
     ]
    },
    {
     "cell_type": "heading",
     "level": 2,
     "metadata": {},
     "source": [
      "3: Location & Time Zone"
     ]
    },
    {
     "cell_type": "markdown",
     "metadata": {},
     "source": [
      "Ik had ontdekt dat de locatie en timeZone veld in combinaties gebruiken een goede manier is om de locatie te bepalen van de tweet. Deze stap doe ik naar place omdat, deze stap wat meer rekenkracht nodig heeft en dus de duurt van pipeline vergroot."
     ]
    },
    {
     "cell_type": "code",
     "collapsed": false,
     "input": [
      "def getLocation(field, tweets):\n",
      "    locations = []\n",
      "    for tweet in tweets:\n",
      "        (lat,lon) = ('null','null')\n",
      "        if tweet['lon'] == 'null':    \n",
      "            if tweet[field] != None or tweet[field] != \"\":\n",
      "                if field == 'time_zone':\n",
      "                    if tweet[field] == 'Pacific Time (US & Canada)':\n",
      "                        tweet[field] = 'San Franscisco'\n",
      "                    elif tweet[field] == 'Central Time (US & Canada)':\n",
      "                        tweet[field] = 'Dallas'\n",
      "                    elif tweet[field] == 'Eastern Time (US & Canada)':\n",
      "                        tweet[field] = 'New York'\n",
      "                    elif tweet[field] == 'Mountain  Time (US & Canada)':\n",
      "                        tweet[field] = 'Billings'\n",
      "                try:\n",
      "                    results  = Geocoder.geocode(tweet[field])\n",
      "                    sleep(0.2)\n",
      "                    (lat, lon) = results[0].coordinates\n",
      "                except GeocoderError:\n",
      "                    (lat, lon) = ('null', 'null')\n",
      "        locations.append({'tweetId':tweet['tweetId'], field: tweet[field], 'lon': lon, 'lat': lat})\n",
      "    return locations"
     ],
     "language": "python",
     "metadata": {},
     "outputs": [],
     "prompt_number": 15
    },
    {
     "cell_type": "code",
     "collapsed": false,
     "input": [
      "def checkLocationByTimeZone(LocationArray, TimeZoneArray, pipelineTweets):\n",
      "    i = 0\n",
      "    succes = 0\n",
      "    for location in LocationArray:\n",
      "        # pipeline\n",
      "        if pipelineTweets != 'null' and pipelineTweets[i]['lon'] != 'null':\n",
      "            succes = succes + 1\n",
      "        elif rowsTimeZone[i]['lon'] != 'null' and location['lon'] != 'null':\n",
      "            timeZoneLon = float(TimeZoneArray[i]['lon'])\n",
      "            locationLon = float(location['lon'])      \n",
      "            if locationLon <= (timeZoneLon + 9) and locationLon >= (timeZoneLon - 9):\n",
      "                if pipelineTweets == 'null':\n",
      "                    print(data[i]['index'],'V',location['location'])\n",
      "                succes = succes + 1\n",
      "                # pipeline\n",
      "                if pipelineTweets != 'null':\n",
      "                    pipelineTweets[i]['lon'] = location['lon']\n",
      "                    pipelineTweets[i]['lat'] = location['lat']\n",
      "            else:\n",
      "                if pipelineTweets == 'null':\n",
      "                    print(data[i]['index'],'X',location['location'])\n",
      "        else:\n",
      "            if pipelineTweets == 'null':\n",
      "                print(data[i]['index'],'-',location['location'])\n",
      "        i = i + 1\n",
      "    if pipelineTweets == 'null':\n",
      "        print('\\n succes:', round((succes/len(data))*100,2),'%')"
     ],
     "language": "python",
     "metadata": {},
     "outputs": [],
     "prompt_number": 16
    },
    {
     "cell_type": "code",
     "collapsed": false,
     "input": [
      "# create stuff needed for location en time zone check\n",
      "rowsLocation = getLocation('location',tweetsWithGeo)\n",
      "rowsTimeZone = getLocation('time_zone',tweetsWithGeo)"
     ],
     "language": "python",
     "metadata": {},
     "outputs": [],
     "prompt_number": 25
    },
    {
     "cell_type": "code",
     "collapsed": false,
     "input": [
      "checkLocationByTimeZone(rowsLocation,rowsTimeZone, tweetsWithGeo)\n",
      "getSuccesRated(tweetsWithGeo)"
     ],
     "language": "python",
     "metadata": {},
     "outputs": [
      {
       "output_type": "stream",
       "stream": "stdout",
       "text": [
        "\n",
        " succes: 42.0 %\n"
       ]
      }
     ],
     "prompt_number": 26
    },
    {
     "cell_type": "markdown",
     "metadata": {},
     "source": [
      "Over de uitslag van 42% ben ik al erg tevrede. Maar ik ga nu kijken hoevel % ik goed kan bepalen door gebruik te maken van de vrienden van de des betreffende user die een tweet over muziek heeft gepost."
     ]
    },
    {
     "cell_type": "heading",
     "level": 2,
     "metadata": {},
     "source": [
      "4: Twitter users friends location"
     ]
    },
    {
     "cell_type": "markdown",
     "metadata": {},
     "source": [
      "IMPORT: In deze Pipeline zijn alle friends van de overgebleven locaties al in de database verwerk!<br><br>\n",
      "De locatie bepalen adhv van vrienden plaats ik al later in de pipeline omdat er veel gevraagd moet worden aan de Twitter API."
     ]
    },
    {
     "cell_type": "code",
     "collapsed": false,
     "input": [
      "for tweet in tweetsWithGeo:\n",
      "    if tweet['lon'] == 'null':\n",
      "        locationArray = []\n",
      "        locationFriends = getTwitterUserFriendsLocation(tweet['userId'])\n",
      "        for locationFriend in locationFriends:\n",
      "            locationArray.append(locationFriend['location'])\n",
      "        for t in data:\n",
      "            if t['tweetId'] == tweet['tweetId']:\n",
      "                geoLocation = getLocationByFriendsLocations(countLocationWords(locationArray),t['index'], 3, True)\n",
      "                tweet['lon'] = geoLocation[0]\n",
      "                tweet['lat'] = geoLocation[1]\n",
      "        print('--------------------')"
     ],
     "language": "python",
     "metadata": {},
     "outputs": [
      {
       "output_type": "stream",
       "stream": "stdout",
       "text": [
        "malaysia : 17.46 %\n",
        "pahang : 4.76 %\n",
        "pekan : 3.97 %\n",
        "shah : 3.97 %\n",
        "alam : 3.97 %\n",
        "malaysia pahang pekan\n",
        "1"
       ]
      },
      {
       "output_type": "stream",
       "stream": "stdout",
       "text": [
        " FAILED: 103.0852249 3.056192 <<TEST - FRIENDS>> 103.3895446 3.492095\n",
        "--------------------\n",
        "\u0431\u0435\u043b\u0430\u0440\u0443\u0441\u044c"
       ]
      },
      {
       "output_type": "stream",
       "stream": "stdout",
       "text": [
        " : 5.0 %\n",
        "ukraine : 5.0 %\n",
        "only : 2.5 %\n",
        "kaitea : 2.5 %\n",
        "\u0432\u0441\u0435 : 2.5 %\n",
        "\u0431\u0435\u043b\u0430\u0440\u0443\u0441\u044c ukraine only\n",
        "\u0431\u0435\u043b\u0430\u0440\u0443\u0441\u044c ukraine"
       ]
      },
      {
       "output_type": "stream",
       "stream": "stdout",
       "text": [
        "\n",
        "5"
       ]
      },
      {
       "output_type": "stream",
       "stream": "stdout",
       "text": [
        " SUCCESED: 30.5037868 50.4467311 <<TEST - FRIENDS>>: 30.5037868 50.4467311\n",
        "--------------------\n",
        "houston"
       ]
      },
      {
       "output_type": "stream",
       "stream": "stdout",
       "text": [
        " : 29.01 %\n",
        "tx : 22.84 %\n",
        "texas : 21.6 %\n",
        "austin : 9.26 %\n",
        "the : 4.94 %\n",
        "houston tx texas\n",
        "6"
       ]
      },
      {
       "output_type": "stream",
       "stream": "stdout",
       "text": [
        " SUCCESED: -95.4021585102112 29.675779 <<TEST - FRIENDS>>: -95.3698028 29.7604267\n",
        "--------------------\n",
        "ca"
       ]
      },
      {
       "output_type": "stream",
       "stream": "stdout",
       "text": [
        " : 5.25 %\n",
        "new : 5.0 %\n",
        "york : 3.75 %\n",
        "usa : 3.5 %\n",
        "canada : 3.5 %\n",
        "ca new york\n",
        "7"
       ]
      },
      {
       "output_type": "stream",
       "stream": "stdout",
       "text": [
        " SUCCESED: -74.21793260000001 43.2994285 <<TEST - FRIENDS>>: -74.21793260000001 43.2994285\n",
        "--------------------\n",
        "lumpur"
       ]
      },
      {
       "output_type": "stream",
       "stream": "stdout",
       "text": [
        " : 50.0 %\n",
        "jakarta : 50.0 %\n",
        "kuala : 50.0 %\n",
        "malaysia : 50.0 %\n",
        "lumpur jakarta kuala\n",
        "lumpur jakarta"
       ]
      },
      {
       "output_type": "stream",
       "stream": "stdout",
       "text": [
        "\n",
        "8"
       ]
      },
      {
       "output_type": "stream",
       "stream": "stdout",
       "text": [
        " FAILED: 102.250087 2.189594 <<TEST - FRIENDS>> 106.845599 -6.2087634\n",
        "--------------------\n",
        "usa"
       ]
      },
      {
       "output_type": "stream",
       "stream": "stdout",
       "text": [
        " : 5.53 %\n",
        "texas : 3.23 %\n",
        "tn : 2.76 %\n",
        "city : 2.3 %\n",
        "new : 2.3 %\n",
        "usa texas tn\n",
        "14"
       ]
      },
      {
       "output_type": "stream",
       "stream": "stdout",
       "text": [
        " SUCCESED: -83.961951 35.9819624 <<TEST - FRIENDS>>: -83.961951 35.9819624\n",
        "--------------------\n",
        "houston"
       ]
      },
      {
       "output_type": "stream",
       "stream": "stdout",
       "text": [
        " : 12.0 %\n",
        "tx : 8.5 %\n",
        "in : 5.75 %\n",
        "the : 4.75 %\n",
        "atl : 4.5 %\n",
        "houston tx in\n",
        "15"
       ]
      },
      {
       "output_type": "stream",
       "stream": "stdout",
       "text": [
        " SUCCESED: -95.501984 29.715444 <<TEST - FRIENDS>>: -95.3698028 29.7604267\n",
        "--------------------\n",
        "\u043c\u043e\u0441\u043a\u0432\u0430"
       ]
      },
      {
       "output_type": "stream",
       "stream": "stdout",
       "text": [
        " : 4.0 %\n",
        "russia : 3.0 %\n",
        "ukraine : 2.75 %\n",
        "\u043c\u0430\u043d\u0441\u0438\u0439\u0441\u043a : 2.25 %\n",
        "\u0445\u0430\u043d\u0442\u044b : 2.25 %\n",
        "\u043c\u043e\u0441\u043a\u0432\u0430 russia ukraine\n",
        "16"
       ]
      },
      {
       "output_type": "stream",
       "stream": "stdout",
       "text": [
        " SUCCESED: 37.6173 55.755826 <<TEST - FRIENDS>>: 37.566 55.75300000000001\n",
        "--------------------\n",
        "jamaica"
       ]
      },
      {
       "output_type": "stream",
       "stream": "stdout",
       "text": [
        " : 15.25 %\n",
        "kingston : 5.5 %\n",
        "london : 4.25 %\n",
        "ca : 3.25 %\n",
        "usa : 3.25 %\n",
        "jamaica kingston london\n",
        "18"
       ]
      },
      {
       "output_type": "stream",
       "stream": "stdout",
       "text": [
        " FAILED: -75.524368 39.158168 <<TEST - FRIENDS>> -76.8686785 17.9812473\n",
        "--------------------\n",
        "new"
       ]
      },
      {
       "output_type": "stream",
       "stream": "stdout",
       "text": [
        " : 6.63 %\n",
        "jersey : 6.08 %\n",
        "nj : 3.87 %\n",
        "uk : 3.87 %\n",
        "lawrenceville : 2.76 %\n",
        "new jersey nj\n",
        "19"
       ]
      },
      {
       "output_type": "stream",
       "stream": "stdout",
       "text": [
        " SUCCESED: -74.741221 40.280965 <<TEST - FRIENDS>>: -74.4056612 40.0583238\n",
        "--------------------\n",
        "viseu"
       ]
      },
      {
       "output_type": "stream",
       "stream": "stdout",
       "text": [
        " : 40.0 %\n",
        "portugal : 5.71 %\n",
        "visa : 3.81 %\n",
        "city : 1.9 %\n",
        "coimbra : 1.9 %\n",
        "viseu portugal visa\n",
        "21"
       ]
      },
      {
       "output_type": "stream",
       "stream": "stdout",
       "text": [
        " SUCCESED: -7.9124712 40.6565861 <<TEST - FRIENDS>>: -7.9124712 40.6565861\n",
        "--------------------\n",
        "22 No friends :O\n",
        "--------------------\n",
        "wa"
       ]
      },
      {
       "output_type": "stream",
       "stream": "stdout",
       "text": [
        " : 16.95 %\n",
        "seattle : 15.82 %\n",
        "tacoma : 10.17 %\n",
        "new : 7.91 %\n",
        "washington : 7.91 %\n",
        "wa seattle tacoma\n",
        "23"
       ]
      },
      {
       "output_type": "stream",
       "stream": "stdout",
       "text": [
        " SUCCESED: -122.444291 47.252877 <<TEST - FRIENDS>>: -122.3088165 47.4502499\n",
        "--------------------\n",
        "new"
       ]
      },
      {
       "output_type": "stream",
       "stream": "stdout",
       "text": [
        " : 7.0 %\n",
        "nj : 6.0 %\n",
        "paterson : 5.25 %\n",
        "jersey : 4.0 %\n",
        "york : 3.5 %\n",
        "new nj paterson\n",
        "27"
       ]
      },
      {
       "output_type": "stream",
       "stream": "stdout",
       "text": [
        " SUCCESED: -74.184545 40.907446 <<TEST - FRIENDS>>: -74.184545 40.907446\n",
        "--------------------\n",
        "dc"
       ]
      },
      {
       "output_type": "stream",
       "stream": "stdout",
       "text": [
        " : 14.36 %\n",
        "washington : 7.73 %\n",
        "d : 6.08 %\n",
        "the : 5.52 %\n",
        "v : 3.87 %\n",
        "dc washington d\n",
        "28"
       ]
      },
      {
       "output_type": "stream",
       "stream": "stdout",
       "text": [
        " SUCCESED: -77.026088 38.990666 <<TEST - FRIENDS>>: -77.0368707 38.9071923\n",
        "--------------------\n",
        "new"
       ]
      },
      {
       "output_type": "stream",
       "stream": "stdout",
       "text": [
        " : 5.25 %\n",
        "ca : 4.72 %\n",
        "angeles : 4.2 %\n",
        "los : 4.2 %\n",
        "the : 3.94 %\n",
        "new ca angeles\n",
        "31"
       ]
      },
      {
       "output_type": "stream",
       "stream": "stdout",
       "text": [
        " FAILED: -3.435973 55.378051 <<TEST - FRIENDS>> -118.1370719 34.1890663\n",
        "--------------------\n",
        "poland"
       ]
      },
      {
       "output_type": "stream",
       "stream": "stdout",
       "text": [
        " : 19.5 %\n",
        "5 : 3.0 %\n",
        "my : 3.0 %\n",
        "to : 2.75 %\n",
        "1d : 2.25 %\n",
        "poland 5 my\n",
        "32"
       ]
      },
      {
       "output_type": "stream",
       "stream": "stdout",
       "text": [
        " SUCCESED: 14.505751 46.056947 <<TEST - FRIENDS>>: 15.8254632 50.2130984\n",
        "--------------------\n",
        "rouen"
       ]
      },
      {
       "output_type": "stream",
       "stream": "stdout",
       "text": [
        " : 12.87 %\n",
        "paris : 2.97 %\n",
        "france : 1.98 %\n",
        "14 : 1.98 %\n",
        "liga : 1.98 %\n",
        "rouen paris france\n",
        "33"
       ]
      },
      {
       "output_type": "stream",
       "stream": "stdout",
       "text": [
        " SUCCESED: 2.352222 48.856614 <<TEST - FRIENDS>>: 1.0990045 49.43673219999999\n",
        "--------------------\n",
        "angeles"
       ]
      },
      {
       "output_type": "stream",
       "stream": "stdout",
       "text": [
        " : 4.25 %\n",
        "ca : 4.25 %\n",
        "los : 4.25 %\n",
        "new : 3.5 %\n",
        "york : 3.0 %\n",
        "angeles ca los\n",
        "34"
       ]
      },
      {
       "output_type": "stream",
       "stream": "stdout",
       "text": [
        " FAILED: -118.2436849 34.0522342 <<TEST - FRIENDS>> -76.085444 -13.4382822\n",
        "--------------------\n",
        "indonesia"
       ]
      },
      {
       "output_type": "stream",
       "stream": "stdout",
       "text": [
        " : 30.23 %\n",
        "lamongan : 30.23 %\n",
        "java : 6.98 %\n",
        "east : 6.98 %\n",
        "di : 4.65 %\n",
        "indonesia lamongan java\n",
        "38"
       ]
      },
      {
       "output_type": "stream",
       "stream": "stdout",
       "text": [
        " FAILED: 112.4149811 -7.1181109 <<TEST - FRIENDS>> 112.4149811 -7.1181109\n",
        "--------------------\n",
        "seoul"
       ]
      },
      {
       "output_type": "stream",
       "stream": "stdout",
       "text": [
        " : 8.57 %\n",
        "korea : 8.57 %\n",
        "london : 5.71 %\n",
        "polska : 5.71 %\n",
        "poland : 5.71 %\n",
        "seoul korea london\n",
        "39"
       ]
      },
      {
       "output_type": "stream",
       "stream": "stdout",
       "text": [
        " FAILED: 19.145136 51.919438 <<TEST - FRIENDS>> 126.9779692 37.566535\n",
        "--------------------\n",
        "mn"
       ]
      },
      {
       "output_type": "stream",
       "stream": "stdout",
       "text": [
        " : 7.06 %\n",
        "minnesota : 4.46 %\n",
        "angeles : 4.09 %\n",
        "los : 4.09 %\n",
        "the : 3.72 %\n",
        "mn minnesota angeles\n",
        "40"
       ]
      },
      {
       "output_type": "stream",
       "stream": "stdout",
       "text": [
        " SUCCESED: -93.265011 44.977753 <<TEST - FRIENDS>>: -92.9631364 43.6666847\n",
        "--------------------\n",
        "brasil"
       ]
      },
      {
       "output_type": "stream",
       "stream": "stdout",
       "text": [
        " : 15.0 %\n",
        "paulo : 11.5 %\n",
        "s\u00e3o : 11.0 %\n",
        "rio : 9.5 %\n",
        "de : 8.75 %\n",
        "brasil paulo s\u00e3o\n",
        "41"
       ]
      },
      {
       "output_type": "stream",
       "stream": "stdout",
       "text": [
        " SUCCESED: -46.6291845 -23.5431786 <<TEST - FRIENDS>>: -46.6291845 -23.5431786\n",
        "--------------------\n",
        "tx"
       ]
      },
      {
       "output_type": "stream",
       "stream": "stdout",
       "text": [
        " : 3.0 %\n",
        "worldwide : 2.75 %\n",
        "world : 2.25 %\n",
        "usa : 2.25 %\n",
        "new : 2.25 %\n",
        "tx worldwide world\n",
        "42"
       ]
      },
      {
       "output_type": "stream",
       "stream": "stdout",
       "text": [
        " SUCCESED: -99.901813 31.968599 <<TEST - FRIENDS>>: -97.99167899999999 30.3679788\n",
        "--------------------\n",
        "paris"
       ]
      },
      {
       "output_type": "stream",
       "stream": "stdout",
       "text": [
        " : 9.5 %\n",
        "france : 9.25 %\n",
        "la : 5.0 %\n",
        "rochelle : 2.5 %\n",
        "space : 1.75 %\n",
        "paris france la\n",
        "43"
       ]
      },
      {
       "output_type": "stream",
       "stream": "stdout",
       "text": [
        " SUCCESED: 2.213749 46.227638 <<TEST - FRIENDS>>: 2.3522219 48.856614\n",
        "--------------------\n",
        "london"
       ]
      },
      {
       "output_type": "stream",
       "stream": "stdout",
       "text": [
        " : 4.25 %\n",
        "russia : 4.0 %\n",
        "ukraine : 2.25 %\n",
        "england : 1.75 %\n",
        "uk : 1.75 %\n",
        "london russia ukraine\n",
        "45"
       ]
      },
      {
       "output_type": "stream",
       "stream": "stdout",
       "text": [
        " FAILED: 37.6173 55.755826 <<TEST - FRIENDS>> -0.1277583 51.5073509\n",
        "--------------------\n",
        "london"
       ]
      },
      {
       "output_type": "stream",
       "stream": "stdout",
       "text": [
        " : 5.25 %\n",
        "uk : 3.5 %\n",
        "worldwide : 3.25 %\n",
        "ny : 3.0 %\n",
        "ca : 2.75 %\n",
        "london uk worldwide\n",
        "46"
       ]
      },
      {
       "output_type": "stream",
       "stream": "stdout",
       "text": [
        " FAILED: -75.165222 39.952584 <<TEST - FRIENDS>> -0.0987733 51.4257374\n",
        "--------------------\n",
        "portugal"
       ]
      },
      {
       "output_type": "stream",
       "stream": "stdout",
       "text": [
        " : 4.75 %\n",
        "brasil : 3.5 %\n",
        "lisboa : 2.0 %\n",
        "com : 2.0 %\n",
        "brazil : 1.75 %\n",
        "portugal brasil lisboa\n",
        "48"
       ]
      },
      {
       "output_type": "stream",
       "stream": "stdout",
       "text": [
        " SUCCESED: -8.224454 39.399872 <<TEST - FRIENDS>>: -9.2214843 38.8077435\n",
        "--------------------\n",
        "barcelona"
       ]
      },
      {
       "output_type": "stream",
       "stream": "stdout",
       "text": [
        " : 8.04 %\n",
        "de : 5.8 %\n",
        "en : 3.12 %\n",
        "california : 3.12 %\n",
        "y : 3.12 %\n",
        "barcelona de en\n",
        "49"
       ]
      },
      {
       "output_type": "stream",
       "stream": "stdout",
       "text": [
        " SUCCESED: 2.173403 41.385064 <<TEST - FRIENDS>>: 2.1734035 41.3850639\n",
        "--------------------\n"
       ]
      }
     ],
     "prompt_number": 31
    },
    {
     "cell_type": "code",
     "collapsed": false,
     "input": [
      "getSuccesRated(tweetsWithGeo)"
     ],
     "language": "python",
     "metadata": {},
     "outputs": [
      {
       "output_type": "stream",
       "stream": "stdout",
       "text": [
        "\n",
        " succes: 98.0 %\n"
       ]
      }
     ],
     "prompt_number": 32
    },
    {
     "cell_type": "markdown",
     "metadata": {},
     "source": [
      "Failed locations score we toch al succesvol omdat dit meestal om radio stations gaat die veel luisteraars hebben in een ander deel van de wereld. En dus de muzieknummers die ze daar afspelen het meeste invloed heeft in dat gebied. Tevens is de succes rated hier 98% omdat ik de code al vaker gerunt heb en nu ook de follwers (in de volgende stap) mee genomen zijn. Bij de eerste run kwam ik op 90% uit. Een score waar ik ontzettend tevrede mee"
     ]
    },
    {
     "cell_type": "heading",
     "level": 2,
     "metadata": {},
     "source": [
      "5: Twitter user followers location"
     ]
    },
    {
     "cell_type": "markdown",
     "metadata": {},
     "source": [
      "90% correct is al meer dan ik had gehoopt te bepalen maar het is nu nog maar een kleine stap om ook de locatie te bepalen adhv de mensen die de twitteraar volgt. Deze stap komt pas na de friends omdat we meer vertrouwen hebben in de locatie vna friends. Je voegt dzeze immers zelf toe en follwers kunnen ook bots zijn die automatisch een hele grote groep mensen volgen en dus niks met de persoon te maken hebben waarvan de locatie willen weten."
     ]
    },
    {
     "cell_type": "code",
     "collapsed": false,
     "input": [
      "# voeg followers toe\n",
      "twitterIdFollowers = [[8, 2261140970, False],[14, 318753478, False], [22, 3115056857, False]]\n",
      "for user in twitterIdFollowers:\n",
      "    insertTwitterFriends(user[1], user[2])"
     ],
     "language": "python",
     "metadata": {},
     "outputs": [
      {
       "output_type": "stream",
       "stream": "stdout",
       "text": [
        "done insert friends: 2261140970\n",
        "done insert friends: 318753478\n",
        "user doesnt exsist or to many request"
       ]
      },
      {
       "output_type": "stream",
       "stream": "stdout",
       "text": [
        "\n",
        "done insert friends: 3115056857\n"
       ]
      }
     ],
     "prompt_number": 33
    },
    {
     "cell_type": "code",
     "collapsed": false,
     "input": [
      "for tweet in tweetsWithGeo:\n",
      "    if tweet['lon'] == 'null':\n",
      "        locationArray = []\n",
      "        locationFriends = getTwitterUserFriendsLocation(tweet['userId'])\n",
      "        for locationFriend in locationFriends:\n",
      "            locationArray.append(locationFriend['location'])\n",
      "        for t in data:\n",
      "            if t['tweetId'] == tweet['tweetId']:\n",
      "                geoLocation = getLocationByFriendsLocations(countLocationWords(locationArray),t['index'], 3, True)\n",
      "                tweet['lon'] = geoLocation[0]\n",
      "                tweet['lat'] = geoLocation[1]\n",
      "        print('--------------------')\n",
      "getSuccesRated(tweetsWithGeo)"
     ],
     "language": "python",
     "metadata": {},
     "outputs": [
      {
       "output_type": "stream",
       "stream": "stdout",
       "text": [
        "22 No friends :O\n",
        "--------------------\n",
        "\n",
        " succes: 98.0 %\n"
       ]
      }
     ],
     "prompt_number": 34
    },
    {
     "cell_type": "markdown",
     "metadata": {},
     "source": [
      "Nadat we de follwers locatie opgehaald hebben, heb ik 98% van de locatie kunnen bepalen. De laatse 2% had weinig/geen vrienden en follwers waardoor ik de locatie niet kon bepalen."
     ]
    },
    {
     "cell_type": "heading",
     "level": 1,
     "metadata": {},
     "source": [
      "Test set door pipeline"
     ]
    },
    {
     "cell_type": "markdown",
     "metadata": {},
     "source": [
      "Omdat \u00e9\u00e9n training set niet betrouwbaar is heb ik nog een test set gemaakt van 25 tweets waarvan ik de locatie heb bepaald. Deze gaan we nu door de boven gemaakte pipeline doorlopen."
     ]
    },
    {
     "cell_type": "heading",
     "level": 2,
     "metadata": {},
     "source": [
      "0: Voorbereiden Pipeline"
     ]
    },
    {
     "cell_type": "code",
     "collapsed": false,
     "input": [
      "tweetsRecords2 = db.testNp2.aggregate(\n",
      "    {\n",
      "        \"$project\": {\n",
      "            \"_id\": 0,\n",
      "            \"userId\": \"$tweet.user.id\",\n",
      "            \"tweetId\": \"$tweet.id_str\",\n",
      "            \"geo\": \"$tweet.geo\",\n",
      "            \"lang_user\": \"$tweet.user.lang\",\n",
      "            \"time_zone\": \"$tweet.user.time_zone\",\n",
      "            \"utc_offset\": \"$tweet.user.utc_offset\",\n",
      "            \"location\": \"$tweet.user.location\",\n",
      "            \"place\": \"$tweet.place\",\n",
      "            \"coordinates\": \"$tweet.coordinates\",\n",
      "            \"tweet\": \"$tweet.text\",\n",
      "            \"friends\": \"$tweet.user.friends_count\",\n",
      "            \"followers\": \"$tweet.user.followers_count\"\n",
      "        }\n",
      "    }\n",
      ")\n",
      "\n",
      "\n",
      "tweets2 = list(tweetsRecords2['result'])\n",
      "print(\"get records\")"
     ],
     "language": "python",
     "metadata": {},
     "outputs": [
      {
       "output_type": "stream",
       "stream": "stdout",
       "text": [
        "get records\n"
       ]
      }
     ],
     "prompt_number": 17
    },
    {
     "cell_type": "code",
     "collapsed": false,
     "input": [
      "with open('json/npTestTweets3.json') as data_file:    \n",
      "    data2 = json.load(data_file)\n",
      "\n",
      "print('Load test json')"
     ],
     "language": "python",
     "metadata": {},
     "outputs": [
      {
       "output_type": "stream",
       "stream": "stdout",
       "text": [
        "Load test json\n"
       ]
      }
     ],
     "prompt_number": 18
    },
    {
     "cell_type": "heading",
     "level": 2,
     "metadata": {},
     "source": [
      "1: Co\u00f6rdinates"
     ]
    },
    {
     "cell_type": "code",
     "collapsed": false,
     "input": [
      "tweetsWithGeo2 = tweets2\n",
      "for tweet in tweetsWithGeo2:\n",
      "    tweet['lon'] = 'null'\n",
      "    tweet['lat'] = 'null'\n",
      "    getLocationByCoordinates(tweet)\n",
      "\n",
      "getSuccesRated(tweetsWithGeo2)"
     ],
     "language": "python",
     "metadata": {},
     "outputs": [
      {
       "output_type": "stream",
       "stream": "stdout",
       "text": [
        "\n",
        " succes: 0.0 %\n"
       ]
      }
     ],
     "prompt_number": 28
    },
    {
     "cell_type": "heading",
     "level": 2,
     "metadata": {},
     "source": [
      "2: Place"
     ]
    },
    {
     "cell_type": "code",
     "collapsed": false,
     "input": [
      "for tweet in tweetsWithGeo2:\n",
      "    getLocationByPlace(tweet)\n",
      "getSuccesRated(tweetsWithGeo2)"
     ],
     "language": "python",
     "metadata": {},
     "outputs": [
      {
       "output_type": "stream",
       "stream": "stdout",
       "text": [
        "\n",
        " succes: 4.0 %\n"
       ]
      }
     ],
     "prompt_number": 29
    },
    {
     "cell_type": "heading",
     "level": 2,
     "metadata": {},
     "source": [
      "3: Locatie & Time Zone"
     ]
    },
    {
     "cell_type": "code",
     "collapsed": false,
     "input": [
      "# create stuff needed for location en time zone check\n",
      "rowsLocation = getLocation('location',tweetsWithGeo2)\n",
      "rowsTimeZone = getLocation('time_zone',tweetsWithGeo2)"
     ],
     "language": "python",
     "metadata": {},
     "outputs": [],
     "prompt_number": 21
    },
    {
     "cell_type": "code",
     "collapsed": false,
     "input": [
      "checkLocationByTimeZone(rowsLocation,rowsTimeZone, tweetsWithGeo2)\n",
      "getSuccesRated(tweetsWithGeo2)"
     ],
     "language": "python",
     "metadata": {},
     "outputs": [
      {
       "output_type": "stream",
       "stream": "stdout",
       "text": [
        "\n",
        " succes: 24.0 %\n"
       ]
      }
     ],
     "prompt_number": 30
    },
    {
     "cell_type": "markdown",
     "metadata": {},
     "source": [
      "Deze uitslag vind ik erg laag dus wil kijken hoeveel tweets bij Location of Time Zone 'null' hebben en daarom al zo ie zo mislukken"
     ]
    },
    {
     "cell_type": "code",
     "collapsed": false,
     "input": [
      "tweetWithLocAndTZ = 0\n",
      "for tweet in tweetsWithGeo2:\n",
      "    if tweet['location'] and tweet['time_zone']:\n",
      "        print(tweet['location'], '------', tweet['time_zone'])\n",
      "        tweetWithLocAndTZ += 1\n",
      "print(round((tweetWithLocAndTZ/len(tweetsWithGeo2))*100,2),'%')"
     ],
     "language": "python",
     "metadata": {},
     "outputs": [
      {
       "output_type": "stream",
       "stream": "stdout",
       "text": [
        "Atlanta GA ------ Indiana (East)\n",
        "JAPAN ------ Irkutsk\n",
        "With C STAX ------ Dallas\n",
        "Philadelphia  ------ New York\n",
        "Miami/Fort Lauderdale ------ New York\n",
        "US ------ Dallas\n",
        "Atlanta, Ga ------ New York\n",
        "Turkey  ------ Quito\n",
        "\u30b8\u30e3\u30ac\u30a4\u30e2\u30af\u30bd\u91ce\u90ce a.k.a \u5317\u6d77\u9053\u306e\u6c5a\u70b9 ------ Tokyo\n",
        "\u062d\u0627\u0644\u064a\u0627\u064b \u0641\u0648\u0642 \u0627\u0644\u0623\u0631\u0636 ------ Baghdad\n",
        "Ivory Coast \u2708  ------ Casablanca\n",
        "World Wide  ------ Atlantic Time (Canada)\n",
        "contato@457fm.com ------ Brasilia\n",
        "Nigeria ------ Amsterdam\n",
        "\u00dcT: 40.671285,-73.957749 ------ Dallas\n",
        "Live streaming #ClassicRock ------ New York\n",
        "64.0 %\n"
       ]
      }
     ],
     "prompt_number": 32
    },
    {
     "cell_type": "markdown",
     "metadata": {},
     "source": [
      "Als ik deze location en time zone bekijk begrijp ik de lagen succes rated. Maar 64% heeft beide velden en veel daarvan komen niet met elkaar overeen of hebben vreemde beschrijvingen"
     ]
    },
    {
     "cell_type": "heading",
     "level": 2,
     "metadata": {},
     "source": [
      "4: Friends"
     ]
    },
    {
     "cell_type": "code",
     "collapsed": false,
     "input": [
      "i = 0\n",
      "for tweet in tweetsWithGeo2:\n",
      "    if tweet['lon'] == 'null':\n",
      "        print(i,tweet['userId'])\n",
      "    i += 1"
     ],
     "language": "python",
     "metadata": {},
     "outputs": [
      {
       "output_type": "stream",
       "stream": "stdout",
       "text": [
        "0 2341546458\n",
        "2 627032618\n",
        "3 558854892\n",
        "4 949882950\n",
        "5 1442266819\n",
        "7 176410203\n",
        "10 2870892389\n",
        "11 114273553\n",
        "12 189567323\n",
        "13 487693107\n",
        "14 1311436706\n",
        "15 2375901551\n",
        "17 584361895\n",
        "18 2591935236\n",
        "19 1355626086\n",
        "20 25368824\n",
        "21 448404110\n",
        "23 22075234\n",
        "24 474276319\n"
       ]
      }
     ],
     "prompt_number": 23
    },
    {
     "cell_type": "code",
     "collapsed": false,
     "input": [
      "twitterUsersTest = [[0, 2341546458, True],\n",
      "[2, 627032618, True],\n",
      "[3, 558854892, True],\n",
      "[4, 949882950, True],\n",
      "[5, 1442266819, True],\n",
      "[7, 176410203, True],\n",
      "[10, 2870892389, True],\n",
      "[11, 114273553, True],\n",
      "[12, 189567323, True],\n",
      "[13, 487693107, True],\n",
      "[14, 1311436706, True],\n",
      "[15, 2375901551, True],\n",
      "[17, 584361895, True],\n",
      "[18, 2591935236, True]]\n",
      "for user in twitterUsersTest:\n",
      "    insertTwitterFriends(user[1], user[2])"
     ],
     "language": "python",
     "metadata": {},
     "outputs": [
      {
       "output_type": "stream",
       "stream": "stdout",
       "text": [
        "done insert friends: 2341546458\n",
        "done insert friends: 627032618\n",
        "done insert friends: 558854892\n",
        "done insert friends: 949882950\n",
        "done insert friends: 1442266819\n",
        "done insert friends: 176410203\n",
        "done insert friends: 2870892389\n",
        "done insert friends: 114273553\n",
        "done insert friends: 189567323\n",
        "done insert friends: 487693107\n",
        "done insert friends: 1311436706\n",
        "done insert friends: 2375901551\n",
        "done insert friends: 584361895\n",
        "done insert friends: 2591935236\n"
       ]
      }
     ],
     "prompt_number": 24
    },
    {
     "cell_type": "code",
     "collapsed": false,
     "input": [
      "twitterUsersTest2 = [[19, 1355626086, True],\n",
      "[20, 25368824, True],\n",
      "[21, 448404110, True],\n",
      "[23, 22075234, True],\n",
      "[24, 474276319, True]]\n",
      "for user in twitterUsersTest2:\n",
      "    insertTwitterFriends(user[1], user[2])"
     ],
     "language": "python",
     "metadata": {},
     "outputs": [
      {
       "output_type": "stream",
       "stream": "stdout",
       "text": [
        "done insert friends: 1355626086\n",
        "done insert friends: 25368824\n",
        "done insert friends: 448404110\n",
        "done insert friends: 22075234\n",
        "done insert friends: 474276319\n"
       ]
      }
     ],
     "prompt_number": 25
    },
    {
     "cell_type": "code",
     "collapsed": false,
     "input": [
      "for tweet in tweetsWithGeo2:\n",
      "    if tweet['lon'] == 'null':\n",
      "        locationArray = []\n",
      "        locationFriends = getTwitterUserFriendsLocation(tweet['userId'])\n",
      "        for locationFriend in locationFriends:\n",
      "            locationArray.append(locationFriend['location'])\n",
      "        for t in data2:\n",
      "            if t['tweetId'] == tweet['tweetId']:\n",
      "                geoLocation = getLocationByFriendsLocations(countLocationWords(locationArray),t['index'], 3, True, data2)\n",
      "                tweet['lon'] = geoLocation[0]\n",
      "                tweet['lat'] = geoLocation[1]\n",
      "        print('--------------------')"
     ],
     "language": "python",
     "metadata": {},
     "outputs": [
      {
       "output_type": "stream",
       "stream": "stdout",
       "text": [
        "weiser : 6.72 %\n",
        "idaho : 5.22 %\n",
        "id : 4.1 %\n",
        "ontario : 2.24 %\n",
        "boise : 2.24 %\n",
        "weiser idaho id\n",
        "0"
       ]
      },
      {
       "output_type": "stream",
       "stream": "stdout",
       "text": [
        " SUCCESED: -116.969333 44.250998 <<TEST - FRIENDS>>: -116.9693327 44.2509976\n",
        "--------------------\n",
        "colombia"
       ]
      },
      {
       "output_type": "stream",
       "stream": "stdout",
       "text": [
        " : 1.5 %\n",
        "argentina : 1.5 %\n",
        "india : 1.25 %\n",
        "m\u00e9xico : 1.25 %\n",
        "worldwide : 1.0 %\n",
        "colombia argentina india\n",
        "colombia argentina"
       ]
      },
      {
       "output_type": "stream",
       "stream": "stdout",
       "text": [
        "\n",
        "2"
       ]
      },
      {
       "output_type": "stream",
       "stream": "stdout",
       "text": [
        " FAILED: 138.252924 36.204824 <<TEST - FRIENDS>> -58.67716770000001 -34.7056414\n",
        "--------------------\n",
        "i"
       ]
      },
      {
       "output_type": "stream",
       "stream": "stdout",
       "text": [
        " : 4.0 %\n",
        "stanbul : 2.75 %\n",
        "argentina : 1.75 %\n",
        "san : 1.5 %\n",
        "usa : 1.5 %\n",
        "i stanbul argentina\n",
        "i stanbul"
       ]
      },
      {
       "output_type": "stream",
       "stream": "stdout",
       "text": [
        "\n",
        "3"
       ]
      },
      {
       "output_type": "stream",
       "stream": "stdout",
       "text": [
        " FAILED: 138.252924 36.204824 <<TEST - FRIENDS>> 28.97696 41.00527\n",
        "--------------------\n",
        "malaysia"
       ]
      },
      {
       "output_type": "stream",
       "stream": "stdout",
       "text": [
        " : 8.0 %\n",
        "pahang : 6.0 %\n",
        "kuala : 4.0 %\n",
        "lumpur : 3.0 %\n",
        "darul : 2.0 %\n",
        "malaysia pahang kuala\n",
        "4"
       ]
      },
      {
       "output_type": "stream",
       "stream": "stdout",
       "text": [
        " SUCCESED: 101.727056 3.107685 <<TEST - FRIENDS>>: 102.0542321 4.18433\n",
        "--------------------\n",
        "usa"
       ]
      },
      {
       "output_type": "stream",
       "stream": "stdout",
       "text": [
        " : 9.25 %\n",
        "city : 3.25 %\n",
        "in : 2.5 %\n",
        "new : 1.75 %\n",
        "united : 1.75 %\n",
        "usa city in\n",
        "5"
       ]
      },
      {
       "output_type": "stream",
       "stream": "stdout",
       "text": [
        " FAILED: -78.340848 40.593678 <<TEST - FRIENDS>> -90.1993389 38.6268404\n",
        "--------------------\n",
        "the"
       ]
      },
      {
       "output_type": "stream",
       "stream": "stdout",
       "text": [
        " : 2.25 %\n",
        "in : 2.0 %\n",
        "to : 1.75 %\n",
        "ny : 1.75 %\n",
        "south : 1.5 %\n",
        "the in to\n",
        "7"
       ]
      },
      {
       "output_type": "stream",
       "stream": "stdout",
       "text": [
        " FAILED: -80.19179 25.76168 <<TEST - FRIENDS>> -79.3831843 43.653226\n",
        "--------------------\n",
        "atlanta"
       ]
      },
      {
       "output_type": "stream",
       "stream": "stdout",
       "text": [
        " : 3.75 %\n",
        "ga : 3.0 %\n",
        "the : 3.0 %\n",
        "atl : 1.75 %\n",
        "city : 1.75 %\n",
        "atlanta ga the\n",
        "10"
       ]
      },
      {
       "output_type": "stream",
       "stream": "stdout",
       "text": [
        " SUCCESED: -84.387982 33.748995 <<TEST - FRIENDS>>: -84.3879824 33.7489954\n",
        "--------------------\n",
        "i"
       ]
      },
      {
       "output_type": "stream",
       "stream": "stdout",
       "text": [
        " : 8.86 %\n",
        "artvin : 8.35 %\n",
        "stanbul : 6.33 %\n",
        "istanbul : 5.06 %\n",
        "ankara : 2.53 %\n",
        "i artvin stanbul\n",
        "11"
       ]
      },
      {
       "output_type": "stream",
       "stream": "stdout",
       "text": [
        " SUCCESED: 29.2525683 40.8860095 <<TEST - FRIENDS>>: 29.2525683 40.8860095\n",
        "--------------------\n",
        "japan"
       ]
      },
      {
       "output_type": "stream",
       "stream": "stdout",
       "text": [
        " : 5.25 %\n",
        "tokyo : 3.5 %\n",
        "uk : 2.75 %\n",
        "taiwan : 1.5 %\n",
        "\u672d\u5e4c : 1.25 %\n",
        "japan tokyo uk\n",
        "12"
       ]
      },
      {
       "output_type": "stream",
       "stream": "stdout",
       "text": [
        " SUCCESED: 138.252924 36.204824 <<TEST - FRIENDS>>: 139.7596275 35.7058545\n",
        "--------------------\n",
        "kuwait"
       ]
      },
      {
       "output_type": "stream",
       "stream": "stdout",
       "text": [
        " : 8.0 %\n",
        "\u0627\u0644\u0643\u0648\u064a\u062a : 4.0 %\n",
        "\u0643\u0648\u064a\u062a : 1.0 %\n",
        "usa : 0.75 %\n",
        "q8 : 0.5 %\n",
        "kuwait \u0627\u0644\u0643\u0648\u064a\u062a \u0643\u0648\u064a\u062a\n",
        "13"
       ]
      },
      {
       "output_type": "stream",
       "stream": "stdout",
       "text": [
        " SUCCESED: 44.421211 33.325479 <<TEST - FRIENDS>>: 47.481766 29.31166\n",
        "--------------------\n",
        "usa"
       ]
      },
      {
       "output_type": "stream",
       "stream": "stdout",
       "text": [
        " : 4.79 %\n",
        "uk : 4.19 %\n",
        "new : 3.89 %\n",
        "ny : 3.59 %\n",
        "ca : 3.29 %\n",
        "usa uk new\n",
        "14"
       ]
      },
      {
       "output_type": "stream",
       "stream": "stdout",
       "text": [
        " FAILED: -98.389873 40.586258 <<TEST - FRIENDS>> -73.9738089 40.7375089\n",
        "--------------------\n",
        "new"
       ]
      },
      {
       "output_type": "stream",
       "stream": "stdout",
       "text": [
        " : 4.51 %\n",
        "ny : 4.51 %\n",
        "york : 4.26 %\n",
        "worldwide : 3.51 %\n",
        "los : 3.26 %\n",
        "new ny york\n",
        "15"
       ]
      },
      {
       "output_type": "stream",
       "stream": "stdout",
       "text": [
        " SUCCESED: -76.728516 36.22655 <<TEST - FRIENDS>>: -74.0059413 40.7127837\n",
        "--------------------\n",
        "5"
       ]
      },
      {
       "output_type": "stream",
       "stream": "stdout",
       "text": [
        " : 4.25 %\n",
        "4 : 2.25 %\n",
        "los : 2.0 %\n",
        "angeles : 2.0 %\n",
        "argentina : 2.0 %\n",
        "5 4 los\n",
        "17"
       ]
      },
      {
       "output_type": "stream",
       "stream": "stdout",
       "text": [
        " FAILED: -96.796988 32.776664 <<TEST - FRIENDS>> -68.0512366 10.1364006\n",
        "--------------------\n",
        "london"
       ]
      },
      {
       "output_type": "stream",
       "stream": "stdout",
       "text": [
        " : 5.25 %\n",
        "uk : 3.5 %\n",
        "worldwide : 3.25 %\n",
        "ny : 3.0 %\n",
        "ca : 2.75 %\n",
        "london uk worldwide\n",
        "18"
       ]
      },
      {
       "output_type": "stream",
       "stream": "stdout",
       "text": [
        " FAILED: -75.165222 39.952584 <<TEST - FRIENDS>> -0.0987733 51.4257374\n",
        "--------------------\n",
        "usa"
       ]
      },
      {
       "output_type": "stream",
       "stream": "stdout",
       "text": [
        " : 7.0 %\n",
        "city : 2.5 %\n",
        "united : 2.0 %\n",
        "states : 2.0 %\n",
        "town : 2.0 %\n",
        "usa city united\n",
        "19"
       ]
      },
      {
       "output_type": "stream",
       "stream": "stdout",
       "text": [
        " FAILED: -122.399752 37.787574 <<TEST - FRIENDS>> -85.61293069999999 38.0932025\n",
        "--------------------\n",
        "brasil"
       ]
      },
      {
       "output_type": "stream",
       "stream": "stdout",
       "text": [
        " : 15.0 %\n",
        "paulo : 11.5 %\n",
        "s\u00e3o : 11.0 %\n",
        "rio : 9.5 %\n",
        "de : 8.75 %\n",
        "brasil paulo s\u00e3o\n",
        "20"
       ]
      },
      {
       "output_type": "stream",
       "stream": "stdout",
       "text": [
        " SUCCESED: -46.6291845 -23.5431786 <<TEST - FRIENDS>>: -46.6291845 -23.5431786\n",
        "--------------------\n",
        "ca"
       ]
      },
      {
       "output_type": "stream",
       "stream": "stdout",
       "text": [
        " : 2.75 %\n",
        "california : 2.5 %\n",
        "la : 1.75 %\n",
        "los : 1.75 %\n",
        "angeles : 1.75 %\n",
        "ca california la\n",
        "21"
       ]
      },
      {
       "output_type": "stream",
       "stream": "stdout",
       "text": [
        " SUCCESED: -118.243685 34.052234 <<TEST - FRIENDS>>: -118.2436849 34.0522342\n",
        "--------------------\n",
        "new"
       ]
      },
      {
       "output_type": "stream",
       "stream": "stdout",
       "text": [
        " : 9.11 %\n",
        "york : 8.35 %\n",
        "brooklyn : 7.34 %\n",
        "the : 4.3 %\n",
        "ny : 4.05 %\n",
        "new york brooklyn\n",
        "23"
       ]
      },
      {
       "output_type": "stream",
       "stream": "stdout",
       "text": [
        " SUCCESED: -73.957749 40.671285 <<TEST - FRIENDS>>: -73.9441579 40.6781784\n",
        "--------------------\n",
        "uk"
       ]
      },
      {
       "output_type": "stream",
       "stream": "stdout",
       "text": [
        " : 3.75 %\n",
        "new : 2.5 %\n",
        "london : 2.0 %\n",
        "bandung : 2.0 %\n",
        "united : 1.5 %\n",
        "uk new london\n",
        "24"
       ]
      },
      {
       "output_type": "stream",
       "stream": "stdout",
       "text": [
        " FAILED: -77.548053 39.743876 <<TEST - FRIENDS>> -0.0066907 51.61799019999999\n",
        "--------------------\n"
       ]
      }
     ],
     "prompt_number": 31
    },
    {
     "cell_type": "code",
     "collapsed": false,
     "input": [
      "getSuccesRated(tweetsWithGeo2)"
     ],
     "language": "python",
     "metadata": {},
     "outputs": [
      {
       "output_type": "stream",
       "stream": "stdout",
       "text": [
        "\n",
        " succes: 64.0 %\n"
       ]
      }
     ],
     "prompt_number": 32
    },
    {
     "cell_type": "heading",
     "level": 2,
     "metadata": {},
     "source": [
      "Conclusie pipeline met test data"
     ]
    },
    {
     "cell_type": "markdown",
     "metadata": {},
     "source": [
      "Deze % komt veel lager uit en we hebben ook besloten om de locatie niet aan de hand van twitter users te bepalen. Omdat we simpel weg te veel request moeten sturen naar de twitter API en er te vaak nog twijfel gevallen zijn of de locatie die bepaald is inderdaad goed is.\n",
      "\n",
      "Om 64% helder te krijgen ga ik daar nog wel op in. Alle locatie zijn bepaald aan de hand van friends maar een groot deel wordt verkeerd bepaald. Dit komt omdat er veel radiostations tussen de test set zitten die friends over de hele wereld hebben. Tevens zitten er wat BOTS tussen die meer dan 10000+ friends hebben. Deze zouden wij er uit kunnen filteren. Het probleem zit echter in de rest dat gewone twitteraar zijn met een normale aantal vrienden. Het bij gaat het soms ook fout en deze zijn erg lastig eruit te filteren. "
     ]
    },
    {
     "cell_type": "heading",
     "level": 1,
     "metadata": {},
     "source": [
      "Conclusie"
     ]
    },
    {
     "cell_type": "markdown",
     "metadata": {},
     "source": [
      "De locatie bepalen adhv vrienden zien we van af omdat dit niet te doen is door de request limit van de twitter API en dat het nog te vaak fout gaat.\n",
      "\n",
      "Wel ben ik tevrede over de eerste 3 stappen van de locatie pipeline. Deze kunnen van mij apart dan ook in de Mozart project verwerkt worden. "
     ]
    }
   ],
   "metadata": {}
  }
 ]
}